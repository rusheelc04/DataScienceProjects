{
 "cells": [
  {
   "cell_type": "markdown",
   "id": "d3fb45d5-89aa-442e-85a2-8e50d178ca57",
   "metadata": {},
   "source": [
    "# Basic Python, Data Frames\n",
    "Name: Rusheel Chande"
   ]
  },
  {
   "cell_type": "code",
   "execution_count": 3,
   "id": "c0b6f9d5-619e-4ba7-966a-fabfe717dac2",
   "metadata": {
    "tags": []
   },
   "outputs": [],
   "source": [
    "import pandas as pd"
   ]
  },
  {
   "cell_type": "code",
   "execution_count": 4,
   "id": "df4bb83e-ac74-4a08-8279-a61aec636fea",
   "metadata": {
    "tags": []
   },
   "outputs": [],
   "source": [
    "import numpy as np"
   ]
  },
  {
   "cell_type": "markdown",
   "id": "87a2c38b-0bdd-4ad5-b954-1db1c596f397",
   "metadata": {
    "tags": []
   },
   "source": [
    "## 1. Base Python"
   ]
  },
  {
   "cell_type": "markdown",
   "id": "b612858e-caba-4550-9163-fc575681f393",
   "metadata": {},
   "source": [
    "### 1.1 Computing"
   ]
  },
  {
   "cell_type": "code",
   "execution_count": 5,
   "id": "7bba488b-5aa4-46f0-a61e-f9d6f327887b",
   "metadata": {},
   "outputs": [
    {
     "data": {
      "text/plain": [
       "31536000"
      ]
     },
     "execution_count": 5,
     "metadata": {},
     "output_type": "execute_result"
    }
   ],
   "source": [
    "secondsInMinute = 60\n",
    "minutesInHour = 60\n",
    "hoursInDay = 24\n",
    "daysInYear = 365\n",
    "secondsInYear = secondsInMinute * minutesInHour * hoursInDay * daysInYear\n",
    "secondsInYear"
   ]
  },
  {
   "cell_type": "markdown",
   "id": "355bfa7d-108f-477b-80b3-4493e1ae5c1c",
   "metadata": {},
   "source": [
    "1. There are 31536000 seconds in a year"
   ]
  },
  {
   "cell_type": "code",
   "execution_count": 6,
   "id": "ae1651f3-70b1-44cd-ad37-782e09f6d411",
   "metadata": {
    "tags": []
   },
   "outputs": [
    {
     "data": {
      "text/plain": [
       "2522880000"
      ]
     },
     "execution_count": 6,
     "metadata": {},
     "output_type": "execute_result"
    }
   ],
   "source": [
    "humanLifeExpectancy = 80\n",
    "humanLifeExpectancyInSec = humanLifeExpectancy * secondsInYear\n",
    "humanLifeExpectancyInSec"
   ]
  },
  {
   "cell_type": "markdown",
   "id": "feaf3b3e-0c25-4d29-aef6-04d168ef14b1",
   "metadata": {},
   "source": [
    "2. A typical human lifetime in seconds is 2522880000"
   ]
  },
  {
   "cell_type": "code",
   "execution_count": 7,
   "id": "afa50e56-1609-4865-a3a9-3edbdfa15d56",
   "metadata": {
    "tags": []
   },
   "outputs": [
    {
     "data": {
      "text/plain": [
       "599184000"
      ]
     },
     "execution_count": 7,
     "metadata": {},
     "output_type": "execute_result"
    }
   ],
   "source": [
    "myAge = 19\n",
    "myAgeInSec = myAge * secondsInYear\n",
    "myAgeInSec"
   ]
  },
  {
   "cell_type": "markdown",
   "id": "115759a4-523b-47f4-8abf-74549ea820c3",
   "metadata": {},
   "source": [
    "3. My age in seconds is 599184000"
   ]
  },
  {
   "cell_type": "code",
   "execution_count": 8,
   "id": "7e36974b-13cf-4d85-a19f-b8b13f5d5d35",
   "metadata": {
    "tags": []
   },
   "outputs": [
    {
     "data": {
      "text/plain": [
       "False"
      ]
     },
     "execution_count": 8,
     "metadata": {},
     "output_type": "execute_result"
    }
   ],
   "source": [
    "overSevenHundredMill = myAgeInSec > 700000000\n",
    "overSevenHundredMill"
   ]
  },
  {
   "cell_type": "markdown",
   "id": "a2dffdc6-fa54-4f96-b88e-d34d2ba02c5b",
   "metadata": {},
   "source": [
    "4. I am not over 700M seconds old"
   ]
  },
  {
   "cell_type": "code",
   "execution_count": 9,
   "id": "d2f582bb-f4a4-4106-ac26-7a3a6450f8aa",
   "metadata": {
    "tags": []
   },
   "outputs": [
    {
     "data": {
      "text/plain": [
       "0.24"
      ]
     },
     "execution_count": 9,
     "metadata": {},
     "output_type": "execute_result"
    }
   ],
   "source": [
    "p = 0.4\n",
    "result1 = p*(1 - p)\n",
    "result1"
   ]
  },
  {
   "cell_type": "markdown",
   "id": "45c4ee1a-1a98-4d39-97fb-1bfd642fbc0d",
   "metadata": {},
   "source": [
    "5.(1) The result is 0.24"
   ]
  },
  {
   "cell_type": "code",
   "execution_count": 10,
   "id": "80f0a5f6-2434-4172-a2ef-8d7c2e24c15e",
   "metadata": {
    "tags": []
   },
   "outputs": [
    {
     "data": {
      "text/plain": [
       "0.058527663465935076"
      ]
     },
     "execution_count": 10,
     "metadata": {},
     "output_type": "execute_result"
    }
   ],
   "source": [
    "a = 3\n",
    "x0 = 2\n",
    "x = 2.5\n",
    "result2 = (a / x0)*(1 + (x / x0))**(-a-1)\n",
    "result2"
   ]
  },
  {
   "cell_type": "markdown",
   "id": "32e58783-40d4-4da6-bb6a-6053374dc4a0",
   "metadata": {},
   "source": [
    "5.(2) The result for the second formula is approximately 0.0585"
   ]
  },
  {
   "cell_type": "markdown",
   "id": "35f756c8-7a9f-4804-8ffb-479c9dd7ff68",
   "metadata": {},
   "source": [
    "### 1.2 Lists"
   ]
  },
  {
   "cell_type": "markdown",
   "id": "88844d0d-6fd2-4fa3-b2b4-cac3168de4a2",
   "metadata": {},
   "source": [
    "1."
   ]
  },
  {
   "cell_type": "code",
   "execution_count": 11,
   "id": "14a00fb8-d501-46c4-8107-1db3b7e83fc3",
   "metadata": {
    "tags": []
   },
   "outputs": [
    {
     "data": {
      "text/plain": [
       "['Inception',\n",
       " 'The Dark Knight',\n",
       " 'Fight Club',\n",
       " 'Interstellar',\n",
       " 'Lone Survivor',\n",
       " 'Prisoners']"
      ]
     },
     "execution_count": 11,
     "metadata": {},
     "output_type": "execute_result"
    }
   ],
   "source": [
    "movies = [\"Inception\", \"The Dark Knight\", \"Fight Club\", \"Interstellar\", \"Lone Survivor\", \"Prisoners\"]\n",
    "movies"
   ]
  },
  {
   "cell_type": "markdown",
   "id": "41b8fc40-bfc9-4c9b-9fc5-602e5c7c97a5",
   "metadata": {},
   "source": [
    "2."
   ]
  },
  {
   "cell_type": "code",
   "execution_count": 12,
   "id": "ece92f87-9d11-43c8-85ca-3df59b55489c",
   "metadata": {
    "tags": []
   },
   "outputs": [
    {
     "data": {
      "text/plain": [
       "['Inception', 'The Dark Knight', 'Fight Club']"
      ]
     },
     "execution_count": 12,
     "metadata": {},
     "output_type": "execute_result"
    }
   ],
   "source": [
    "firstThree = movies[:3]\n",
    "firstThree"
   ]
  },
  {
   "cell_type": "markdown",
   "id": "0a56e94d-aaf4-433a-aee4-e8e73b571f48",
   "metadata": {},
   "source": [
    "3."
   ]
  },
  {
   "cell_type": "code",
   "execution_count": 13,
   "id": "2dda70d1-97a9-48ef-a772-32facd78e775",
   "metadata": {
    "tags": []
   },
   "outputs": [
    {
     "data": {
      "text/plain": [
       "['Inception', 'The Dark Knight', 'Lone Survivor', 'Prisoners']"
      ]
     },
     "execution_count": 13,
     "metadata": {},
     "output_type": "execute_result"
    }
   ],
   "source": [
    "firstTwoLastTwo = movies[:2] + movies[-2:]\n",
    "firstTwoLastTwo"
   ]
  },
  {
   "cell_type": "markdown",
   "id": "b674aee6-4617-4ed9-97d3-87f970b2f83e",
   "metadata": {},
   "source": [
    "4."
   ]
  },
  {
   "cell_type": "code",
   "execution_count": 14,
   "id": "dfbb88e6-7326-40dd-96e8-c8b3c9a5f6c9",
   "metadata": {
    "tags": []
   },
   "outputs": [
    {
     "data": {
      "text/plain": [
       "['Prisoners',\n",
       " 'Lone Survivor',\n",
       " 'Interstellar',\n",
       " 'Fight Club',\n",
       " 'The Dark Knight',\n",
       " 'Inception']"
      ]
     },
     "execution_count": 14,
     "metadata": {},
     "output_type": "execute_result"
    }
   ],
   "source": [
    "reversedMovies = movies[::-1]\n",
    "reversedMovies"
   ]
  },
  {
   "cell_type": "markdown",
   "id": "5d11a840-9fdc-46af-a52f-13f182ad25a2",
   "metadata": {},
   "source": [
    "### 1.3 Loops"
   ]
  },
  {
   "cell_type": "markdown",
   "id": "c247b9c1-d63b-4487-bfcf-a06ee7a45677",
   "metadata": {},
   "source": [
    "1."
   ]
  },
  {
   "cell_type": "code",
   "execution_count": 15,
   "id": "d97e948b-8586-4766-be99-9e3998416584",
   "metadata": {
    "tags": []
   },
   "outputs": [
    {
     "data": {
      "text/plain": [
       "[70, 71, 72, 73, 74, 75, 76, 77, 78, 79]"
      ]
     },
     "execution_count": 15,
     "metadata": {},
     "output_type": "execute_result"
    }
   ],
   "source": [
    "numbers = []\n",
    "for i in range (70, 79 + 1):\n",
    "    numbers.append(i)\n",
    "numbers"
   ]
  },
  {
   "cell_type": "markdown",
   "id": "68a2590c-6ea2-4bbe-b3b0-be195b87d4e0",
   "metadata": {},
   "source": [
    "2."
   ]
  },
  {
   "cell_type": "code",
   "execution_count": 16,
   "id": "e093687e-a32b-4434-85fe-f781c99d391b",
   "metadata": {
    "tags": []
   },
   "outputs": [
    {
     "name": "stdout",
     "output_type": "stream",
     "text": [
      "74.5\n"
     ]
    }
   ],
   "source": [
    "sumOfNums = 0\n",
    "times = len(numbers)\n",
    "for i in range(times):\n",
    "    sumOfNums = sumOfNums + (numbers[i])\n",
    "print(sumOfNums / times)"
   ]
  },
  {
   "cell_type": "markdown",
   "id": "630fb216-1ce5-4d22-b7b9-2f2fb999e4d5",
   "metadata": {},
   "source": [
    "3."
   ]
  },
  {
   "cell_type": "code",
   "execution_count": 17,
   "id": "c83e9d33-48e7-4df2-942c-c3919bac125e",
   "metadata": {
    "tags": []
   },
   "outputs": [
    {
     "data": {
      "text/plain": [
       "5050"
      ]
     },
     "execution_count": 17,
     "metadata": {},
     "output_type": "execute_result"
    }
   ],
   "source": [
    "sumOfNums = 0\n",
    "times = 100\n",
    "for i in range(times):\n",
    "    sumOfNums = sumOfNums + (i + 1)\n",
    "sumOfNums"
   ]
  },
  {
   "cell_type": "markdown",
   "id": "0f9705ec-c5b4-4b16-bb72-714da330ddd1",
   "metadata": {},
   "source": [
    "4."
   ]
  },
  {
   "cell_type": "code",
   "execution_count": 18,
   "id": "38ce3599-c13b-48b0-9fe6-42cfa85bfbfe",
   "metadata": {
    "tags": []
   },
   "outputs": [
    {
     "name": "stdout",
     "output_type": "stream",
     "text": [
      "Adam: 33\n",
      "Ashin: 12\n",
      "Inukai: 45\n",
      "Tanaka: 2\n",
      "Ikki: 17\n"
     ]
    }
   ],
   "source": [
    "names = [\"Adam\", \"Ashin\", \"Inukai\", \"Tanaka\", \"Ikki\"]\n",
    "seatNum = [33, 12, 45, 2, 17]\n",
    "for i in range (len(names)):\n",
    "    print(str(names[i]) + \": \" + str(seatNum[i]))"
   ]
  },
  {
   "cell_type": "markdown",
   "id": "604d66ad-4e39-4674-b5ec-447686777b4d",
   "metadata": {},
   "source": [
    "### 1.4 Dicts"
   ]
  },
  {
   "cell_type": "markdown",
   "id": "9aeb325d-cf9a-47fc-a74f-6d21dec37359",
   "metadata": {},
   "source": [
    "1."
   ]
  },
  {
   "cell_type": "code",
   "execution_count": 19,
   "id": "c9ac5f35-e538-4cbb-9d0f-07973e26e1b1",
   "metadata": {
    "tags": []
   },
   "outputs": [
    {
     "data": {
      "text/plain": [
       "{'twinkle': 4,\n",
       " 'little': 2,\n",
       " 'star': 2,\n",
       " 'how': 2,\n",
       " 'i': 2,\n",
       " 'wonder': 2,\n",
       " 'what': 2,\n",
       " 'you': 2,\n",
       " 'are': 2,\n",
       " 'up': 1,\n",
       " 'above': 1,\n",
       " 'the': 2,\n",
       " 'world': 1,\n",
       " 'so': 1,\n",
       " 'high': 1,\n",
       " 'like': 1,\n",
       " 'a': 1,\n",
       " 'diamond': 1,\n",
       " 'in': 1,\n",
       " 'sky': 1}"
      ]
     },
     "execution_count": 19,
     "metadata": {},
     "output_type": "execute_result"
    }
   ],
   "source": [
    "longStr = \"Twinkle twinkle little star\\\n",
    "           How I wonder what you are\\\n",
    "           Up above the world so high\\\n",
    "           Like a diamond in the sky\\\n",
    "           Twinkle twinkle little star\\\n",
    "           How I wonder what you are\"\n",
    "longStr = longStr.lower()\n",
    "words = longStr.split()\n",
    "wordCounts = {}\n",
    "for word in words:\n",
    "    if word in wordCounts:\n",
    "        wordCounts[word] += 1\n",
    "    else:\n",
    "        wordCounts.update({word: 1})\n",
    "wordCounts"
   ]
  },
  {
   "cell_type": "markdown",
   "id": "efc553bb-2fd1-4e43-b011-fd952149ab37",
   "metadata": {},
   "source": [
    "### 1.5 Functions and Data Transformations"
   ]
  },
  {
   "cell_type": "markdown",
   "id": "2a6e84b7-b222-46fe-a733-3da90125dbad",
   "metadata": {},
   "source": [
    "1."
   ]
  },
  {
   "cell_type": "code",
   "execution_count": 20,
   "id": "ca286eec-6da0-4e9b-8923-ca3db0387528",
   "metadata": {
    "tags": []
   },
   "outputs": [
    {
     "data": {
      "text/plain": [
       "10.25"
      ]
     },
     "execution_count": 20,
     "metadata": {},
     "output_type": "execute_result"
    }
   ],
   "source": [
    "def convertTime(time):\n",
    "    hours = time // 100\n",
    "    minutes = time % 100\n",
    "    return hours + minutes / 60\n",
    "convertTime(1015)"
   ]
  },
  {
   "cell_type": "code",
   "execution_count": 21,
   "id": "5fd03cfd-9d84-4ab7-9774-9a6232fc9ec4",
   "metadata": {
    "tags": []
   },
   "outputs": [
    {
     "data": {
      "text/plain": [
       "3.75"
      ]
     },
     "execution_count": 21,
     "metadata": {},
     "output_type": "execute_result"
    }
   ],
   "source": [
    "convertTime(345)"
   ]
  },
  {
   "cell_type": "markdown",
   "id": "9e01fb96-c272-4182-9cb2-78e17ad2f1cb",
   "metadata": {},
   "source": [
    "## 2. Basic data frames"
   ]
  },
  {
   "cell_type": "markdown",
   "id": "f70e424d-f561-40ea-862c-1b10d0e75346",
   "metadata": {},
   "source": [
    "### 2.1 Setup"
   ]
  },
  {
   "cell_type": "markdown",
   "id": "8503c75e-7f10-460f-b2c1-5169da5de584",
   "metadata": {},
   "source": [
    "1."
   ]
  },
  {
   "cell_type": "code",
   "execution_count": 22,
   "id": "bc1324ab-2ac2-4f75-8af6-a20347458a46",
   "metadata": {
    "tags": []
   },
   "outputs": [],
   "source": [
    "nycflightdata = pd.read_csv(\"../data/nycflights13.csv.bz2\", sep=\"\\t\")"
   ]
  },
  {
   "cell_type": "markdown",
   "id": "e6dfdab0-3a1a-45f9-98d9-c6c307c0129c",
   "metadata": {},
   "source": [
    "2."
   ]
  },
  {
   "cell_type": "code",
   "execution_count": 23,
   "id": "f4827196-8117-478a-818a-ef6cca1b4cc4",
   "metadata": {
    "tags": []
   },
   "outputs": [
    {
     "data": {
      "text/plain": [
       "19"
      ]
     },
     "execution_count": 23,
     "metadata": {},
     "output_type": "execute_result"
    }
   ],
   "source": [
    "nycflightdata.shape[1]"
   ]
  },
  {
   "cell_type": "code",
   "execution_count": 24,
   "id": "3d0500da-daa5-4d11-95c4-a5506955b601",
   "metadata": {
    "tags": []
   },
   "outputs": [
    {
     "data": {
      "text/plain": [
       "year                int64\n",
       "month               int64\n",
       "day                 int64\n",
       "dep_time          float64\n",
       "sched_dep_time      int64\n",
       "dep_delay         float64\n",
       "arr_time          float64\n",
       "sched_arr_time      int64\n",
       "arr_delay         float64\n",
       "carrier            object\n",
       "flight              int64\n",
       "tailnum            object\n",
       "origin             object\n",
       "dest               object\n",
       "air_time          float64\n",
       "distance            int64\n",
       "hour                int64\n",
       "minute              int64\n",
       "time_hour          object\n",
       "dtype: object"
      ]
     },
     "execution_count": 24,
     "metadata": {},
     "output_type": "execute_result"
    }
   ],
   "source": [
    "nycflightdata.dtypes"
   ]
  },
  {
   "cell_type": "code",
   "execution_count": 25,
   "id": "be4e2393-a9df-4481-a159-877f2df21b1d",
   "metadata": {
    "tags": []
   },
   "outputs": [
    {
     "data": {
      "text/plain": [
       "Index(['year', 'month', 'day', 'dep_time', 'sched_dep_time', 'dep_delay',\n",
       "       'arr_time', 'sched_arr_time', 'arr_delay', 'carrier', 'flight',\n",
       "       'tailnum', 'origin', 'dest', 'air_time', 'distance', 'hour', 'minute',\n",
       "       'time_hour'],\n",
       "      dtype='object')"
      ]
     },
     "execution_count": 25,
     "metadata": {},
     "output_type": "execute_result"
    }
   ],
   "source": [
    "nycflightdata.columns"
   ]
  },
  {
   "cell_type": "markdown",
   "id": "37157e0c-b165-41ab-87d8-b1986ff278db",
   "metadata": {},
   "source": [
    "2.(a) There are 19 columns in the data"
   ]
  },
  {
   "cell_type": "code",
   "execution_count": 26,
   "id": "b09c63be-0215-402d-91e0-87e5b22f7f5b",
   "metadata": {
    "tags": []
   },
   "outputs": [
    {
     "data": {
      "text/plain": [
       "336776"
      ]
     },
     "execution_count": 26,
     "metadata": {},
     "output_type": "execute_result"
    }
   ],
   "source": [
    "nycflightdata.shape[0]"
   ]
  },
  {
   "cell_type": "markdown",
   "id": "850ff453-1f6b-4777-a9de-3c248ab48a5c",
   "metadata": {
    "tags": []
   },
   "source": [
    "2.(b) There are 336776 rows in the data"
   ]
  },
  {
   "cell_type": "code",
   "execution_count": 27,
   "id": "1787ff5c-869f-4801-bb1c-d809aaf2c9b8",
   "metadata": {
    "tags": []
   },
   "outputs": [
    {
     "data": {
      "text/html": [
       "<div>\n",
       "<style scoped>\n",
       "    .dataframe tbody tr th:only-of-type {\n",
       "        vertical-align: middle;\n",
       "    }\n",
       "\n",
       "    .dataframe tbody tr th {\n",
       "        vertical-align: top;\n",
       "    }\n",
       "\n",
       "    .dataframe thead th {\n",
       "        text-align: right;\n",
       "    }\n",
       "</style>\n",
       "<table border=\"1\" class=\"dataframe\">\n",
       "  <thead>\n",
       "    <tr style=\"text-align: right;\">\n",
       "      <th></th>\n",
       "      <th>year</th>\n",
       "      <th>month</th>\n",
       "      <th>day</th>\n",
       "      <th>dep_time</th>\n",
       "      <th>sched_dep_time</th>\n",
       "      <th>dep_delay</th>\n",
       "      <th>arr_time</th>\n",
       "      <th>sched_arr_time</th>\n",
       "      <th>arr_delay</th>\n",
       "      <th>carrier</th>\n",
       "      <th>flight</th>\n",
       "      <th>tailnum</th>\n",
       "      <th>origin</th>\n",
       "      <th>dest</th>\n",
       "      <th>air_time</th>\n",
       "      <th>distance</th>\n",
       "      <th>hour</th>\n",
       "      <th>minute</th>\n",
       "      <th>time_hour</th>\n",
       "    </tr>\n",
       "  </thead>\n",
       "  <tbody>\n",
       "    <tr>\n",
       "      <th>0</th>\n",
       "      <td>2013</td>\n",
       "      <td>1</td>\n",
       "      <td>1</td>\n",
       "      <td>517.0</td>\n",
       "      <td>515</td>\n",
       "      <td>2.0</td>\n",
       "      <td>830.0</td>\n",
       "      <td>819</td>\n",
       "      <td>11.0</td>\n",
       "      <td>UA</td>\n",
       "      <td>1545</td>\n",
       "      <td>N14228</td>\n",
       "      <td>EWR</td>\n",
       "      <td>IAH</td>\n",
       "      <td>227.0</td>\n",
       "      <td>1400</td>\n",
       "      <td>5</td>\n",
       "      <td>15</td>\n",
       "      <td>2013-01-01T10:00:00Z</td>\n",
       "    </tr>\n",
       "    <tr>\n",
       "      <th>1</th>\n",
       "      <td>2013</td>\n",
       "      <td>1</td>\n",
       "      <td>1</td>\n",
       "      <td>533.0</td>\n",
       "      <td>529</td>\n",
       "      <td>4.0</td>\n",
       "      <td>850.0</td>\n",
       "      <td>830</td>\n",
       "      <td>20.0</td>\n",
       "      <td>UA</td>\n",
       "      <td>1714</td>\n",
       "      <td>N24211</td>\n",
       "      <td>LGA</td>\n",
       "      <td>IAH</td>\n",
       "      <td>227.0</td>\n",
       "      <td>1416</td>\n",
       "      <td>5</td>\n",
       "      <td>29</td>\n",
       "      <td>2013-01-01T10:00:00Z</td>\n",
       "    </tr>\n",
       "    <tr>\n",
       "      <th>2</th>\n",
       "      <td>2013</td>\n",
       "      <td>1</td>\n",
       "      <td>1</td>\n",
       "      <td>542.0</td>\n",
       "      <td>540</td>\n",
       "      <td>2.0</td>\n",
       "      <td>923.0</td>\n",
       "      <td>850</td>\n",
       "      <td>33.0</td>\n",
       "      <td>AA</td>\n",
       "      <td>1141</td>\n",
       "      <td>N619AA</td>\n",
       "      <td>JFK</td>\n",
       "      <td>MIA</td>\n",
       "      <td>160.0</td>\n",
       "      <td>1089</td>\n",
       "      <td>5</td>\n",
       "      <td>40</td>\n",
       "      <td>2013-01-01T10:00:00Z</td>\n",
       "    </tr>\n",
       "    <tr>\n",
       "      <th>3</th>\n",
       "      <td>2013</td>\n",
       "      <td>1</td>\n",
       "      <td>1</td>\n",
       "      <td>544.0</td>\n",
       "      <td>545</td>\n",
       "      <td>-1.0</td>\n",
       "      <td>1004.0</td>\n",
       "      <td>1022</td>\n",
       "      <td>-18.0</td>\n",
       "      <td>B6</td>\n",
       "      <td>725</td>\n",
       "      <td>N804JB</td>\n",
       "      <td>JFK</td>\n",
       "      <td>BQN</td>\n",
       "      <td>183.0</td>\n",
       "      <td>1576</td>\n",
       "      <td>5</td>\n",
       "      <td>45</td>\n",
       "      <td>2013-01-01T10:00:00Z</td>\n",
       "    </tr>\n",
       "  </tbody>\n",
       "</table>\n",
       "</div>"
      ],
      "text/plain": [
       "   year  month  day  dep_time  sched_dep_time  dep_delay  arr_time   \n",
       "0  2013      1    1     517.0             515        2.0     830.0  \\\n",
       "1  2013      1    1     533.0             529        4.0     850.0   \n",
       "2  2013      1    1     542.0             540        2.0     923.0   \n",
       "3  2013      1    1     544.0             545       -1.0    1004.0   \n",
       "\n",
       "   sched_arr_time  arr_delay carrier  flight tailnum origin dest  air_time   \n",
       "0             819       11.0      UA    1545  N14228    EWR  IAH     227.0  \\\n",
       "1             830       20.0      UA    1714  N24211    LGA  IAH     227.0   \n",
       "2             850       33.0      AA    1141  N619AA    JFK  MIA     160.0   \n",
       "3            1022      -18.0      B6     725  N804JB    JFK  BQN     183.0   \n",
       "\n",
       "   distance  hour  minute             time_hour  \n",
       "0      1400     5      15  2013-01-01T10:00:00Z  \n",
       "1      1416     5      29  2013-01-01T10:00:00Z  \n",
       "2      1089     5      40  2013-01-01T10:00:00Z  \n",
       "3      1576     5      45  2013-01-01T10:00:00Z  "
      ]
     },
     "execution_count": 27,
     "metadata": {},
     "output_type": "execute_result"
    }
   ],
   "source": [
    "nycflightdata.head(4)"
   ]
  },
  {
   "cell_type": "markdown",
   "id": "dc616352-b3b7-4ac2-9801-14f3b0c3e0ed",
   "metadata": {},
   "source": [
    "2.(c) The data looks reasonable and clean with an appropriate number of columns and rows"
   ]
  },
  {
   "cell_type": "markdown",
   "id": "5de0cc37-7413-4980-bc20-d45bfc379fdf",
   "metadata": {},
   "source": [
    "### 2.2 Basic data exploration"
   ]
  },
  {
   "cell_type": "code",
   "execution_count": 28,
   "id": "fe5fd504-e9af-48f7-aee7-da827fa05d95",
   "metadata": {},
   "outputs": [
    {
     "data": {
      "text/plain": [
       "3"
      ]
     },
     "execution_count": 28,
     "metadata": {},
     "output_type": "execute_result"
    }
   ],
   "source": [
    "nycflightdata.origin.nunique()"
   ]
  },
  {
   "cell_type": "code",
   "execution_count": 29,
   "id": "cb7c7c92-dc12-437a-a950-98a66147bf1f",
   "metadata": {
    "tags": []
   },
   "outputs": [
    {
     "data": {
      "text/plain": [
       "array(['EWR', 'LGA', 'JFK'], dtype=object)"
      ]
     },
     "execution_count": 29,
     "metadata": {},
     "output_type": "execute_result"
    }
   ],
   "source": [
    "nycflightdata.origin.unique()"
   ]
  },
  {
   "cell_type": "markdown",
   "id": "3aaaacd3-5a67-4223-af09-a743414ca077",
   "metadata": {},
   "source": [
    "1. There are 3 NYC airports included in this data. These include EWR (Newark Liberty International Airport), LGA (LaGuardia Airport), and JFK (John F. Kennedy International Airport)."
   ]
  },
  {
   "cell_type": "code",
   "execution_count": 30,
   "id": "407abce4-9f70-420c-a882-dec9e0458e36",
   "metadata": {},
   "outputs": [
    {
     "data": {
      "text/plain": [
       "105"
      ]
     },
     "execution_count": 30,
     "metadata": {},
     "output_type": "execute_result"
    }
   ],
   "source": [
    "nycflightdata.dest.nunique()"
   ]
  },
  {
   "cell_type": "markdown",
   "id": "cdfb3320-cd18-479e-95b8-98b9ef2d303e",
   "metadata": {
    "tags": []
   },
   "source": [
    "2. Airlines flew to 105 different airports from NYC in 2013"
   ]
  },
  {
   "cell_type": "code",
   "execution_count": 31,
   "id": "1ce2babd-2a1f-4ac8-ba31-1681adabd8ba",
   "metadata": {
    "tags": []
   },
   "outputs": [
    {
     "data": {
      "text/plain": [
       "3923"
      ]
     },
     "execution_count": 31,
     "metadata": {},
     "output_type": "execute_result"
    }
   ],
   "source": [
    "nycflightdata.dest.value_counts()[\"SEA\"]"
   ]
  },
  {
   "cell_type": "markdown",
   "id": "7fc5ed56-2094-48fb-940c-5c4605d38c7e",
   "metadata": {},
   "source": [
    "3. There were 3923 flights from NYC to SEA in 2013"
   ]
  },
  {
   "cell_type": "code",
   "execution_count": 32,
   "id": "1d682d9a-7c27-4b5a-ad4a-9cbc01168d94",
   "metadata": {
    "tags": []
   },
   "outputs": [
    {
     "data": {
      "text/plain": [
       "0"
      ]
     },
     "execution_count": 32,
     "metadata": {},
     "output_type": "execute_result"
    }
   ],
   "source": [
    "nycflightdata.dest.value_counts().get(\"GEG\", 0)"
   ]
  },
  {
   "cell_type": "markdown",
   "id": "acd8dc19-61c3-4578-bfe6-cc5bfa90c560",
   "metadata": {},
   "source": [
    "4. Since the default value 0 was returned, this means that there were no flights to Spokane (GEG) from NYC in 2013"
   ]
  },
  {
   "cell_type": "code",
   "execution_count": 33,
   "id": "3738354f-16a7-4b3c-a125-7996b5f7770d",
   "metadata": {
    "tags": []
   },
   "outputs": [
    {
     "data": {
      "text/plain": [
       "6.89537675731489"
      ]
     },
     "execution_count": 33,
     "metadata": {},
     "output_type": "execute_result"
    }
   ],
   "source": [
    "nycflightdata.arr_delay.mean()"
   ]
  },
  {
   "cell_type": "markdown",
   "id": "025ef175-1d17-40ad-825e-fd7aff093cae",
   "metadata": {},
   "source": [
    "5. The typical delay is about 6.9 minutes. I came to this conclusion using the arrival delay data points mean. Using the arrival delay data allows consideration of the entire flight paths factors such as wind, weather condition, and departure time. I also used the mean to find the typical delay as it takes into consideration all values and provides a general (typical) sense of delays."
   ]
  },
  {
   "cell_type": "code",
   "execution_count": 34,
   "id": "d4236c56-f78b-4e70-bdc3-0006eec8cfcd",
   "metadata": {
    "tags": []
   },
   "outputs": [
    {
     "data": {
      "text/plain": [
       "9430"
      ]
     },
     "execution_count": 34,
     "metadata": {},
     "output_type": "execute_result"
    }
   ],
   "source": [
    "nycflightdata.arr_delay.isna().sum()"
   ]
  },
  {
   "cell_type": "code",
   "execution_count": 35,
   "id": "2c8df9fb-fddf-4652-98a4-8aec12e5c0a4",
   "metadata": {
    "tags": []
   },
   "outputs": [
    {
     "data": {
      "text/plain": [
       "188933"
      ]
     },
     "execution_count": 35,
     "metadata": {},
     "output_type": "execute_result"
    }
   ],
   "source": [
    "(nycflightdata.arr_delay < 0).sum()"
   ]
  },
  {
   "cell_type": "code",
   "execution_count": 36,
   "id": "ff60e8aa-8878-45db-acde-268f8a694409",
   "metadata": {
    "tags": []
   },
   "outputs": [
    {
     "data": {
      "text/plain": [
       "40.34250097741421"
      ]
     },
     "execution_count": 36,
     "metadata": {},
     "output_type": "execute_result"
    }
   ],
   "source": [
    "nonZeroArrDel = nycflightdata[nycflightdata.arr_delay > 0]\n",
    "nonZeroArrDel.arr_delay.mean()"
   ]
  },
  {
   "cell_type": "code",
   "execution_count": 37,
   "id": "d2c27b01-af19-43aa-bc46-889d5c1cc9ce",
   "metadata": {
    "tags": []
   },
   "outputs": [
    {
     "data": {
      "text/plain": [
       "21.0"
      ]
     },
     "execution_count": 37,
     "metadata": {},
     "output_type": "execute_result"
    }
   ],
   "source": [
    "nonZeroArrDel.arr_delay.median()"
   ]
  },
  {
   "cell_type": "markdown",
   "id": "a84d4af0-c87a-48b4-982e-e902c366ac78",
   "metadata": {},
   "source": [
    "6. The data set includes values that are 'na' or 'null' 9430 times. Our original calculation uses .mean() which doesn't take into account the na values. However, there are negative values in the data which means if we want to know the typical delay for when there actually is a delay we would have to remove those negative values and recalculate the mean and median. After removing the negative values the mean is approximately 40.3 minutes. And the median is 21 minutes."
   ]
  },
  {
   "cell_type": "markdown",
   "id": "471047fe-4fd1-4a19-871d-540e2e016a9c",
   "metadata": {
    "tags": []
   },
   "source": [
    "### 2.3 Flight Delays"
   ]
  },
  {
   "cell_type": "markdown",
   "id": "1d56a5a8-fb14-49e5-a3e2-cdab72282c86",
   "metadata": {},
   "source": [
    "1."
   ]
  },
  {
   "cell_type": "code",
   "execution_count": 38,
   "id": "40193900-0513-4009-851d-af7978693a23",
   "metadata": {
    "tags": []
   },
   "outputs": [
    {
     "data": {
      "text/html": [
       "<div>\n",
       "<style scoped>\n",
       "    .dataframe tbody tr th:only-of-type {\n",
       "        vertical-align: middle;\n",
       "    }\n",
       "\n",
       "    .dataframe tbody tr th {\n",
       "        vertical-align: top;\n",
       "    }\n",
       "\n",
       "    .dataframe thead th {\n",
       "        text-align: right;\n",
       "    }\n",
       "</style>\n",
       "<table border=\"1\" class=\"dataframe\">\n",
       "  <thead>\n",
       "    <tr style=\"text-align: right;\">\n",
       "      <th></th>\n",
       "      <th>dep_delay</th>\n",
       "      <th>arr_delay</th>\n",
       "    </tr>\n",
       "  </thead>\n",
       "  <tbody>\n",
       "    <tr>\n",
       "      <th>0</th>\n",
       "      <td>2.0</td>\n",
       "      <td>11.0</td>\n",
       "    </tr>\n",
       "    <tr>\n",
       "      <th>1</th>\n",
       "      <td>4.0</td>\n",
       "      <td>20.0</td>\n",
       "    </tr>\n",
       "    <tr>\n",
       "      <th>2</th>\n",
       "      <td>2.0</td>\n",
       "      <td>33.0</td>\n",
       "    </tr>\n",
       "    <tr>\n",
       "      <th>3</th>\n",
       "      <td>-1.0</td>\n",
       "      <td>-18.0</td>\n",
       "    </tr>\n",
       "    <tr>\n",
       "      <th>4</th>\n",
       "      <td>-6.0</td>\n",
       "      <td>-25.0</td>\n",
       "    </tr>\n",
       "    <tr>\n",
       "      <th>...</th>\n",
       "      <td>...</td>\n",
       "      <td>...</td>\n",
       "    </tr>\n",
       "    <tr>\n",
       "      <th>336771</th>\n",
       "      <td>NaN</td>\n",
       "      <td>NaN</td>\n",
       "    </tr>\n",
       "    <tr>\n",
       "      <th>336772</th>\n",
       "      <td>NaN</td>\n",
       "      <td>NaN</td>\n",
       "    </tr>\n",
       "    <tr>\n",
       "      <th>336773</th>\n",
       "      <td>NaN</td>\n",
       "      <td>NaN</td>\n",
       "    </tr>\n",
       "    <tr>\n",
       "      <th>336774</th>\n",
       "      <td>NaN</td>\n",
       "      <td>NaN</td>\n",
       "    </tr>\n",
       "    <tr>\n",
       "      <th>336775</th>\n",
       "      <td>NaN</td>\n",
       "      <td>NaN</td>\n",
       "    </tr>\n",
       "  </tbody>\n",
       "</table>\n",
       "<p>336776 rows × 2 columns</p>\n",
       "</div>"
      ],
      "text/plain": [
       "        dep_delay  arr_delay\n",
       "0             2.0       11.0\n",
       "1             4.0       20.0\n",
       "2             2.0       33.0\n",
       "3            -1.0      -18.0\n",
       "4            -6.0      -25.0\n",
       "...           ...        ...\n",
       "336771        NaN        NaN\n",
       "336772        NaN        NaN\n",
       "336773        NaN        NaN\n",
       "336774        NaN        NaN\n",
       "336775        NaN        NaN\n",
       "\n",
       "[336776 rows x 2 columns]"
      ]
     },
     "execution_count": 38,
     "metadata": {},
     "output_type": "execute_result"
    }
   ],
   "source": [
    "subflightdata = nycflightdata[[\"dep_delay\", \"arr_delay\"]]\n",
    "subflightdata"
   ]
  },
  {
   "cell_type": "markdown",
   "id": "3f0e4d51-8675-49b0-999e-e4aa4ed08215",
   "metadata": {},
   "source": [
    "2."
   ]
  },
  {
   "cell_type": "code",
   "execution_count": 39,
   "id": "72287eff-9404-4a1a-b8d9-42835543964d",
   "metadata": {
    "tags": []
   },
   "outputs": [
    {
     "data": {
      "text/html": [
       "<div>\n",
       "<style scoped>\n",
       "    .dataframe tbody tr th:only-of-type {\n",
       "        vertical-align: middle;\n",
       "    }\n",
       "\n",
       "    .dataframe tbody tr th {\n",
       "        vertical-align: top;\n",
       "    }\n",
       "\n",
       "    .dataframe thead th {\n",
       "        text-align: right;\n",
       "    }\n",
       "</style>\n",
       "<table border=\"1\" class=\"dataframe\">\n",
       "  <thead>\n",
       "    <tr style=\"text-align: right;\">\n",
       "      <th></th>\n",
       "      <th>dep_delay</th>\n",
       "      <th>arr_delay</th>\n",
       "    </tr>\n",
       "  </thead>\n",
       "  <tbody>\n",
       "    <tr>\n",
       "      <th>290359</th>\n",
       "      <td>-4.0</td>\n",
       "      <td>-2.0</td>\n",
       "    </tr>\n",
       "    <tr>\n",
       "      <th>335119</th>\n",
       "      <td>-1.0</td>\n",
       "      <td>-14.0</td>\n",
       "    </tr>\n",
       "    <tr>\n",
       "      <th>253034</th>\n",
       "      <td>9.0</td>\n",
       "      <td>-19.0</td>\n",
       "    </tr>\n",
       "    <tr>\n",
       "      <th>84986</th>\n",
       "      <td>95.0</td>\n",
       "      <td>79.0</td>\n",
       "    </tr>\n",
       "  </tbody>\n",
       "</table>\n",
       "</div>"
      ],
      "text/plain": [
       "        dep_delay  arr_delay\n",
       "290359       -4.0       -2.0\n",
       "335119       -1.0      -14.0\n",
       "253034        9.0      -19.0\n",
       "84986        95.0       79.0"
      ]
     },
     "execution_count": 39,
     "metadata": {},
     "output_type": "execute_result"
    }
   ],
   "source": [
    "subflightdata.sample(4)"
   ]
  },
  {
   "cell_type": "code",
   "execution_count": 40,
   "id": "223061e4-b902-419c-a5e9-b373c81685c1",
   "metadata": {
    "tags": []
   },
   "outputs": [
    {
     "data": {
      "text/plain": [
       "dep_delay    float64\n",
       "arr_delay    float64\n",
       "dtype: object"
      ]
     },
     "execution_count": 40,
     "metadata": {},
     "output_type": "execute_result"
    }
   ],
   "source": [
    "subflightdata.dtypes"
   ]
  },
  {
   "cell_type": "markdown",
   "id": "898a1edc-f8e1-4a52-adf3-ad9bab7476cf",
   "metadata": {},
   "source": [
    "3. The flight delay values in the data are float64s"
   ]
  },
  {
   "cell_type": "code",
   "execution_count": 41,
   "id": "4b1b8879-e8a1-412d-9dc9-6dd6a9d073f8",
   "metadata": {
    "tags": []
   },
   "outputs": [
    {
     "data": {
      "text/plain": [
       "35648"
      ]
     },
     "execution_count": 41,
     "metadata": {},
     "output_type": "execute_result"
    }
   ],
   "source": [
    "slowFlights = subflightdata[(subflightdata[\"dep_delay\"] < 0) & (subflightdata[\"arr_delay\"] > 0)]\n",
    "slowFlights.shape[0]"
   ]
  },
  {
   "cell_type": "markdown",
   "id": "cc4bafec-e24f-44f8-b28c-7ab86882eec0",
   "metadata": {},
   "source": [
    "4. There are 35648 cases where the flight departs early but arrives late"
   ]
  },
  {
   "cell_type": "code",
   "execution_count": 42,
   "id": "34c0d732-925b-40bb-a474-8196b3193f35",
   "metadata": {
    "tags": []
   },
   "outputs": [
    {
     "name": "stderr",
     "output_type": "stream",
     "text": [
      "/tmp/ipykernel_84/3266454135.py:1: SettingWithCopyWarning: \n",
      "A value is trying to be set on a copy of a slice from a DataFrame.\n",
      "Try using .loc[row_indexer,col_indexer] = value instead\n",
      "\n",
      "See the caveats in the documentation: https://pandas.pydata.org/pandas-docs/stable/user_guide/indexing.html#returning-a-view-versus-a-copy\n",
      "  subflightdata[\"extFlightTime\"] = subflightdata[\"arr_delay\"] - subflightdata[\"dep_delay\"]\n"
     ]
    },
    {
     "data": {
      "text/plain": [
       "196.0"
      ]
     },
     "execution_count": 42,
     "metadata": {},
     "output_type": "execute_result"
    }
   ],
   "source": [
    "subflightdata[\"extFlightTime\"] = subflightdata[\"arr_delay\"] - subflightdata[\"dep_delay\"]\n",
    "subflightdata.extFlightTime.max()"
   ]
  },
  {
   "cell_type": "markdown",
   "id": "fb963a03-270d-4b20-8670-c8f9abcac948",
   "metadata": {},
   "source": [
    "5. The longest extra flight time is 196 minutes"
   ]
  },
  {
   "cell_type": "code",
   "execution_count": 43,
   "id": "82f8c3bb-031c-4be3-b7e4-15f9a0a9074e",
   "metadata": {
    "tags": []
   },
   "outputs": [
    {
     "data": {
      "text/plain": [
       "133004"
      ]
     },
     "execution_count": 43,
     "metadata": {},
     "output_type": "execute_result"
    }
   ],
   "source": [
    "(subflightdata[\"arr_delay\"] > 0).sum()"
   ]
  },
  {
   "cell_type": "markdown",
   "id": "b4449acd-0251-4d49-894c-5ab2fca6c7c0",
   "metadata": {},
   "source": [
    "6. 133004 flights from NYC in 2013 were delayed"
   ]
  },
  {
   "cell_type": "code",
   "execution_count": 44,
   "id": "10114943-ee51-4a56-bed1-019c7f34354a",
   "metadata": {
    "tags": []
   },
   "outputs": [
    {
     "data": {
      "text/plain": [
       "23.050929995011522"
      ]
     },
     "execution_count": 44,
     "metadata": {},
     "output_type": "execute_result"
    }
   ],
   "source": [
    "numFlightDel15 = subflightdata[subflightdata[\"arr_delay\"] > 15]\n",
    "percentage = (len(numFlightDel15) / len(subflightdata)) * 100\n",
    "percentage"
   ]
  },
  {
   "cell_type": "markdown",
   "id": "49f9efbd-0419-4dec-981d-dc4d1ca346f3",
   "metadata": {},
   "source": [
    "7. 23.05% of flights were delayed more than 15 minutes"
   ]
  },
  {
   "cell_type": "code",
   "execution_count": 45,
   "id": "ba490a06-ccc0-456e-a55a-2d220e3401b2",
   "metadata": {
    "tags": []
   },
   "outputs": [],
   "source": [
    "import matplotlib.pyplot as plt"
   ]
  },
  {
   "cell_type": "code",
   "execution_count": 46,
   "id": "dd884d54-60b1-458f-a92e-6aa89c20fb1c",
   "metadata": {
    "tags": []
   },
   "outputs": [
    {
     "data": {
      "image/png": "[encoded data removed]",
      "text/plain": [
       "<Figure size 640x480 with 1 Axes>"
      ]
     },
     "metadata": {},
     "output_type": "display_data"
    }
   ],
   "source": [
    "avgDelByMonth = nycflightdata.groupby(\"month\")[\"arr_delay\"].mean()\n",
    "avgDelByMonth.plot(kind=\"bar\")\n",
    "plt.xlabel('Month')\n",
    "plt.ylabel('Average Arrival Delay')\n",
    "plt.show()"
   ]
  },
  {
   "cell_type": "markdown",
   "id": "eaadae1e-7d96-4685-ad8d-dfec04481eea",
   "metadata": {},
   "source": [
    "8. The delays are the largest around July and they are the shortest during September. The delays peak on the 12th, 4th, and 6th/7th months. This could be because of the holidays most people take such as Christman/New Years, Spring break (in April), and the summer holidays (June/July)."
   ]
  },
  {
   "cell_type": "markdown",
   "id": "645299c7-c49b-4db1-8ecd-8fd20be77155",
   "metadata": {
    "tags": []
   },
   "source": [
    "### 2.4 Let's fly to Austin!"
   ]
  },
  {
   "cell_type": "code",
   "execution_count": 47,
   "id": "0ab91c20-44c6-4c82-a986-5f2ccde91f1a",
   "metadata": {
    "tags": []
   },
   "outputs": [
    {
     "data": {
      "text/plain": [
       "2439"
      ]
     },
     "execution_count": 47,
     "metadata": {},
     "output_type": "execute_result"
    }
   ],
   "source": [
    "nycflightdata.dest.value_counts()[\"AUS\"]"
   ]
  },
  {
   "cell_type": "markdown",
   "id": "00e78e68-44df-435c-a0d6-b6e7b2dbf145",
   "metadata": {},
   "source": [
    "1. There were 2439 flight from NYC to AUS in 2013"
   ]
  },
  {
   "cell_type": "code",
   "execution_count": 48,
   "id": "3a9d15fb-ce16-4d07-9e77-d874a5ed2afa",
   "metadata": {
    "tags": []
   },
   "outputs": [
    {
     "data": {
      "text/plain": [
       "6"
      ]
     },
     "execution_count": 48,
     "metadata": {},
     "output_type": "execute_result"
    }
   ],
   "source": [
    "flightsToAus = nycflightdata[nycflightdata.dest == \"AUS\"]\n",
    "flightsToAus.carrier.nunique()"
   ]
  },
  {
   "cell_type": "markdown",
   "id": "cf035cfb-045e-4eef-bfc8-f1e98edbc1bb",
   "metadata": {
    "tags": []
   },
   "source": [
    "2. There were 6 different airlines that flew from NYC to Austin in 2013"
   ]
  },
  {
   "cell_type": "code",
   "execution_count": 49,
   "id": "22730451-64f5-4d76-8b72-8792c04a92e3",
   "metadata": {
    "tags": []
   },
   "outputs": [
    {
     "data": {
      "text/plain": [
       "carrier\n",
       "B6    747\n",
       "UA    670\n",
       "AA    365\n",
       "DL    357\n",
       "WN    298\n",
       "9E      2\n",
       "Name: count, dtype: int64"
      ]
     },
     "execution_count": 49,
     "metadata": {},
     "output_type": "execute_result"
    }
   ],
   "source": [
    "flightsToAus[\"carrier\"].value_counts()"
   ]
  },
  {
   "cell_type": "markdown",
   "id": "a24b627f-2df1-4a25-8d70-ed0c6f5cb73d",
   "metadata": {},
   "source": [
    "3. The 6 airlines that flew to Austin from NYC in 2013 are B6, UA, AA, DL, WN, and 9E. B6 flew 747 times, UA flew 670 times, AA flew 365 times, DL flew 357 times, WN dlew 298 times, and 9E flew 2 times to Austin."
   ]
  },
  {
   "cell_type": "code",
   "execution_count": 50,
   "id": "2dff4266-a517-4c7a-a38a-65d53a8ef127",
   "metadata": {
    "tags": []
   },
   "outputs": [
    {
     "data": {
      "text/plain": [
       "24.641246412464124"
      ]
     },
     "execution_count": 50,
     "metadata": {},
     "output_type": "execute_result"
    }
   ],
   "source": [
    "numAusFlightDel15 = flightsToAus[flightsToAus[\"arr_delay\"] > 15]\n",
    "percentage = (len(numAusFlightDel15) / len(flightsToAus)) * 100\n",
    "percentage"
   ]
  },
  {
   "cell_type": "markdown",
   "id": "b8b599fb-0f4c-443e-8717-e9c7ff5bb5e2",
   "metadata": {},
   "source": [
    "4. 24.64% of flight to Austin were delayed by more than 15 minutes at arrival"
   ]
  },
  {
   "cell_type": "markdown",
   "id": "868b7e05-f046-46b4-9eec-f01e1c63d649",
   "metadata": {},
   "source": [
    "5."
   ]
  },
  {
   "cell_type": "code",
   "execution_count": 51,
   "id": "1f92c242-cc9a-4abc-be75-68e619d17810",
   "metadata": {
    "tags": []
   },
   "outputs": [
    {
     "name": "stderr",
     "output_type": "stream",
     "text": [
      "/tmp/ipykernel_84/4291847898.py:5: SettingWithCopyWarning: \n",
      "A value is trying to be set on a copy of a slice from a DataFrame.\n",
      "Try using .loc[row_indexer,col_indexer] = value instead\n",
      "\n",
      "See the caveats in the documentation: https://pandas.pydata.org/pandas-docs/stable/user_guide/indexing.html#returning-a-view-versus-a-copy\n",
      "  flightsToAus[\"timeInHrs\"] = ((convertTime(flightsToAus[\"arr_time\"]) - convertTime(flightsToAus[\"dep_time\"])))\n"
     ]
    }
   ],
   "source": [
    "def convertTime(time):\n",
    "    hours = time // 100\n",
    "    minutes = time % 100\n",
    "    return hours + minutes / 60\n",
    "flightsToAus[\"timeInHrs\"] = ((convertTime(flightsToAus[\"arr_time\"]) - convertTime(flightsToAus[\"dep_time\"])))"
   ]
  },
  {
   "cell_type": "code",
   "execution_count": 52,
   "id": "dc53bf05-0436-4131-a1cd-962f0cce748d",
   "metadata": {
    "tags": []
   },
   "outputs": [
    {
     "data": {
      "text/plain": [
       "-21.75"
      ]
     },
     "execution_count": 52,
     "metadata": {},
     "output_type": "execute_result"
    }
   ],
   "source": [
    "flightsToAus[\"timeInHrs\"].min()"
   ]
  },
  {
   "cell_type": "code",
   "execution_count": 53,
   "id": "8f3c0b15-d22d-4935-8a26-e624f7d41f95",
   "metadata": {
    "tags": []
   },
   "outputs": [
    {
     "data": {
      "text/plain": [
       "year                              2013\n",
       "month                                6\n",
       "day                                 26\n",
       "dep_time                        2323.0\n",
       "sched_dep_time                    2051\n",
       "dep_delay                        152.0\n",
       "arr_time                         138.0\n",
       "sched_arr_time                    2355\n",
       "arr_delay                        103.0\n",
       "carrier                             UA\n",
       "flight                            1615\n",
       "tailnum                         N35407\n",
       "origin                             EWR\n",
       "dest                               AUS\n",
       "air_time                         181.0\n",
       "distance                          1504\n",
       "hour                                20\n",
       "minute                              51\n",
       "time_hour         2013-06-27T00:00:00Z\n",
       "timeInHrs                       -21.75\n",
       "Name: 246678, dtype: object"
      ]
     },
     "execution_count": 53,
     "metadata": {},
     "output_type": "execute_result"
    }
   ],
   "source": [
    "flightsToAus.loc[flightsToAus[\"timeInHrs\"].idxmin()]"
   ]
  },
  {
   "cell_type": "markdown",
   "id": "9fb1253a-237f-4cf0-8c10-f115fe115670",
   "metadata": {},
   "source": [
    "6. I am getting these negative values due to flights that leave late in the day and arrive the next day"
   ]
  },
  {
   "cell_type": "code",
   "execution_count": 54,
   "id": "5e601b81-b7ac-4042-b018-7ddb6d494ee8",
   "metadata": {
    "tags": []
   },
   "outputs": [
    {
     "name": "stderr",
     "output_type": "stream",
     "text": [
      "/tmp/ipykernel_84/1778117283.py:1: SettingWithCopyWarning: \n",
      "A value is trying to be set on a copy of a slice from a DataFrame.\n",
      "Try using .loc[row_indexer,col_indexer] = value instead\n",
      "\n",
      "See the caveats in the documentation: https://pandas.pydata.org/pandas-docs/stable/user_guide/indexing.html#returning-a-view-versus-a-copy\n",
      "  flightsToAus[\"timeInHrs\"] = np.where(flightsToAus[\"timeInHrs\"] < 0, flightsToAus[\"timeInHrs\"] + 24, flightsToAus[\"timeInHrs\"])\n"
     ]
    },
    {
     "data": {
      "text/plain": [
       "2.2333333333333343"
      ]
     },
     "execution_count": 54,
     "metadata": {},
     "output_type": "execute_result"
    }
   ],
   "source": [
    "flightsToAus[\"timeInHrs\"] = np.where(flightsToAus[\"timeInHrs\"] < 0, flightsToAus[\"timeInHrs\"] + 24, flightsToAus[\"timeInHrs\"])\n",
    "flightsToAus[\"timeInHrs\"].min()"
   ]
  },
  {
   "cell_type": "markdown",
   "id": "61b7a5e6-3898-447d-9a5b-5729449f7a1c",
   "metadata": {},
   "source": [
    "7. My shortest duration now is 2.23 hours (supposed to be 2.25, but python has precision issues)"
   ]
  },
  {
   "cell_type": "code",
   "execution_count": 55,
   "id": "b2eaeff8-0f01-48c9-a6b3-04d80a750e55",
   "metadata": {
    "tags": []
   },
   "outputs": [
    {
     "data": {
      "text/html": [
       "<div>\n",
       "<style scoped>\n",
       "    .dataframe tbody tr th:only-of-type {\n",
       "        vertical-align: middle;\n",
       "    }\n",
       "\n",
       "    .dataframe tbody tr th {\n",
       "        vertical-align: top;\n",
       "    }\n",
       "\n",
       "    .dataframe thead th {\n",
       "        text-align: right;\n",
       "    }\n",
       "</style>\n",
       "<table border=\"1\" class=\"dataframe\">\n",
       "  <thead>\n",
       "    <tr style=\"text-align: right;\">\n",
       "      <th></th>\n",
       "      <th>year</th>\n",
       "      <th>month</th>\n",
       "      <th>day</th>\n",
       "      <th>dep_time</th>\n",
       "      <th>sched_dep_time</th>\n",
       "      <th>dep_delay</th>\n",
       "      <th>arr_time</th>\n",
       "      <th>sched_arr_time</th>\n",
       "      <th>arr_delay</th>\n",
       "      <th>carrier</th>\n",
       "      <th>flight</th>\n",
       "      <th>tailnum</th>\n",
       "      <th>origin</th>\n",
       "      <th>dest</th>\n",
       "      <th>air_time</th>\n",
       "      <th>distance</th>\n",
       "      <th>hour</th>\n",
       "      <th>minute</th>\n",
       "      <th>time_hour</th>\n",
       "      <th>timeInHrs</th>\n",
       "    </tr>\n",
       "  </thead>\n",
       "  <tbody>\n",
       "    <tr>\n",
       "      <th>188759</th>\n",
       "      <td>2013</td>\n",
       "      <td>4</td>\n",
       "      <td>25</td>\n",
       "      <td>2156.0</td>\n",
       "      <td>2005</td>\n",
       "      <td>111.0</td>\n",
       "      <td>106.0</td>\n",
       "      <td>2311</td>\n",
       "      <td>115.0</td>\n",
       "      <td>UA</td>\n",
       "      <td>282</td>\n",
       "      <td>N444UA</td>\n",
       "      <td>EWR</td>\n",
       "      <td>AUS</td>\n",
       "      <td>209.0</td>\n",
       "      <td>1504</td>\n",
       "      <td>20</td>\n",
       "      <td>5</td>\n",
       "      <td>2013-04-26T00:00:00Z</td>\n",
       "      <td>3.166667</td>\n",
       "    </tr>\n",
       "    <tr>\n",
       "      <th>213495</th>\n",
       "      <td>2013</td>\n",
       "      <td>5</td>\n",
       "      <td>22</td>\n",
       "      <td>1508.0</td>\n",
       "      <td>1510</td>\n",
       "      <td>-2.0</td>\n",
       "      <td>1754.0</td>\n",
       "      <td>1815</td>\n",
       "      <td>-21.0</td>\n",
       "      <td>UA</td>\n",
       "      <td>997</td>\n",
       "      <td>N459UA</td>\n",
       "      <td>EWR</td>\n",
       "      <td>AUS</td>\n",
       "      <td>208.0</td>\n",
       "      <td>1504</td>\n",
       "      <td>15</td>\n",
       "      <td>10</td>\n",
       "      <td>2013-05-22T19:00:00Z</td>\n",
       "      <td>2.766667</td>\n",
       "    </tr>\n",
       "    <tr>\n",
       "      <th>109513</th>\n",
       "      <td>2013</td>\n",
       "      <td>12</td>\n",
       "      <td>29</td>\n",
       "      <td>2246.0</td>\n",
       "      <td>2045</td>\n",
       "      <td>121.0</td>\n",
       "      <td>224.0</td>\n",
       "      <td>2359</td>\n",
       "      <td>145.0</td>\n",
       "      <td>B6</td>\n",
       "      <td>1295</td>\n",
       "      <td>N506JB</td>\n",
       "      <td>JFK</td>\n",
       "      <td>AUS</td>\n",
       "      <td>249.0</td>\n",
       "      <td>1521</td>\n",
       "      <td>20</td>\n",
       "      <td>45</td>\n",
       "      <td>2013-12-30T01:00:00Z</td>\n",
       "      <td>3.633333</td>\n",
       "    </tr>\n",
       "    <tr>\n",
       "      <th>230169</th>\n",
       "      <td>2013</td>\n",
       "      <td>6</td>\n",
       "      <td>9</td>\n",
       "      <td>1736.0</td>\n",
       "      <td>1720</td>\n",
       "      <td>16.0</td>\n",
       "      <td>2052.0</td>\n",
       "      <td>2025</td>\n",
       "      <td>27.0</td>\n",
       "      <td>AA</td>\n",
       "      <td>695</td>\n",
       "      <td>N3FPAA</td>\n",
       "      <td>JFK</td>\n",
       "      <td>AUS</td>\n",
       "      <td>213.0</td>\n",
       "      <td>1521</td>\n",
       "      <td>17</td>\n",
       "      <td>20</td>\n",
       "      <td>2013-06-09T21:00:00Z</td>\n",
       "      <td>3.266667</td>\n",
       "    </tr>\n",
       "    <tr>\n",
       "      <th>289645</th>\n",
       "      <td>2013</td>\n",
       "      <td>8</td>\n",
       "      <td>11</td>\n",
       "      <td>940.0</td>\n",
       "      <td>929</td>\n",
       "      <td>11.0</td>\n",
       "      <td>1223.0</td>\n",
       "      <td>1214</td>\n",
       "      <td>9.0</td>\n",
       "      <td>B6</td>\n",
       "      <td>795</td>\n",
       "      <td>N607JB</td>\n",
       "      <td>JFK</td>\n",
       "      <td>AUS</td>\n",
       "      <td>199.0</td>\n",
       "      <td>1521</td>\n",
       "      <td>9</td>\n",
       "      <td>29</td>\n",
       "      <td>2013-08-11T13:00:00Z</td>\n",
       "      <td>2.716667</td>\n",
       "    </tr>\n",
       "    <tr>\n",
       "      <th>333931</th>\n",
       "      <td>2013</td>\n",
       "      <td>9</td>\n",
       "      <td>27</td>\n",
       "      <td>1728.0</td>\n",
       "      <td>1720</td>\n",
       "      <td>8.0</td>\n",
       "      <td>1952.0</td>\n",
       "      <td>2030</td>\n",
       "      <td>-38.0</td>\n",
       "      <td>AA</td>\n",
       "      <td>291</td>\n",
       "      <td>N3HMAA</td>\n",
       "      <td>JFK</td>\n",
       "      <td>AUS</td>\n",
       "      <td>185.0</td>\n",
       "      <td>1521</td>\n",
       "      <td>17</td>\n",
       "      <td>20</td>\n",
       "      <td>2013-09-27T21:00:00Z</td>\n",
       "      <td>2.400000</td>\n",
       "    </tr>\n",
       "    <tr>\n",
       "      <th>84871</th>\n",
       "      <td>2013</td>\n",
       "      <td>12</td>\n",
       "      <td>2</td>\n",
       "      <td>1720.0</td>\n",
       "      <td>1715</td>\n",
       "      <td>5.0</td>\n",
       "      <td>2011.0</td>\n",
       "      <td>2035</td>\n",
       "      <td>-24.0</td>\n",
       "      <td>AA</td>\n",
       "      <td>291</td>\n",
       "      <td>N3FYAA</td>\n",
       "      <td>JFK</td>\n",
       "      <td>AUS</td>\n",
       "      <td>208.0</td>\n",
       "      <td>1521</td>\n",
       "      <td>17</td>\n",
       "      <td>15</td>\n",
       "      <td>2013-12-02T22:00:00Z</td>\n",
       "      <td>2.850000</td>\n",
       "    </tr>\n",
       "    <tr>\n",
       "      <th>169247</th>\n",
       "      <td>2013</td>\n",
       "      <td>4</td>\n",
       "      <td>5</td>\n",
       "      <td>902.0</td>\n",
       "      <td>908</td>\n",
       "      <td>-6.0</td>\n",
       "      <td>1152.0</td>\n",
       "      <td>1210</td>\n",
       "      <td>-18.0</td>\n",
       "      <td>B6</td>\n",
       "      <td>1061</td>\n",
       "      <td>N193JB</td>\n",
       "      <td>JFK</td>\n",
       "      <td>AUS</td>\n",
       "      <td>202.0</td>\n",
       "      <td>1521</td>\n",
       "      <td>9</td>\n",
       "      <td>8</td>\n",
       "      <td>2013-04-05T13:00:00Z</td>\n",
       "      <td>2.833333</td>\n",
       "    </tr>\n",
       "  </tbody>\n",
       "</table>\n",
       "</div>"
      ],
      "text/plain": [
       "        year  month  day  dep_time  sched_dep_time  dep_delay  arr_time   \n",
       "188759  2013      4   25    2156.0            2005      111.0     106.0  \\\n",
       "213495  2013      5   22    1508.0            1510       -2.0    1754.0   \n",
       "109513  2013     12   29    2246.0            2045      121.0     224.0   \n",
       "230169  2013      6    9    1736.0            1720       16.0    2052.0   \n",
       "289645  2013      8   11     940.0             929       11.0    1223.0   \n",
       "333931  2013      9   27    1728.0            1720        8.0    1952.0   \n",
       "84871   2013     12    2    1720.0            1715        5.0    2011.0   \n",
       "169247  2013      4    5     902.0             908       -6.0    1152.0   \n",
       "\n",
       "        sched_arr_time  arr_delay carrier  flight tailnum origin dest   \n",
       "188759            2311      115.0      UA     282  N444UA    EWR  AUS  \\\n",
       "213495            1815      -21.0      UA     997  N459UA    EWR  AUS   \n",
       "109513            2359      145.0      B6    1295  N506JB    JFK  AUS   \n",
       "230169            2025       27.0      AA     695  N3FPAA    JFK  AUS   \n",
       "289645            1214        9.0      B6     795  N607JB    JFK  AUS   \n",
       "333931            2030      -38.0      AA     291  N3HMAA    JFK  AUS   \n",
       "84871             2035      -24.0      AA     291  N3FYAA    JFK  AUS   \n",
       "169247            1210      -18.0      B6    1061  N193JB    JFK  AUS   \n",
       "\n",
       "        air_time  distance  hour  minute             time_hour  timeInHrs  \n",
       "188759     209.0      1504    20       5  2013-04-26T00:00:00Z   3.166667  \n",
       "213495     208.0      1504    15      10  2013-05-22T19:00:00Z   2.766667  \n",
       "109513     249.0      1521    20      45  2013-12-30T01:00:00Z   3.633333  \n",
       "230169     213.0      1521    17      20  2013-06-09T21:00:00Z   3.266667  \n",
       "289645     199.0      1521     9      29  2013-08-11T13:00:00Z   2.716667  \n",
       "333931     185.0      1521    17      20  2013-09-27T21:00:00Z   2.400000  \n",
       "84871      208.0      1521    17      15  2013-12-02T22:00:00Z   2.850000  \n",
       "169247     202.0      1521     9       8  2013-04-05T13:00:00Z   2.833333  "
      ]
     },
     "execution_count": 55,
     "metadata": {},
     "output_type": "execute_result"
    }
   ],
   "source": [
    "flightsToAus.sample(8)"
   ]
  },
  {
   "cell_type": "code",
   "execution_count": 56,
   "id": "22f1f40c-1b83-4723-9f1a-5e8376d0eae0",
   "metadata": {
    "tags": []
   },
   "outputs": [
    {
     "data": {
      "text/plain": [
       "3.0588056819749"
      ]
     },
     "execution_count": 56,
     "metadata": {},
     "output_type": "execute_result"
    }
   ],
   "source": [
    "flightsToAus[\"timeInHrs\"].mean()"
   ]
  },
  {
   "cell_type": "code",
   "execution_count": 57,
   "id": "29f524b7-4bcc-465a-b48a-c91102075a28",
   "metadata": {
    "tags": []
   },
   "outputs": [
    {
     "data": {
      "text/plain": [
       "3.0166666666666675"
      ]
     },
     "execution_count": 57,
     "metadata": {},
     "output_type": "execute_result"
    }
   ],
   "source": [
    "flightsToAus[\"timeInHrs\"].median()"
   ]
  },
  {
   "cell_type": "markdown",
   "id": "c8cbc470-b8fd-420a-bd15-0664c70042f5",
   "metadata": {},
   "source": [
    "8. From what I checked most flights on Expedia now from NYC to AUS are arouund 4 hours while flight time in the dataset from NYC to AUS in 2013 are roughtly 3 hours. This could be because the time prediction on Expedia includes buffer time to proof against possible delays. Furthermore, flight times on Expedia includes times the plane takes for taxing, boarding, and driving while the time in the 2013 dataset only accounts for flight time once departed and on arrival."
   ]
  },
  {
   "cell_type": "markdown",
   "id": "b679237e-881e-46ed-9f58-24a7193c17e4",
   "metadata": {},
   "source": [
    "### 2.5 Think about all this"
   ]
  },
  {
   "cell_type": "markdown",
   "id": "e5ba1a95-16d5-467e-9e3b-0d62a0e8a8ec",
   "metadata": {},
   "source": [
    "1. My main concerns to the analysis above are whether I used the correct techniques, features, and functions to conduct the analysis and whether there are simpler more effiencient ways I could have done what I did for each questions. I also wish to learn more about plt and plotting data in the future and more ways to manipulate data and create multivariable graphs. For a basic understanding and analysis of the data set, I think pandas and numpy are decent libraries."
   ]
  },
  {
   "cell_type": "markdown",
   "id": "d580ce17-35d9-4986-b866-89d92a532922",
   "metadata": {},
   "source": [
    "2. Using this data some business relevant analysis that people could do is analyzing which airline is most reliable when a company books flights for employee travel. Also they could find what times of the day work best and are most efficient. Also shipping companies like FedEx could use this data to best schedule their flight times while minimizing chances for delays. For journalists, they can use this data to report on which airlines are the most efficient. Overall, there are countless ways this data can be used for business-relavant analysis"
   ]
  },
  {
   "cell_type": "markdown",
   "id": "5854aabf-a0e2-4b44-af18-ca038fc694f3",
   "metadata": {},
   "source": [
    "3. With my specific analysis, I don't see any obvious ethical concerns. However, this data could potentially be used in ways not ethically sound. For example, the analysis of airline effiencieny could put particular employees jobs atr risk due to a loss of customers etc."
   ]
  }
 ],
 "metadata": {
  "kernelspec": {
   "display_name": "Python 3 (ipykernel)",
   "language": "python",
   "name": "python3"
  },
  "language_info": {
   "codemirror_mode": {
    "name": "ipython",
    "version": 3
   },
   "file_extension": ".py",
   "mimetype": "text/x-python",
   "name": "python",
   "nbconvert_exporter": "python",
   "pygments_lexer": "ipython3",
   "version": "3.10.9"
  }
 },
 "nbformat": 4,
 "nbformat_minor": 5
}
