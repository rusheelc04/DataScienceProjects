{
 "cells": [
  {
   "cell_type": "markdown",
   "id": "57829aff-3ff1-4c59-9ac6-a42b54138b25",
   "metadata": {},
   "source": [
    "# Naive Bayes and Support Vector Machines\n",
    "Name: Rusheel Chande"
   ]
  },
  {
   "cell_type": "code",
   "execution_count": 1,
   "id": "c395c37b-821c-4d51-93ef-0548c3795808",
   "metadata": {
    "tags": []
   },
   "outputs": [],
   "source": [
    "import pandas as pd\n",
    "import numpy as np\n",
    "from sklearn.feature_extraction.text import CountVectorizer, TfidfTransformer\n",
    "from sklearn.naive_bayes import MultinomialNB\n",
    "from sklearn.svm import SVC, LinearSVC\n",
    "from sklearn.metrics import classification_report, f1_score, accuracy_score, confusion_matrix\n",
    "from sklearn.pipeline import Pipeline\n",
    "from sklearn.model_selection import GridSearchCV\n",
    "from sklearn.model_selection import StratifiedKFold, cross_val_score, train_test_split \n",
    "from sklearn.tree import DecisionTreeClassifier \n",
    "from sklearn.model_selection import learning_curve\n",
    "from sklearn.ensemble import RandomForestClassifier"
   ]
  },
  {
   "cell_type": "markdown",
   "id": "f9696494-0232-4608-acfd-571663e33192",
   "metadata": {},
   "source": [
    "## 1. Bayes’ Theorem shows us how to turn P(E|H) to P(H|E), with E=Evidence and H=Hypothesis. But what does that really mean? Imagine you have to explain this to someone who doesn't understand machine learning or probability at all."
   ]
  },
  {
   "cell_type": "markdown",
   "id": "af4f454b-3bc8-4528-89be-94e0581363e8",
   "metadata": {},
   "source": [
    "The theorem allows us to calculate the probability of a hypothesis being true based on new evidence which is basically a reversed way of thinking about cause and effect."
   ]
  },
  {
   "cell_type": "markdown",
   "id": "b7af094c-8b5e-464d-8581-3310e01a3c61",
   "metadata": {},
   "source": [
    "a) Explain how to turn P(E|H) to P(H|E), with E=Evidence and H=Hypothesis in layman's terms."
   ]
  },
  {
   "cell_type": "markdown",
   "id": "640daa93-3907-4ad7-8170-d04ba85c36b4",
   "metadata": {},
   "source": [
    "Bayes Theorem helps us reverse a conditional probability. Normally we might know the probability of observing some evidence given a hypothesis P(E|H), like knowing the likelihood of seeing rain if we assume it's cloudy. With Bayes Theorem we can flip this around. It tells us how likely our hypothesis is, given the evidence we've observed P(H|E). The formula to do this is P(H|E) = [P(E|H) * P(H)] / P(E)"
   ]
  },
  {
   "cell_type": "markdown",
   "id": "66e0b01f-9111-4382-b1cf-ebfdf162df78",
   "metadata": {},
   "source": [
    "b) Use an example from real life to ground the explanation."
   ]
  },
  {
   "cell_type": "markdown",
   "id": "4d2b31e8-a914-4bb6-91b3-f8dcc42b6b01",
   "metadata": {},
   "source": [
    "An example is assuming H is the event of having a disease, and E is testing positive for that disease. The probability of testing positive given you have the disease is P(Testing Positive (E) | Having Disease (H)). We can find P(Having Disease (H) | Testing Positive (E)) with Bayes Theorem, which is the probability of actually having the disease given a positive test result. We'd just use the formula I put in a) to find it. So the formula is P(Having Disease (H)| Testing Positive (E)) = [P(Testing Positive (E) | Having Disease (H))×P(Having Disease (H))\n",
    "]/P(Testing Positive (E))"
   ]
  },
  {
   "cell_type": "markdown",
   "id": "d453f5c9-5508-4de5-9aa8-4ec939bd9c2a",
   "metadata": {},
   "source": [
    "## 2. This is a public set of comments collected for spam research. It has five datasets composed of 1,956 real messages extracted from five videos. These five videos are popular pop songs that were among the 10 most viewed in the collection period."
   ]
  },
  {
   "cell_type": "markdown",
   "id": "a8f8f8bb-418a-4e2d-a34f-1fec0c732993",
   "metadata": {},
   "source": [
    "a) For this exercise use any four of these five datasets to build a spam filter with the Naïve Bayes approach."
   ]
  },
  {
   "cell_type": "code",
   "execution_count": 2,
   "id": "cc846c09-bdf9-44ff-9272-e6f1218e89df",
   "metadata": {
    "tags": []
   },
   "outputs": [],
   "source": [
    "katy = pd.read_csv(\"../data/Youtube02-KatyPerry.csv\", sep=\",\")\n",
    "lmfao = pd.read_csv(\"../data/Youtube03-LMFAO.csv\", sep=\",\")\n",
    "eminem = pd.read_csv(\"../data/Youtube04-Eminem.csv\", sep=\",\")\n",
    "shakira = pd.read_csv(\"../data/Youtube05-Shakira.csv\", sep=\",\")"
   ]
  },
  {
   "cell_type": "code",
   "execution_count": 3,
   "id": "b29d84e9-3716-4784-a69e-aed29bebd08e",
   "metadata": {
    "tags": []
   },
   "outputs": [
    {
     "data": {
      "text/html": [
       "<div>\n",
       "<style scoped>\n",
       "    .dataframe tbody tr th:only-of-type {\n",
       "        vertical-align: middle;\n",
       "    }\n",
       "\n",
       "    .dataframe tbody tr th {\n",
       "        vertical-align: top;\n",
       "    }\n",
       "\n",
       "    .dataframe thead th {\n",
       "        text-align: right;\n",
       "    }\n",
       "</style>\n",
       "<table border=\"1\" class=\"dataframe\">\n",
       "  <thead>\n",
       "    <tr style=\"text-align: right;\">\n",
       "      <th></th>\n",
       "      <th>COMMENT_ID</th>\n",
       "      <th>AUTHOR</th>\n",
       "      <th>DATE</th>\n",
       "      <th>CONTENT</th>\n",
       "      <th>CLASS</th>\n",
       "    </tr>\n",
       "  </thead>\n",
       "  <tbody>\n",
       "    <tr>\n",
       "      <th>0</th>\n",
       "      <td>z12pgdhovmrktzm3i23es5d5junftft3f</td>\n",
       "      <td>lekanaVEVO1</td>\n",
       "      <td>2014-07-22T15:27:50</td>\n",
       "      <td>i love this so much. AND also I Generate Free ...</td>\n",
       "      <td>1</td>\n",
       "    </tr>\n",
       "    <tr>\n",
       "      <th>1</th>\n",
       "      <td>z13yx345uxepetggz04ci5rjcxeohzlrtf4</td>\n",
       "      <td>Pyunghee</td>\n",
       "      <td>2014-07-27T01:57:16</td>\n",
       "      <td>http://www.billboard.com/articles/columns/pop-...</td>\n",
       "      <td>1</td>\n",
       "    </tr>\n",
       "    <tr>\n",
       "      <th>2</th>\n",
       "      <td>z12lsjvi3wa5x1vwh04cibeaqnzrevxajw00k</td>\n",
       "      <td>Erica Ross</td>\n",
       "      <td>2014-07-27T02:51:43</td>\n",
       "      <td>Hey guys! Please join me in my fight to help a...</td>\n",
       "      <td>1</td>\n",
       "    </tr>\n",
       "    <tr>\n",
       "      <th>3</th>\n",
       "      <td>z13jcjuovxbwfr0ge04cev2ipsjdfdurwck</td>\n",
       "      <td>Aviel Haimov</td>\n",
       "      <td>2014-08-01T12:27:48</td>\n",
       "      <td>http://psnboss.com/?ref=2tGgp3pV6L this is the...</td>\n",
       "      <td>1</td>\n",
       "    </tr>\n",
       "    <tr>\n",
       "      <th>4</th>\n",
       "      <td>z13qybua2yfydzxzj04cgfpqdt2syfx53ms0k</td>\n",
       "      <td>John Bello</td>\n",
       "      <td>2014-08-01T21:04:03</td>\n",
       "      <td>Hey everyone. Watch this trailer!!!!!!!!  http...</td>\n",
       "      <td>1</td>\n",
       "    </tr>\n",
       "  </tbody>\n",
       "</table>\n",
       "</div>"
      ],
      "text/plain": [
       "                              COMMENT_ID        AUTHOR                 DATE  \\\n",
       "0      z12pgdhovmrktzm3i23es5d5junftft3f   lekanaVEVO1  2014-07-22T15:27:50   \n",
       "1    z13yx345uxepetggz04ci5rjcxeohzlrtf4      Pyunghee  2014-07-27T01:57:16   \n",
       "2  z12lsjvi3wa5x1vwh04cibeaqnzrevxajw00k    Erica Ross  2014-07-27T02:51:43   \n",
       "3    z13jcjuovxbwfr0ge04cev2ipsjdfdurwck  Aviel Haimov  2014-08-01T12:27:48   \n",
       "4  z13qybua2yfydzxzj04cgfpqdt2syfx53ms0k    John Bello  2014-08-01T21:04:03   \n",
       "\n",
       "                                             CONTENT  CLASS  \n",
       "0  i love this so much. AND also I Generate Free ...      1  \n",
       "1  http://www.billboard.com/articles/columns/pop-...      1  \n",
       "2  Hey guys! Please join me in my fight to help a...      1  \n",
       "3  http://psnboss.com/?ref=2tGgp3pV6L this is the...      1  \n",
       "4  Hey everyone. Watch this trailer!!!!!!!!  http...      1  "
      ]
     },
     "execution_count": 3,
     "metadata": {},
     "output_type": "execute_result"
    }
   ],
   "source": [
    "katy.head(5)"
   ]
  },
  {
   "cell_type": "code",
   "execution_count": 4,
   "id": "87c85d28-d318-4ef1-a6f0-10e56f684b76",
   "metadata": {
    "tags": []
   },
   "outputs": [
    {
     "data": {
      "text/html": [
       "<div>\n",
       "<style scoped>\n",
       "    .dataframe tbody tr th:only-of-type {\n",
       "        vertical-align: middle;\n",
       "    }\n",
       "\n",
       "    .dataframe tbody tr th {\n",
       "        vertical-align: top;\n",
       "    }\n",
       "\n",
       "    .dataframe thead th {\n",
       "        text-align: right;\n",
       "    }\n",
       "</style>\n",
       "<table border=\"1\" class=\"dataframe\">\n",
       "  <thead>\n",
       "    <tr style=\"text-align: right;\">\n",
       "      <th></th>\n",
       "      <th>COMMENT_ID</th>\n",
       "      <th>AUTHOR</th>\n",
       "      <th>DATE</th>\n",
       "      <th>CONTENT</th>\n",
       "      <th>CLASS</th>\n",
       "    </tr>\n",
       "  </thead>\n",
       "  <tbody>\n",
       "    <tr>\n",
       "      <th>0</th>\n",
       "      <td>z13uwn2heqndtr5g304ccv5j5kqqzxjadmc0k</td>\n",
       "      <td>Corey Wilson</td>\n",
       "      <td>2015-05-28T21:39:52.376000</td>\n",
       "      <td>&lt;a href=\"http://www.youtube.com/watch?v=KQ6zr6...</td>\n",
       "      <td>0</td>\n",
       "    </tr>\n",
       "    <tr>\n",
       "      <th>1</th>\n",
       "      <td>z124jvczaz3dxhnbc04cffk43oiugj25yzo0k</td>\n",
       "      <td>Epic Gaming</td>\n",
       "      <td>2015-05-28T20:07:20.610000</td>\n",
       "      <td>wierd but funny﻿</td>\n",
       "      <td>0</td>\n",
       "    </tr>\n",
       "    <tr>\n",
       "      <th>2</th>\n",
       "      <td>z13tczjy5xj0vjmu5231unho1ofey5zdk</td>\n",
       "      <td>LaS Music</td>\n",
       "      <td>2015-05-28T19:23:35.355000</td>\n",
       "      <td>Hey guys, I&amp;#39;m a human.&lt;br /&gt;&lt;br /&gt;&lt;br /&gt;Bu...</td>\n",
       "      <td>1</td>\n",
       "    </tr>\n",
       "    <tr>\n",
       "      <th>3</th>\n",
       "      <td>z13tzr0hdpnayhqqc04cd3zqqqjkf3ngckk0k</td>\n",
       "      <td>Cheryl Fox</td>\n",
       "      <td>2015-05-28T17:49:35.294000</td>\n",
       "      <td>Party Rock....lol...who wants to shuffle!!!﻿</td>\n",
       "      <td>0</td>\n",
       "    </tr>\n",
       "    <tr>\n",
       "      <th>4</th>\n",
       "      <td>z12pcvix4zedcjvyb04ccr1r0mr2g5xwyng0k</td>\n",
       "      <td>PATRICK_TW</td>\n",
       "      <td>2015-05-28T16:28:26.818000</td>\n",
       "      <td>Party rock﻿</td>\n",
       "      <td>0</td>\n",
       "    </tr>\n",
       "  </tbody>\n",
       "</table>\n",
       "</div>"
      ],
      "text/plain": [
       "                              COMMENT_ID        AUTHOR  \\\n",
       "0  z13uwn2heqndtr5g304ccv5j5kqqzxjadmc0k  Corey Wilson   \n",
       "1  z124jvczaz3dxhnbc04cffk43oiugj25yzo0k   Epic Gaming   \n",
       "2      z13tczjy5xj0vjmu5231unho1ofey5zdk     LaS Music   \n",
       "3  z13tzr0hdpnayhqqc04cd3zqqqjkf3ngckk0k    Cheryl Fox   \n",
       "4  z12pcvix4zedcjvyb04ccr1r0mr2g5xwyng0k    PATRICK_TW   \n",
       "\n",
       "                         DATE  \\\n",
       "0  2015-05-28T21:39:52.376000   \n",
       "1  2015-05-28T20:07:20.610000   \n",
       "2  2015-05-28T19:23:35.355000   \n",
       "3  2015-05-28T17:49:35.294000   \n",
       "4  2015-05-28T16:28:26.818000   \n",
       "\n",
       "                                             CONTENT  CLASS  \n",
       "0  <a href=\"http://www.youtube.com/watch?v=KQ6zr6...      0  \n",
       "1                                   wierd but funny﻿      0  \n",
       "2  Hey guys, I&#39;m a human.<br /><br /><br />Bu...      1  \n",
       "3       Party Rock....lol...who wants to shuffle!!!﻿      0  \n",
       "4                                        Party rock﻿      0  "
      ]
     },
     "execution_count": 4,
     "metadata": {},
     "output_type": "execute_result"
    }
   ],
   "source": [
    "lmfao.head(5)"
   ]
  },
  {
   "cell_type": "code",
   "execution_count": 5,
   "id": "328f5bef-27c4-4ddb-a07f-777f2dee7f15",
   "metadata": {
    "tags": []
   },
   "outputs": [
    {
     "data": {
      "text/html": [
       "<div>\n",
       "<style scoped>\n",
       "    .dataframe tbody tr th:only-of-type {\n",
       "        vertical-align: middle;\n",
       "    }\n",
       "\n",
       "    .dataframe tbody tr th {\n",
       "        vertical-align: top;\n",
       "    }\n",
       "\n",
       "    .dataframe thead th {\n",
       "        text-align: right;\n",
       "    }\n",
       "</style>\n",
       "<table border=\"1\" class=\"dataframe\">\n",
       "  <thead>\n",
       "    <tr style=\"text-align: right;\">\n",
       "      <th></th>\n",
       "      <th>COMMENT_ID</th>\n",
       "      <th>AUTHOR</th>\n",
       "      <th>DATE</th>\n",
       "      <th>CONTENT</th>\n",
       "      <th>CLASS</th>\n",
       "    </tr>\n",
       "  </thead>\n",
       "  <tbody>\n",
       "    <tr>\n",
       "      <th>0</th>\n",
       "      <td>z12rwfnyyrbsefonb232i5ehdxzkjzjs2</td>\n",
       "      <td>Lisa Wellas</td>\n",
       "      <td>NaN</td>\n",
       "      <td>+447935454150 lovely girl talk to me xxx﻿</td>\n",
       "      <td>1</td>\n",
       "    </tr>\n",
       "    <tr>\n",
       "      <th>1</th>\n",
       "      <td>z130wpnwwnyuetxcn23xf5k5ynmkdpjrj04</td>\n",
       "      <td>jason graham</td>\n",
       "      <td>2015-05-29T02:26:10.652000</td>\n",
       "      <td>I always end up coming back to this song&lt;br /&gt;﻿</td>\n",
       "      <td>0</td>\n",
       "    </tr>\n",
       "    <tr>\n",
       "      <th>2</th>\n",
       "      <td>z13vsfqirtavjvu0t22ezrgzyorwxhpf3</td>\n",
       "      <td>Ajkal Khan</td>\n",
       "      <td>NaN</td>\n",
       "      <td>my sister just received over 6,500 new &lt;a rel=...</td>\n",
       "      <td>1</td>\n",
       "    </tr>\n",
       "    <tr>\n",
       "      <th>3</th>\n",
       "      <td>z12wjzc4eprnvja4304cgbbizuved35wxcs</td>\n",
       "      <td>Dakota Taylor</td>\n",
       "      <td>2015-05-29T02:13:07.810000</td>\n",
       "      <td>Cool﻿</td>\n",
       "      <td>0</td>\n",
       "    </tr>\n",
       "    <tr>\n",
       "      <th>4</th>\n",
       "      <td>z13xjfr42z3uxdz2223gx5rrzs3dt5hna</td>\n",
       "      <td>Jihad Naser</td>\n",
       "      <td>NaN</td>\n",
       "      <td>Hello I&amp;#39;am from Palastine﻿</td>\n",
       "      <td>1</td>\n",
       "    </tr>\n",
       "  </tbody>\n",
       "</table>\n",
       "</div>"
      ],
      "text/plain": [
       "                            COMMENT_ID         AUTHOR  \\\n",
       "0    z12rwfnyyrbsefonb232i5ehdxzkjzjs2    Lisa Wellas   \n",
       "1  z130wpnwwnyuetxcn23xf5k5ynmkdpjrj04   jason graham   \n",
       "2    z13vsfqirtavjvu0t22ezrgzyorwxhpf3     Ajkal Khan   \n",
       "3  z12wjzc4eprnvja4304cgbbizuved35wxcs  Dakota Taylor   \n",
       "4    z13xjfr42z3uxdz2223gx5rrzs3dt5hna    Jihad Naser   \n",
       "\n",
       "                         DATE  \\\n",
       "0                         NaN   \n",
       "1  2015-05-29T02:26:10.652000   \n",
       "2                         NaN   \n",
       "3  2015-05-29T02:13:07.810000   \n",
       "4                         NaN   \n",
       "\n",
       "                                             CONTENT  CLASS  \n",
       "0          +447935454150 lovely girl talk to me xxx﻿      1  \n",
       "1    I always end up coming back to this song<br />﻿      0  \n",
       "2  my sister just received over 6,500 new <a rel=...      1  \n",
       "3                                              Cool﻿      0  \n",
       "4                     Hello I&#39;am from Palastine﻿      1  "
      ]
     },
     "execution_count": 5,
     "metadata": {},
     "output_type": "execute_result"
    }
   ],
   "source": [
    "eminem.head(5)"
   ]
  },
  {
   "cell_type": "code",
   "execution_count": 6,
   "id": "52fdcdde-2a41-460f-886d-e2a1e02914ca",
   "metadata": {
    "tags": []
   },
   "outputs": [
    {
     "data": {
      "text/html": [
       "<div>\n",
       "<style scoped>\n",
       "    .dataframe tbody tr th:only-of-type {\n",
       "        vertical-align: middle;\n",
       "    }\n",
       "\n",
       "    .dataframe tbody tr th {\n",
       "        vertical-align: top;\n",
       "    }\n",
       "\n",
       "    .dataframe thead th {\n",
       "        text-align: right;\n",
       "    }\n",
       "</style>\n",
       "<table border=\"1\" class=\"dataframe\">\n",
       "  <thead>\n",
       "    <tr style=\"text-align: right;\">\n",
       "      <th></th>\n",
       "      <th>COMMENT_ID</th>\n",
       "      <th>AUTHOR</th>\n",
       "      <th>DATE</th>\n",
       "      <th>CONTENT</th>\n",
       "      <th>CLASS</th>\n",
       "    </tr>\n",
       "  </thead>\n",
       "  <tbody>\n",
       "    <tr>\n",
       "      <th>0</th>\n",
       "      <td>z13lgffb5w3ddx1ul22qy1wxspy5cpkz504</td>\n",
       "      <td>dharma pal</td>\n",
       "      <td>2015-05-29T02:30:18.971000</td>\n",
       "      <td>Nice song﻿</td>\n",
       "      <td>0</td>\n",
       "    </tr>\n",
       "    <tr>\n",
       "      <th>1</th>\n",
       "      <td>z123dbgb0mqjfxbtz22ucjc5jvzcv3ykj</td>\n",
       "      <td>Tiza Arellano</td>\n",
       "      <td>2015-05-29T00:14:48.748000</td>\n",
       "      <td>I love song ﻿</td>\n",
       "      <td>0</td>\n",
       "    </tr>\n",
       "    <tr>\n",
       "      <th>2</th>\n",
       "      <td>z12quxxp2vutflkxv04cihggzt2azl34pms0k</td>\n",
       "      <td>Prìñçeśś Âliś Łøvê Dømíñø Mâđiś™ ﻿</td>\n",
       "      <td>2015-05-28T21:00:08.607000</td>\n",
       "      <td>I love song ﻿</td>\n",
       "      <td>0</td>\n",
       "    </tr>\n",
       "    <tr>\n",
       "      <th>3</th>\n",
       "      <td>z12icv3ysqvlwth2c23eddlykyqut5z1h</td>\n",
       "      <td>Eric Gonzalez</td>\n",
       "      <td>2015-05-28T20:47:12.193000</td>\n",
       "      <td>860,000,000 lets make it first female to reach...</td>\n",
       "      <td>0</td>\n",
       "    </tr>\n",
       "    <tr>\n",
       "      <th>4</th>\n",
       "      <td>z133stly3kete3tly22petvwdpmghrlli</td>\n",
       "      <td>Analena López</td>\n",
       "      <td>2015-05-28T17:08:29.827000</td>\n",
       "      <td>shakira is best for worldcup﻿</td>\n",
       "      <td>0</td>\n",
       "    </tr>\n",
       "  </tbody>\n",
       "</table>\n",
       "</div>"
      ],
      "text/plain": [
       "                              COMMENT_ID                              AUTHOR  \\\n",
       "0    z13lgffb5w3ddx1ul22qy1wxspy5cpkz504                          dharma pal   \n",
       "1      z123dbgb0mqjfxbtz22ucjc5jvzcv3ykj                       Tiza Arellano   \n",
       "2  z12quxxp2vutflkxv04cihggzt2azl34pms0k  Prìñçeśś Âliś Łøvê Dømíñø Mâđiś™ ﻿   \n",
       "3      z12icv3ysqvlwth2c23eddlykyqut5z1h                       Eric Gonzalez   \n",
       "4      z133stly3kete3tly22petvwdpmghrlli                       Analena López   \n",
       "\n",
       "                         DATE  \\\n",
       "0  2015-05-29T02:30:18.971000   \n",
       "1  2015-05-29T00:14:48.748000   \n",
       "2  2015-05-28T21:00:08.607000   \n",
       "3  2015-05-28T20:47:12.193000   \n",
       "4  2015-05-28T17:08:29.827000   \n",
       "\n",
       "                                             CONTENT  CLASS  \n",
       "0                                         Nice song﻿      0  \n",
       "1                                      I love song ﻿      0  \n",
       "2                                      I love song ﻿      0  \n",
       "3  860,000,000 lets make it first female to reach...      0  \n",
       "4                      shakira is best for worldcup﻿      0  "
      ]
     },
     "execution_count": 6,
     "metadata": {},
     "output_type": "execute_result"
    }
   ],
   "source": [
    "shakira.head(5)"
   ]
  },
  {
   "cell_type": "code",
   "execution_count": 7,
   "id": "37dbaec7-5501-4375-bc43-9e5de7dc0e21",
   "metadata": {
    "tags": []
   },
   "outputs": [
    {
     "data": {
      "text/plain": [
       "0.8975155279503105"
      ]
     },
     "execution_count": 7,
     "metadata": {},
     "output_type": "execute_result"
    }
   ],
   "source": [
    "np.random.seed(200)\n",
    "\n",
    "combined = pd.concat([katy, lmfao, eminem, shakira])\n",
    "combined = combined.drop([\"COMMENT_ID\", \"AUTHOR\", \"DATE\"], axis=1)\n",
    "\n",
    "X = combined[\"CONTENT\"]\n",
    "y = combined[\"CLASS\"]\n",
    "\n",
    "X_train, X_test, y_train, y_test = train_test_split(X, y, test_size=0.2, random_state=371)\n",
    "\n",
    "pipeline = Pipeline([\n",
    "    (\"vect\", CountVectorizer()),\n",
    "    (\"tfidf\", TfidfTransformer()),\n",
    "    (\"clf\", MultinomialNB()),\n",
    "])\n",
    "\n",
    "pipeline.fit(X_train, y_train)\n",
    "\n",
    "predictions = pipeline.predict(X_test)\n",
    "\n",
    "accuracy_score(y_test, predictions)"
   ]
  },
  {
   "cell_type": "markdown",
   "id": "57fa711d-e4a2-4574-ac1a-bd464aa6bba5",
   "metadata": {},
   "source": [
    "b) Use that filter to check the accuracy on the remaining dataset."
   ]
  },
  {
   "cell_type": "code",
   "execution_count": 8,
   "id": "57c929bc-5333-44f6-ab7e-31339444d558",
   "metadata": {
    "tags": []
   },
   "outputs": [
    {
     "data": {
      "text/html": [
       "<div>\n",
       "<style scoped>\n",
       "    .dataframe tbody tr th:only-of-type {\n",
       "        vertical-align: middle;\n",
       "    }\n",
       "\n",
       "    .dataframe tbody tr th {\n",
       "        vertical-align: top;\n",
       "    }\n",
       "\n",
       "    .dataframe thead th {\n",
       "        text-align: right;\n",
       "    }\n",
       "</style>\n",
       "<table border=\"1\" class=\"dataframe\">\n",
       "  <thead>\n",
       "    <tr style=\"text-align: right;\">\n",
       "      <th></th>\n",
       "      <th>COMMENT_ID</th>\n",
       "      <th>AUTHOR</th>\n",
       "      <th>DATE</th>\n",
       "      <th>CONTENT</th>\n",
       "      <th>CLASS</th>\n",
       "    </tr>\n",
       "  </thead>\n",
       "  <tbody>\n",
       "    <tr>\n",
       "      <th>0</th>\n",
       "      <td>LZQPQhLyRh80UYxNuaDWhIGQYNQ96IuCg-AYWqNPjpU</td>\n",
       "      <td>Julius NM</td>\n",
       "      <td>2013-11-07T06:20:48</td>\n",
       "      <td>Huh, anyway check out this you[tube] channel: ...</td>\n",
       "      <td>1</td>\n",
       "    </tr>\n",
       "    <tr>\n",
       "      <th>1</th>\n",
       "      <td>LZQPQhLyRh_C2cTtd9MvFRJedxydaVW-2sNg5Diuo4A</td>\n",
       "      <td>adam riyati</td>\n",
       "      <td>2013-11-07T12:37:15</td>\n",
       "      <td>Hey guys check out my new channel and our firs...</td>\n",
       "      <td>1</td>\n",
       "    </tr>\n",
       "    <tr>\n",
       "      <th>2</th>\n",
       "      <td>LZQPQhLyRh9MSZYnf8djyk0gEF9BHDPYrrK-qCczIY8</td>\n",
       "      <td>Evgeny Murashkin</td>\n",
       "      <td>2013-11-08T17:34:21</td>\n",
       "      <td>just for test I have to say murdev.com</td>\n",
       "      <td>1</td>\n",
       "    </tr>\n",
       "    <tr>\n",
       "      <th>3</th>\n",
       "      <td>z13jhp0bxqncu512g22wvzkasxmvvzjaz04</td>\n",
       "      <td>ElNino Melendez</td>\n",
       "      <td>2013-11-09T08:28:43</td>\n",
       "      <td>me shaking my sexy ass on my channel enjoy ^_^ ﻿</td>\n",
       "      <td>1</td>\n",
       "    </tr>\n",
       "    <tr>\n",
       "      <th>4</th>\n",
       "      <td>z13fwbwp1oujthgqj04chlngpvzmtt3r3dw</td>\n",
       "      <td>GsMega</td>\n",
       "      <td>2013-11-10T16:05:38</td>\n",
       "      <td>watch?v=vtaRGgvGtWQ   Check this out .﻿</td>\n",
       "      <td>1</td>\n",
       "    </tr>\n",
       "  </tbody>\n",
       "</table>\n",
       "</div>"
      ],
      "text/plain": [
       "                                    COMMENT_ID            AUTHOR  \\\n",
       "0  LZQPQhLyRh80UYxNuaDWhIGQYNQ96IuCg-AYWqNPjpU         Julius NM   \n",
       "1  LZQPQhLyRh_C2cTtd9MvFRJedxydaVW-2sNg5Diuo4A       adam riyati   \n",
       "2  LZQPQhLyRh9MSZYnf8djyk0gEF9BHDPYrrK-qCczIY8  Evgeny Murashkin   \n",
       "3          z13jhp0bxqncu512g22wvzkasxmvvzjaz04   ElNino Melendez   \n",
       "4          z13fwbwp1oujthgqj04chlngpvzmtt3r3dw            GsMega   \n",
       "\n",
       "                  DATE                                            CONTENT  \\\n",
       "0  2013-11-07T06:20:48  Huh, anyway check out this you[tube] channel: ...   \n",
       "1  2013-11-07T12:37:15  Hey guys check out my new channel and our firs...   \n",
       "2  2013-11-08T17:34:21             just for test I have to say murdev.com   \n",
       "3  2013-11-09T08:28:43   me shaking my sexy ass on my channel enjoy ^_^ ﻿   \n",
       "4  2013-11-10T16:05:38            watch?v=vtaRGgvGtWQ   Check this out .﻿   \n",
       "\n",
       "   CLASS  \n",
       "0      1  \n",
       "1      1  \n",
       "2      1  \n",
       "3      1  \n",
       "4      1  "
      ]
     },
     "execution_count": 8,
     "metadata": {},
     "output_type": "execute_result"
    }
   ],
   "source": [
    "psy = pd.read_csv(\"../data/Youtube01-Psy.csv\", sep=\",\")\n",
    "psy.head(5)"
   ]
  },
  {
   "cell_type": "code",
   "execution_count": 9,
   "id": "c3c33c7b-54d7-4a86-b57e-a0c226b4f0e3",
   "metadata": {
    "tags": []
   },
   "outputs": [
    {
     "data": {
      "text/plain": [
       "0.7914285714285715"
      ]
     },
     "execution_count": 9,
     "metadata": {},
     "output_type": "execute_result"
    }
   ],
   "source": [
    "np.random.seed(200)\n",
    "\n",
    "psy = psy.drop([\"COMMENT_ID\", \"AUTHOR\", \"DATE\"], axis=1)\n",
    "\n",
    "X_psy = psy[\"CONTENT\"]\n",
    "y_psy = psy[\"CLASS\"]\n",
    "\n",
    "psy_predictions = pipeline.predict(X_psy)\n",
    "\n",
    "psy_accuracy = accuracy_score(y_psy, psy_predictions)\n",
    "\n",
    "psy_accuracy"
   ]
  },
  {
   "cell_type": "markdown",
   "id": "f8aaaa09-de7a-4dba-8c04-4a1b5d57a323",
   "metadata": {},
   "source": [
    "c) Make sure to report the details of the training process and the model."
   ]
  },
  {
   "cell_type": "markdown",
   "id": "6148c222-c787-453c-ae06-a71aa9a9b543",
   "metadata": {},
   "source": [
    "The Naïve Bayes model was trained Katy Perry, LMFAO, Eminem, and Shakira's datasets. Data cleaning and preprocessing included dropping non-essential columns  which were COMMENT_ID, AUTHOR, and DATE. I focused on the CONTENT for feature extraction and CLASS as the result only. Then a text processing pipeline was created which included CountVectorizer for converting text into token counts and TfidfTransformer for converting token counts to normalized TF-IDF values, followed by the MultinomialNB classifier for the model. The trained model's accuracy was 89.75% on the validation set and when tested on a psy's new dataset, the model had an accuracy of about 79.14% which is less than the training accuracy but still shows that the model is able to roughly generalize"
   ]
  },
  {
   "cell_type": "markdown",
   "id": "310e1716-9db7-4a24-9432-a77d133605dd",
   "metadata": {},
   "source": [
    "3. In this exercise, you will use the Portuguese sea battles data that contains outcomes of naval battles between Portuguese and Dutch/British ships between 1583 and 1663."
   ]
  },
  {
   "cell_type": "markdown",
   "id": "5f1d34e9-d729-4756-9862-ebebe484c71a",
   "metadata": {
    "tags": []
   },
   "source": [
    "a) Use an SVM-based model to predict the Portuguese outcome of the battle from the number of ships involved on all sides and Spanish involvement."
   ]
  },
  {
   "cell_type": "code",
   "execution_count": 16,
   "id": "23591449-a1e7-47a3-8885-a1beef93af07",
   "metadata": {
    "tags": []
   },
   "outputs": [
    {
     "data": {
      "text/html": [
       "<div>\n",
       "<style scoped>\n",
       "    .dataframe tbody tr th:only-of-type {\n",
       "        vertical-align: middle;\n",
       "    }\n",
       "\n",
       "    .dataframe tbody tr th {\n",
       "        vertical-align: top;\n",
       "    }\n",
       "\n",
       "    .dataframe thead th {\n",
       "        text-align: right;\n",
       "    }\n",
       "</style>\n",
       "<table border=\"1\" class=\"dataframe\">\n",
       "  <thead>\n",
       "    <tr style=\"text-align: right;\">\n",
       "      <th></th>\n",
       "      <th>Battle</th>\n",
       "      <th>Year</th>\n",
       "      <th>Portuguese ships</th>\n",
       "      <th>Dutch ships</th>\n",
       "      <th>English ships</th>\n",
       "      <th>Ship Ratio P/D&amp;B</th>\n",
       "      <th>Spanish Involvement</th>\n",
       "      <th>Portuguese outcome</th>\n",
       "    </tr>\n",
       "  </thead>\n",
       "  <tbody>\n",
       "    <tr>\n",
       "      <th>0</th>\n",
       "      <td>Bantam</td>\n",
       "      <td>1601</td>\n",
       "      <td>6</td>\n",
       "      <td>3</td>\n",
       "      <td>0</td>\n",
       "      <td>2.000</td>\n",
       "      <td>0</td>\n",
       "      <td>0</td>\n",
       "    </tr>\n",
       "    <tr>\n",
       "      <th>1</th>\n",
       "      <td>Malacca Strait</td>\n",
       "      <td>1606</td>\n",
       "      <td>14</td>\n",
       "      <td>11</td>\n",
       "      <td>0</td>\n",
       "      <td>1.273</td>\n",
       "      <td>0</td>\n",
       "      <td>0</td>\n",
       "    </tr>\n",
       "    <tr>\n",
       "      <th>2</th>\n",
       "      <td>Ilha das Naus</td>\n",
       "      <td>1606</td>\n",
       "      <td>6</td>\n",
       "      <td>9</td>\n",
       "      <td>0</td>\n",
       "      <td>0.667</td>\n",
       "      <td>0</td>\n",
       "      <td>-1</td>\n",
       "    </tr>\n",
       "    <tr>\n",
       "      <th>3</th>\n",
       "      <td>Pulo Butum</td>\n",
       "      <td>1606</td>\n",
       "      <td>7</td>\n",
       "      <td>9</td>\n",
       "      <td>0</td>\n",
       "      <td>0.778</td>\n",
       "      <td>0</td>\n",
       "      <td>1</td>\n",
       "    </tr>\n",
       "    <tr>\n",
       "      <th>4</th>\n",
       "      <td>Surrat</td>\n",
       "      <td>1615</td>\n",
       "      <td>6</td>\n",
       "      <td>0</td>\n",
       "      <td>4</td>\n",
       "      <td>1.500</td>\n",
       "      <td>0</td>\n",
       "      <td>0</td>\n",
       "    </tr>\n",
       "  </tbody>\n",
       "</table>\n",
       "</div>"
      ],
      "text/plain": [
       "           Battle  Year  Portuguese ships  Dutch ships  English ships  \\\n",
       "0          Bantam  1601                 6            3              0   \n",
       "1  Malacca Strait  1606                14           11              0   \n",
       "2   Ilha das Naus  1606                 6            9              0   \n",
       "3      Pulo Butum  1606                 7            9              0   \n",
       "4          Surrat  1615                 6            0              4   \n",
       "\n",
       "   Ship Ratio P/D&B  Spanish Involvement  Portuguese outcome  \n",
       "0             2.000                    0                   0  \n",
       "1             1.273                    0                   0  \n",
       "2             0.667                    0                  -1  \n",
       "3             0.778                    0                   1  \n",
       "4             1.500                    0                   0  "
      ]
     },
     "execution_count": 16,
     "metadata": {},
     "output_type": "execute_result"
    }
   ],
   "source": [
    "# faced some separator issues with loading the data, so I just manually entered all of it.\n",
    "\n",
    "data = {\n",
    "    \"Battle\": [\"Bantam\", \"Malacca Strait\", \"Ilha das Naus\", \"Pulo Butum\", \"Surrat\", \n",
    "               \"Ilha das Naus\", \"Jask\", \"Hormuz\", \"Mogincoal Shoals\", \"Hormuz\", \n",
    "               \"Goa\", \"Goa\", \"Goa\", \"Colombo\", \"Goa\", \n",
    "               \"Invincible Armada\", \"Bahia\", \"Bahia\", \"Bahia\", \n",
    "               \"Recife\", \"Abrolhos\", \"Bahia\", \"Dunas\", \"Dunas\", \n",
    "               \"Paraiba\", \"Tamandare\", \"Recife\", \"Lisbon\"],\n",
    "    \"Year\": [1601, 1606, 1606, 1606, 1615, \n",
    "             1615, 1620, 1622, 1622, 1625, \n",
    "             1636, 1637, 1638, 1654, 1658, \n",
    "             1588, 1624, 1625, 1627, \n",
    "             1630, 1631, 1636, 1639, 1639, \n",
    "             1640, 1645, 1653, 1657],\n",
    "    \"Portuguese ships\": [6, 14, 6, 7, 6, \n",
    "                         3, 4, 6, 4, 8, \n",
    "                         6, 6, 6, 5, 9, \n",
    "                         69, 4, 35, 4, \n",
    "                         9, 17, 2, 51, 38, \n",
    "                         16, 6, 14, 7],\n",
    "    \"Dutch ships\": [3, 11, 9, 9, 0, \n",
    "                    5, 0, 0, 4, 4, \n",
    "                    4, 7, 8, 3, 9, \n",
    "                    0, 13, 20, 10, \n",
    "                    60, 16, 8, 11, 110, \n",
    "                    30, 7, 5, 10],\n",
    "    \"English ships\": [0, 0, 0, 0, 4, \n",
    "                      0, 4, 5, 2, 4, \n",
    "                      0, 0, 0, 0, 0, \n",
    "                      31, 0, 0, 0, \n",
    "                      0, 0, 0, 0, 0, \n",
    "                      0, 0, 0, 0],\n",
    "    \"Ship Ratio P/D&B\": [2, 1.273, 0.667, 0.778, 1.5, \n",
    "                   0.6, 1, 1.2, 0.667, 1, \n",
    "                   1.5, 0.857, 0.75, 1.667, 1, \n",
    "                   2.226, 0.308, 1.75, 0.4, \n",
    "                   0.15, 1.063, 0.25, 4.636, 0.345, \n",
    "                   0.533, 0.857, 2.8, 0.7],\n",
    "    \"Spanish Involvement\": [0, 0, 0, 0, 0, \n",
    "                            0, 0, 0, 0, 0, \n",
    "                            0, 0, 0, 0, 0, \n",
    "                            1, 1, 1, 1, \n",
    "                            1, 1, 1, 1, 1, \n",
    "                            1, 1, 1, 1],\n",
    "    \"Portuguese outcome\": [0, 0, -1, 1, 0, \n",
    "                           -1, 0, -1, -1, 0, \n",
    "                           0, 0, 1, 1, 0, \n",
    "                           -1, -1, 1, -1, \n",
    "                           -1, 0, 0, 0, -1, \n",
    "                           0, -1, 1, 0]\n",
    "}\n",
    "\n",
    "armada = pd.DataFrame(data)\n",
    "armada.head(5)"
   ]
  },
  {
   "cell_type": "code",
   "execution_count": 11,
   "id": "44d4b8dd-9200-447c-9ed3-26a0b7ee56ca",
   "metadata": {
    "tags": []
   },
   "outputs": [
    {
     "data": {
      "text/plain": [
       "0.5"
      ]
     },
     "execution_count": 11,
     "metadata": {},
     "output_type": "execute_result"
    }
   ],
   "source": [
    "np.random.seed(200)\n",
    "\n",
    "X = armada[[\"Portuguese ships\", \"Dutch ships\", \"English ships\", \"Ship Ratio P/D&B\", \"Spanish Involvement\"]]\n",
    "y = armada[\"Portuguese outcome\"]\n",
    "\n",
    "X_train, X_test, y_train, y_test = train_test_split(X, y, test_size=0.2)\n",
    "\n",
    "svm_model = SVC(kernel=\"rbf\")\n",
    "svm_model.fit(X_train, y_train)\n",
    "\n",
    "svm_predictions = svm_model.predict(X_test)\n",
    "\n",
    "accuracy_score(y_test, svm_predictions)"
   ]
  },
  {
   "cell_type": "markdown",
   "id": "046d5203-3c50-43c2-b42a-b5dd7c867dc3",
   "metadata": {},
   "source": [
    "b) Try solving the same problem using two other classifiers that you know."
   ]
  },
  {
   "cell_type": "code",
   "execution_count": 12,
   "id": "6ac456ce-2378-42c2-81ee-91c36e08c7c8",
   "metadata": {
    "tags": []
   },
   "outputs": [
    {
     "data": {
      "text/plain": [
       "0.3333333333333333"
      ]
     },
     "execution_count": 12,
     "metadata": {},
     "output_type": "execute_result"
    }
   ],
   "source": [
    "np.random.seed(200)\n",
    "\n",
    "dt_model = DecisionTreeClassifier()\n",
    "dt_model.fit(X_train, y_train)\n",
    "dt_predictions = dt_model.predict(X_test)\n",
    "accuracy_score(y_test, dt_predictions)"
   ]
  },
  {
   "cell_type": "code",
   "execution_count": 13,
   "id": "2fc32648-5bc4-4a91-a8f4-f9e8d6b3badd",
   "metadata": {
    "tags": []
   },
   "outputs": [
    {
     "data": {
      "text/plain": [
       "0.3333333333333333"
      ]
     },
     "execution_count": 13,
     "metadata": {},
     "output_type": "execute_result"
    }
   ],
   "source": [
    "np.random.seed(200)\n",
    "\n",
    "rf_model = RandomForestClassifier()\n",
    "rf_model.fit(X_train, y_train)\n",
    "rf_predictions = rf_model.predict(X_test)\n",
    "accuracy_score(y_test, rf_predictions)"
   ]
  },
  {
   "cell_type": "markdown",
   "id": "7cd7605f-093a-48e2-a941-b8aa639ba888",
   "metadata": {},
   "source": [
    "c) Report and compare their results with those from SVM."
   ]
  },
  {
   "cell_type": "markdown",
   "id": "f9564f13-38ad-45fe-8e75-0782f5c0cb64",
   "metadata": {
    "tags": []
   },
   "source": [
    "The SVM model achieved a low-ish accuracy of 50%, but on other times gets lower accuracies such as 33%. This indicates low to moderate capability to predict the outcome of portugese sea battles. To compare with SVM, both the decision tree and random forest classifiers resulted in lower accuracies of 33.33% which suggests they were lower/equal (as other times I ran the code they were able to reach 50% accuracy) to the SVM model. I say the accuracies are low because sea battles can be hard to predict also because we don't have a lot of data. Weather and sea conditions such as visibility, waves, rain, troop morale etc. can all play a roll in a win/loss"
   ]
  }
 ],
 "metadata": {
  "kernelspec": {
   "display_name": "Python 3 (ipykernel)",
   "language": "python",
   "name": "python3"
  },
  "language_info": {
   "codemirror_mode": {
    "name": "ipython",
    "version": 3
   },
   "file_extension": ".py",
   "mimetype": "text/x-python",
   "name": "python",
   "nbconvert_exporter": "python",
   "pygments_lexer": "ipython3",
   "version": "3.11.5"
  }
 },
 "nbformat": 4,
 "nbformat_minor": 5
}
