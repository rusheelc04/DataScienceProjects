{
 "cells": [
  {
   "cell_type": "markdown",
   "id": "4c197a59-bd10-4262-8e72-30193d638e84",
   "metadata": {},
   "source": [
    "# Data exploration, descriptive Statistics\n",
    "Name: Rusheel Chande"
   ]
  },
  {
   "cell_type": "code",
   "execution_count": 34,
   "id": "e535c1f3-a29e-4766-bd3f-90258e0ba642",
   "metadata": {
    "tags": []
   },
   "outputs": [],
   "source": [
    "import numpy as np\n",
    "import pandas as pd\n",
    "import matplotlib.pyplot as plt\n",
    "import seaborn as sns"
   ]
  },
  {
   "cell_type": "markdown",
   "id": "1f3bc4f2-d5d4-40db-abd7-122b231ae9ce",
   "metadata": {},
   "source": [
    "## 1. Cleaning Data"
   ]
  },
  {
   "cell_type": "markdown",
   "id": "2c2e778f-1fff-4598-a5ca-4b57f0f5a2a9",
   "metadata": {},
   "source": [
    "Q1."
   ]
  },
  {
   "cell_type": "code",
   "execution_count": 2,
   "id": "33bfc871-f257-47f7-9eb3-10cf17e90b74",
   "metadata": {
    "tags": []
   },
   "outputs": [],
   "source": [
    "gapminder = pd.read_csv(\"../data/gapminder.csv.bz2\", sep = \"\\t\")"
   ]
  },
  {
   "cell_type": "markdown",
   "id": "d8b8ef8b-3d80-4f67-b1a5-a220dd14f463",
   "metadata": {},
   "source": [
    "Q2."
   ]
  },
  {
   "cell_type": "code",
   "execution_count": 3,
   "id": "fbc5cf0a-b770-4393-ab87-4f031770aa76",
   "metadata": {
    "tags": []
   },
   "outputs": [
    {
     "data": {
      "text/plain": [
       "(13055, 25)"
      ]
     },
     "execution_count": 3,
     "metadata": {},
     "output_type": "execute_result"
    }
   ],
   "source": [
    "gapminder.shape"
   ]
  },
  {
   "cell_type": "code",
   "execution_count": 4,
   "id": "f87e709a-4a8c-441a-9674-c20701330e1e",
   "metadata": {
    "tags": []
   },
   "outputs": [
    {
     "data": {
      "text/html": [
       "<div>\n",
       "<style scoped>\n",
       "    .dataframe tbody tr th:only-of-type {\n",
       "        vertical-align: middle;\n",
       "    }\n",
       "\n",
       "    .dataframe tbody tr th {\n",
       "        vertical-align: top;\n",
       "    }\n",
       "\n",
       "    .dataframe thead th {\n",
       "        text-align: right;\n",
       "    }\n",
       "</style>\n",
       "<table border=\"1\" class=\"dataframe\">\n",
       "  <thead>\n",
       "    <tr style=\"text-align: right;\">\n",
       "      <th></th>\n",
       "      <th>iso3</th>\n",
       "      <th>name</th>\n",
       "      <th>iso2</th>\n",
       "      <th>region</th>\n",
       "      <th>sub-region</th>\n",
       "      <th>intermediate-region</th>\n",
       "      <th>time</th>\n",
       "      <th>totalPopulation</th>\n",
       "      <th>fertilityRate</th>\n",
       "      <th>lifeExpectancy</th>\n",
       "      <th>...</th>\n",
       "      <th>accessElectricity</th>\n",
       "      <th>agriculturalLand</th>\n",
       "      <th>agricultureTractors</th>\n",
       "      <th>cerealProduction</th>\n",
       "      <th>fertilizerHa</th>\n",
       "      <th>co2</th>\n",
       "      <th>greenhouseGases</th>\n",
       "      <th>co2_PC</th>\n",
       "      <th>pm2.5_35</th>\n",
       "      <th>battleDeaths</th>\n",
       "    </tr>\n",
       "  </thead>\n",
       "  <tbody>\n",
       "    <tr>\n",
       "      <th>0</th>\n",
       "      <td>ABW</td>\n",
       "      <td>Aruba</td>\n",
       "      <td>AW</td>\n",
       "      <td>Americas</td>\n",
       "      <td>Latin America and the Caribbean</td>\n",
       "      <td>Caribbean</td>\n",
       "      <td>1960.0</td>\n",
       "      <td>54211.0</td>\n",
       "      <td>4.820</td>\n",
       "      <td>65.662</td>\n",
       "      <td>...</td>\n",
       "      <td>NaN</td>\n",
       "      <td>NaN</td>\n",
       "      <td>NaN</td>\n",
       "      <td>NaN</td>\n",
       "      <td>NaN</td>\n",
       "      <td>11092.675</td>\n",
       "      <td>NaN</td>\n",
       "      <td>204.62037</td>\n",
       "      <td>NaN</td>\n",
       "      <td>NaN</td>\n",
       "    </tr>\n",
       "    <tr>\n",
       "      <th>1</th>\n",
       "      <td>ABW</td>\n",
       "      <td>Aruba</td>\n",
       "      <td>AW</td>\n",
       "      <td>Americas</td>\n",
       "      <td>Latin America and the Caribbean</td>\n",
       "      <td>Caribbean</td>\n",
       "      <td>1961.0</td>\n",
       "      <td>55438.0</td>\n",
       "      <td>4.655</td>\n",
       "      <td>66.074</td>\n",
       "      <td>...</td>\n",
       "      <td>NaN</td>\n",
       "      <td>20.0</td>\n",
       "      <td>NaN</td>\n",
       "      <td>NaN</td>\n",
       "      <td>NaN</td>\n",
       "      <td>11576.719</td>\n",
       "      <td>NaN</td>\n",
       "      <td>208.82281</td>\n",
       "      <td>NaN</td>\n",
       "      <td>NaN</td>\n",
       "    </tr>\n",
       "    <tr>\n",
       "      <th>2</th>\n",
       "      <td>ABW</td>\n",
       "      <td>Aruba</td>\n",
       "      <td>AW</td>\n",
       "      <td>Americas</td>\n",
       "      <td>Latin America and the Caribbean</td>\n",
       "      <td>Caribbean</td>\n",
       "      <td>1962.0</td>\n",
       "      <td>56225.0</td>\n",
       "      <td>4.471</td>\n",
       "      <td>66.444</td>\n",
       "      <td>...</td>\n",
       "      <td>NaN</td>\n",
       "      <td>20.0</td>\n",
       "      <td>NaN</td>\n",
       "      <td>NaN</td>\n",
       "      <td>NaN</td>\n",
       "      <td>12713.489</td>\n",
       "      <td>NaN</td>\n",
       "      <td>226.11808</td>\n",
       "      <td>NaN</td>\n",
       "      <td>NaN</td>\n",
       "    </tr>\n",
       "  </tbody>\n",
       "</table>\n",
       "<p>3 rows × 25 columns</p>\n",
       "</div>"
      ],
      "text/plain": [
       "  iso3   name iso2    region                       sub-region   \n",
       "0  ABW  Aruba   AW  Americas  Latin America and the Caribbean  \\\n",
       "1  ABW  Aruba   AW  Americas  Latin America and the Caribbean   \n",
       "2  ABW  Aruba   AW  Americas  Latin America and the Caribbean   \n",
       "\n",
       "  intermediate-region    time  totalPopulation  fertilityRate  lifeExpectancy   \n",
       "0           Caribbean  1960.0          54211.0          4.820          65.662  \\\n",
       "1           Caribbean  1961.0          55438.0          4.655          66.074   \n",
       "2           Caribbean  1962.0          56225.0          4.471          66.444   \n",
       "\n",
       "   ...  accessElectricity  agriculturalLand  agricultureTractors   \n",
       "0  ...                NaN               NaN                  NaN  \\\n",
       "1  ...                NaN              20.0                  NaN   \n",
       "2  ...                NaN              20.0                  NaN   \n",
       "\n",
       "   cerealProduction  fertilizerHa        co2  greenhouseGases     co2_PC   \n",
       "0               NaN           NaN  11092.675              NaN  204.62037  \\\n",
       "1               NaN           NaN  11576.719              NaN  208.82281   \n",
       "2               NaN           NaN  12713.489              NaN  226.11808   \n",
       "\n",
       "   pm2.5_35  battleDeaths  \n",
       "0       NaN           NaN  \n",
       "1       NaN           NaN  \n",
       "2       NaN           NaN  \n",
       "\n",
       "[3 rows x 25 columns]"
      ]
     },
     "execution_count": 4,
     "metadata": {},
     "output_type": "execute_result"
    }
   ],
   "source": [
    "gapminder.head(3)"
   ]
  },
  {
   "cell_type": "markdown",
   "id": "bafbc649-9277-4bc2-b8cd-59721ed9fa2d",
   "metadata": {},
   "source": [
    "There are 25 columns and 13055 rows in this dataset. After printing the first few lines, the data looks reasonable."
   ]
  },
  {
   "cell_type": "markdown",
   "id": "b7fb3392-aa61-43cb-9265-bd5116807120",
   "metadata": {
    "tags": []
   },
   "source": [
    "Q3."
   ]
  },
  {
   "cell_type": "code",
   "execution_count": 5,
   "id": "2b748e68-ad9f-4864-a9ca-585a5a105277",
   "metadata": {
    "tags": []
   },
   "outputs": [
    {
     "data": {
      "text/plain": [
       "iso3                       0\n",
       "name                     240\n",
       "iso2                     300\n",
       "region                   241\n",
       "sub-region               241\n",
       "intermediate-region     7697\n",
       "time                      36\n",
       "totalPopulation           76\n",
       "fertilityRate           1307\n",
       "lifeExpectancy          1325\n",
       "childMortality          2600\n",
       "youthFemaleLiteracy    12134\n",
       "youthMaleLiteracy      12134\n",
       "adultLiteracy          12118\n",
       "GDP_PC                  3585\n",
       "accessElectricity       7608\n",
       "agriculturalLand        1910\n",
       "agricultureTractors     6947\n",
       "cerealProduction        3606\n",
       "fertilizerHa            4929\n",
       "co2                     2658\n",
       "greenhouseGases         4994\n",
       "co2_PC                  2661\n",
       "pm2.5_35               10727\n",
       "battleDeaths           12051\n",
       "dtype: int64"
      ]
     },
     "execution_count": 5,
     "metadata": {},
     "output_type": "execute_result"
    }
   ],
   "source": [
    "gapminder.isna().sum()"
   ]
  },
  {
   "cell_type": "markdown",
   "id": "e2f27284-fb02-4cb0-b209-a989c14b0a1e",
   "metadata": {},
   "source": [
    "For iso3 there are 0 missing, for name there are 240 missing, for iso2 there are 300 missing, for region there are 241 missing, for sub-region there are 241 missing, for intermediate-region there are 7697 missing, for time there are 36 missing, for totalPopulation there are 76 missing, for fertilityRate there are 1307 missing, for lifeExpectancy there are 1325 missing, for childMortality there are 2600 missing, for youthFemaleLiteracy there are 12134 missing, for youthMaleLiteracy there are 12134 missing, for adultLiteracy there are 12118 missing, for GDP_PC there are 3585 missing, for accessElectricity there are 7608 missing, for agriculturalLand there are 1910 missing, for agricultureTractors there are 6947 missing, for cerealProduction there are 3606 missing, for fertilizerHa there are 4929 missing, for co2 there are 2658 missing, for greenhouseGases there are 4994 missing, for co2_PC there are 2661 missing, for pm2.5_35 there are 10727 missing, and for battleDeaths there are 12051 missing.\n",
    "\n",
    "The variables that are good to use would be those with close to none missing which include iso3, name, iso2, region, sub-region, time, and totalPopulation. The variables that are largely \"bad\"/\"unusable\" are those with almost all data points missing. These include youthFemaleLiteracy, youthMaleLiteracy, adultLiteracy, pm2.5_35, and battleDeaths. The other variables not listed have a number of values missing that are not considered \"good,\" but are not considered totally \"unusable\" either."
   ]
  },
  {
   "cell_type": "markdown",
   "id": "68ad5b7e-e041-42a1-8bb7-06390b9e1f37",
   "metadata": {},
   "source": [
    "Q4."
   ]
  },
  {
   "cell_type": "code",
   "execution_count": 6,
   "id": "2cef9825-2e07-4d37-b2f1-fdf911760d6f",
   "metadata": {
    "tags": []
   },
   "outputs": [
    {
     "data": {
      "text/html": [
       "<div>\n",
       "<style scoped>\n",
       "    .dataframe tbody tr th:only-of-type {\n",
       "        vertical-align: middle;\n",
       "    }\n",
       "\n",
       "    .dataframe tbody tr th {\n",
       "        vertical-align: top;\n",
       "    }\n",
       "\n",
       "    .dataframe thead th {\n",
       "        text-align: right;\n",
       "    }\n",
       "</style>\n",
       "<table border=\"1\" class=\"dataframe\">\n",
       "  <thead>\n",
       "    <tr style=\"text-align: right;\">\n",
       "      <th></th>\n",
       "      <th>iso3</th>\n",
       "      <th>name</th>\n",
       "      <th>iso2</th>\n",
       "      <th>region</th>\n",
       "      <th>sub-region</th>\n",
       "      <th>intermediate-region</th>\n",
       "      <th>time</th>\n",
       "      <th>totalPopulation</th>\n",
       "      <th>fertilityRate</th>\n",
       "      <th>lifeExpectancy</th>\n",
       "      <th>...</th>\n",
       "      <th>accessElectricity</th>\n",
       "      <th>agriculturalLand</th>\n",
       "      <th>agricultureTractors</th>\n",
       "      <th>cerealProduction</th>\n",
       "      <th>fertilizerHa</th>\n",
       "      <th>co2</th>\n",
       "      <th>greenhouseGases</th>\n",
       "      <th>co2_PC</th>\n",
       "      <th>pm2.5_35</th>\n",
       "      <th>battleDeaths</th>\n",
       "    </tr>\n",
       "  </thead>\n",
       "  <tbody>\n",
       "    <tr>\n",
       "      <th>10649</th>\n",
       "      <td>SPM</td>\n",
       "      <td>Saint Pierre and Miquelon</td>\n",
       "      <td>PM</td>\n",
       "      <td>Americas</td>\n",
       "      <td>Northern America</td>\n",
       "      <td>NaN</td>\n",
       "      <td>NaN</td>\n",
       "      <td>NaN</td>\n",
       "      <td>NaN</td>\n",
       "      <td>NaN</td>\n",
       "      <td>...</td>\n",
       "      <td>NaN</td>\n",
       "      <td>NaN</td>\n",
       "      <td>NaN</td>\n",
       "      <td>NaN</td>\n",
       "      <td>NaN</td>\n",
       "      <td>NaN</td>\n",
       "      <td>NaN</td>\n",
       "      <td>NaN</td>\n",
       "      <td>NaN</td>\n",
       "      <td>NaN</td>\n",
       "    </tr>\n",
       "    <tr>\n",
       "      <th>8362</th>\n",
       "      <td>MYT</td>\n",
       "      <td>Mayotte</td>\n",
       "      <td>YT</td>\n",
       "      <td>Africa</td>\n",
       "      <td>Sub-Saharan Africa</td>\n",
       "      <td>Eastern Africa</td>\n",
       "      <td>NaN</td>\n",
       "      <td>NaN</td>\n",
       "      <td>NaN</td>\n",
       "      <td>NaN</td>\n",
       "      <td>...</td>\n",
       "      <td>NaN</td>\n",
       "      <td>NaN</td>\n",
       "      <td>NaN</td>\n",
       "      <td>NaN</td>\n",
       "      <td>NaN</td>\n",
       "      <td>NaN</td>\n",
       "      <td>NaN</td>\n",
       "      <td>NaN</td>\n",
       "      <td>NaN</td>\n",
       "      <td>NaN</td>\n",
       "    </tr>\n",
       "    <tr>\n",
       "      <th>9205</th>\n",
       "      <td>PCN</td>\n",
       "      <td>Pitcairn</td>\n",
       "      <td>PN</td>\n",
       "      <td>Oceania</td>\n",
       "      <td>Polynesia</td>\n",
       "      <td>NaN</td>\n",
       "      <td>NaN</td>\n",
       "      <td>NaN</td>\n",
       "      <td>NaN</td>\n",
       "      <td>NaN</td>\n",
       "      <td>...</td>\n",
       "      <td>NaN</td>\n",
       "      <td>NaN</td>\n",
       "      <td>NaN</td>\n",
       "      <td>NaN</td>\n",
       "      <td>NaN</td>\n",
       "      <td>NaN</td>\n",
       "      <td>NaN</td>\n",
       "      <td>NaN</td>\n",
       "      <td>NaN</td>\n",
       "      <td>NaN</td>\n",
       "    </tr>\n",
       "    <tr>\n",
       "      <th>5297</th>\n",
       "      <td>IMN</td>\n",
       "      <td>Isle of Man</td>\n",
       "      <td>IM</td>\n",
       "      <td>Europe</td>\n",
       "      <td>Northern Europe</td>\n",
       "      <td>NaN</td>\n",
       "      <td>NaN</td>\n",
       "      <td>NaN</td>\n",
       "      <td>NaN</td>\n",
       "      <td>NaN</td>\n",
       "      <td>...</td>\n",
       "      <td>NaN</td>\n",
       "      <td>NaN</td>\n",
       "      <td>NaN</td>\n",
       "      <td>NaN</td>\n",
       "      <td>NaN</td>\n",
       "      <td>NaN</td>\n",
       "      <td>NaN</td>\n",
       "      <td>NaN</td>\n",
       "      <td>NaN</td>\n",
       "      <td>NaN</td>\n",
       "    </tr>\n",
       "    <tr>\n",
       "      <th>12393</th>\n",
       "      <td>VAT</td>\n",
       "      <td>Holy See</td>\n",
       "      <td>VA</td>\n",
       "      <td>Europe</td>\n",
       "      <td>Southern Europe</td>\n",
       "      <td>NaN</td>\n",
       "      <td>NaN</td>\n",
       "      <td>NaN</td>\n",
       "      <td>NaN</td>\n",
       "      <td>NaN</td>\n",
       "      <td>...</td>\n",
       "      <td>NaN</td>\n",
       "      <td>NaN</td>\n",
       "      <td>NaN</td>\n",
       "      <td>NaN</td>\n",
       "      <td>NaN</td>\n",
       "      <td>NaN</td>\n",
       "      <td>NaN</td>\n",
       "      <td>NaN</td>\n",
       "      <td>NaN</td>\n",
       "      <td>NaN</td>\n",
       "    </tr>\n",
       "    <tr>\n",
       "      <th>1325</th>\n",
       "      <td>BLM</td>\n",
       "      <td>Saint Barthélemy</td>\n",
       "      <td>BL</td>\n",
       "      <td>Americas</td>\n",
       "      <td>Latin America and the Caribbean</td>\n",
       "      <td>Caribbean</td>\n",
       "      <td>NaN</td>\n",
       "      <td>NaN</td>\n",
       "      <td>NaN</td>\n",
       "      <td>NaN</td>\n",
       "      <td>...</td>\n",
       "      <td>NaN</td>\n",
       "      <td>NaN</td>\n",
       "      <td>NaN</td>\n",
       "      <td>NaN</td>\n",
       "      <td>NaN</td>\n",
       "      <td>NaN</td>\n",
       "      <td>NaN</td>\n",
       "      <td>NaN</td>\n",
       "      <td>NaN</td>\n",
       "      <td>NaN</td>\n",
       "    </tr>\n",
       "    <tr>\n",
       "      <th>1987</th>\n",
       "      <td>CCK</td>\n",
       "      <td>Cocos (Keeling) Islands</td>\n",
       "      <td>CC</td>\n",
       "      <td>Oceania</td>\n",
       "      <td>Australia and New Zealand</td>\n",
       "      <td>NaN</td>\n",
       "      <td>NaN</td>\n",
       "      <td>NaN</td>\n",
       "      <td>NaN</td>\n",
       "      <td>NaN</td>\n",
       "      <td>...</td>\n",
       "      <td>NaN</td>\n",
       "      <td>NaN</td>\n",
       "      <td>NaN</td>\n",
       "      <td>NaN</td>\n",
       "      <td>NaN</td>\n",
       "      <td>NaN</td>\n",
       "      <td>NaN</td>\n",
       "      <td>NaN</td>\n",
       "      <td>NaN</td>\n",
       "      <td>NaN</td>\n",
       "    </tr>\n",
       "    <tr>\n",
       "      <th>543</th>\n",
       "      <td>ATF</td>\n",
       "      <td>French Southern Territories</td>\n",
       "      <td>TF</td>\n",
       "      <td>Africa</td>\n",
       "      <td>Sub-Saharan Africa</td>\n",
       "      <td>Eastern Africa</td>\n",
       "      <td>NaN</td>\n",
       "      <td>NaN</td>\n",
       "      <td>NaN</td>\n",
       "      <td>NaN</td>\n",
       "      <td>...</td>\n",
       "      <td>NaN</td>\n",
       "      <td>NaN</td>\n",
       "      <td>NaN</td>\n",
       "      <td>NaN</td>\n",
       "      <td>NaN</td>\n",
       "      <td>NaN</td>\n",
       "      <td>NaN</td>\n",
       "      <td>NaN</td>\n",
       "      <td>NaN</td>\n",
       "      <td>NaN</td>\n",
       "    </tr>\n",
       "    <tr>\n",
       "      <th>4213</th>\n",
       "      <td>GGY</td>\n",
       "      <td>Guernsey</td>\n",
       "      <td>GG</td>\n",
       "      <td>Europe</td>\n",
       "      <td>Northern Europe</td>\n",
       "      <td>Channel Islands</td>\n",
       "      <td>NaN</td>\n",
       "      <td>NaN</td>\n",
       "      <td>NaN</td>\n",
       "      <td>NaN</td>\n",
       "      <td>...</td>\n",
       "      <td>NaN</td>\n",
       "      <td>NaN</td>\n",
       "      <td>NaN</td>\n",
       "      <td>NaN</td>\n",
       "      <td>NaN</td>\n",
       "      <td>NaN</td>\n",
       "      <td>NaN</td>\n",
       "      <td>NaN</td>\n",
       "      <td>NaN</td>\n",
       "      <td>NaN</td>\n",
       "    </tr>\n",
       "    <tr>\n",
       "      <th>5358</th>\n",
       "      <td>IOT</td>\n",
       "      <td>British Indian Ocean Territory</td>\n",
       "      <td>IO</td>\n",
       "      <td>Africa</td>\n",
       "      <td>Sub-Saharan Africa</td>\n",
       "      <td>Eastern Africa</td>\n",
       "      <td>NaN</td>\n",
       "      <td>NaN</td>\n",
       "      <td>NaN</td>\n",
       "      <td>NaN</td>\n",
       "      <td>...</td>\n",
       "      <td>NaN</td>\n",
       "      <td>NaN</td>\n",
       "      <td>NaN</td>\n",
       "      <td>NaN</td>\n",
       "      <td>NaN</td>\n",
       "      <td>NaN</td>\n",
       "      <td>NaN</td>\n",
       "      <td>NaN</td>\n",
       "      <td>NaN</td>\n",
       "      <td>NaN</td>\n",
       "    </tr>\n",
       "  </tbody>\n",
       "</table>\n",
       "<p>10 rows × 25 columns</p>\n",
       "</div>"
      ],
      "text/plain": [
       "      iso3                            name iso2    region   \n",
       "10649  SPM       Saint Pierre and Miquelon   PM  Americas  \\\n",
       "8362   MYT                         Mayotte   YT    Africa   \n",
       "9205   PCN                        Pitcairn   PN   Oceania   \n",
       "5297   IMN                     Isle of Man   IM    Europe   \n",
       "12393  VAT                        Holy See   VA    Europe   \n",
       "1325   BLM                Saint Barthélemy   BL  Americas   \n",
       "1987   CCK         Cocos (Keeling) Islands   CC   Oceania   \n",
       "543    ATF     French Southern Territories   TF    Africa   \n",
       "4213   GGY                        Guernsey   GG    Europe   \n",
       "5358   IOT  British Indian Ocean Territory   IO    Africa   \n",
       "\n",
       "                            sub-region intermediate-region  time   \n",
       "10649                 Northern America                 NaN   NaN  \\\n",
       "8362                Sub-Saharan Africa      Eastern Africa   NaN   \n",
       "9205                         Polynesia                 NaN   NaN   \n",
       "5297                   Northern Europe                 NaN   NaN   \n",
       "12393                  Southern Europe                 NaN   NaN   \n",
       "1325   Latin America and the Caribbean           Caribbean   NaN   \n",
       "1987         Australia and New Zealand                 NaN   NaN   \n",
       "543                 Sub-Saharan Africa      Eastern Africa   NaN   \n",
       "4213                   Northern Europe     Channel Islands   NaN   \n",
       "5358                Sub-Saharan Africa      Eastern Africa   NaN   \n",
       "\n",
       "       totalPopulation  fertilityRate  lifeExpectancy  ...  accessElectricity   \n",
       "10649              NaN            NaN             NaN  ...                NaN  \\\n",
       "8362               NaN            NaN             NaN  ...                NaN   \n",
       "9205               NaN            NaN             NaN  ...                NaN   \n",
       "5297               NaN            NaN             NaN  ...                NaN   \n",
       "12393              NaN            NaN             NaN  ...                NaN   \n",
       "1325               NaN            NaN             NaN  ...                NaN   \n",
       "1987               NaN            NaN             NaN  ...                NaN   \n",
       "543                NaN            NaN             NaN  ...                NaN   \n",
       "4213               NaN            NaN             NaN  ...                NaN   \n",
       "5358               NaN            NaN             NaN  ...                NaN   \n",
       "\n",
       "       agriculturalLand  agricultureTractors  cerealProduction  fertilizerHa   \n",
       "10649               NaN                  NaN               NaN           NaN  \\\n",
       "8362                NaN                  NaN               NaN           NaN   \n",
       "9205                NaN                  NaN               NaN           NaN   \n",
       "5297                NaN                  NaN               NaN           NaN   \n",
       "12393               NaN                  NaN               NaN           NaN   \n",
       "1325                NaN                  NaN               NaN           NaN   \n",
       "1987                NaN                  NaN               NaN           NaN   \n",
       "543                 NaN                  NaN               NaN           NaN   \n",
       "4213                NaN                  NaN               NaN           NaN   \n",
       "5358                NaN                  NaN               NaN           NaN   \n",
       "\n",
       "       co2  greenhouseGases  co2_PC  pm2.5_35  battleDeaths  \n",
       "10649  NaN              NaN     NaN       NaN           NaN  \n",
       "8362   NaN              NaN     NaN       NaN           NaN  \n",
       "9205   NaN              NaN     NaN       NaN           NaN  \n",
       "5297   NaN              NaN     NaN       NaN           NaN  \n",
       "12393  NaN              NaN     NaN       NaN           NaN  \n",
       "1325   NaN              NaN     NaN       NaN           NaN  \n",
       "1987   NaN              NaN     NaN       NaN           NaN  \n",
       "543    NaN              NaN     NaN       NaN           NaN  \n",
       "4213   NaN              NaN     NaN       NaN           NaN  \n",
       "5358   NaN              NaN     NaN       NaN           NaN  \n",
       "\n",
       "[10 rows x 25 columns]"
      ]
     },
     "execution_count": 6,
     "metadata": {},
     "output_type": "execute_result"
    }
   ],
   "source": [
    "gapminder[gapminder.time.isna()].sample(10)"
   ]
  },
  {
   "cell_type": "code",
   "execution_count": 7,
   "id": "9943bd91-8d0e-4a3e-a5a6-f61636b65df3",
   "metadata": {
    "tags": []
   },
   "outputs": [
    {
     "data": {
      "text/html": [
       "<div>\n",
       "<style scoped>\n",
       "    .dataframe tbody tr th:only-of-type {\n",
       "        vertical-align: middle;\n",
       "    }\n",
       "\n",
       "    .dataframe tbody tr th {\n",
       "        vertical-align: top;\n",
       "    }\n",
       "\n",
       "    .dataframe thead th {\n",
       "        text-align: right;\n",
       "    }\n",
       "</style>\n",
       "<table border=\"1\" class=\"dataframe\">\n",
       "  <thead>\n",
       "    <tr style=\"text-align: right;\">\n",
       "      <th></th>\n",
       "      <th>time</th>\n",
       "      <th>name</th>\n",
       "      <th>iso2</th>\n",
       "      <th>totalPopulation</th>\n",
       "    </tr>\n",
       "  </thead>\n",
       "  <tbody>\n",
       "    <tr>\n",
       "      <th>4394</th>\n",
       "      <td>NaN</td>\n",
       "      <td>Guadeloupe</td>\n",
       "      <td>GP</td>\n",
       "      <td>NaN</td>\n",
       "    </tr>\n",
       "    <tr>\n",
       "      <th>5779</th>\n",
       "      <td>NaN</td>\n",
       "      <td>Jersey</td>\n",
       "      <td>JE</td>\n",
       "      <td>NaN</td>\n",
       "    </tr>\n",
       "    <tr>\n",
       "      <th>4213</th>\n",
       "      <td>NaN</td>\n",
       "      <td>Guernsey</td>\n",
       "      <td>GG</td>\n",
       "      <td>NaN</td>\n",
       "    </tr>\n",
       "    <tr>\n",
       "      <th>8543</th>\n",
       "      <td>NaN</td>\n",
       "      <td>Norfolk Island</td>\n",
       "      <td>NF</td>\n",
       "      <td>NaN</td>\n",
       "    </tr>\n",
       "    <tr>\n",
       "      <th>180</th>\n",
       "      <td>NaN</td>\n",
       "      <td>Anguilla</td>\n",
       "      <td>AI</td>\n",
       "      <td>NaN</td>\n",
       "    </tr>\n",
       "    <tr>\n",
       "      <th>4996</th>\n",
       "      <td>NaN</td>\n",
       "      <td>Heard Island and McDonald Islands</td>\n",
       "      <td>HM</td>\n",
       "      <td>NaN</td>\n",
       "    </tr>\n",
       "    <tr>\n",
       "      <th>10348</th>\n",
       "      <td>NaN</td>\n",
       "      <td>Svalbard and Jan Mayen</td>\n",
       "      <td>SJ</td>\n",
       "      <td>NaN</td>\n",
       "    </tr>\n",
       "    <tr>\n",
       "      <th>10346</th>\n",
       "      <td>NaN</td>\n",
       "      <td>South Georgia and the South Sandwich Islands</td>\n",
       "      <td>GS</td>\n",
       "      <td>NaN</td>\n",
       "    </tr>\n",
       "    <tr>\n",
       "      <th>8181</th>\n",
       "      <td>NaN</td>\n",
       "      <td>Martinique</td>\n",
       "      <td>MQ</td>\n",
       "      <td>NaN</td>\n",
       "    </tr>\n",
       "    <tr>\n",
       "      <th>543</th>\n",
       "      <td>NaN</td>\n",
       "      <td>French Southern Territories</td>\n",
       "      <td>TF</td>\n",
       "      <td>NaN</td>\n",
       "    </tr>\n",
       "  </tbody>\n",
       "</table>\n",
       "</div>"
      ],
      "text/plain": [
       "       time                                          name iso2   \n",
       "4394    NaN                                    Guadeloupe   GP  \\\n",
       "5779    NaN                                        Jersey   JE   \n",
       "4213    NaN                                      Guernsey   GG   \n",
       "8543    NaN                                Norfolk Island   NF   \n",
       "180     NaN                                      Anguilla   AI   \n",
       "4996    NaN             Heard Island and McDonald Islands   HM   \n",
       "10348   NaN                        Svalbard and Jan Mayen   SJ   \n",
       "10346   NaN  South Georgia and the South Sandwich Islands   GS   \n",
       "8181    NaN                                    Martinique   MQ   \n",
       "543     NaN                   French Southern Territories   TF   \n",
       "\n",
       "       totalPopulation  \n",
       "4394               NaN  \n",
       "5779               NaN  \n",
       "4213               NaN  \n",
       "8543               NaN  \n",
       "180                NaN  \n",
       "4996               NaN  \n",
       "10348              NaN  \n",
       "10346              NaN  \n",
       "8181               NaN  \n",
       "543                NaN  "
      ]
     },
     "execution_count": 7,
     "metadata": {},
     "output_type": "execute_result"
    }
   ],
   "source": [
    "q4Subset = gapminder[[\"time\", \"name\", \"iso2\", \"totalPopulation\"]]\n",
    "q4Subset[q4Subset.time.isna()].sample(10)"
   ]
  },
  {
   "cell_type": "markdown",
   "id": "24a090f3-681e-40c9-9e41-8f525566a8fd",
   "metadata": {},
   "source": [
    "The cases with missing time seem to be from places that are islands, territories, and places that aren't completely recognized as independent nations. They also have very small populations. In addition, when looking at the overall dataset, most of the other variables data points are also missing"
   ]
  },
  {
   "cell_type": "markdown",
   "id": "39a47b3b-d0c5-41d7-a990-a7ae4f55ecb6",
   "metadata": {},
   "source": [
    "Q5."
   ]
  },
  {
   "cell_type": "markdown",
   "id": "b124e444-2d57-45bc-97ca-5daff8610e0b",
   "metadata": {},
   "source": [
    "The cases with missing time seem to be from places that are islands, territories, and places that aren't completely recognized as independent nations. They also have very small populations. In addition, when looking at the overall dataset, most of the other variables data points are also missing. I think this important time variable is missing from these kinds of regions because the data colleciton process didn't include time from the regions due to their unique geopolitical status, remote location, or very small population size."
   ]
  },
  {
   "cell_type": "markdown",
   "id": "2c82d956-dd16-42b3-9292-20f7a133d742",
   "metadata": {},
   "source": [
    "Q6."
   ]
  },
  {
   "cell_type": "code",
   "execution_count": 8,
   "id": "43ffdd13-fb33-43c5-a300-580d0a7004c5",
   "metadata": {
    "tags": []
   },
   "outputs": [
    {
     "data": {
      "text/plain": [
       "0"
      ]
     },
     "execution_count": 8,
     "metadata": {},
     "output_type": "execute_result"
    }
   ],
   "source": [
    "missingNameWIso2 = gapminder[gapminder.name.isna() & gapminder.iso2.notna()]\n",
    "missingNameWIso2.shape[0]"
   ]
  },
  {
   "cell_type": "code",
   "execution_count": 9,
   "id": "c7755584-ca88-402b-9479-4343be4cdb1c",
   "metadata": {
    "tags": []
   },
   "outputs": [
    {
     "data": {
      "text/plain": [
       "60"
      ]
     },
     "execution_count": 9,
     "metadata": {},
     "output_type": "execute_result"
    }
   ],
   "source": [
    "missingIso2WName = gapminder[gapminder.iso2.isna() & gapminder.name.notna()]\n",
    "missingIso2WName.shape[0]"
   ]
  },
  {
   "cell_type": "code",
   "execution_count": 10,
   "id": "218a73e5-b63c-408f-8e2a-f121f8f68a8b",
   "metadata": {
    "tags": []
   },
   "outputs": [
    {
     "data": {
      "text/html": [
       "<div>\n",
       "<style scoped>\n",
       "    .dataframe tbody tr th:only-of-type {\n",
       "        vertical-align: middle;\n",
       "    }\n",
       "\n",
       "    .dataframe tbody tr th {\n",
       "        vertical-align: top;\n",
       "    }\n",
       "\n",
       "    .dataframe thead th {\n",
       "        text-align: right;\n",
       "    }\n",
       "</style>\n",
       "<table border=\"1\" class=\"dataframe\">\n",
       "  <thead>\n",
       "    <tr style=\"text-align: right;\">\n",
       "      <th></th>\n",
       "      <th>iso3</th>\n",
       "      <th>name</th>\n",
       "      <th>iso2</th>\n",
       "      <th>region</th>\n",
       "      <th>sub-region</th>\n",
       "      <th>intermediate-region</th>\n",
       "      <th>time</th>\n",
       "      <th>totalPopulation</th>\n",
       "      <th>fertilityRate</th>\n",
       "      <th>lifeExpectancy</th>\n",
       "      <th>...</th>\n",
       "      <th>accessElectricity</th>\n",
       "      <th>agriculturalLand</th>\n",
       "      <th>agricultureTractors</th>\n",
       "      <th>cerealProduction</th>\n",
       "      <th>fertilizerHa</th>\n",
       "      <th>co2</th>\n",
       "      <th>greenhouseGases</th>\n",
       "      <th>co2_PC</th>\n",
       "      <th>pm2.5_35</th>\n",
       "      <th>battleDeaths</th>\n",
       "    </tr>\n",
       "  </thead>\n",
       "  <tbody>\n",
       "    <tr>\n",
       "      <th>8413</th>\n",
       "      <td>NAM</td>\n",
       "      <td>Namibia</td>\n",
       "      <td>NaN</td>\n",
       "      <td>Africa</td>\n",
       "      <td>Sub-Saharan Africa</td>\n",
       "      <td>Southern Africa</td>\n",
       "      <td>2010.0</td>\n",
       "      <td>2118874.0</td>\n",
       "      <td>3.631</td>\n",
       "      <td>56.665</td>\n",
       "      <td>...</td>\n",
       "      <td>44.60104</td>\n",
       "      <td>388090.0</td>\n",
       "      <td>NaN</td>\n",
       "      <td>118358.0</td>\n",
       "      <td>4.43375</td>\n",
       "      <td>3102.282</td>\n",
       "      <td>37647.5718</td>\n",
       "      <td>1.46412</td>\n",
       "      <td>0.0</td>\n",
       "      <td>NaN</td>\n",
       "    </tr>\n",
       "    <tr>\n",
       "      <th>8409</th>\n",
       "      <td>NAM</td>\n",
       "      <td>Namibia</td>\n",
       "      <td>NaN</td>\n",
       "      <td>Africa</td>\n",
       "      <td>Sub-Saharan Africa</td>\n",
       "      <td>Southern Africa</td>\n",
       "      <td>2006.0</td>\n",
       "      <td>1971317.0</td>\n",
       "      <td>3.560</td>\n",
       "      <td>51.609</td>\n",
       "      <td>...</td>\n",
       "      <td>40.80005</td>\n",
       "      <td>388200.0</td>\n",
       "      <td>NaN</td>\n",
       "      <td>186008.0</td>\n",
       "      <td>2.84625</td>\n",
       "      <td>2332.212</td>\n",
       "      <td>37085.6941</td>\n",
       "      <td>1.18307</td>\n",
       "      <td>NaN</td>\n",
       "      <td>NaN</td>\n",
       "    </tr>\n",
       "    <tr>\n",
       "      <th>8404</th>\n",
       "      <td>NAM</td>\n",
       "      <td>Namibia</td>\n",
       "      <td>NaN</td>\n",
       "      <td>Africa</td>\n",
       "      <td>Sub-Saharan Africa</td>\n",
       "      <td>Southern Africa</td>\n",
       "      <td>2001.0</td>\n",
       "      <td>1823672.0</td>\n",
       "      <td>3.763</td>\n",
       "      <td>51.399</td>\n",
       "      <td>...</td>\n",
       "      <td>35.98637</td>\n",
       "      <td>388200.0</td>\n",
       "      <td>NaN</td>\n",
       "      <td>121744.0</td>\n",
       "      <td>0.36765</td>\n",
       "      <td>2016.850</td>\n",
       "      <td>31359.3130</td>\n",
       "      <td>1.10593</td>\n",
       "      <td>NaN</td>\n",
       "      <td>NaN</td>\n",
       "    </tr>\n",
       "    <tr>\n",
       "      <th>8418</th>\n",
       "      <td>NAM</td>\n",
       "      <td>Namibia</td>\n",
       "      <td>NaN</td>\n",
       "      <td>Africa</td>\n",
       "      <td>Sub-Saharan Africa</td>\n",
       "      <td>Southern Africa</td>\n",
       "      <td>2015.0</td>\n",
       "      <td>2314904.0</td>\n",
       "      <td>3.540</td>\n",
       "      <td>62.119</td>\n",
       "      <td>...</td>\n",
       "      <td>51.60000</td>\n",
       "      <td>388090.0</td>\n",
       "      <td>NaN</td>\n",
       "      <td>113040.0</td>\n",
       "      <td>14.51986</td>\n",
       "      <td>3989.696</td>\n",
       "      <td>NaN</td>\n",
       "      <td>1.72348</td>\n",
       "      <td>0.0</td>\n",
       "      <td>NaN</td>\n",
       "    </tr>\n",
       "    <tr>\n",
       "      <th>8416</th>\n",
       "      <td>NAM</td>\n",
       "      <td>Namibia</td>\n",
       "      <td>NaN</td>\n",
       "      <td>Africa</td>\n",
       "      <td>Sub-Saharan Africa</td>\n",
       "      <td>Southern Africa</td>\n",
       "      <td>2013.0</td>\n",
       "      <td>2233510.0</td>\n",
       "      <td>3.604</td>\n",
       "      <td>60.513</td>\n",
       "      <td>...</td>\n",
       "      <td>47.40000</td>\n",
       "      <td>388090.0</td>\n",
       "      <td>NaN</td>\n",
       "      <td>86600.0</td>\n",
       "      <td>10.86121</td>\n",
       "      <td>2629.239</td>\n",
       "      <td>NaN</td>\n",
       "      <td>1.17718</td>\n",
       "      <td>0.0</td>\n",
       "      <td>NaN</td>\n",
       "    </tr>\n",
       "    <tr>\n",
       "      <th>8393</th>\n",
       "      <td>NAM</td>\n",
       "      <td>Namibia</td>\n",
       "      <td>NaN</td>\n",
       "      <td>Africa</td>\n",
       "      <td>Sub-Saharan Africa</td>\n",
       "      <td>Southern Africa</td>\n",
       "      <td>1990.0</td>\n",
       "      <td>1432905.0</td>\n",
       "      <td>5.219</td>\n",
       "      <td>61.608</td>\n",
       "      <td>...</td>\n",
       "      <td>NaN</td>\n",
       "      <td>386620.0</td>\n",
       "      <td>NaN</td>\n",
       "      <td>97948.0</td>\n",
       "      <td>NaN</td>\n",
       "      <td>40.337</td>\n",
       "      <td>7299.9503</td>\n",
       "      <td>0.02815</td>\n",
       "      <td>0.0</td>\n",
       "      <td>NaN</td>\n",
       "    </tr>\n",
       "    <tr>\n",
       "      <th>8402</th>\n",
       "      <td>NAM</td>\n",
       "      <td>Namibia</td>\n",
       "      <td>NaN</td>\n",
       "      <td>Africa</td>\n",
       "      <td>Sub-Saharan Africa</td>\n",
       "      <td>Southern Africa</td>\n",
       "      <td>1999.0</td>\n",
       "      <td>1763859.0</td>\n",
       "      <td>4.014</td>\n",
       "      <td>53.231</td>\n",
       "      <td>...</td>\n",
       "      <td>34.02074</td>\n",
       "      <td>388200.0</td>\n",
       "      <td>NaN</td>\n",
       "      <td>73899.0</td>\n",
       "      <td>0.36765</td>\n",
       "      <td>1664.818</td>\n",
       "      <td>28386.7931</td>\n",
       "      <td>0.94385</td>\n",
       "      <td>NaN</td>\n",
       "      <td>1.0</td>\n",
       "    </tr>\n",
       "    <tr>\n",
       "      <th>8420</th>\n",
       "      <td>NAM</td>\n",
       "      <td>Namibia</td>\n",
       "      <td>NaN</td>\n",
       "      <td>Africa</td>\n",
       "      <td>Sub-Saharan Africa</td>\n",
       "      <td>Southern Africa</td>\n",
       "      <td>2017.0</td>\n",
       "      <td>2402603.0</td>\n",
       "      <td>3.447</td>\n",
       "      <td>63.021</td>\n",
       "      <td>...</td>\n",
       "      <td>52.50000</td>\n",
       "      <td>388100.0</td>\n",
       "      <td>NaN</td>\n",
       "      <td>137559.0</td>\n",
       "      <td>25.03686</td>\n",
       "      <td>NaN</td>\n",
       "      <td>NaN</td>\n",
       "      <td>NaN</td>\n",
       "      <td>0.0</td>\n",
       "      <td>NaN</td>\n",
       "    </tr>\n",
       "    <tr>\n",
       "      <th>8373</th>\n",
       "      <td>NAM</td>\n",
       "      <td>Namibia</td>\n",
       "      <td>NaN</td>\n",
       "      <td>Africa</td>\n",
       "      <td>Sub-Saharan Africa</td>\n",
       "      <td>Southern Africa</td>\n",
       "      <td>1970.0</td>\n",
       "      <td>817469.0</td>\n",
       "      <td>6.469</td>\n",
       "      <td>52.669</td>\n",
       "      <td>...</td>\n",
       "      <td>NaN</td>\n",
       "      <td>386510.0</td>\n",
       "      <td>NaN</td>\n",
       "      <td>52900.0</td>\n",
       "      <td>NaN</td>\n",
       "      <td>NaN</td>\n",
       "      <td>7251.1455</td>\n",
       "      <td>NaN</td>\n",
       "      <td>NaN</td>\n",
       "      <td>NaN</td>\n",
       "    </tr>\n",
       "    <tr>\n",
       "      <th>8411</th>\n",
       "      <td>NAM</td>\n",
       "      <td>Namibia</td>\n",
       "      <td>NaN</td>\n",
       "      <td>Africa</td>\n",
       "      <td>Sub-Saharan Africa</td>\n",
       "      <td>Southern Africa</td>\n",
       "      <td>2008.0</td>\n",
       "      <td>2043394.0</td>\n",
       "      <td>3.601</td>\n",
       "      <td>53.817</td>\n",
       "      <td>...</td>\n",
       "      <td>42.68171</td>\n",
       "      <td>388080.0</td>\n",
       "      <td>NaN</td>\n",
       "      <td>112580.0</td>\n",
       "      <td>0.28625</td>\n",
       "      <td>3325.969</td>\n",
       "      <td>28595.4652</td>\n",
       "      <td>1.62767</td>\n",
       "      <td>NaN</td>\n",
       "      <td>NaN</td>\n",
       "    </tr>\n",
       "  </tbody>\n",
       "</table>\n",
       "<p>10 rows × 25 columns</p>\n",
       "</div>"
      ],
      "text/plain": [
       "     iso3     name iso2  region          sub-region intermediate-region   \n",
       "8413  NAM  Namibia  NaN  Africa  Sub-Saharan Africa     Southern Africa  \\\n",
       "8409  NAM  Namibia  NaN  Africa  Sub-Saharan Africa     Southern Africa   \n",
       "8404  NAM  Namibia  NaN  Africa  Sub-Saharan Africa     Southern Africa   \n",
       "8418  NAM  Namibia  NaN  Africa  Sub-Saharan Africa     Southern Africa   \n",
       "8416  NAM  Namibia  NaN  Africa  Sub-Saharan Africa     Southern Africa   \n",
       "8393  NAM  Namibia  NaN  Africa  Sub-Saharan Africa     Southern Africa   \n",
       "8402  NAM  Namibia  NaN  Africa  Sub-Saharan Africa     Southern Africa   \n",
       "8420  NAM  Namibia  NaN  Africa  Sub-Saharan Africa     Southern Africa   \n",
       "8373  NAM  Namibia  NaN  Africa  Sub-Saharan Africa     Southern Africa   \n",
       "8411  NAM  Namibia  NaN  Africa  Sub-Saharan Africa     Southern Africa   \n",
       "\n",
       "        time  totalPopulation  fertilityRate  lifeExpectancy  ...   \n",
       "8413  2010.0        2118874.0          3.631          56.665  ...  \\\n",
       "8409  2006.0        1971317.0          3.560          51.609  ...   \n",
       "8404  2001.0        1823672.0          3.763          51.399  ...   \n",
       "8418  2015.0        2314904.0          3.540          62.119  ...   \n",
       "8416  2013.0        2233510.0          3.604          60.513  ...   \n",
       "8393  1990.0        1432905.0          5.219          61.608  ...   \n",
       "8402  1999.0        1763859.0          4.014          53.231  ...   \n",
       "8420  2017.0        2402603.0          3.447          63.021  ...   \n",
       "8373  1970.0         817469.0          6.469          52.669  ...   \n",
       "8411  2008.0        2043394.0          3.601          53.817  ...   \n",
       "\n",
       "      accessElectricity  agriculturalLand  agricultureTractors   \n",
       "8413           44.60104          388090.0                  NaN  \\\n",
       "8409           40.80005          388200.0                  NaN   \n",
       "8404           35.98637          388200.0                  NaN   \n",
       "8418           51.60000          388090.0                  NaN   \n",
       "8416           47.40000          388090.0                  NaN   \n",
       "8393                NaN          386620.0                  NaN   \n",
       "8402           34.02074          388200.0                  NaN   \n",
       "8420           52.50000          388100.0                  NaN   \n",
       "8373                NaN          386510.0                  NaN   \n",
       "8411           42.68171          388080.0                  NaN   \n",
       "\n",
       "      cerealProduction  fertilizerHa       co2  greenhouseGases   co2_PC   \n",
       "8413          118358.0       4.43375  3102.282       37647.5718  1.46412  \\\n",
       "8409          186008.0       2.84625  2332.212       37085.6941  1.18307   \n",
       "8404          121744.0       0.36765  2016.850       31359.3130  1.10593   \n",
       "8418          113040.0      14.51986  3989.696              NaN  1.72348   \n",
       "8416           86600.0      10.86121  2629.239              NaN  1.17718   \n",
       "8393           97948.0           NaN    40.337        7299.9503  0.02815   \n",
       "8402           73899.0       0.36765  1664.818       28386.7931  0.94385   \n",
       "8420          137559.0      25.03686       NaN              NaN      NaN   \n",
       "8373           52900.0           NaN       NaN        7251.1455      NaN   \n",
       "8411          112580.0       0.28625  3325.969       28595.4652  1.62767   \n",
       "\n",
       "      pm2.5_35  battleDeaths  \n",
       "8413       0.0           NaN  \n",
       "8409       NaN           NaN  \n",
       "8404       NaN           NaN  \n",
       "8418       0.0           NaN  \n",
       "8416       0.0           NaN  \n",
       "8393       0.0           NaN  \n",
       "8402       NaN           1.0  \n",
       "8420       0.0           NaN  \n",
       "8373       NaN           NaN  \n",
       "8411       NaN           NaN  \n",
       "\n",
       "[10 rows x 25 columns]"
      ]
     },
     "execution_count": 10,
     "metadata": {},
     "output_type": "execute_result"
    }
   ],
   "source": [
    "missingIso2WName.sample(10)"
   ]
  },
  {
   "cell_type": "markdown",
   "id": "09a9c659-a82e-4120-8920-da422067a816",
   "metadata": {},
   "source": [
    "There are no cases where the name is missing but iso2 is there. There are 60 cases where name is there and iso2 is missing. Some examples where the name is there but iso2 is missing are shown above. As you can see all of them are from Southern Africa, specifically Namibia."
   ]
  },
  {
   "cell_type": "markdown",
   "id": "4282fef3-e2e4-41c1-a820-15c848166e51",
   "metadata": {},
   "source": [
    "Q7."
   ]
  },
  {
   "cell_type": "markdown",
   "id": "6f39a217-6f6a-475c-a1ac-4ad044505af0",
   "metadata": {},
   "source": [
    "The two letter country code for Namibia is NA. I think Namibia has its iso-2 code missing because NA is commonly a placeholder for \"not applicable\" data. So I think there may have been some data preprocessing that removes NAs. Or the data collectors just decided not to include NA because it can confuse some"
   ]
  },
  {
   "cell_type": "markdown",
   "id": "b7c8d3ea-814a-4c54-804a-c2963364d667",
   "metadata": {},
   "source": [
    "Q8."
   ]
  },
  {
   "cell_type": "code",
   "execution_count": 11,
   "id": "6562239a-5b88-4f42-b999-7c843f26fa97",
   "metadata": {
    "tags": []
   },
   "outputs": [
    {
     "data": {
      "text/plain": [
       "253"
      ]
     },
     "execution_count": 11,
     "metadata": {},
     "output_type": "execute_result"
    }
   ],
   "source": [
    "gapminder.iso3.nunique()"
   ]
  },
  {
   "cell_type": "markdown",
   "id": "4da2cf47-cc38-4e46-a464-bcf6f9488507",
   "metadata": {
    "tags": []
   },
   "source": [
    "There are 253 different countries, territories, and/or islands in the dataset"
   ]
  },
  {
   "cell_type": "markdown",
   "id": "77d6ec28-f750-4cbc-b544-48f78fa87f73",
   "metadata": {
    "tags": []
   },
   "source": [
    "Q9."
   ]
  },
  {
   "cell_type": "code",
   "execution_count": 12,
   "id": "a75ad779-9766-41fe-abf3-e8de45ddcbd2",
   "metadata": {
    "tags": []
   },
   "outputs": [
    {
     "data": {
      "text/plain": [
       "(1960.0, 2019.0)"
      ]
     },
     "execution_count": 12,
     "metadata": {},
     "output_type": "execute_result"
    }
   ],
   "source": [
    "gapminder.time.min(), gapminder.time.max()"
   ]
  },
  {
   "cell_type": "markdown",
   "id": "45817dfa-b380-4003-b76e-552d127ae414",
   "metadata": {},
   "source": [
    "The earliest year is 1960 and the most recent year is 2019"
   ]
  },
  {
   "cell_type": "markdown",
   "id": "8e498467-3987-4c13-981e-06a9612ef0be",
   "metadata": {},
   "source": [
    "## 2. Wealth"
   ]
  },
  {
   "cell_type": "markdown",
   "id": "4aab83ad-358f-4064-ad36-7ef0f9120f4c",
   "metadata": {},
   "source": [
    "Q1."
   ]
  },
  {
   "cell_type": "code",
   "execution_count": 13,
   "id": "e73a78fb-7908-4d99-a916-2dea1865552b",
   "metadata": {},
   "outputs": [
    {
     "data": {
      "text/plain": [
       "2019.0"
      ]
     },
     "execution_count": 13,
     "metadata": {},
     "output_type": "execute_result"
    }
   ],
   "source": [
    "dataWithGDP = gapminder[gapminder.GDP_PC.notna()]\n",
    "dataWithGDP.time.max()"
   ]
  },
  {
   "cell_type": "markdown",
   "id": "a76f6289-a8c7-49a0-8f54-e5d16c29e448",
   "metadata": {
    "tags": []
   },
   "source": [
    "The most recent year in the data set that includes GDP data is 2019"
   ]
  },
  {
   "cell_type": "markdown",
   "id": "8c8f0e03-3a6d-4536-bd9c-c33c36447d0a",
   "metadata": {},
   "source": [
    "Q2."
   ]
  },
  {
   "cell_type": "code",
   "execution_count": 14,
   "id": "919c6183-c192-4cdd-ba32-dc818871966e",
   "metadata": {
    "tags": []
   },
   "outputs": [
    {
     "data": {
      "text/plain": [
       "15055.352217243244"
      ]
     },
     "execution_count": 14,
     "metadata": {},
     "output_type": "execute_result"
    }
   ],
   "source": [
    "data2019 = gapminder[gapminder.time == 2019]\n",
    "data2019.GDP_PC.mean()"
   ]
  },
  {
   "cell_type": "markdown",
   "id": "89f78584-3936-49b6-a819-768392645fe4",
   "metadata": {},
   "source": [
    "The average GDP per capita across all countries in 2019 is roughly 15055"
   ]
  },
  {
   "cell_type": "markdown",
   "id": "d5fe1fca-1e6f-4594-9620-ddb8b55cb333",
   "metadata": {},
   "source": [
    "Q3."
   ]
  },
  {
   "cell_type": "code",
   "execution_count": 15,
   "id": "b1868515-78f4-4f26-a24c-a26f069a4f80",
   "metadata": {
    "tags": []
   },
   "outputs": [
    {
     "data": {
      "text/plain": [
       "name\n",
       "Djibouti                    9.0\n",
       "Faroe Islands               9.0\n",
       "Liechtenstein               9.0\n",
       "Turks and Caicos Islands    9.0\n",
       "Eritrea                     8.0\n",
       "Name: time, dtype: float64"
      ]
     },
     "execution_count": 15,
     "metadata": {},
     "output_type": "execute_result"
    }
   ],
   "source": [
    "maxYearGDP = gapminder[gapminder.GDP_PC.notna()].groupby(\"name\")[\"time\"].max()\n",
    "maxYear = gapminder.time.max()\n",
    "yearsMissing = maxYear - maxYearGDP\n",
    "yearsMissing.nlargest(5)"
   ]
  },
  {
   "cell_type": "markdown",
   "id": "7ef23a2c-39c6-4a97-8615-f2118244b7a2",
   "metadata": {},
   "source": [
    "The 5 countries that have the largest number of the most recent years missing are Djibouti with 9 missing years, Faroe Islands with 9, Liechtenstein with 9, Turks and Caicos Islands with 9, and Eritrea with 8 missing years"
   ]
  },
  {
   "cell_type": "markdown",
   "id": "a252a7d6-96a6-404c-8cf2-88fd611b4cf2",
   "metadata": {},
   "source": [
    "## 3. Descriptive Stats"
   ]
  },
  {
   "cell_type": "markdown",
   "id": "f2eb0664-544f-4938-b4ca-e7717c012f6c",
   "metadata": {},
   "source": [
    "Q1."
   ]
  },
  {
   "cell_type": "code",
   "execution_count": 16,
   "id": "946e06ce-445f-4efb-9a3f-88e300d2f0e4",
   "metadata": {
    "tags": []
   },
   "outputs": [
    {
     "data": {
      "text/plain": [
       "(153.34393, 33362.70762, 1751.86291, 5050.29503978022)"
      ]
     },
     "execution_count": 16,
     "metadata": {},
     "output_type": "execute_result"
    }
   ],
   "source": [
    "data1960 = gapminder[gapminder.time == 1960]\n",
    "data1960.GDP_PC.min(), data1960.GDP_PC.max(), data1960.GDP_PC.median(), data1960.GDP_PC.mean()"
   ]
  },
  {
   "cell_type": "code",
   "execution_count": 17,
   "id": "6a270ed8-cce0-4101-8ef6-47736900de8c",
   "metadata": {
    "tags": []
   },
   "outputs": [
    {
     "data": {
      "text/plain": [
       "(208.07473, 111043.5317, 5922.52759, 15055.352217243244)"
      ]
     },
     "execution_count": 17,
     "metadata": {},
     "output_type": "execute_result"
    }
   ],
   "source": [
    "data2019.GDP_PC.min(), data2019.GDP_PC.max(), data2019.GDP_PC.median(), data2019.GDP_PC.mean()"
   ]
  },
  {
   "cell_type": "markdown",
   "id": "5ecab09b-740f-49eb-a102-c4a9f5475c15",
   "metadata": {},
   "source": [
    "The minimum GDP per capita in 1960 was 153, the maximum is 33363, the median is 1752, and the mean is 5050. In 2019, the minimum GDP per capita was 208, the maximum was 111043, the median was 5923, and the mean was 15055."
   ]
  },
  {
   "cell_type": "markdown",
   "id": "0dcc3f72-841a-440f-9287-3d4d33e1f173",
   "metadata": {},
   "source": [
    "Q2."
   ]
  },
  {
   "cell_type": "markdown",
   "id": "a9953734-a0ca-411c-bd0f-85352ed2245a",
   "metadata": {},
   "source": [
    "Overall, from these figures it seems that the world has indeed become richer as all values increased from 1960 to 2019. However, there seems to be a widening gap between the poor countries and the rich countries as the minimum only increased a bit while the maximum dramatically increased. Furthermore, the median is much lower than the mean which could indicate that there are extremely rich outliers"
   ]
  },
  {
   "cell_type": "markdown",
   "id": "904285bb-2b72-4577-9c29-c8905a951361",
   "metadata": {},
   "source": [
    "Q3."
   ]
  },
  {
   "cell_type": "code",
   "execution_count": 18,
   "id": "21a6e0af-95d7-4943-bb3f-f18b674a03c1",
   "metadata": {
    "tags": []
   },
   "outputs": [
    {
     "data": {
      "image/png": "[encoded data removed]",
      "text/plain": [
       "<Figure size 640x480 with 1 Axes>"
      ]
     },
     "metadata": {},
     "output_type": "display_data"
    }
   ],
   "source": [
    "hist1960 = plt.hist(data1960.GDP_PC, bins=30)\n",
    "plt.title('Distribution of GDP per Capita for Countries in 1960')\n",
    "plt.xlabel('GDP per Capita')\n",
    "plt.ylabel('Frequency')\n",
    "plt.show()"
   ]
  },
  {
   "cell_type": "code",
   "execution_count": 19,
   "id": "f76244d4-e484-4913-9c85-1df7133cb39c",
   "metadata": {
    "tags": []
   },
   "outputs": [
    {
     "data": {
      "image/png": "[encoded data removed]",
      "text/plain": [
       "<Figure size 640x480 with 1 Axes>"
      ]
     },
     "metadata": {},
     "output_type": "display_data"
    }
   ],
   "source": [
    "hist2019 = plt.hist(data2019.GDP_PC, bins=30)\n",
    "plt.title('Distribution of GDP per Capita for Countries in 2019')\n",
    "plt.xlabel('GDP per Capita')\n",
    "plt.ylabel('Frequency')\n",
    "plt.show()"
   ]
  },
  {
   "cell_type": "markdown",
   "id": "89248b24-7403-40f7-8c97-f4eddb53cfae",
   "metadata": {},
   "source": [
    "Q4."
   ]
  },
  {
   "cell_type": "markdown",
   "id": "a12fc1e4-0bfc-4de3-924f-79b8474e0730",
   "metadata": {},
   "source": [
    "After plotting histograms of world wealth for 1960 and 2019 across countries, my conlcusion is strengthened. The poor countries seem to have grown in weath by a very little to none while a few outliers once in the 25000 to 35000 range are now in the 80000 to 120000 range. So there seems to be a widened gap between the poor countries and the rich countries from 1960 to 2019."
   ]
  },
  {
   "cell_type": "markdown",
   "id": "f27f0119-3464-452c-ae8e-3cb0a635f916",
   "metadata": {},
   "source": [
    "Q5."
   ]
  },
  {
   "cell_type": "code",
   "execution_count": 20,
   "id": "21c6ec77-17a5-48d3-8732-353628cbee9d",
   "metadata": {
    "tags": []
   },
   "outputs": [
    {
     "data": {
      "text/plain": [
       "48.44796581082919"
      ]
     },
     "execution_count": 20,
     "metadata": {},
     "output_type": "execute_result"
    }
   ],
   "source": [
    "gdpPC1960 = data1960.GDP_PC.dropna()\n",
    "gdpPc1960q20 = np.percentile(gdpPC1960, 20)\n",
    "gdpPc1960q80 = np.percentile(gdpPC1960, 80)\n",
    "\n",
    "gdpPc1960sum80 = gdpPC1960[gdpPC1960 > gdpPc1960q80].sum()\n",
    "gdpPc1960sum20 = gdpPC1960[gdpPC1960 < gdpPc1960q20].sum()\n",
    "\n",
    "qsr1960 = gdpPc1960sum80/gdpPc1960sum20\n",
    "qsr1960"
   ]
  },
  {
   "cell_type": "code",
   "execution_count": 21,
   "id": "81ea6aff-7c0e-41d4-8aaf-ff1df675c29e",
   "metadata": {
    "tags": []
   },
   "outputs": [
    {
     "data": {
      "text/plain": [
       "57.22513517688509"
      ]
     },
     "execution_count": 21,
     "metadata": {},
     "output_type": "execute_result"
    }
   ],
   "source": [
    "gdpPC2019 = data2019.GDP_PC.dropna()\n",
    "gdpPc2019q20 = np.percentile(gdpPC2019, 20)\n",
    "gdpPc2019q80 = np.percentile(gdpPC2019, 80)\n",
    "\n",
    "gdpPc2019sum80 = gdpPC2019[gdpPC2019 > gdpPc2019q80].sum()\n",
    "gdpPc2019sum20 = gdpPC2019[gdpPC2019 < gdpPc2019q20].sum()\n",
    "\n",
    "qsr2019 = gdpPc2019sum80/gdpPc2019sum20\n",
    "qsr2019"
   ]
  },
  {
   "cell_type": "markdown",
   "id": "e3e263c8-9411-40dd-931f-fdae10af499a",
   "metadata": {},
   "source": [
    "When comparing these two QSR's, we see that in 1960 the top 20$ had 48 times the GDP per capita than the lower 20%. This number later increased to 57. So this means that income inequality has grown over time. This shows that the rich have been getting rich at a faster rate than the poor have been getting richer"
   ]
  },
  {
   "cell_type": "markdown",
   "id": "6b0e77d6-dc52-46a8-b946-6435c335c55c",
   "metadata": {},
   "source": [
    "Q6."
   ]
  },
  {
   "cell_type": "markdown",
   "id": "33584dd3-80a9-4b0a-992f-a273f237d76f",
   "metadata": {},
   "source": [
    "Yes, this data is useful in telling us how the world inequality has changed over the last 60 years as it shows how and who (if searched for). This can help identify trends of the past and make predictions about the future. These predictions may then influence policy decisions"
   ]
  },
  {
   "cell_type": "markdown",
   "id": "528b0565-df2d-4fba-bea3-55d336250705",
   "metadata": {},
   "source": [
    "## 4. Health"
   ]
  },
  {
   "cell_type": "markdown",
   "id": "c9c346ca-e859-4147-979a-bf24b5e6b79f",
   "metadata": {},
   "source": [
    "Q1."
   ]
  },
  {
   "cell_type": "code",
   "execution_count": 22,
   "id": "931e323d-86f3-43d5-acb5-27fc6c32a62a",
   "metadata": {
    "tags": []
   },
   "outputs": [
    {
     "data": {
      "text/plain": [
       "104"
      ]
     },
     "execution_count": 22,
     "metadata": {},
     "output_type": "execute_result"
    }
   ],
   "source": [
    "data1960.childMortality.isna().sum()"
   ]
  },
  {
   "cell_type": "code",
   "execution_count": 23,
   "id": "210d5faf-0a77-4c75-a673-ca2337c38116",
   "metadata": {
    "tags": []
   },
   "outputs": [
    {
     "data": {
      "text/plain": [
       "24"
      ]
     },
     "execution_count": 23,
     "metadata": {},
     "output_type": "execute_result"
    }
   ],
   "source": [
    "data2019.childMortality.isna().sum()"
   ]
  },
  {
   "cell_type": "markdown",
   "id": "9e101df1-953d-4252-8ffb-21ea79eaa559",
   "metadata": {},
   "source": [
    "Overall, it seems like data collection is improving over time, but may vary case by case from country to country."
   ]
  },
  {
   "cell_type": "markdown",
   "id": "0c3126d4-00ba-41ba-a38f-a9b41c2ea402",
   "metadata": {},
   "source": [
    "Q2."
   ]
  },
  {
   "cell_type": "code",
   "execution_count": 24,
   "id": "23e8d1c1-d82b-4d8c-8c4f-d7b1bee2b782",
   "metadata": {
    "tags": []
   },
   "outputs": [
    {
     "data": {
      "text/plain": [
       "(10587, 7703)"
      ]
     },
     "execution_count": 24,
     "metadata": {},
     "output_type": "execute_result"
    }
   ],
   "source": [
    "gapminder.childMortality.idxmin(), gapminder.childMortality.idxmax()"
   ]
  },
  {
   "cell_type": "code",
   "execution_count": 25,
   "id": "a6332842-e4b7-43ea-8bc9-c3e902d7a446",
   "metadata": {
    "tags": []
   },
   "outputs": [
    {
     "data": {
      "text/plain": [
       "iso3                               SMR\n",
       "name                        San Marino\n",
       "iso2                                SM\n",
       "region                          Europe\n",
       "sub-region             Southern Europe\n",
       "intermediate-region                NaN\n",
       "time                            2018.0\n",
       "totalPopulation                33785.0\n",
       "fertilityRate                      NaN\n",
       "lifeExpectancy                     NaN\n",
       "childMortality                     1.7\n",
       "youthFemaleLiteracy              100.0\n",
       "youthMaleLiteracy                100.0\n",
       "adultLiteracy                 99.91643\n",
       "GDP_PC                     50023.78642\n",
       "accessElectricity                100.0\n",
       "agriculturalLand                  23.0\n",
       "agricultureTractors                NaN\n",
       "cerealProduction                   NaN\n",
       "fertilizerHa                       NaN\n",
       "co2                                NaN\n",
       "greenhouseGases                    NaN\n",
       "co2_PC                             NaN\n",
       "pm2.5_35                           NaN\n",
       "battleDeaths                       NaN\n",
       "Name: 10587, dtype: object"
      ]
     },
     "execution_count": 25,
     "metadata": {},
     "output_type": "execute_result"
    }
   ],
   "source": [
    "gapminder.iloc[10587]"
   ]
  },
  {
   "cell_type": "code",
   "execution_count": 26,
   "id": "de29a44c-13f4-4361-8294-4751b5db3256",
   "metadata": {
    "tags": []
   },
   "outputs": [
    {
     "data": {
      "text/plain": [
       "iso3                                  MLI\n",
       "name                                 Mali\n",
       "iso2                                   ML\n",
       "region                             Africa\n",
       "sub-region             Sub-Saharan Africa\n",
       "intermediate-region        Western Africa\n",
       "time                               1963.0\n",
       "totalPopulation                 5441613.0\n",
       "fertilityRate                       7.011\n",
       "lifeExpectancy                     28.782\n",
       "childMortality                      420.6\n",
       "youthFemaleLiteracy                   NaN\n",
       "youthMaleLiteracy                     NaN\n",
       "adultLiteracy                         NaN\n",
       "GDP_PC                                NaN\n",
       "accessElectricity                     NaN\n",
       "agriculturalLand                 317080.0\n",
       "agricultureTractors                 150.0\n",
       "cerealProduction                1058200.0\n",
       "fertilizerHa                      0.21238\n",
       "co2                               176.016\n",
       "greenhouseGases                       NaN\n",
       "co2_PC                            0.03235\n",
       "pm2.5_35                              NaN\n",
       "battleDeaths                          NaN\n",
       "Name: 7703, dtype: object"
      ]
     },
     "execution_count": 26,
     "metadata": {},
     "output_type": "execute_result"
    }
   ],
   "source": [
    "gapminder.iloc[7703]"
   ]
  },
  {
   "cell_type": "markdown",
   "id": "b02c0e2f-4f80-4e3f-ac2b-d534234edc17",
   "metadata": {},
   "source": [
    "The largest CM in the data is 420.6 which was in 1963 from Mali, Africa. The smallest CM in the data is 1.7 which was in 2018 from San Marino, Europe."
   ]
  },
  {
   "cell_type": "markdown",
   "id": "705632d7-f6d5-4cfc-96d0-1cadddaef430",
   "metadata": {},
   "source": [
    "Q3."
   ]
  },
  {
   "cell_type": "code",
   "execution_count": 27,
   "id": "5ef091d6-f91b-4983-8dbf-196b7f48159a",
   "metadata": {
    "tags": []
   },
   "outputs": [
    {
     "data": {
      "text/plain": [
       "region\n",
       "Africa       6679\n",
       "Americas     1986\n",
       "Asia         2890\n",
       "Europe      10588\n",
       "Oceania       663\n",
       "Name: childMortality, dtype: int64"
      ]
     },
     "execution_count": 27,
     "metadata": {},
     "output_type": "execute_result"
    }
   ],
   "source": [
    "minCmCont = gapminder[gapminder[\"time\"] == 2019].groupby(\"region\")[\"childMortality\"].idxmin()\n",
    "minCmCont"
   ]
  },
  {
   "cell_type": "code",
   "execution_count": 28,
   "id": "e382ed26-f93f-4117-8087-b754834f2d6c",
   "metadata": {
    "tags": []
   },
   "outputs": [
    {
     "data": {
      "text/html": [
       "<div>\n",
       "<style scoped>\n",
       "    .dataframe tbody tr th:only-of-type {\n",
       "        vertical-align: middle;\n",
       "    }\n",
       "\n",
       "    .dataframe tbody tr th {\n",
       "        vertical-align: top;\n",
       "    }\n",
       "\n",
       "    .dataframe thead th {\n",
       "        text-align: right;\n",
       "    }\n",
       "</style>\n",
       "<table border=\"1\" class=\"dataframe\">\n",
       "  <thead>\n",
       "    <tr style=\"text-align: right;\">\n",
       "      <th></th>\n",
       "      <th>name</th>\n",
       "      <th>childMortality</th>\n",
       "    </tr>\n",
       "  </thead>\n",
       "  <tbody>\n",
       "    <tr>\n",
       "      <th>6679</th>\n",
       "      <td>Libya</td>\n",
       "      <td>11.5</td>\n",
       "    </tr>\n",
       "    <tr>\n",
       "      <th>1986</th>\n",
       "      <td>Canada</td>\n",
       "      <td>4.9</td>\n",
       "    </tr>\n",
       "    <tr>\n",
       "      <th>2890</th>\n",
       "      <td>Cyprus</td>\n",
       "      <td>2.3</td>\n",
       "    </tr>\n",
       "    <tr>\n",
       "      <th>10588</th>\n",
       "      <td>San Marino</td>\n",
       "      <td>1.7</td>\n",
       "    </tr>\n",
       "    <tr>\n",
       "      <th>663</th>\n",
       "      <td>Australia</td>\n",
       "      <td>3.6</td>\n",
       "    </tr>\n",
       "  </tbody>\n",
       "</table>\n",
       "</div>"
      ],
      "text/plain": [
       "             name  childMortality\n",
       "6679        Libya            11.5\n",
       "1986       Canada             4.9\n",
       "2890       Cyprus             2.3\n",
       "10588  San Marino             1.7\n",
       "663     Australia             3.6"
      ]
     },
     "execution_count": 28,
     "metadata": {},
     "output_type": "execute_result"
    }
   ],
   "source": [
    "minCmData = gapminder.loc[minCmCont, [\"name\", \"childMortality\"]]\n",
    "minCmData"
   ]
  },
  {
   "cell_type": "code",
   "execution_count": 29,
   "id": "307c8824-f83e-4a27-a099-7f2152c05895",
   "metadata": {
    "tags": []
   },
   "outputs": [
    {
     "data": {
      "text/plain": [
       "region\n",
       "Africa      8603\n",
       "Americas    5176\n",
       "Asia        9144\n",
       "Europe      7399\n",
       "Oceania     6199\n",
       "Name: childMortality, dtype: int64"
      ]
     },
     "execution_count": 29,
     "metadata": {},
     "output_type": "execute_result"
    }
   ],
   "source": [
    "maxCmCont = gapminder[gapminder[\"time\"] == 2019].groupby(\"region\")[\"childMortality\"].idxmax()\n",
    "maxCmCont"
   ]
  },
  {
   "cell_type": "code",
   "execution_count": 32,
   "id": "e304d8da-9dfd-41ff-bf43-98ea6f41f90e",
   "metadata": {
    "tags": []
   },
   "outputs": [
    {
     "data": {
      "text/html": [
       "<div>\n",
       "<style scoped>\n",
       "    .dataframe tbody tr th:only-of-type {\n",
       "        vertical-align: middle;\n",
       "    }\n",
       "\n",
       "    .dataframe tbody tr th {\n",
       "        vertical-align: top;\n",
       "    }\n",
       "\n",
       "    .dataframe thead th {\n",
       "        text-align: right;\n",
       "    }\n",
       "</style>\n",
       "<table border=\"1\" class=\"dataframe\">\n",
       "  <thead>\n",
       "    <tr style=\"text-align: right;\">\n",
       "      <th></th>\n",
       "      <th>name</th>\n",
       "      <th>childMortality</th>\n",
       "    </tr>\n",
       "  </thead>\n",
       "  <tbody>\n",
       "    <tr>\n",
       "      <th>8603</th>\n",
       "      <td>Nigeria</td>\n",
       "      <td>117.2</td>\n",
       "    </tr>\n",
       "    <tr>\n",
       "      <th>5176</th>\n",
       "      <td>Haiti</td>\n",
       "      <td>62.8</td>\n",
       "    </tr>\n",
       "    <tr>\n",
       "      <th>9144</th>\n",
       "      <td>Pakistan</td>\n",
       "      <td>67.2</td>\n",
       "    </tr>\n",
       "    <tr>\n",
       "      <th>7399</th>\n",
       "      <td>Moldova, Republic of</td>\n",
       "      <td>14.4</td>\n",
       "    </tr>\n",
       "    <tr>\n",
       "      <th>6199</th>\n",
       "      <td>Kiribati</td>\n",
       "      <td>50.9</td>\n",
       "    </tr>\n",
       "  </tbody>\n",
       "</table>\n",
       "</div>"
      ],
      "text/plain": [
       "                      name  childMortality\n",
       "8603               Nigeria           117.2\n",
       "5176                 Haiti            62.8\n",
       "9144              Pakistan            67.2\n",
       "7399  Moldova, Republic of            14.4\n",
       "6199              Kiribati            50.9"
      ]
     },
     "execution_count": 32,
     "metadata": {},
     "output_type": "execute_result"
    }
   ],
   "source": [
    "maxCmData = gapminder.loc[maxCmCont, [\"name\", \"childMortality\"]]\n",
    "maxCmData"
   ]
  },
  {
   "cell_type": "markdown",
   "id": "473727e0-168c-4959-bdcc-9c50568a261b",
   "metadata": {},
   "source": [
    "For Africa, Nigeria has the highest CM at 117.2 and Libya has the lowest CM at 11.5. For the Americas, Haiti has the highest CM at 62.8 and Canada has the lowest CM at 4.9. For Asia (western), Pakistan has the highest CM at 67.2 and Cyprus has the lowest at 2.3. For Europe, Moldova has the highest CM at 14.4 and San Marino has the lowest at 1.7. For Oceana, Kiribati has the highest CM at 50.9 and Australia has the lowest CM at 3.6."
   ]
  },
  {
   "cell_type": "markdown",
   "id": "9cc5101b-f9dd-4829-83e2-a1c1d85df0c9",
   "metadata": {
    "tags": []
   },
   "source": [
    "## 5. Graphical Analysis"
   ]
  },
  {
   "cell_type": "markdown",
   "id": "e2920a86-3ba7-4034-8fe7-09a62582e7bc",
   "metadata": {},
   "source": [
    "Q1."
   ]
  },
  {
   "cell_type": "code",
   "execution_count": 46,
   "id": "90531305-ea1a-4450-a92e-79e1d7a4bc72",
   "metadata": {
    "tags": []
   },
   "outputs": [
    {
     "data": {
      "image/png": "[encoded data removed]",
      "text/plain": [
       "<Figure size 640x480 with 1 Axes>"
      ]
     },
     "metadata": {},
     "output_type": "display_data"
    }
   ],
   "source": [
    "names = [\"Nigeria\", \"San Marino\", \"Turkey\", \"Haiti\", \"Finland\"]\n",
    "sns.lineplot(x=\"time\", y=\"childMortality\", hue=\"name\", data=gapminder[gapminder.name.isin(names)])\n",
    "plt.title(\"Child Mortality Over Time\")\n",
    "plt.xlabel(\"Year\")\n",
    "plt.ylabel(\"Child Mortality\")\n",
    "plt.legend(title=\"Country\")\n",
    "plt.show()"
   ]
  },
  {
   "cell_type": "markdown",
   "id": "5c91d66c-3843-454d-9f1e-6be8a76afce9",
   "metadata": {},
   "source": [
    "Most countries have a dramatic decrease in CM rates which the rate of decrease slows down the lower they go. Finland and San Marino seem to have had low CM rates compared to the other countries. Haiti has a massive spike in CM in 2010 which is linked to the deadly earthquakes experienced then. Nigeria and Turkey both decreased their CM from 1960 to 2019"
   ]
  },
  {
   "cell_type": "markdown",
   "id": "f8b999de-adde-484f-880e-40e08f8df290",
   "metadata": {},
   "source": [
    "## 6. Log-normal distribution"
   ]
  },
  {
   "cell_type": "markdown",
   "id": "a0fa7b0f-fef5-4891-bbd1-d03651e0fcf3",
   "metadata": {},
   "source": [
    "Q1."
   ]
  },
  {
   "cell_type": "code",
   "execution_count": 44,
   "id": "9073469b-4959-4626-aee4-bd5a921efed2",
   "metadata": {
    "tags": []
   },
   "outputs": [],
   "source": [
    "S = 10000"
   ]
  },
  {
   "cell_type": "markdown",
   "id": "eb4478bd-cece-4038-b02e-697e8ac5a690",
   "metadata": {},
   "source": [
    "Q2."
   ]
  },
  {
   "cell_type": "code",
   "execution_count": 47,
   "id": "267862df-d7ad-4d1c-9129-a5a8a401b085",
   "metadata": {
    "tags": []
   },
   "outputs": [],
   "source": [
    "sample1 = np.random.lognormal(0, 0.2, size=S)\n",
    "sample2 = np.random.lognormal(0, 0.5, size=S)\n",
    "sample3 = np.random.lognormal(0, 1.68, size=S)"
   ]
  },
  {
   "cell_type": "markdown",
   "id": "83dc61ef-5621-4f22-9b57-d698543246e4",
   "metadata": {},
   "source": [
    "### Sample 1 (µ=0, σ=0.2)"
   ]
  },
  {
   "cell_type": "code",
   "execution_count": 64,
   "id": "6279753f-88d5-460b-a883-e5f2bdd11369",
   "metadata": {
    "tags": []
   },
   "outputs": [
    {
     "data": {
      "image/png": "[encoded data removed]",
      "text/plain": [
       "<Figure size 640x480 with 1 Axes>"
      ]
     },
     "metadata": {},
     "output_type": "display_data"
    }
   ],
   "source": [
    "plt.hist(sample1, bins=50, alpha=0.5, label=\"µ=0, σ=0.2\")\n",
    "plt.title(\"Histogram of lognormal samples (linear scale)\")\n",
    "plt.legend()\n",
    "plt.show()"
   ]
  },
  {
   "cell_type": "code",
   "execution_count": 72,
   "id": "2c9bcc67-0703-44e5-9452-c724021cb3e1",
   "metadata": {
    "tags": []
   },
   "outputs": [
    {
     "data": {
      "image/png": "[encoded data removed]",
      "text/plain": [
       "<Figure size 640x480 with 1 Axes>"
      ]
     },
     "metadata": {},
     "output_type": "display_data"
    }
   ],
   "source": [
    "plt.hist(np.log(sample1), bins=50, alpha=0.5, label=\"µ=0, σ=0.2\")\n",
    "plt.title(\"Histogram of lognormal samples (log scale)\")\n",
    "plt.legend()\n",
    "plt.show()"
   ]
  },
  {
   "cell_type": "markdown",
   "id": "57b9a0ae-0794-4056-8c46-aec40688f097",
   "metadata": {},
   "source": [
    "### Sample 2 (µ=0, σ=0.5)"
   ]
  },
  {
   "cell_type": "code",
   "execution_count": 66,
   "id": "d92efc95-9c80-40f6-b92e-5519268e76d0",
   "metadata": {
    "tags": []
   },
   "outputs": [
    {
     "data": {
      "image/png": "[encoded data removed]",
      "text/plain": [
       "<Figure size 640x480 with 1 Axes>"
      ]
     },
     "metadata": {},
     "output_type": "display_data"
    }
   ],
   "source": [
    "plt.hist(sample2, bins=50, alpha=0.5, label=\"µ=0, σ=0.5\")\n",
    "plt.title(\"Histogram of lognormal samples (linear scale)\")\n",
    "plt.legend()\n",
    "plt.show()"
   ]
  },
  {
   "cell_type": "code",
   "execution_count": 71,
   "id": "c22c0653-aff1-40d3-9c58-ff96d71eb4fe",
   "metadata": {
    "tags": []
   },
   "outputs": [
    {
     "data": {
      "image/png": "[encoded data removed]",
      "text/plain": [
       "<Figure size 640x480 with 1 Axes>"
      ]
     },
     "metadata": {},
     "output_type": "display_data"
    }
   ],
   "source": [
    "plt.hist(np.log(sample2), bins=50, alpha=0.5, label=\"µ=0, σ=0.5\")\n",
    "plt.title(\"Histogram of lognormal samples (log scale)\")\n",
    "plt.legend()\n",
    "plt.show()"
   ]
  },
  {
   "cell_type": "markdown",
   "id": "3479cf80-748b-4a73-bfbe-f7dd2f25e2b3",
   "metadata": {},
   "source": [
    "### Sample 3 (µ=0, σ=1.68)"
   ]
  },
  {
   "cell_type": "code",
   "execution_count": 67,
   "id": "ce0d8481-deae-4294-8c3f-455eebb2c424",
   "metadata": {
    "tags": []
   },
   "outputs": [
    {
     "data": {
      "image/png": "[encoded data removed]",
      "text/plain": [
       "<Figure size 640x480 with 1 Axes>"
      ]
     },
     "metadata": {},
     "output_type": "display_data"
    }
   ],
   "source": [
    "plt.hist(sample3, bins=50, alpha=0.5, label=\"µ=0, σ=1.68\")\n",
    "plt.title(\"Histogram of lognormal samples (linear scale)\")\n",
    "plt.legend()\n",
    "plt.show()"
   ]
  },
  {
   "cell_type": "code",
   "execution_count": 70,
   "id": "8dda089e-d148-48f9-909c-76c2f7dea361",
   "metadata": {
    "tags": []
   },
   "outputs": [
    {
     "data": {
      "image/png": "[encoded data removed]",
      "text/plain": [
       "<Figure size 640x480 with 1 Axes>"
      ]
     },
     "metadata": {},
     "output_type": "display_data"
    }
   ],
   "source": [
    "plt.hist(np.log(sample3), bins=50, alpha=0.5, label=\"µ=0, σ=1.68\")\n",
    "plt.title(\"Histogram of lognormal samples (log scale)\")\n",
    "plt.legend()\n",
    "plt.show()"
   ]
  },
  {
   "cell_type": "markdown",
   "id": "12555540-dec5-4e72-9011-aa24266939c4",
   "metadata": {
    "tags": []
   },
   "source": [
    "I found that the histograms of lognormal samples on a linear scale are right skewed while the histograms on a log scale appear to be normal bell shaped."
   ]
  },
  {
   "cell_type": "markdown",
   "id": "7d1235fd-5e31-4d9e-ae3b-bcae41e2568b",
   "metadata": {},
   "source": [
    "Q3."
   ]
  },
  {
   "cell_type": "markdown",
   "id": "d1ed0ce7-5693-4c1e-8e81-146b52e0b1e5",
   "metadata": {},
   "source": [
    "The histogram of the Lognormal(0, 0.2) distribution is least skewed to the right which indicates least unequal distribution. On the other hand, the histogram of the Lognormal(0, 1.68) is most skewed to the right which indicates that it has the most unequal distribution."
   ]
  },
  {
   "cell_type": "markdown",
   "id": "02a555a8-a701-4a96-9d94-139bdafe4a86",
   "metadata": {},
   "source": [
    "Q4."
   ]
  },
  {
   "cell_type": "markdown",
   "id": "10cd6934-ba1b-4c1f-af3a-c1da14a71889",
   "metadata": {},
   "source": [
    "### Sample 1 (µ=0, σ=0.2)"
   ]
  },
  {
   "cell_type": "code",
   "execution_count": 79,
   "id": "2f4ebfac-9cf6-4255-9451-e42f3644a28a",
   "metadata": {
    "tags": []
   },
   "outputs": [
    {
     "data": {
      "text/plain": [
       "(1.0194191357843148, 0.04219657460107202)"
      ]
     },
     "execution_count": 79,
     "metadata": {},
     "output_type": "execute_result"
    }
   ],
   "source": [
    "np.mean(sample1), np.var(sample1)"
   ]
  },
  {
   "cell_type": "code",
   "execution_count": 80,
   "id": "4403ee79-918f-442e-be4b-4a740db941fc",
   "metadata": {
    "tags": []
   },
   "outputs": [
    {
     "data": {
      "text/plain": [
       "(1.0202013400267558, 0.04247629348257031)"
      ]
     },
     "execution_count": 80,
     "metadata": {},
     "output_type": "execute_result"
    }
   ],
   "source": [
    "np.exp(0 + 0.2**2 / 2), np.exp(2 * 0 + 0.2 ** 2) * (np.exp(0.2 ** 2) - 1)"
   ]
  },
  {
   "cell_type": "markdown",
   "id": "096b1c5b-3ca0-4181-81b6-bfd25937a19a",
   "metadata": {},
   "source": [
    "### Sample 2 (µ=0, σ=0.5)"
   ]
  },
  {
   "cell_type": "code",
   "execution_count": 81,
   "id": "f1b49dce-9c5c-4c14-8c88-6063f1dfb75e",
   "metadata": {
    "tags": []
   },
   "outputs": [
    {
     "data": {
      "text/plain": [
       "(1.1183467206146338, 0.3493875440050964)"
      ]
     },
     "execution_count": 81,
     "metadata": {},
     "output_type": "execute_result"
    }
   ],
   "source": [
    "np.mean(sample2), np.var(sample2)"
   ]
  },
  {
   "cell_type": "code",
   "execution_count": 82,
   "id": "0fa7054b-7fe2-488a-9536-b91708bd67fb",
   "metadata": {
    "tags": []
   },
   "outputs": [
    {
     "data": {
      "text/plain": [
       "(1.1331484530668263, 0.3646958540123865)"
      ]
     },
     "execution_count": 82,
     "metadata": {},
     "output_type": "execute_result"
    }
   ],
   "source": [
    "np.exp(0 + 0.5 ** 2 / 2), np.exp(2 * 0 + 0.5 ** 2) * (np.exp(0.5 ** 2) - 1)"
   ]
  },
  {
   "cell_type": "markdown",
   "id": "d09b2d25-0875-41d6-a21e-6ddca9189ecf",
   "metadata": {},
   "source": [
    "### Sample 3 (µ=0, σ=1.68)"
   ]
  },
  {
   "cell_type": "code",
   "execution_count": 83,
   "id": "1eccb145-5085-49b5-9ff1-79c45ec0e9a0",
   "metadata": {
    "tags": []
   },
   "outputs": [
    {
     "data": {
      "text/plain": [
       "(4.163816346550564, 195.385761938432)"
      ]
     },
     "execution_count": 83,
     "metadata": {},
     "output_type": "execute_result"
    }
   ],
   "source": [
    "np.mean(sample3), np.var(sample3)"
   ]
  },
  {
   "cell_type": "code",
   "execution_count": 84,
   "id": "88df4bb9-a07c-465f-8dce-f254cb1f936a",
   "metadata": {
    "tags": []
   },
   "outputs": [
    {
     "data": {
      "text/plain": [
       "(4.1008735008239405, 265.99982369887033)"
      ]
     },
     "execution_count": 84,
     "metadata": {},
     "output_type": "execute_result"
    }
   ],
   "source": [
    "np.exp(0 + 1.68 ** 2 / 2), np.exp(2 * 0 + 1.68 ** 2) * (np.exp(1.68 ** 2) - 1)"
   ]
  },
  {
   "cell_type": "markdown",
   "id": "dcef8c4a-928f-473d-98f0-6308d76b1302",
   "metadata": {},
   "source": [
    "Yes, the theoretical formulas are similar to the numPy functions. Although there was a considerable difference in the variance for sample3 between the theoretical formula and the function."
   ]
  },
  {
   "cell_type": "markdown",
   "id": "5c7dc815-693e-4e6d-bb1f-d202e61b2f0f",
   "metadata": {},
   "source": [
    "Q5."
   ]
  },
  {
   "cell_type": "markdown",
   "id": "e96bc28c-d4cd-4a48-bda1-86a0f1422a6e",
   "metadata": {},
   "source": [
    "### Sample 1 (µ=0, σ=0.2)"
   ]
  },
  {
   "cell_type": "code",
   "execution_count": 92,
   "id": "0f75f250-06da-4b02-9656-4e4877c04b8f",
   "metadata": {
    "tags": []
   },
   "outputs": [
    {
     "data": {
      "text/plain": [
       "1.747914902090612"
      ]
     },
     "execution_count": 92,
     "metadata": {},
     "output_type": "execute_result"
    }
   ],
   "source": [
    "sample1q20 = np.percentile(sample1, 20)\n",
    "sample1q80 = np.percentile(sample1, 80)\n",
    "\n",
    "sample1sum80 = sample1[sample1 > sample1q80].sum()\n",
    "sample1sum20 = sample1[sample1 < sample1q20].sum()\n",
    "\n",
    "sample1qsr = sample1sum80 / sample1sum20\n",
    "sample1qsr"
   ]
  },
  {
   "cell_type": "markdown",
   "id": "05c2602a-74aa-4245-afd5-ab3a05221f87",
   "metadata": {},
   "source": [
    "### Sample 2 (µ=0, σ=0.5)"
   ]
  },
  {
   "cell_type": "code",
   "execution_count": 98,
   "id": "8ffea6cc-4145-492c-a67e-8139142240f4",
   "metadata": {
    "tags": []
   },
   "outputs": [
    {
     "data": {
      "text/plain": [
       "3.9888350709394342"
      ]
     },
     "execution_count": 98,
     "metadata": {},
     "output_type": "execute_result"
    }
   ],
   "source": [
    "sample2q20 = np.percentile(sample2, 20)\n",
    "sample2q80 = np.percentile(sample2, 80)\n",
    "\n",
    "sample2sum80 = sample2[sample2 > sample2q80].sum()\n",
    "sample2sum20 = sample2[sample2 < sample2q20].sum()\n",
    "\n",
    "sample2qsr = sample2sum80 / sample2sum20\n",
    "sample2qsr"
   ]
  },
  {
   "cell_type": "markdown",
   "id": "8b01fcbc-9ca1-47e9-9070-2cde8e64e742",
   "metadata": {},
   "source": [
    "### Sample 3 (µ=0, σ=1.68)"
   ]
  },
  {
   "cell_type": "code",
   "execution_count": 99,
   "id": "c2623207-4e22-4422-bf16-bfb7a1d88c35",
   "metadata": {
    "tags": []
   },
   "outputs": [
    {
     "data": {
      "text/plain": [
       "140.9015599408886"
      ]
     },
     "execution_count": 99,
     "metadata": {},
     "output_type": "execute_result"
    }
   ],
   "source": [
    "sample3q20 = np.percentile(sample3, 20)\n",
    "sample3q80 = np.percentile(sample3, 80)\n",
    "\n",
    "sample3sum80 = sample3[sample3 > sample3q80].sum()\n",
    "sample3sum20 = sample3[sample3 < sample3q20].sum()\n",
    "\n",
    "sample3qsr = sample3sum80 / sample3sum20\n",
    "sample3qsr"
   ]
  },
  {
   "cell_type": "markdown",
   "id": "5990965d-70e8-4934-bea2-f8b264f188b4",
   "metadata": {},
   "source": [
    "Sample 1 has a qsr of 1.75, sample 2 has a qsr of 3.99, and sample 3 has a qsr of 140.9. The most unequal distribution is the one with the highest qsr, so there for its sample 3. On the other hand, the most equal one has the lowest qsr, and therefore its sample 1."
   ]
  },
  {
   "cell_type": "markdown",
   "id": "60f9bcac-490e-4e91-bbb0-b11ea62ac209",
   "metadata": {},
   "source": [
    "## 7. Binomial distribution"
   ]
  },
  {
   "cell_type": "markdown",
   "id": "5d64bc41-f02b-4c71-bb3c-2418d449db4a",
   "metadata": {},
   "source": [
    "Q1."
   ]
  },
  {
   "cell_type": "code",
   "execution_count": 100,
   "id": "278ad2fd-3941-4f8d-93ab-13ea9ae8a7a7",
   "metadata": {
    "tags": []
   },
   "outputs": [
    {
     "data": {
      "text/plain": [
       "1.7999999999999998"
      ]
     },
     "execution_count": 100,
     "metadata": {},
     "output_type": "execute_result"
    }
   ],
   "source": [
    "exVal = 3 * 0.6\n",
    "exVal"
   ]
  },
  {
   "cell_type": "markdown",
   "id": "7f6e825b-a373-45c9-84ba-d3289bad0dcf",
   "metadata": {
    "tags": []
   },
   "source": [
    "The expected value of the RV is 1.8"
   ]
  },
  {
   "cell_type": "markdown",
   "id": "98730246-5be0-4762-8af6-66bebd72eef2",
   "metadata": {},
   "source": [
    "Q2."
   ]
  },
  {
   "cell_type": "code",
   "execution_count": 108,
   "id": "5bf54585-c195-41d8-8e1d-5e40f917e557",
   "metadata": {
    "tags": []
   },
   "outputs": [
    {
     "data": {
      "text/plain": [
       "array([0.064, 0.288, 0.432, 0.216])"
      ]
     },
     "execution_count": 108,
     "metadata": {},
     "output_type": "execute_result"
    }
   ],
   "source": [
    "n = 3\n",
    "p = 0.6\n",
    "factorial = np.vectorize(np.math.factorial)\n",
    "probabilities = np.zeros(n+1)\n",
    "for k in range(n+1):\n",
    "    C = factorial(n) / (factorial(k) * factorial(n-k))\n",
    "    probabilities[k] = C * (p**k) * ((1-p)**(n-k))\n",
    "probabilities"
   ]
  },
  {
   "cell_type": "markdown",
   "id": "43cd734b-0c33-488e-8665-ab858084cf73",
   "metadata": {},
   "source": [
    "The probability of no successes (0) is 0.064, one success (1) is 0.288, two successes (2) is 0.432, and three successes (3) is 0.216."
   ]
  },
  {
   "cell_type": "markdown",
   "id": "8c4ef996-3d58-4439-ba97-5ea412dbee5c",
   "metadata": {
    "tags": []
   },
   "source": [
    "Q3."
   ]
  },
  {
   "cell_type": "code",
   "execution_count": 110,
   "id": "507985cd-05c4-4945-afd5-f652f65cb077",
   "metadata": {
    "tags": []
   },
   "outputs": [
    {
     "data": {
      "text/plain": [
       "0.72"
      ]
     },
     "execution_count": 110,
     "metadata": {},
     "output_type": "execute_result"
    }
   ],
   "source": [
    "varX = n * p * (1 - p)\n",
    "varX"
   ]
  },
  {
   "cell_type": "markdown",
   "id": "3dc5ec61-ee54-4c2c-88c1-8f2eab87cf5d",
   "metadata": {},
   "source": [
    "The variance is 0.72"
   ]
  },
  {
   "cell_type": "markdown",
   "id": "2c40e7f5-7341-4f21-acc6-66eea00c9d0c",
   "metadata": {},
   "source": [
    "Q4."
   ]
  },
  {
   "cell_type": "code",
   "execution_count": 114,
   "id": "ebd73ab7-cc9a-4807-9d4d-3357d0f38eb7",
   "metadata": {
    "tags": []
   },
   "outputs": [],
   "source": [
    "R = 1000\n",
    "n = 3\n",
    "p = 0.6\n",
    "sample = np.random.binomial(n, p, size=R)"
   ]
  },
  {
   "cell_type": "markdown",
   "id": "c865c1ae-566a-43f2-9e08-af1d4dbd26d8",
   "metadata": {},
   "source": [
    "Q5."
   ]
  },
  {
   "cell_type": "code",
   "execution_count": 115,
   "id": "afda6d49-8f7a-4fc9-a6c8-17074456e9ef",
   "metadata": {
    "tags": []
   },
   "outputs": [
    {
     "data": {
      "text/plain": [
       "1.76"
      ]
     },
     "execution_count": 115,
     "metadata": {},
     "output_type": "execute_result"
    }
   ],
   "source": [
    "np.mean(sample)"
   ]
  },
  {
   "cell_type": "markdown",
   "id": "65cb8737-0f38-4573-9542-97181b41b65b",
   "metadata": {},
   "source": [
    "The mean is 1.76"
   ]
  },
  {
   "cell_type": "markdown",
   "id": "0a018b31-3bdc-4629-bf4b-064b30e1f440",
   "metadata": {},
   "source": [
    "Q6."
   ]
  },
  {
   "cell_type": "code",
   "execution_count": 116,
   "id": "7270834d-66ca-4a27-aa70-1f4f8b0d495b",
   "metadata": {
    "tags": []
   },
   "outputs": [
    {
     "data": {
      "text/plain": [
       "0.7164"
      ]
     },
     "execution_count": 116,
     "metadata": {},
     "output_type": "execute_result"
    }
   ],
   "source": [
    "np.var(sample)"
   ]
  },
  {
   "cell_type": "markdown",
   "id": "abc1b3e0-36a6-4550-9e35-5cf70c726390",
   "metadata": {},
   "source": [
    "The variance is 0.7164"
   ]
  },
  {
   "cell_type": "markdown",
   "id": "47a8da91-5389-4067-b97d-756efadd82e4",
   "metadata": {},
   "source": [
    "Q7."
   ]
  },
  {
   "cell_type": "code",
   "execution_count": 117,
   "id": "ee7473cd-e177-47c9-8340-1a9d9bced3e9",
   "metadata": {
    "tags": []
   },
   "outputs": [
    {
     "data": {
      "text/plain": [
       "(64.0, 288.0, 432.0, 216.0)"
      ]
     },
     "execution_count": 117,
     "metadata": {},
     "output_type": "execute_result"
    }
   ],
   "source": [
    "1000 * 0.064, 1000 * 0.288, 1000 * 0.432, 1000 * 0.216"
   ]
  },
  {
   "cell_type": "markdown",
   "id": "6987f8b4-77eb-441f-a951-4ff7740431a7",
   "metadata": {},
   "source": [
    "The expected number of cases with no successes (0) is 64, with one success (1) is 288, with two successes (2) is 432 cases, with three sucesses (3) is 216 cases"
   ]
  },
  {
   "cell_type": "markdown",
   "id": "d312e426-5723-465a-92f0-82872f951ddd",
   "metadata": {
    "tags": []
   },
   "source": [
    "Q8."
   ]
  },
  {
   "cell_type": "code",
   "execution_count": 134,
   "id": "a6140d97-ea1e-4db9-969b-aef8e97cb8ff",
   "metadata": {
    "tags": []
   },
   "outputs": [
    {
     "data": {
      "image/png": "[encoded data removed]",
      "text/plain": [
       "<Figure size 640x480 with 1 Axes>"
      ]
     },
     "metadata": {},
     "output_type": "display_data"
    }
   ],
   "source": [
    "plt.hist(sample, bins=100)\n",
    "expected = [64.0, 288.0, 432.0, 216.0]\n",
    "plt.scatter(range(4), expected, color='red')\n",
    "plt.xlabel('Number of successes')\n",
    "plt.ylabel('Counts')\n",
    "plt.title('Histogram of binomial sample and expected counts')\n",
    "plt.xticks(range(4))\n",
    "plt.legend(['Expected counts', 'Actual counts'])\n",
    "plt.show()"
   ]
  },
  {
   "cell_type": "markdown",
   "id": "af0fb005-9225-43b3-ba37-96028ad1d493",
   "metadata": {},
   "source": [
    "The sample matches pretty close to the expected values. There isn't much noise other than a little bit for one success"
   ]
  },
  {
   "cell_type": "markdown",
   "id": "2cb4a754-53fa-4fa1-ad1f-2ca3eab340dc",
   "metadata": {},
   "source": [
    "## 8. Variance of mean"
   ]
  },
  {
   "cell_type": "markdown",
   "id": "2d583d08-7a8b-4633-93e7-666a6eeaf122",
   "metadata": {},
   "source": [
    "Q1."
   ]
  },
  {
   "cell_type": "code",
   "execution_count": 135,
   "id": "4e11d332-172f-440e-9153-7c3c2aa8f7b0",
   "metadata": {
    "tags": []
   },
   "outputs": [],
   "source": [
    "R = 10000"
   ]
  },
  {
   "cell_type": "markdown",
   "id": "1115510b-9055-4f32-8647-52d4a534ef5f",
   "metadata": {},
   "source": [
    "Q2."
   ]
  },
  {
   "cell_type": "code",
   "execution_count": 144,
   "id": "ed1c67b9-9441-4967-af60-3cd28baf1bd4",
   "metadata": {
    "tags": []
   },
   "outputs": [],
   "source": [
    "realizations = np.empty(R)\n",
    "for i in range(R):\n",
    "    realization = np.random.binomial(3, 0.6)\n",
    "    realizations[i] = realization"
   ]
  },
  {
   "cell_type": "markdown",
   "id": "710c86dc-a4f4-4cda-a908-429e194bec2d",
   "metadata": {
    "tags": []
   },
   "source": [
    "Q3."
   ]
  },
  {
   "cell_type": "code",
   "execution_count": 146,
   "id": "67fbc46c-3773-43f1-a0c6-284d0b894737",
   "metadata": {
    "tags": []
   },
   "outputs": [
    {
     "data": {
      "text/plain": [
       "0.7185633600000001"
      ]
     },
     "execution_count": 146,
     "metadata": {},
     "output_type": "execute_result"
    }
   ],
   "source": [
    "np.var(realizations)"
   ]
  },
  {
   "cell_type": "markdown",
   "id": "b6f6a08b-2248-4ed1-8b0d-f2d5c8013b36",
   "metadata": {},
   "source": [
    "The variance is 0.719"
   ]
  },
  {
   "cell_type": "markdown",
   "id": "5d4040f5-2fe7-4c1f-b9c1-9523607f1a9b",
   "metadata": {},
   "source": [
    "Q4."
   ]
  },
  {
   "cell_type": "code",
   "execution_count": 149,
   "id": "5c903c6c-5777-4ea3-b96e-6959d0b3458f",
   "metadata": {
    "tags": []
   },
   "outputs": [],
   "source": [
    "S = 2\n",
    "pairmeans = np.empty(R)\n",
    "for i in range(R):\n",
    "    pair = np.random.binomial(3, 0.6, size=S)\n",
    "    pairmean = np.mean(pair)\n",
    "    pairmeans[i] = pairmean"
   ]
  },
  {
   "cell_type": "markdown",
   "id": "b7d5f8ca-0765-4c76-945b-48c72717af2b",
   "metadata": {},
   "source": [
    "Q5."
   ]
  },
  {
   "cell_type": "code",
   "execution_count": 150,
   "id": "cfb4011e-222f-486d-b647-7740463992bc",
   "metadata": {
    "tags": []
   },
   "outputs": [
    {
     "data": {
      "text/plain": [
       "0.35421516"
      ]
     },
     "execution_count": 150,
     "metadata": {},
     "output_type": "execute_result"
    }
   ],
   "source": [
    "np.var(pairmeans)"
   ]
  },
  {
   "cell_type": "markdown",
   "id": "a6c7c765-c31c-40d9-a500-d0708e49bbd9",
   "metadata": {},
   "source": [
    "The variance is 0.354"
   ]
  },
  {
   "cell_type": "markdown",
   "id": "1fd13288-2459-406c-b403-893ec75bf377",
   "metadata": {},
   "source": [
    "Q6."
   ]
  },
  {
   "cell_type": "code",
   "execution_count": 151,
   "id": "5a461158-5cd4-4d8b-91e0-941ebafd394d",
   "metadata": {
    "tags": []
   },
   "outputs": [
    {
     "data": {
      "text/plain": [
       "0.07144639000000001"
      ]
     },
     "execution_count": 151,
     "metadata": {},
     "output_type": "execute_result"
    }
   ],
   "source": [
    "S = 10\n",
    "tenmeans = np.empty(R)\n",
    "for i in range(R):\n",
    "    tenrealizations = np.random.binomial(3, 0.6, size=S)\n",
    "    tenmean = np.mean(tenrealizations)\n",
    "    tenmeans[i] = tenmean\n",
    "np.var(tenmeans)"
   ]
  },
  {
   "cell_type": "code",
   "execution_count": 152,
   "id": "bc27e5b7-c4c8-49a4-a6dd-6e313467e9db",
   "metadata": {
    "tags": []
   },
   "outputs": [
    {
     "data": {
      "text/plain": [
       "0.007232728151000001"
      ]
     },
     "execution_count": 152,
     "metadata": {},
     "output_type": "execute_result"
    }
   ],
   "source": [
    "S = 100\n",
    "hundredmeans = np.empty(R)\n",
    "for i in range(R):\n",
    "    hundredrealizations = np.random.binomial(3, 0.6, size=S)\n",
    "    hundredmean = np.mean(hundredrealizations)\n",
    "    hundredmeans[i] = hundredmean\n",
    "np.var(hundredmeans)"
   ]
  },
  {
   "cell_type": "markdown",
   "id": "800d2baf-8e9e-4f81-ac99-424e7b3d70c6",
   "metadata": {},
   "source": [
    "The variance for S = 10 was 0.071 and for S = 100 it was 0.0072"
   ]
  },
  {
   "cell_type": "markdown",
   "id": "1d96d875-7ae6-4f0e-9e05-86762f01665d",
   "metadata": {},
   "source": [
    "Q7."
   ]
  },
  {
   "cell_type": "markdown",
   "id": "00856e12-6b2a-45d0-9d92-9ce14b168075",
   "metadata": {},
   "source": [
    "Variance gets smaller because of the Law of Large Numbers. The more data points I have the more accurate the data becomes and it becomes a lot less likely to be any strange outliers as data points increase"
   ]
  },
  {
   "cell_type": "markdown",
   "id": "3a0c7fc8-07f2-4b8e-8a3c-53ccd2c7407c",
   "metadata": {},
   "source": [
    "I spent 10 hours on this assignment"
   ]
  }
 ],
 "metadata": {
  "kernelspec": {
   "display_name": "Python 3 (ipykernel)",
   "language": "python",
   "name": "python3"
  },
  "language_info": {
   "codemirror_mode": {
    "name": "ipython",
    "version": 3
   },
   "file_extension": ".py",
   "mimetype": "text/x-python",
   "name": "python",
   "nbconvert_exporter": "python",
   "pygments_lexer": "ipython3",
   "version": "3.10.10"
  }
 },
 "nbformat": 4,
 "nbformat_minor": 5
}
