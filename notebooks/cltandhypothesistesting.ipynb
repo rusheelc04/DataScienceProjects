{
 "cells": [
  {
   "cell_type": "markdown",
   "id": "364b4d20-57ef-44cd-ae6d-234b8593b93a",
   "metadata": {},
   "source": [
    "# CLT and Hypothesis testing\n",
    "Name: Rusheel Chande"
   ]
  },
  {
   "cell_type": "code",
   "execution_count": 1,
   "id": "aae861b2-f4f9-4777-add5-c9a2768c1dad",
   "metadata": {
    "tags": []
   },
   "outputs": [],
   "source": [
    "import numpy as np\n",
    "import pandas as pd\n",
    "import matplotlib.pyplot as plt\n",
    "import time\n",
    "from scipy import stats\n",
    "import seaborn as sns\n",
    "import statsmodels.formula.api as smf"
   ]
  },
  {
   "cell_type": "markdown",
   "id": "6192b80c-8dfe-4b70-bfbd-2c6521f97914",
   "metadata": {},
   "source": [
    "## 1. Is poverty in Azraq refugee camp falling?"
   ]
  },
  {
   "cell_type": "markdown",
   "id": "6642c4f1-cd26-4eb4-98b7-e394640626ab",
   "metadata": {},
   "source": [
    "### 1.1 Background"
   ]
  },
  {
   "cell_type": "markdown",
   "id": "c9071677-0abc-44e6-a676-7d44f669d454",
   "metadata": {},
   "source": [
    "Q1."
   ]
  },
  {
   "cell_type": "code",
   "execution_count": 2,
   "id": "eff3d0c7-c2de-4478-93a0-6204e86280d0",
   "metadata": {
    "tags": []
   },
   "outputs": [],
   "source": [
    "p1 = 0.66\n",
    "p2 = 0.51"
   ]
  },
  {
   "cell_type": "markdown",
   "id": "8c706f7d-cb9c-4ff6-80cc-99b82c0b1d2b",
   "metadata": {},
   "source": [
    "The abject poverty in Azraq camp in Q1 of 2022 was 66% and 51% in Q2. "
   ]
  },
  {
   "cell_type": "markdown",
   "id": "6ec96635-7eb0-4c55-a468-29ab76f5b6df",
   "metadata": {
    "tags": []
   },
   "source": [
    "Q2."
   ]
  },
  {
   "cell_type": "code",
   "execution_count": 3,
   "id": "1a7bf8da-3b98-4830-bf51-4a129ff4dd84",
   "metadata": {
    "tags": []
   },
   "outputs": [],
   "source": [
    "S = 325"
   ]
  },
  {
   "cell_type": "markdown",
   "id": "f70805e6-87f6-4bb9-a2a8-acb82e8d718b",
   "metadata": {},
   "source": [
    "325 households were surveyed from Azraq camp"
   ]
  },
  {
   "cell_type": "markdown",
   "id": "083f4faf-0971-4d20-8411-24ad2d1a9731",
   "metadata": {},
   "source": [
    "### 1.2 Simulations"
   ]
  },
  {
   "cell_type": "markdown",
   "id": "4dfed385-8ddd-42ed-948d-d7e551698aa8",
   "metadata": {},
   "source": [
    "Q1."
   ]
  },
  {
   "cell_type": "code",
   "execution_count": 4,
   "id": "1f8a0237-3147-48bb-b776-f1353995f6b9",
   "metadata": {
    "tags": []
   },
   "outputs": [],
   "source": [
    "np.random.seed(0)\n",
    "sample = np.random.binomial(1, p2, size=S)"
   ]
  },
  {
   "cell_type": "markdown",
   "id": "6da9a290-e700-4866-b0fb-86b30bd7eee0",
   "metadata": {},
   "source": [
    "Q2."
   ]
  },
  {
   "cell_type": "code",
   "execution_count": 5,
   "id": "a9f95e33-1e1e-4a5d-82db-e71e1568c773",
   "metadata": {
    "tags": []
   },
   "outputs": [
    {
     "data": {
      "text/plain": [
       "0.49846153846153846"
      ]
     },
     "execution_count": 5,
     "metadata": {},
     "output_type": "execute_result"
    }
   ],
   "source": [
    "sample.mean()"
   ]
  },
  {
   "cell_type": "markdown",
   "id": "1693e8fe-9176-4a71-9956-413ed0142fe9",
   "metadata": {},
   "source": [
    "The sample mean is 0.498 which is very close to p2 (0.51) and further from p1 which is 0.66. There's a difference of about 0.012 with the sample mean and p2 and a difference of 0.162 with p1"
   ]
  },
  {
   "cell_type": "markdown",
   "id": "13e079ca-9cdb-46bc-b283-253e6784049b",
   "metadata": {
    "tags": []
   },
   "source": [
    "Q3."
   ]
  },
  {
   "cell_type": "code",
   "execution_count": 6,
   "id": "c3e625ac-2b19-40aa-bb11-e43175fa4739",
   "metadata": {
    "tags": []
   },
   "outputs": [],
   "source": [
    "R = 10000"
   ]
  },
  {
   "cell_type": "markdown",
   "id": "9a36e14e-08f2-4560-987e-48dc3887881c",
   "metadata": {},
   "source": [
    "R is 10,000"
   ]
  },
  {
   "cell_type": "markdown",
   "id": "0264477d-aa49-4f58-aa7b-af9c91cf8021",
   "metadata": {},
   "source": [
    "Q4."
   ]
  },
  {
   "cell_type": "code",
   "execution_count": 7,
   "id": "f871a7d2-b47e-4294-b649-26233e51b48f",
   "metadata": {
    "tags": []
   },
   "outputs": [],
   "source": [
    "np.random.seed(1)\n",
    "means = np.empty(R)\n",
    "for i in range(R):\n",
    "    sample = np.random.binomial(1, p2, size=S)\n",
    "    means[i] = sample.mean()"
   ]
  },
  {
   "cell_type": "markdown",
   "id": "0c816b02-7b71-45b1-9366-b48c485d0bc1",
   "metadata": {},
   "source": [
    "Q5."
   ]
  },
  {
   "cell_type": "code",
   "execution_count": 8,
   "id": "ccccb089-0f0d-4237-8342-f0bf9749c2d8",
   "metadata": {
    "tags": []
   },
   "outputs": [
    {
     "data": {
      "text/plain": [
       "0.5101381538461538"
      ]
     },
     "execution_count": 8,
     "metadata": {},
     "output_type": "execute_result"
    }
   ],
   "source": [
    "means.mean()"
   ]
  },
  {
   "cell_type": "markdown",
   "id": "3b463a08-ed63-416b-bc7f-3dcb5799ea90",
   "metadata": {},
   "source": [
    "The average of averages is almost exactly 0.51. This resembles p2 (0.51), the abject poverty rate in Azraq camp in Q2 of 2022."
   ]
  },
  {
   "cell_type": "markdown",
   "id": "8d31baa9-04a9-4c67-9a3b-49d9eb41f158",
   "metadata": {},
   "source": [
    "Q6."
   ]
  },
  {
   "cell_type": "code",
   "execution_count": 9,
   "id": "ddbc0310-c03d-423d-9b95-765f7597a2f1",
   "metadata": {
    "tags": []
   },
   "outputs": [
    {
     "data": {
      "image/png": "[encoded data removed]",
      "text/plain": [
       "<Figure size 640x480 with 1 Axes>"
      ]
     },
     "metadata": {},
     "output_type": "display_data"
    }
   ],
   "source": [
    "plt.hist(means, bins=15, alpha=0.7)\n",
    "plt.title(\"Frequency of Abject Poverty Rates in Q2 of 2022 in Azraq camp\")\n",
    "plt.xlabel(\"Abject Poverty Rate (Sample Mean)\")\n",
    "plt.ylabel(\"Frequency\")\n",
    "plt.show()"
   ]
  },
  {
   "cell_type": "markdown",
   "id": "4923dfca-22e3-4d41-a8a3-d23ad7dda47d",
   "metadata": {},
   "source": [
    "The histogram of the averages resembles a normal distribution. From eyeballing the plot, the largest and smallest values that are \"reasonably\" common are 0.55 (largest) and 0.47 (smallest)."
   ]
  },
  {
   "cell_type": "markdown",
   "id": "133a702a-73bb-4ccf-9e70-3acff2546956",
   "metadata": {},
   "source": [
    "Q7."
   ]
  },
  {
   "cell_type": "code",
   "execution_count": 10,
   "id": "434feb45-dcc0-4af4-aeb5-373ba184fcf6",
   "metadata": {
    "tags": []
   },
   "outputs": [
    {
     "data": {
      "text/plain": [
       "(0.4553846153846154, 0.5661538461538461)"
      ]
     },
     "execution_count": 10,
     "metadata": {},
     "output_type": "execute_result"
    }
   ],
   "source": [
    "np.percentile(means, 2.5), np.percentile(means, 97.5)"
   ]
  },
  {
   "cell_type": "markdown",
   "id": "133a7d86-1f14-4ac2-a68a-9b66cc496336",
   "metadata": {},
   "source": [
    "The 95% confidence interval of the means of abject poverty rates in Q2 is (0.4553846153846154, 0.5661538461538461). Q1, which was 0.66 or 66% does not fall in this confidence interval as the maximum value of the interval is approximately 0.57 or 57%"
   ]
  },
  {
   "cell_type": "markdown",
   "id": "f7eeeb44-04f7-4121-9347-29a9ef9d7f41",
   "metadata": {},
   "source": [
    "### 1.3 Theoretical CI"
   ]
  },
  {
   "cell_type": "markdown",
   "id": "51624743-087f-4d8a-b956-821ac7ad105a",
   "metadata": {
    "tags": []
   },
   "source": [
    "Q1."
   ]
  },
  {
   "cell_type": "code",
   "execution_count": 11,
   "id": "453af70b-bcdb-43f8-8080-a4026c88663b",
   "metadata": {
    "tags": []
   },
   "outputs": [
    {
     "data": {
      "text/plain": [
       "0.2499"
      ]
     },
     "execution_count": 11,
     "metadata": {},
     "output_type": "execute_result"
    }
   ],
   "source": [
    "varX = 0.51 * (1 - 0.51)\n",
    "varX"
   ]
  },
  {
   "cell_type": "code",
   "execution_count": 12,
   "id": "7e48946c-ef97-4daf-9aab-543c6869a59b",
   "metadata": {
    "tags": []
   },
   "outputs": [
    {
     "data": {
      "text/plain": [
       "0.24997869822485208"
      ]
     },
     "execution_count": 12,
     "metadata": {},
     "output_type": "execute_result"
    }
   ],
   "source": [
    "sample.var() # sample I created in 1.2.1"
   ]
  },
  {
   "cell_type": "markdown",
   "id": "25b50b7d-ea20-42f6-98e6-0501dd0ac094",
   "metadata": {},
   "source": [
    "Q2."
   ]
  },
  {
   "cell_type": "markdown",
   "id": "5bcbc713-3259-4657-8851-c6861b894c2a",
   "metadata": {},
   "source": [
    "The CLT says that the variance of the sample mean is the population variance divided by the sample size. As the sample size increases, the variance of the sample mean decreases, which results in the sample mean being more accurate of the population."
   ]
  },
  {
   "cell_type": "code",
   "execution_count": 13,
   "id": "a7a03277-9c46-4d85-ade9-401b916c6e56",
   "metadata": {
    "tags": []
   },
   "outputs": [
    {
     "data": {
      "text/plain": [
       "0.000768923076923077"
      ]
     },
     "execution_count": 13,
     "metadata": {},
     "output_type": "execute_result"
    }
   ],
   "source": [
    "varSampleMean = varX / S\n",
    "varSampleMean"
   ]
  },
  {
   "cell_type": "markdown",
   "id": "4eb96d5a-854c-46b9-9e03-2817a222ab3e",
   "metadata": {},
   "source": [
    "Q3."
   ]
  },
  {
   "cell_type": "code",
   "execution_count": 14,
   "id": "6d290d19-0a55-4977-8456-7c38c7fcc8a4",
   "metadata": {
    "tags": []
   },
   "outputs": [
    {
     "data": {
      "text/plain": [
       "0.02772946225448804"
      ]
     },
     "execution_count": 14,
     "metadata": {},
     "output_type": "execute_result"
    }
   ],
   "source": [
    "stdSampleMean = np.sqrt(varSampleMean)\n",
    "stdSampleMean"
   ]
  },
  {
   "cell_type": "markdown",
   "id": "b6d1d2d4-4a63-4ee5-a39a-516c7c5bd4c7",
   "metadata": {},
   "source": [
    "The standard deviation of sample mean is 0.0277"
   ]
  },
  {
   "cell_type": "markdown",
   "id": "1e25e427-ed4d-4389-a801-3d376a093a8b",
   "metadata": {},
   "source": [
    "Q4."
   ]
  },
  {
   "cell_type": "code",
   "execution_count": 15,
   "id": "e499d075-3611-4caa-81bb-da092aaad233",
   "metadata": {
    "tags": []
   },
   "outputs": [
    {
     "data": {
      "text/plain": [
       "0.02803481081899439"
      ]
     },
     "execution_count": 15,
     "metadata": {},
     "output_type": "execute_result"
    }
   ],
   "source": [
    "stdMeans = np.std(means)\n",
    "stdMeans"
   ]
  },
  {
   "cell_type": "code",
   "execution_count": 16,
   "id": "77583960-d779-47f7-9bfa-93f7a4d3d58f",
   "metadata": {
    "tags": []
   },
   "outputs": [
    {
     "data": {
      "text/plain": [
       "0.00030534856450634834"
      ]
     },
     "execution_count": 16,
     "metadata": {},
     "output_type": "execute_result"
    }
   ],
   "source": [
    "stdMeans - stdSampleMean"
   ]
  },
  {
   "cell_type": "markdown",
   "id": "84cc63e9-086c-4700-a9d7-b416218d3895",
   "metadata": {},
   "source": [
    "The standard deviation using this method was a little more than the method in Q4. However, the difference was very small as it was only 0.0003"
   ]
  },
  {
   "cell_type": "markdown",
   "id": "2b020c01-3287-4384-8b13-339dacfa84a4",
   "metadata": {},
   "source": [
    "Q5."
   ]
  },
  {
   "cell_type": "code",
   "execution_count": 17,
   "id": "288125dd-5616-458c-823c-8be8d8fb16c2",
   "metadata": {
    "tags": []
   },
   "outputs": [
    {
     "data": {
      "text/plain": [
       "(0.455051770794771, 0.564948229205229)"
      ]
     },
     "execution_count": 17,
     "metadata": {},
     "output_type": "execute_result"
    }
   ],
   "source": [
    "ciMeans = (p2 - 1.96 * stdMeans, p2 + 1.96 * stdMeans)\n",
    "ciMeans"
   ]
  },
  {
   "cell_type": "markdown",
   "id": "7bc9b185-3025-4b93-83fb-98341262515f",
   "metadata": {},
   "source": [
    "This confidence interval is almost exactly the same to the one calculated in 1.2.7. p1 does not fall into this interval. p1 was 0.66 or 66% and it does not fall in this confidence interval as the maximum value of the interval is approximately 0.56 or 56%"
   ]
  },
  {
   "cell_type": "markdown",
   "id": "7634e2ea-dcf1-4b33-b1ee-33b6403c5ff8",
   "metadata": {},
   "source": [
    "Q6."
   ]
  },
  {
   "cell_type": "markdown",
   "id": "32442fcf-320a-4382-853b-7b9f9ba83253",
   "metadata": {},
   "source": [
    "The 1.96 is the z-score which is the number of standard deviations away from the mean. And 1.96 standard deviations from the mean captures 95% of of values in normal distributions. The reason we can use this for this distribution is because the CLT says that the distribution of averages of a large number of independent variables will be approximately normal regardless of the shape of original distributions"
   ]
  },
  {
   "cell_type": "markdown",
   "id": "8907cece-e73e-409a-af2e-6f4e877f9f96",
   "metadata": {},
   "source": [
    "### 1.4 Extra Credit Challenge"
   ]
  },
  {
   "cell_type": "markdown",
   "id": "334475ae-dc51-43e3-9e6f-4de9b10fb06f",
   "metadata": {},
   "source": [
    "Q1."
   ]
  },
  {
   "cell_type": "code",
   "execution_count": 18,
   "id": "6edf9c74-e7f1-4ebc-8e41-2507cb786d5e",
   "metadata": {
    "tags": []
   },
   "outputs": [
    {
     "data": {
      "text/plain": [
       "0.17017292976379395"
      ]
     },
     "execution_count": 18,
     "metadata": {},
     "output_type": "execute_result"
    }
   ],
   "source": [
    "starttime = time.time()\n",
    "for i in range(R):\n",
    "    np.random.binomial(1, p2, size=S)\n",
    "    mean = sample.mean()\n",
    "endtime = time.time()\n",
    "simulationtime = endtime - starttime\n",
    "simulationtime"
   ]
  },
  {
   "cell_type": "code",
   "execution_count": 19,
   "id": "c8fd8101-4c19-4078-8c4b-59af02a8fe57",
   "metadata": {
    "tags": []
   },
   "outputs": [
    {
     "data": {
      "text/plain": [
       "196.95940944883557"
      ]
     },
     "execution_count": 19,
     "metadata": {},
     "output_type": "execute_result"
    }
   ],
   "source": [
    "timefortrillion = (simulationtime / R) * (10 ** 12)\n",
    "timefortrillion / (60 * 60 * 24)"
   ]
  },
  {
   "cell_type": "markdown",
   "id": "a29a7c6a-ece8-42bf-9ad1-585f50fce241",
   "metadata": {},
   "source": [
    "It took 0.185 seconds to run 10,000 (R) simulations. It would take roughly 214 days to run a trillion simulations"
   ]
  },
  {
   "cell_type": "markdown",
   "id": "bd85b0fe-2a17-4779-a2bc-82052fb0d30a",
   "metadata": {
    "tags": []
   },
   "source": [
    "Q2."
   ]
  },
  {
   "cell_type": "code",
   "execution_count": 20,
   "id": "2f825953-f6e9-4f20-a265-ed55c0246813",
   "metadata": {
    "tags": []
   },
   "outputs": [
    {
     "data": {
      "text/plain": [
       "5.409408903186443"
      ]
     },
     "execution_count": 20,
     "metadata": {},
     "output_type": "execute_result"
    }
   ],
   "source": [
    "tVal = (p1 - p2) / stdSampleMean\n",
    "tVal"
   ]
  },
  {
   "cell_type": "markdown",
   "id": "fcf86b2e-6b67-4c96-842b-5a1a3d8a9441",
   "metadata": {},
   "source": [
    "The t-value for this difference is 5.4"
   ]
  },
  {
   "cell_type": "markdown",
   "id": "ce3fcd94-8ad8-4e66-91a8-29abc0a8702d",
   "metadata": {},
   "source": [
    "Q3."
   ]
  },
  {
   "cell_type": "code",
   "execution_count": 21,
   "id": "f6128909-321e-4395-862a-bf789bec624b",
   "metadata": {
    "tags": []
   },
   "outputs": [
    {
     "data": {
      "text/plain": [
       "3.161655253291475e-08"
      ]
     },
     "execution_count": 21,
     "metadata": {},
     "output_type": "execute_result"
    }
   ],
   "source": [
    "norm = stats.norm()\n",
    "pVal = norm.cdf(-tVal)\n",
    "pVal"
   ]
  },
  {
   "cell_type": "markdown",
   "id": "e5ec51b5-8a91-4258-b162-65190d691d4f",
   "metadata": {
    "tags": []
   },
   "source": [
    "The example uses a negative 1.96 because they might have wanted the number on the left side of a distribution, and we use -tVal because we are interested in the probability of drawing a value greater than tVal, which is given by cdf(-tVal)"
   ]
  },
  {
   "cell_type": "markdown",
   "id": "faf416cf-2334-42a3-a961-d84afa1611b2",
   "metadata": {},
   "source": [
    "Q4."
   ]
  },
  {
   "cell_type": "code",
   "execution_count": 22,
   "id": "1910ed8b-0b80-4edc-b6d1-28e0ad3c9234",
   "metadata": {
    "tags": []
   },
   "outputs": [
    {
     "data": {
      "text/plain": [
       "94887005.68718927"
      ]
     },
     "execution_count": 22,
     "metadata": {},
     "output_type": "execute_result"
    }
   ],
   "source": [
    "iterations = 3 / pVal\n",
    "iterations"
   ]
  },
  {
   "cell_type": "markdown",
   "id": "53729c4c-a255-467a-b974-cfe33650c94d",
   "metadata": {},
   "source": [
    "I need 94887005.687 iterations"
   ]
  },
  {
   "cell_type": "markdown",
   "id": "11f4935a-14ec-40df-af6e-d78b8d199028",
   "metadata": {},
   "source": [
    "Q5."
   ]
  },
  {
   "cell_type": "code",
   "execution_count": 23,
   "id": "d335967b-ca53-48fa-aa9d-207b6ff77c2a",
   "metadata": {
    "tags": []
   },
   "outputs": [
    {
     "data": {
      "text/plain": [
       "0.4485333265084104"
      ]
     },
     "execution_count": 23,
     "metadata": {},
     "output_type": "execute_result"
    }
   ],
   "source": [
    "timeneeded = (simulationtime / R) * iterations\n",
    "timeneeded / (60 * 60)"
   ]
  },
  {
   "cell_type": "markdown",
   "id": "25515a64-35e8-49ec-9390-9048ad748f81",
   "metadata": {},
   "source": [
    "Yes, I could get it done by the deadline as it's less than an hour and it's currently 7/11"
   ]
  },
  {
   "cell_type": "markdown",
   "id": "1d1f3607-5164-49c2-a323-271b422efd41",
   "metadata": {},
   "source": [
    "## 2. When will we hit 2C of global warming?"
   ]
  },
  {
   "cell_type": "markdown",
   "id": "3f0c8fff-2512-41f7-9b7b-83e8e217adb8",
   "metadata": {},
   "source": [
    "### 2.1 Load and check"
   ]
  },
  {
   "cell_type": "markdown",
   "id": "d2cdf9ef-b123-4d83-af01-32799b8de14d",
   "metadata": {},
   "source": [
    "Q1."
   ]
  },
  {
   "cell_type": "code",
   "execution_count": 24,
   "id": "b95c81d9-73bf-472c-9805-c49788ac9c69",
   "metadata": {},
   "outputs": [
    {
     "data": {
      "text/html": [
       "<div>\n",
       "<style scoped>\n",
       "    .dataframe tbody tr th:only-of-type {\n",
       "        vertical-align: middle;\n",
       "    }\n",
       "\n",
       "    .dataframe tbody tr th {\n",
       "        vertical-align: top;\n",
       "    }\n",
       "\n",
       "    .dataframe thead th {\n",
       "        text-align: right;\n",
       "    }\n",
       "</style>\n",
       "<table border=\"1\" class=\"dataframe\">\n",
       "  <thead>\n",
       "    <tr style=\"text-align: right;\">\n",
       "      <th></th>\n",
       "      <th>Time</th>\n",
       "      <th>Anomaly (deg C)</th>\n",
       "      <th>Lower confidence limit (2.5%)</th>\n",
       "      <th>Upper confidence limit (97.5%)</th>\n",
       "    </tr>\n",
       "  </thead>\n",
       "  <tbody>\n",
       "    <tr>\n",
       "      <th>0</th>\n",
       "      <td>1850</td>\n",
       "      <td>-0.417659</td>\n",
       "      <td>-0.589203</td>\n",
       "      <td>-0.246115</td>\n",
       "    </tr>\n",
       "    <tr>\n",
       "      <th>1</th>\n",
       "      <td>1851</td>\n",
       "      <td>-0.233350</td>\n",
       "      <td>-0.411868</td>\n",
       "      <td>-0.054832</td>\n",
       "    </tr>\n",
       "    <tr>\n",
       "      <th>2</th>\n",
       "      <td>1852</td>\n",
       "      <td>-0.229399</td>\n",
       "      <td>-0.409382</td>\n",
       "      <td>-0.049416</td>\n",
       "    </tr>\n",
       "    <tr>\n",
       "      <th>3</th>\n",
       "      <td>1853</td>\n",
       "      <td>-0.270354</td>\n",
       "      <td>-0.430009</td>\n",
       "      <td>-0.110700</td>\n",
       "    </tr>\n",
       "    <tr>\n",
       "      <th>4</th>\n",
       "      <td>1854</td>\n",
       "      <td>-0.291630</td>\n",
       "      <td>-0.432824</td>\n",
       "      <td>-0.150436</td>\n",
       "    </tr>\n",
       "  </tbody>\n",
       "</table>\n",
       "</div>"
      ],
      "text/plain": [
       "   Time  Anomaly (deg C)  Lower confidence limit (2.5%)   \n",
       "0  1850        -0.417659                      -0.589203  \\\n",
       "1  1851        -0.233350                      -0.411868   \n",
       "2  1852        -0.229399                      -0.409382   \n",
       "3  1853        -0.270354                      -0.430009   \n",
       "4  1854        -0.291630                      -0.432824   \n",
       "\n",
       "   Upper confidence limit (97.5%)  \n",
       "0                       -0.246115  \n",
       "1                       -0.054832  \n",
       "2                       -0.049416  \n",
       "3                       -0.110700  \n",
       "4                       -0.150436  "
      ]
     },
     "execution_count": 24,
     "metadata": {},
     "output_type": "execute_result"
    }
   ],
   "source": [
    "hadcrut = pd.read_csv(\"../data/hadcrut-5.0.1.0-annual.csv.bz2\", sep=\",\")\n",
    "hadcrut.head()"
   ]
  },
  {
   "cell_type": "code",
   "execution_count": 25,
   "id": "18023dbc-5c76-423a-b735-2525c15b7206",
   "metadata": {
    "tags": []
   },
   "outputs": [
    {
     "data": {
      "text/plain": [
       "(173, 4)"
      ]
     },
     "execution_count": 25,
     "metadata": {},
     "output_type": "execute_result"
    }
   ],
   "source": [
    "hadcrut.shape"
   ]
  },
  {
   "cell_type": "markdown",
   "id": "a1b8be7c-f5a4-4be0-8822-01d9dda7d727",
   "metadata": {},
   "source": [
    "The loaded hadcrut data looks good"
   ]
  },
  {
   "cell_type": "markdown",
   "id": "f758eb4f-d0fe-44d5-94a9-003b9e94e371",
   "metadata": {},
   "source": [
    "Q2."
   ]
  },
  {
   "cell_type": "code",
   "execution_count": 26,
   "id": "e156b342-8d5b-4ba6-9f35-decbaa05c4ba",
   "metadata": {
    "tags": []
   },
   "outputs": [],
   "source": [
    "hadcrut = hadcrut.rename({\"Time\":\"year\", \"Anomaly (deg C)\":\"anomaly\", \"Lower confidence limit (2.5%)\":\"lower\", \"Upper confidence limit (97.5%)\":\"upper\"}, axis=1)"
   ]
  },
  {
   "cell_type": "code",
   "execution_count": 27,
   "id": "74bae37d-52d2-41b5-8ed7-89851060cd81",
   "metadata": {
    "tags": []
   },
   "outputs": [
    {
     "data": {
      "image/png": "[encoded data removed]",
      "text/plain": [
       "<Figure size 640x480 with 1 Axes>"
      ]
     },
     "metadata": {},
     "output_type": "display_data"
    }
   ],
   "source": [
    "plt.plot(hadcrut.year, hadcrut.anomaly)\n",
    "plt.xlabel(\"Year\")\n",
    "plt.ylabel(\"Temperature Anomaly in Celsius\")\n",
    "plt.title(\"Global Temperature Anomaly Over Time\")\n",
    "plt.show()"
   ]
  },
  {
   "cell_type": "markdown",
   "id": "fa7ec534-06c1-4ec9-898f-1d3a50bd6b62",
   "metadata": {},
   "source": [
    "From the data it seems that before 1935 the temperature anomaly was under 0.0 and ranged between -0.6 and 0.0. After about 1935 the anomaly started approximately linearly increasing from 1935 to present from 0.0 to 0.9. This indicated global warming in temperatures"
   ]
  },
  {
   "cell_type": "markdown",
   "id": "37761b7b-5e7b-4ac8-8d96-33f44bb562a2",
   "metadata": {},
   "source": [
    "### 2.2 Baseline anomaly"
   ]
  },
  {
   "cell_type": "markdown",
   "id": "991e066e-307c-4ab2-a40c-747542fc99e9",
   "metadata": {},
   "source": [
    "Q1."
   ]
  },
  {
   "cell_type": "code",
   "execution_count": 28,
   "id": "a0e010a4-089b-4de3-bb58-47327e5e3e20",
   "metadata": {
    "tags": []
   },
   "outputs": [
    {
     "data": {
      "text/plain": [
       "(1850, 1900)"
      ]
     },
     "execution_count": 28,
     "metadata": {},
     "output_type": "execute_result"
    }
   ],
   "source": [
    "baselinedata = hadcrut[(hadcrut.year >= 1850) & (hadcrut.year <= 1900)]\n",
    "baselinedata.year.min(), baselinedata.year.max()"
   ]
  },
  {
   "cell_type": "code",
   "execution_count": 29,
   "id": "d2c139ec-ce64-4710-9512-8238f928d64a",
   "metadata": {
    "tags": []
   },
   "outputs": [
    {
     "data": {
      "text/plain": [
       "-0.35650217072549023"
      ]
     },
     "execution_count": 29,
     "metadata": {},
     "output_type": "execute_result"
    }
   ],
   "source": [
    "baselineAnomaly = baselinedata.anomaly.mean()\n",
    "baselineAnomaly"
   ]
  },
  {
   "cell_type": "markdown",
   "id": "f05ccbe5-808c-465b-89b0-06afd95ec328",
   "metadata": {},
   "source": [
    "The baseline anomaly is about -0.357"
   ]
  },
  {
   "cell_type": "markdown",
   "id": "bd8ae6da-529a-4df4-9393-d385c43b5c10",
   "metadata": {},
   "source": [
    "### 2.3 When will we hit 2C?"
   ]
  },
  {
   "cell_type": "markdown",
   "id": "1608471c-bcae-4dcd-bc50-d1159d4fdd33",
   "metadata": {},
   "source": [
    "Q1."
   ]
  },
  {
   "cell_type": "code",
   "execution_count": 30,
   "id": "a9ee2519-ed69-4a41-a1f7-67c48985532a",
   "metadata": {
    "tags": []
   },
   "outputs": [
    {
     "data": {
      "text/plain": [
       "(1963, 2022)"
      ]
     },
     "execution_count": 30,
     "metadata": {},
     "output_type": "execute_result"
    }
   ],
   "source": [
    "recentdata = hadcrut[hadcrut.year >= 1963].copy()\n",
    "recentdata.year.min(), recentdata.year.max()"
   ]
  },
  {
   "cell_type": "code",
   "execution_count": 31,
   "id": "45732389-1030-45fd-81ca-65ade227ece6",
   "metadata": {
    "tags": []
   },
   "outputs": [
    {
     "data": {
      "image/png": "[encoded data removed]",
      "text/plain": [
       "<Figure size 640x480 with 1 Axes>"
      ]
     },
     "metadata": {},
     "output_type": "display_data"
    }
   ],
   "source": [
    "sns.regplot(x=\"year\", y=\"anomaly\", data=recentdata)\n",
    "plt.xlabel(\"Year\")\n",
    "plt.ylabel(\"Temperature Anomaly in Celsius\")\n",
    "plt.title(\"Global Temperature Anomaly Over Time\")\n",
    "plt.show()"
   ]
  },
  {
   "cell_type": "markdown",
   "id": "ccab4a00-ddc1-46e5-b230-070431f6c865",
   "metadata": {},
   "source": [
    "In my opinion, I think this regression line fits the data well"
   ]
  },
  {
   "cell_type": "markdown",
   "id": "f55a100d-416b-4558-a159-a498c220f68f",
   "metadata": {},
   "source": [
    "Q2."
   ]
  },
  {
   "cell_type": "code",
   "execution_count": 37,
   "id": "da05f728-103c-48c3-b1ed-33dcff5706c2",
   "metadata": {
    "tags": []
   },
   "outputs": [
    {
     "data": {
      "text/html": [
       "<div>\n",
       "<style scoped>\n",
       "    .dataframe tbody tr th:only-of-type {\n",
       "        vertical-align: middle;\n",
       "    }\n",
       "\n",
       "    .dataframe tbody tr th {\n",
       "        vertical-align: top;\n",
       "    }\n",
       "\n",
       "    .dataframe thead th {\n",
       "        text-align: right;\n",
       "    }\n",
       "</style>\n",
       "<table border=\"1\" class=\"dataframe\">\n",
       "  <thead>\n",
       "    <tr style=\"text-align: right;\">\n",
       "      <th></th>\n",
       "      <th>year</th>\n",
       "      <th>anomaly</th>\n",
       "      <th>lower</th>\n",
       "      <th>upper</th>\n",
       "      <th>adjustedAnomaly</th>\n",
       "      <th>yearAdjusted</th>\n",
       "    </tr>\n",
       "  </thead>\n",
       "  <tbody>\n",
       "    <tr>\n",
       "      <th>113</th>\n",
       "      <td>1963</td>\n",
       "      <td>-0.036806</td>\n",
       "      <td>-0.090570</td>\n",
       "      <td>0.016958</td>\n",
       "      <td>-0.393308</td>\n",
       "      <td>-37</td>\n",
       "    </tr>\n",
       "    <tr>\n",
       "      <th>114</th>\n",
       "      <td>1964</td>\n",
       "      <td>-0.305867</td>\n",
       "      <td>-0.349492</td>\n",
       "      <td>-0.262241</td>\n",
       "      <td>-0.662369</td>\n",
       "      <td>-36</td>\n",
       "    </tr>\n",
       "    <tr>\n",
       "      <th>115</th>\n",
       "      <td>1965</td>\n",
       "      <td>-0.204388</td>\n",
       "      <td>-0.253574</td>\n",
       "      <td>-0.155202</td>\n",
       "      <td>-0.560890</td>\n",
       "      <td>-35</td>\n",
       "    </tr>\n",
       "    <tr>\n",
       "      <th>116</th>\n",
       "      <td>1966</td>\n",
       "      <td>-0.148885</td>\n",
       "      <td>-0.198392</td>\n",
       "      <td>-0.099377</td>\n",
       "      <td>-0.505387</td>\n",
       "      <td>-34</td>\n",
       "    </tr>\n",
       "    <tr>\n",
       "      <th>117</th>\n",
       "      <td>1967</td>\n",
       "      <td>-0.117516</td>\n",
       "      <td>-0.160625</td>\n",
       "      <td>-0.074408</td>\n",
       "      <td>-0.474018</td>\n",
       "      <td>-33</td>\n",
       "    </tr>\n",
       "  </tbody>\n",
       "</table>\n",
       "</div>"
      ],
      "text/plain": [
       "     year   anomaly     lower     upper  adjustedAnomaly  yearAdjusted\n",
       "113  1963 -0.036806 -0.090570  0.016958        -0.393308           -37\n",
       "114  1964 -0.305867 -0.349492 -0.262241        -0.662369           -36\n",
       "115  1965 -0.204388 -0.253574 -0.155202        -0.560890           -35\n",
       "116  1966 -0.148885 -0.198392 -0.099377        -0.505387           -34\n",
       "117  1967 -0.117516 -0.160625 -0.074408        -0.474018           -33"
      ]
     },
     "execution_count": 37,
     "metadata": {},
     "output_type": "execute_result"
    }
   ],
   "source": [
    "recentdata[\"adjustedAnomaly\"] = recentdata[\"anomaly\"] + baselineAnomaly\n",
    "recentdata.head()"
   ]
  },
  {
   "cell_type": "markdown",
   "id": "2afdc72a-0965-4530-85cf-a579abd50c86",
   "metadata": {
    "tags": []
   },
   "source": [
    "Q3."
   ]
  },
  {
   "cell_type": "code",
   "execution_count": 38,
   "id": "328d9c7a-1a7b-451c-959b-631a74684eac",
   "metadata": {
    "tags": []
   },
   "outputs": [
    {
     "data": {
      "text/html": [
       "<table class=\"simpletable\">\n",
       "<caption>OLS Regression Results</caption>\n",
       "<tr>\n",
       "  <th>Dep. Variable:</th>     <td>adjustedAnomaly</td> <th>  R-squared:         </th> <td>   0.920</td>\n",
       "</tr>\n",
       "<tr>\n",
       "  <th>Model:</th>                   <td>OLS</td>       <th>  Adj. R-squared:    </th> <td>   0.918</td>\n",
       "</tr>\n",
       "<tr>\n",
       "  <th>Method:</th>             <td>Least Squares</td>  <th>  F-statistic:       </th> <td>   665.3</td>\n",
       "</tr>\n",
       "<tr>\n",
       "  <th>Date:</th>             <td>Wed, 12 Jul 2023</td> <th>  Prob (F-statistic):</th> <td>1.80e-33</td>\n",
       "</tr>\n",
       "<tr>\n",
       "  <th>Time:</th>                 <td>06:38:01</td>     <th>  Log-Likelihood:    </th> <td>  55.935</td>\n",
       "</tr>\n",
       "<tr>\n",
       "  <th>No. Observations:</th>      <td>    60</td>      <th>  AIC:               </th> <td>  -107.9</td>\n",
       "</tr>\n",
       "<tr>\n",
       "  <th>Df Residuals:</th>          <td>    58</td>      <th>  BIC:               </th> <td>  -103.7</td>\n",
       "</tr>\n",
       "<tr>\n",
       "  <th>Df Model:</th>              <td>     1</td>      <th>                     </th>     <td> </td>   \n",
       "</tr>\n",
       "<tr>\n",
       "  <th>Covariance Type:</th>      <td>nonrobust</td>    <th>                     </th>     <td> </td>   \n",
       "</tr>\n",
       "</table>\n",
       "<table class=\"simpletable\">\n",
       "<tr>\n",
       "        <td></td>          <th>coef</th>     <th>std err</th>      <th>t</th>      <th>P>|t|</th>  <th>[0.025</th>    <th>0.975]</th>  \n",
       "</tr>\n",
       "<tr>\n",
       "  <th>Intercept</th>    <td>    0.0866</td> <td>    0.014</td> <td>    6.353</td> <td> 0.000</td> <td>    0.059</td> <td>    0.114</td>\n",
       "</tr>\n",
       "<tr>\n",
       "  <th>yearAdjusted</th> <td>    0.0186</td> <td>    0.001</td> <td>   25.794</td> <td> 0.000</td> <td>    0.017</td> <td>    0.020</td>\n",
       "</tr>\n",
       "</table>\n",
       "<table class=\"simpletable\">\n",
       "<tr>\n",
       "  <th>Omnibus:</th>       <td> 2.154</td> <th>  Durbin-Watson:     </th> <td>   1.718</td>\n",
       "</tr>\n",
       "<tr>\n",
       "  <th>Prob(Omnibus):</th> <td> 0.341</td> <th>  Jarque-Bera (JB):  </th> <td>   1.385</td>\n",
       "</tr>\n",
       "<tr>\n",
       "  <th>Skew:</th>          <td> 0.061</td> <th>  Prob(JB):          </th> <td>   0.500</td>\n",
       "</tr>\n",
       "<tr>\n",
       "  <th>Kurtosis:</th>      <td> 2.266</td> <th>  Cond. No.          </th> <td>    20.6</td>\n",
       "</tr>\n",
       "</table><br/><br/>Notes:<br/>[1] Standard Errors assume that the covariance matrix of the errors is correctly specified."
      ],
      "text/latex": [
       "\\begin{center}\n",
       "\\begin{tabular}{lclc}\n",
       "\\toprule\n",
       "\\textbf{Dep. Variable:}    & adjustedAnomaly  & \\textbf{  R-squared:         } &     0.920   \\\\\n",
       "\\textbf{Model:}            &       OLS        & \\textbf{  Adj. R-squared:    } &     0.918   \\\\\n",
       "\\textbf{Method:}           &  Least Squares   & \\textbf{  F-statistic:       } &     665.3   \\\\\n",
       "\\textbf{Date:}             & Wed, 12 Jul 2023 & \\textbf{  Prob (F-statistic):} &  1.80e-33   \\\\\n",
       "\\textbf{Time:}             &     06:38:01     & \\textbf{  Log-Likelihood:    } &    55.935   \\\\\n",
       "\\textbf{No. Observations:} &          60      & \\textbf{  AIC:               } &    -107.9   \\\\\n",
       "\\textbf{Df Residuals:}     &          58      & \\textbf{  BIC:               } &    -103.7   \\\\\n",
       "\\textbf{Df Model:}         &           1      & \\textbf{                     } &             \\\\\n",
       "\\textbf{Covariance Type:}  &    nonrobust     & \\textbf{                     } &             \\\\\n",
       "\\bottomrule\n",
       "\\end{tabular}\n",
       "\\begin{tabular}{lcccccc}\n",
       "                      & \\textbf{coef} & \\textbf{std err} & \\textbf{t} & \\textbf{P$> |$t$|$} & \\textbf{[0.025} & \\textbf{0.975]}  \\\\\n",
       "\\midrule\n",
       "\\textbf{Intercept}    &       0.0866  &        0.014     &     6.353  &         0.000        &        0.059    &        0.114     \\\\\n",
       "\\textbf{yearAdjusted} &       0.0186  &        0.001     &    25.794  &         0.000        &        0.017    &        0.020     \\\\\n",
       "\\bottomrule\n",
       "\\end{tabular}\n",
       "\\begin{tabular}{lclc}\n",
       "\\textbf{Omnibus:}       &  2.154 & \\textbf{  Durbin-Watson:     } &    1.718  \\\\\n",
       "\\textbf{Prob(Omnibus):} &  0.341 & \\textbf{  Jarque-Bera (JB):  } &    1.385  \\\\\n",
       "\\textbf{Skew:}          &  0.061 & \\textbf{  Prob(JB):          } &    0.500  \\\\\n",
       "\\textbf{Kurtosis:}      &  2.266 & \\textbf{  Cond. No.          } &     20.6  \\\\\n",
       "\\bottomrule\n",
       "\\end{tabular}\n",
       "%\\caption{OLS Regression Results}\n",
       "\\end{center}\n",
       "\n",
       "Notes: \\newline\n",
       " [1] Standard Errors assume that the covariance matrix of the errors is correctly specified."
      ],
      "text/plain": [
       "<class 'statsmodels.iolib.summary.Summary'>\n",
       "\"\"\"\n",
       "                            OLS Regression Results                            \n",
       "==============================================================================\n",
       "Dep. Variable:        adjustedAnomaly   R-squared:                       0.920\n",
       "Model:                            OLS   Adj. R-squared:                  0.918\n",
       "Method:                 Least Squares   F-statistic:                     665.3\n",
       "Date:                Wed, 12 Jul 2023   Prob (F-statistic):           1.80e-33\n",
       "Time:                        06:38:01   Log-Likelihood:                 55.935\n",
       "No. Observations:                  60   AIC:                            -107.9\n",
       "Df Residuals:                      58   BIC:                            -103.7\n",
       "Df Model:                           1                                         \n",
       "Covariance Type:            nonrobust                                         \n",
       "================================================================================\n",
       "                   coef    std err          t      P>|t|      [0.025      0.975]\n",
       "--------------------------------------------------------------------------------\n",
       "Intercept        0.0866      0.014      6.353      0.000       0.059       0.114\n",
       "yearAdjusted     0.0186      0.001     25.794      0.000       0.017       0.020\n",
       "==============================================================================\n",
       "Omnibus:                        2.154   Durbin-Watson:                   1.718\n",
       "Prob(Omnibus):                  0.341   Jarque-Bera (JB):                1.385\n",
       "Skew:                           0.061   Prob(JB):                        0.500\n",
       "Kurtosis:                       2.266   Cond. No.                         20.6\n",
       "==============================================================================\n",
       "\n",
       "Notes:\n",
       "[1] Standard Errors assume that the covariance matrix of the errors is correctly specified.\n",
       "\"\"\""
      ]
     },
     "execution_count": 38,
     "metadata": {},
     "output_type": "execute_result"
    }
   ],
   "source": [
    "recentdata[\"yearAdjusted\"] = recentdata[\"year\"] - 2000\n",
    "m = smf.ols(\"adjustedAnomaly ~ yearAdjusted\", data=recentdata).fit()\n",
    "m.summary()"
   ]
  },
  {
   "cell_type": "markdown",
   "id": "a4c5e242-60fe-4eba-81ee-a4ac6b44b58f",
   "metadata": {},
   "source": [
    "R squared is 0.92 or 92%. This number tells us how good our model is to the data (how well our model fits the data)"
   ]
  },
  {
   "cell_type": "markdown",
   "id": "6684c10b-f630-49b3-b345-3209ff4ddecd",
   "metadata": {},
   "source": [
    "Q4."
   ]
  },
  {
   "cell_type": "markdown",
   "id": "a600fdad-f22e-4c0c-aefd-571aced3e899",
   "metadata": {},
   "source": [
    "The intercept is 0.0866 which means the adjusted anomaly was 0.086 degrees Celsius above the baseline in the year 2000. The slope which is 0.0186 which means the annual increase in temperature anomaly above the pre-industrial baseline is 0.0186 degrees Celsius. Since the p-values for both are 0.00 which is below 0.05, they are statistically significant. This mean there is a significant positive relationship between the year and the adjusted anomaly, which points to a trend of global warming."
   ]
  },
  {
   "cell_type": "markdown",
   "id": "9daa4f36-dd38-49d2-8e33-7f5a98208b6a",
   "metadata": {
    "tags": []
   },
   "source": [
    "Q5."
   ]
  },
  {
   "cell_type": "markdown",
   "id": "65a5206d-db5f-4c39-9be9-f8b3d27e0ea3",
   "metadata": {
    "tags": []
   },
   "source": [
    "(a) If we use the years as is the intercept would be for year 0 which isn't in the range of our data. It wouldn't make sense\n",
    "\n",
    "(b) If we use years relative to 2000, it makes more sense as it's in range and 2000 is a good year for reference.\n",
    "\n",
    "Yes the intercept is statistically significant because the p-value is 0. Which means it the temperature anomaly in the year 2000 was significantly different from zero"
   ]
  },
  {
   "cell_type": "markdown",
   "id": "4c033847-7c5f-4177-97c5-26563e0dc5cf",
   "metadata": {
    "tags": []
   },
   "source": [
    "Q6."
   ]
  },
  {
   "cell_type": "code",
   "execution_count": 60,
   "id": "582980d8-3692-459e-a248-b701df65223c",
   "metadata": {
    "tags": []
   },
   "outputs": [
    {
     "data": {
      "text/plain": [
       "0.5144"
      ]
     },
     "execution_count": 60,
     "metadata": {},
     "output_type": "execute_result"
    }
   ],
   "source": [
    "aa2023 = 0.0186 * (2023 - 2000) + 0.0866\n",
    "aa2023"
   ]
  },
  {
   "cell_type": "markdown",
   "id": "fb5b3898-3699-4ad9-a654-07b9e4d41577",
   "metadata": {},
   "source": [
    "According to the model, the world now in 2023 is 0.5144 degrees Celsius above the pre-industrial baseline"
   ]
  },
  {
   "cell_type": "markdown",
   "id": "1b3826a6-f145-4420-959b-e350abecd835",
   "metadata": {},
   "source": [
    "Q7."
   ]
  },
  {
   "cell_type": "code",
   "execution_count": 39,
   "id": "1c1558e3-de29-4fa9-ae1b-2ed702828ee6",
   "metadata": {
    "tags": []
   },
   "outputs": [
    {
     "data": {
      "text/plain": [
       "2075.989247311828"
      ]
     },
     "execution_count": 39,
     "metadata": {},
     "output_type": "execute_result"
    }
   ],
   "source": [
    "years = (1.5 - 0.0866) / 0.0186\n",
    "years + 2000"
   ]
  },
  {
   "cell_type": "code",
   "execution_count": 40,
   "id": "8444cf76-b350-43d5-9f23-a7dd5fe6c173",
   "metadata": {
    "tags": []
   },
   "outputs": [
    {
     "data": {
      "text/plain": [
       "2102.8709677419356"
      ]
     },
     "execution_count": 40,
     "metadata": {},
     "output_type": "execute_result"
    }
   ],
   "source": [
    "years = (2 - 0.0866) / 0.0186\n",
    "years + 2000"
   ]
  },
  {
   "cell_type": "markdown",
   "id": "01ac3255-54eb-40fc-8bc8-bf0a6dbe04d9",
   "metadata": {},
   "source": [
    "I'm a little confused because these values are different from what the instructions are saying I should get. But accroding to this model, we will hit 1.5 Celsius in 2075 and 2 Celsius in 2103"
   ]
  },
  {
   "cell_type": "markdown",
   "id": "f618bdb8-fb47-4f7d-bc6a-ff98e3b99a9a",
   "metadata": {
    "tags": []
   },
   "source": [
    "Q8."
   ]
  },
  {
   "cell_type": "markdown",
   "id": "4ee03273-56b3-4f05-a9be-01ee44403bd5",
   "metadata": {},
   "source": [
    "I think these thresholods will be crossed earlier because I think I messed up somewhere and got very late years. I think with the current rate of increase there is no stopping the threshold crossing. Humans will just have to innovate and adapt. It depends largely on human cooperation, earths natural warming and cooling cycles, and carbon emissions. To make the model better we could use a non linear model. "
   ]
  },
  {
   "cell_type": "markdown",
   "id": "a1a2c635-ad6c-4e50-8fa6-6a04a6827513",
   "metadata": {},
   "source": [
    "I spend 4 hours on this assignment"
   ]
  }
 ],
 "metadata": {
  "kernelspec": {
   "display_name": "Python 3 (ipykernel)",
   "language": "python",
   "name": "python3"
  },
  "language_info": {
   "codemirror_mode": {
    "name": "ipython",
    "version": 3
   },
   "file_extension": ".py",
   "mimetype": "text/x-python",
   "name": "python",
   "nbconvert_exporter": "python",
   "pygments_lexer": "ipython3",
   "version": "3.10.10"
  }
 },
 "nbformat": 4,
 "nbformat_minor": 5
}
