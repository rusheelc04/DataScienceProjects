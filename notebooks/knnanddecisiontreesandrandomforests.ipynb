{
 "cells": [
  {
   "cell_type": "markdown",
   "id": "64d08645-1e4d-4fe3-8d91-668a3a62883b",
   "metadata": {},
   "source": [
    "# Non-parametric machine learning models knn, decision trees, and random forests\n",
    "Name: Rusheel Chande"
   ]
  },
  {
   "cell_type": "code",
   "execution_count": 1,
   "id": "c98caa9f-85a1-4d77-b4a7-b6d24294aa68",
   "metadata": {
    "tags": []
   },
   "outputs": [],
   "source": [
    "import pandas as pd\n",
    "import numpy as np\n",
    "import matplotlib.pyplot as plt\n",
    "import seaborn as sns\n",
    "from sklearn.metrics import mean_squared_error, r2_score\n",
    "from sklearn.preprocessing import StandardScaler\n",
    "from sklearn.model_selection import train_test_split, cross_validate, cross_val_score\n",
    "from sklearn.linear_model import SGDRegressor\n",
    "from sklearn.pipeline import Pipeline, make_pipeline\n",
    "from sklearn.neighbors import KNeighborsClassifier\n",
    "from sklearn.metrics import accuracy_score\n",
    "from sklearn.tree import DecisionTreeClassifier\n",
    "from sklearn import tree\n",
    "from sklearn.ensemble import RandomForestClassifier"
   ]
  },
  {
   "cell_type": "markdown",
   "id": "9e103d94-fc3a-4e33-9f7c-31da9dc35e1d",
   "metadata": {
    "tags": []
   },
   "source": [
    "## 1. Data Exploration & kNN"
   ]
  },
  {
   "cell_type": "markdown",
   "id": "102b99f3-c996-42b4-ade2-803201d21137",
   "metadata": {},
   "source": [
    "### 1.1 Load the data"
   ]
  },
  {
   "cell_type": "markdown",
   "id": "a9437835-4026-41e8-8f9d-7573f3eb8862",
   "metadata": {},
   "source": [
    "1."
   ]
  },
  {
   "cell_type": "markdown",
   "id": "45912f34-c36e-4472-a981-bedcf873ca82",
   "metadata": {},
   "source": [
    "(a) the number of rows and columns"
   ]
  },
  {
   "cell_type": "code",
   "execution_count": 2,
   "id": "a45cea65-a7a0-47fc-a64a-d26f073d652c",
   "metadata": {
    "tags": []
   },
   "outputs": [
    {
     "data": {
      "text/plain": [
       "(245057, 4)"
      ]
     },
     "execution_count": 2,
     "metadata": {},
     "output_type": "execute_result"
    }
   ],
   "source": [
    "skin = pd.read_csv(\"../data/skin-nonskin.csv\", sep=\"\\t\")\n",
    "skin.shape"
   ]
  },
  {
   "cell_type": "markdown",
   "id": "6d37ddc3-8412-47f0-9301-4967a9e3ddad",
   "metadata": {},
   "source": [
    "There are 4 columns and 245,057 rows"
   ]
  },
  {
   "cell_type": "markdown",
   "id": "10312a9c-9c82-4945-8f7d-18ba50d50e63",
   "metadata": {},
   "source": [
    "(b) print a few lines of data"
   ]
  },
  {
   "cell_type": "code",
   "execution_count": 3,
   "id": "0ffdb324-5e25-485b-a32e-323ee2817f4e",
   "metadata": {
    "tags": []
   },
   "outputs": [
    {
     "data": {
      "text/html": [
       "<div>\n",
       "<style scoped>\n",
       "    .dataframe tbody tr th:only-of-type {\n",
       "        vertical-align: middle;\n",
       "    }\n",
       "\n",
       "    .dataframe tbody tr th {\n",
       "        vertical-align: top;\n",
       "    }\n",
       "\n",
       "    .dataframe thead th {\n",
       "        text-align: right;\n",
       "    }\n",
       "</style>\n",
       "<table border=\"1\" class=\"dataframe\">\n",
       "  <thead>\n",
       "    <tr style=\"text-align: right;\">\n",
       "      <th></th>\n",
       "      <th>B</th>\n",
       "      <th>G</th>\n",
       "      <th>R</th>\n",
       "      <th>Label</th>\n",
       "    </tr>\n",
       "  </thead>\n",
       "  <tbody>\n",
       "    <tr>\n",
       "      <th>118769</th>\n",
       "      <td>80</td>\n",
       "      <td>83</td>\n",
       "      <td>34</td>\n",
       "      <td>2</td>\n",
       "    </tr>\n",
       "    <tr>\n",
       "      <th>159652</th>\n",
       "      <td>138</td>\n",
       "      <td>136</td>\n",
       "      <td>82</td>\n",
       "      <td>2</td>\n",
       "    </tr>\n",
       "    <tr>\n",
       "      <th>88258</th>\n",
       "      <td>170</td>\n",
       "      <td>168</td>\n",
       "      <td>120</td>\n",
       "      <td>2</td>\n",
       "    </tr>\n",
       "    <tr>\n",
       "      <th>133572</th>\n",
       "      <td>107</td>\n",
       "      <td>107</td>\n",
       "      <td>91</td>\n",
       "      <td>2</td>\n",
       "    </tr>\n",
       "    <tr>\n",
       "      <th>4086</th>\n",
       "      <td>117</td>\n",
       "      <td>156</td>\n",
       "      <td>211</td>\n",
       "      <td>1</td>\n",
       "    </tr>\n",
       "    <tr>\n",
       "      <th>188455</th>\n",
       "      <td>162</td>\n",
       "      <td>164</td>\n",
       "      <td>122</td>\n",
       "      <td>2</td>\n",
       "    </tr>\n",
       "    <tr>\n",
       "      <th>59409</th>\n",
       "      <td>176</td>\n",
       "      <td>176</td>\n",
       "      <td>130</td>\n",
       "      <td>2</td>\n",
       "    </tr>\n",
       "    <tr>\n",
       "      <th>202904</th>\n",
       "      <td>161</td>\n",
       "      <td>158</td>\n",
       "      <td>113</td>\n",
       "      <td>2</td>\n",
       "    </tr>\n",
       "  </tbody>\n",
       "</table>\n",
       "</div>"
      ],
      "text/plain": [
       "          B    G    R  Label\n",
       "118769   80   83   34      2\n",
       "159652  138  136   82      2\n",
       "88258   170  168  120      2\n",
       "133572  107  107   91      2\n",
       "4086    117  156  211      1\n",
       "188455  162  164  122      2\n",
       "59409   176  176  130      2\n",
       "202904  161  158  113      2"
      ]
     },
     "execution_count": 3,
     "metadata": {},
     "output_type": "execute_result"
    }
   ],
   "source": [
    "skin.sample(8)"
   ]
  },
  {
   "cell_type": "markdown",
   "id": "46d3be46-9b46-4e86-9d0d-15e9feb60b0b",
   "metadata": {},
   "source": [
    "(c) does it contain any missing values?"
   ]
  },
  {
   "cell_type": "code",
   "execution_count": 4,
   "id": "334d8a1d-2cf0-48d1-a178-b382262baa49",
   "metadata": {
    "tags": []
   },
   "outputs": [
    {
     "data": {
      "text/plain": [
       "B        0\n",
       "G        0\n",
       "R        0\n",
       "Label    0\n",
       "dtype: int64"
      ]
     },
     "execution_count": 4,
     "metadata": {},
     "output_type": "execute_result"
    }
   ],
   "source": [
    "skin.isna().sum()"
   ]
  },
  {
   "cell_type": "markdown",
   "id": "658751cc-3862-4505-a144-6e7ceada7af9",
   "metadata": {},
   "source": [
    "Thankfully, there are no missing values."
   ]
  },
  {
   "cell_type": "markdown",
   "id": "dc164e90-39f0-4947-afab-d8badccbec02",
   "metadata": {},
   "source": [
    "(d) what are maximum and minimum values for R, G, B?"
   ]
  },
  {
   "cell_type": "code",
   "execution_count": 5,
   "id": "1f1394f9-57ea-4027-8829-4d0c01cab9e8",
   "metadata": {
    "tags": []
   },
   "outputs": [
    {
     "name": "stdout",
     "output_type": "stream",
     "text": [
      "Maximum values (R G B):  255 255 255\n",
      "Minimum values (R G B):  0 0 0\n"
     ]
    }
   ],
   "source": [
    "print(\"Maximum values (R G B): \", skin.R.max(), skin.G.max(), skin.B.max())\n",
    "print(\"Minimum values (R G B): \", skin.R.min(), skin.G.min(), skin.B.min())"
   ]
  },
  {
   "cell_type": "markdown",
   "id": "79b6955a-38d9-4141-be78-d426ba32fdd6",
   "metadata": {},
   "source": [
    "The maximum value for all R, G, and B is 255 and the minimum value for all of them is 0"
   ]
  },
  {
   "cell_type": "markdown",
   "id": "8bd4db88-850f-4018-a47e-a510fd57cf76",
   "metadata": {},
   "source": [
    "(e) what are the possible labels?"
   ]
  },
  {
   "cell_type": "code",
   "execution_count": 6,
   "id": "15e064c9-540f-48b7-8966-668c713baa6d",
   "metadata": {
    "tags": []
   },
   "outputs": [
    {
     "data": {
      "text/plain": [
       "array([1, 2], dtype=int64)"
      ]
     },
     "execution_count": 6,
     "metadata": {},
     "output_type": "execute_result"
    }
   ],
   "source": [
    "skin.Label.unique()"
   ]
  },
  {
   "cell_type": "markdown",
   "id": "5e6a32bb-34fd-4f46-b422-707edd2ab7ad",
   "metadata": {},
   "source": [
    "The possible values for \"Label\" is either 1 or 2. 1 means it's skin and 2 means it isn't."
   ]
  },
  {
   "cell_type": "markdown",
   "id": "3f761dff-4430-4cb1-bf04-38bcbea9f3f9",
   "metadata": {},
   "source": [
    "2."
   ]
  },
  {
   "cell_type": "markdown",
   "id": "512d22f5-9b8e-4488-ae78-af3d5b6d9665",
   "metadata": {},
   "source": [
    "(a) What is the dimensionality of the feature space?"
   ]
  },
  {
   "cell_type": "markdown",
   "id": "c1681849-5007-406d-b753-fff46572f042",
   "metadata": {},
   "source": [
    "This feature space is 3 dimentional. It is 3 because 3 is the number of independent features that affect the dependent feature/variable"
   ]
  },
  {
   "cell_type": "markdown",
   "id": "dfb2e69d-d145-412d-96b2-9143c201b701",
   "metadata": {},
   "source": [
    "(b) In this feature space, does the class of feasible skin tones have a linear or non-linear boundary?"
   ]
  },
  {
   "cell_type": "markdown",
   "id": "61a5d4a1-86f7-4270-b4a6-6cc420a5955c",
   "metadata": {},
   "source": [
    "Yes, the boundary is non linear, because the color of skin tones vary from person to person. Some may be darker, while others lighter."
   ]
  },
  {
   "cell_type": "markdown",
   "id": "b6057e6a-ce71-47b3-8046-48cc255e3d4b",
   "metadata": {},
   "source": [
    "(c) Given the R,G,B values, is there any uncertainty if the given tone is a possible skin tone?"
   ]
  },
  {
   "cell_type": "markdown",
   "id": "9b5f7ba8-3964-479e-a550-292b723eb882",
   "metadata": {},
   "source": [
    "Yes, there is a degree of uncertainty because there may be some exceptional cases when one's skin tone is an outlier. For example, some people may have a pigmentation condition which causes the skin to become extremely light. This can cause uncertainty in a model. However, some complex models may be able to minimize this potential trigger of uncertainty."
   ]
  },
  {
   "cell_type": "markdown",
   "id": "e4340141-7f52-4956-b660-88137a4450bb",
   "metadata": {},
   "source": [
    "3. What is the accuracy of a naive classifier that categorizes all samples as the majority class?"
   ]
  },
  {
   "cell_type": "code",
   "execution_count": 7,
   "id": "77132693-bc57-4f5e-8178-34c10adb9c0b",
   "metadata": {
    "tags": []
   },
   "outputs": [
    {
     "data": {
      "text/plain": [
       "2    194198\n",
       "1     50859\n",
       "Name: Label, dtype: int64"
      ]
     },
     "execution_count": 7,
     "metadata": {},
     "output_type": "execute_result"
    }
   ],
   "source": [
    "label_count = skin.Label.value_counts()\n",
    "label_count"
   ]
  },
  {
   "cell_type": "code",
   "execution_count": 8,
   "id": "79e7e77b-0f8d-4432-b38b-af11d716b28b",
   "metadata": {
    "tags": []
   },
   "outputs": [
    {
     "data": {
      "text/plain": [
       "245057"
      ]
     },
     "execution_count": 8,
     "metadata": {},
     "output_type": "execute_result"
    }
   ],
   "source": [
    "skin.Label.count()"
   ]
  },
  {
   "cell_type": "code",
   "execution_count": 9,
   "id": "8864991b-74fd-46c7-95ef-d29d06009166",
   "metadata": {
    "tags": []
   },
   "outputs": [
    {
     "data": {
      "text/plain": [
       "0.7924605295910747"
      ]
     },
     "execution_count": 9,
     "metadata": {},
     "output_type": "execute_result"
    }
   ],
   "source": [
    "naive_accuracy = 194198 / 245057\n",
    "naive_accuracy"
   ]
  },
  {
   "cell_type": "markdown",
   "id": "4a57084f-578e-4633-9ca1-826d22dab3fe",
   "metadata": {},
   "source": [
    "The accuracy of a naive classifier is about 0.79. And the majority class is 2 which is \"not skin\" essentially"
   ]
  },
  {
   "cell_type": "markdown",
   "id": "23fe3442-7f74-40d2-a79f-4f7d2ba689a7",
   "metadata": {},
   "source": [
    "4. (1pt) Create the feature space X (the R, G, B values) and the target variable y (the labels). Split both X and\n",
    "y into training and validation sets (80% for training, 20% for testing)."
   ]
  },
  {
   "cell_type": "code",
   "execution_count": 10,
   "id": "8e2e66cc-01c4-4440-b33a-2809a39d7a51",
   "metadata": {
    "tags": []
   },
   "outputs": [],
   "source": [
    "x_data = skin[[\"R\", \"G\", \"B\"]]\n",
    "y_data = skin[\"Label\"]\n",
    "x_train, x_test, y_train, y_test = train_test_split(x_data, y_data, test_size=0.20, random_state=371)"
   ]
  },
  {
   "cell_type": "markdown",
   "id": "6fd30b1a-2c0f-46c8-9288-bbcbf60d7a20",
   "metadata": {},
   "source": [
    "### 1.2 knn"
   ]
  },
  {
   "cell_type": "markdown",
   "id": "d2dcf3e6-d402-4a79-b7d6-c17767e820c8",
   "metadata": {},
   "source": [
    "1. Compute accuracy on both training and validation data by using knn"
   ]
  },
  {
   "cell_type": "code",
   "execution_count": 11,
   "id": "2dd20398-5876-4ed4-8886-e3f435465787",
   "metadata": {
    "tags": []
   },
   "outputs": [
    {
     "data": {
      "text/plain": [
       "(0.9996378382514218, 0.9995103240022851)"
      ]
     },
     "execution_count": 11,
     "metadata": {},
     "output_type": "execute_result"
    }
   ],
   "source": [
    "knn_model = KNeighborsClassifier()\n",
    "knn_model.fit(x_train, y_train)\n",
    "train_predict = knn_model.predict(x_train)\n",
    "test_predict = knn_model.predict(x_test)\n",
    "train_acc = accuracy_score(y_train, train_predict)\n",
    "test_acc = accuracy_score(y_test, test_predict)\n",
    "\n",
    "train_acc, test_acc"
   ]
  },
  {
   "cell_type": "markdown",
   "id": "3389ccf9-c9e9-4478-b4b2-b9ef5ff728b7",
   "metadata": {},
   "source": [
    "The training accuracy is 0.9996 and the test accuracy is 0.9995"
   ]
  },
  {
   "cell_type": "markdown",
   "id": "675959bd-3a9b-4d48-a679-a7bcfc7f2c05",
   "metadata": {},
   "source": [
    "2. How well does knn perform compared to the naive model above and why?"
   ]
  },
  {
   "cell_type": "markdown",
   "id": "05e56c21-4ad2-4c46-8bbc-0d02f4084977",
   "metadata": {},
   "source": [
    "This model is so much more better because it is more complex rather that simply taking a proportion of the majority class. kNN takes into account the nearest data points to make a decision (based on distance). Another concern is overfitting since the accuracy is so high. But this doesn't seem to be the case since the test accuracy is just as high. "
   ]
  },
  {
   "cell_type": "markdown",
   "id": "fd39ea80-44b4-4381-b7d1-898b3a3f57fb",
   "metadata": {
    "tags": []
   },
   "source": [
    "## 2. Decision Trees"
   ]
  },
  {
   "cell_type": "code",
   "execution_count": 12,
   "id": "e4029f9e-9970-4ee7-b264-6d833f97c668",
   "metadata": {
    "tags": []
   },
   "outputs": [
    {
     "data": {
      "text/plain": [
       "no_of_dependents             int64\n",
       "education                   object\n",
       "self_employed               object\n",
       "income_annum                 int64\n",
       "loan_amount                  int64\n",
       "loan_term                    int64\n",
       "cibil_score                  int64\n",
       "residential_assets_value     int64\n",
       "commercial_assets_value      int64\n",
       "luxury_assets_value          int64\n",
       "bank_asset_value             int64\n",
       "loan_status                 object\n",
       "dtype: object"
      ]
     },
     "execution_count": 12,
     "metadata": {},
     "output_type": "execute_result"
    }
   ],
   "source": [
    "loan = pd.read_csv(\"../data/loan_approval_dataset.csv\")\n",
    "loan = loan.drop(\"loan_id\", axis=1)\n",
    "loan.dtypes"
   ]
  },
  {
   "cell_type": "code",
   "execution_count": 13,
   "id": "c465c2ed-4393-4c83-a6a6-f6712e4d125d",
   "metadata": {
    "tags": []
   },
   "outputs": [
    {
     "data": {
      "text/html": [
       "<div>\n",
       "<style scoped>\n",
       "    .dataframe tbody tr th:only-of-type {\n",
       "        vertical-align: middle;\n",
       "    }\n",
       "\n",
       "    .dataframe tbody tr th {\n",
       "        vertical-align: top;\n",
       "    }\n",
       "\n",
       "    .dataframe thead th {\n",
       "        text-align: right;\n",
       "    }\n",
       "</style>\n",
       "<table border=\"1\" class=\"dataframe\">\n",
       "  <thead>\n",
       "    <tr style=\"text-align: right;\">\n",
       "      <th></th>\n",
       "      <th>no_of_dependents</th>\n",
       "      <th>education</th>\n",
       "      <th>self_employed</th>\n",
       "      <th>income_annum</th>\n",
       "      <th>loan_amount</th>\n",
       "      <th>loan_term</th>\n",
       "      <th>cibil_score</th>\n",
       "      <th>residential_assets_value</th>\n",
       "      <th>commercial_assets_value</th>\n",
       "      <th>luxury_assets_value</th>\n",
       "      <th>bank_asset_value</th>\n",
       "      <th>loan_status</th>\n",
       "    </tr>\n",
       "  </thead>\n",
       "  <tbody>\n",
       "    <tr>\n",
       "      <th>0</th>\n",
       "      <td>2</td>\n",
       "      <td>0</td>\n",
       "      <td>1</td>\n",
       "      <td>9600000</td>\n",
       "      <td>29900000</td>\n",
       "      <td>12</td>\n",
       "      <td>778</td>\n",
       "      <td>2400000</td>\n",
       "      <td>17600000</td>\n",
       "      <td>22700000</td>\n",
       "      <td>8000000</td>\n",
       "      <td>0</td>\n",
       "    </tr>\n",
       "    <tr>\n",
       "      <th>1</th>\n",
       "      <td>0</td>\n",
       "      <td>1</td>\n",
       "      <td>0</td>\n",
       "      <td>4100000</td>\n",
       "      <td>12200000</td>\n",
       "      <td>8</td>\n",
       "      <td>417</td>\n",
       "      <td>2700000</td>\n",
       "      <td>2200000</td>\n",
       "      <td>8800000</td>\n",
       "      <td>3300000</td>\n",
       "      <td>1</td>\n",
       "    </tr>\n",
       "    <tr>\n",
       "      <th>2</th>\n",
       "      <td>3</td>\n",
       "      <td>0</td>\n",
       "      <td>1</td>\n",
       "      <td>9100000</td>\n",
       "      <td>29700000</td>\n",
       "      <td>20</td>\n",
       "      <td>506</td>\n",
       "      <td>7100000</td>\n",
       "      <td>4500000</td>\n",
       "      <td>33300000</td>\n",
       "      <td>12800000</td>\n",
       "      <td>1</td>\n",
       "    </tr>\n",
       "    <tr>\n",
       "      <th>3</th>\n",
       "      <td>3</td>\n",
       "      <td>0</td>\n",
       "      <td>1</td>\n",
       "      <td>8200000</td>\n",
       "      <td>30700000</td>\n",
       "      <td>8</td>\n",
       "      <td>467</td>\n",
       "      <td>18200000</td>\n",
       "      <td>3300000</td>\n",
       "      <td>23300000</td>\n",
       "      <td>7900000</td>\n",
       "      <td>1</td>\n",
       "    </tr>\n",
       "    <tr>\n",
       "      <th>4</th>\n",
       "      <td>5</td>\n",
       "      <td>1</td>\n",
       "      <td>0</td>\n",
       "      <td>9800000</td>\n",
       "      <td>24200000</td>\n",
       "      <td>20</td>\n",
       "      <td>382</td>\n",
       "      <td>12400000</td>\n",
       "      <td>8200000</td>\n",
       "      <td>29400000</td>\n",
       "      <td>5000000</td>\n",
       "      <td>1</td>\n",
       "    </tr>\n",
       "    <tr>\n",
       "      <th>...</th>\n",
       "      <td>...</td>\n",
       "      <td>...</td>\n",
       "      <td>...</td>\n",
       "      <td>...</td>\n",
       "      <td>...</td>\n",
       "      <td>...</td>\n",
       "      <td>...</td>\n",
       "      <td>...</td>\n",
       "      <td>...</td>\n",
       "      <td>...</td>\n",
       "      <td>...</td>\n",
       "      <td>...</td>\n",
       "    </tr>\n",
       "    <tr>\n",
       "      <th>4264</th>\n",
       "      <td>5</td>\n",
       "      <td>0</td>\n",
       "      <td>0</td>\n",
       "      <td>1000000</td>\n",
       "      <td>2300000</td>\n",
       "      <td>12</td>\n",
       "      <td>317</td>\n",
       "      <td>2800000</td>\n",
       "      <td>500000</td>\n",
       "      <td>3300000</td>\n",
       "      <td>800000</td>\n",
       "      <td>1</td>\n",
       "    </tr>\n",
       "    <tr>\n",
       "      <th>4265</th>\n",
       "      <td>0</td>\n",
       "      <td>1</td>\n",
       "      <td>0</td>\n",
       "      <td>3300000</td>\n",
       "      <td>11300000</td>\n",
       "      <td>20</td>\n",
       "      <td>559</td>\n",
       "      <td>4200000</td>\n",
       "      <td>2900000</td>\n",
       "      <td>11000000</td>\n",
       "      <td>1900000</td>\n",
       "      <td>0</td>\n",
       "    </tr>\n",
       "    <tr>\n",
       "      <th>4266</th>\n",
       "      <td>2</td>\n",
       "      <td>1</td>\n",
       "      <td>1</td>\n",
       "      <td>6500000</td>\n",
       "      <td>23900000</td>\n",
       "      <td>18</td>\n",
       "      <td>457</td>\n",
       "      <td>1200000</td>\n",
       "      <td>12400000</td>\n",
       "      <td>18100000</td>\n",
       "      <td>7300000</td>\n",
       "      <td>1</td>\n",
       "    </tr>\n",
       "    <tr>\n",
       "      <th>4267</th>\n",
       "      <td>1</td>\n",
       "      <td>1</td>\n",
       "      <td>1</td>\n",
       "      <td>4100000</td>\n",
       "      <td>12800000</td>\n",
       "      <td>8</td>\n",
       "      <td>780</td>\n",
       "      <td>8200000</td>\n",
       "      <td>700000</td>\n",
       "      <td>14100000</td>\n",
       "      <td>5800000</td>\n",
       "      <td>0</td>\n",
       "    </tr>\n",
       "    <tr>\n",
       "      <th>4268</th>\n",
       "      <td>1</td>\n",
       "      <td>0</td>\n",
       "      <td>1</td>\n",
       "      <td>9200000</td>\n",
       "      <td>29700000</td>\n",
       "      <td>10</td>\n",
       "      <td>607</td>\n",
       "      <td>17800000</td>\n",
       "      <td>11800000</td>\n",
       "      <td>35700000</td>\n",
       "      <td>12000000</td>\n",
       "      <td>0</td>\n",
       "    </tr>\n",
       "  </tbody>\n",
       "</table>\n",
       "<p>4269 rows × 12 columns</p>\n",
       "</div>"
      ],
      "text/plain": [
       "      no_of_dependents  education  self_employed  income_annum  loan_amount  \\\n",
       "0                    2          0              1       9600000     29900000   \n",
       "1                    0          1              0       4100000     12200000   \n",
       "2                    3          0              1       9100000     29700000   \n",
       "3                    3          0              1       8200000     30700000   \n",
       "4                    5          1              0       9800000     24200000   \n",
       "...                ...        ...            ...           ...          ...   \n",
       "4264                 5          0              0       1000000      2300000   \n",
       "4265                 0          1              0       3300000     11300000   \n",
       "4266                 2          1              1       6500000     23900000   \n",
       "4267                 1          1              1       4100000     12800000   \n",
       "4268                 1          0              1       9200000     29700000   \n",
       "\n",
       "      loan_term  cibil_score  residential_assets_value  \\\n",
       "0            12          778                   2400000   \n",
       "1             8          417                   2700000   \n",
       "2            20          506                   7100000   \n",
       "3             8          467                  18200000   \n",
       "4            20          382                  12400000   \n",
       "...         ...          ...                       ...   \n",
       "4264         12          317                   2800000   \n",
       "4265         20          559                   4200000   \n",
       "4266         18          457                   1200000   \n",
       "4267          8          780                   8200000   \n",
       "4268         10          607                  17800000   \n",
       "\n",
       "      commercial_assets_value  luxury_assets_value  bank_asset_value  \\\n",
       "0                    17600000             22700000           8000000   \n",
       "1                     2200000              8800000           3300000   \n",
       "2                     4500000             33300000          12800000   \n",
       "3                     3300000             23300000           7900000   \n",
       "4                     8200000             29400000           5000000   \n",
       "...                       ...                  ...               ...   \n",
       "4264                   500000              3300000            800000   \n",
       "4265                  2900000             11000000           1900000   \n",
       "4266                 12400000             18100000           7300000   \n",
       "4267                   700000             14100000           5800000   \n",
       "4268                 11800000             35700000          12000000   \n",
       "\n",
       "      loan_status  \n",
       "0               0  \n",
       "1               1  \n",
       "2               1  \n",
       "3               1  \n",
       "4               1  \n",
       "...           ...  \n",
       "4264            1  \n",
       "4265            0  \n",
       "4266            1  \n",
       "4267            0  \n",
       "4268            0  \n",
       "\n",
       "[4269 rows x 12 columns]"
      ]
     },
     "execution_count": 13,
     "metadata": {},
     "output_type": "execute_result"
    }
   ],
   "source": [
    "var0 = {\"education\": {\"Graduate\":0, \"NotGraduate\":1}}\n",
    "loan = loan.replace(var0)\n",
    "\n",
    "var1 = {\"self_employed\": {\"Yes\":0, \"No\":1}}\n",
    "loan = loan.replace(var1)\n",
    "\n",
    "var2 = {\"loan_status\": {\"Approved\":0, \"Rejected\":1}}\n",
    "loan = loan.replace(var2)\n",
    "\n",
    "loan"
   ]
  },
  {
   "cell_type": "code",
   "execution_count": 14,
   "id": "30287aba-7e09-40dd-883d-823603b2b76d",
   "metadata": {
    "tags": []
   },
   "outputs": [],
   "source": [
    "x_data = loan[[\"no_of_dependents\", \"education\", \"self_employed\", \"income_annum\", \"loan_amount\", \"loan_term\", \"cibil_score\", \"residential_assets_value\", \"commercial_assets_value\", \"luxury_assets_value\", \"bank_asset_value\"]]\n",
    "y_data = loan[\"loan_status\"]\n",
    "x_train, x_test, y_train, y_test = train_test_split(x_data, y_data, test_size=0.20, random_state=371)"
   ]
  },
  {
   "cell_type": "markdown",
   "id": "b1b74b8a-002f-4037-83d7-40c3bc0a9638",
   "metadata": {
    "tags": []
   },
   "source": [
    "### 2.1 Maximum depth in decision tress"
   ]
  },
  {
   "cell_type": "markdown",
   "id": "10e15e41-346d-4b5f-93ab-564049eb0118",
   "metadata": {},
   "source": [
    "1. What kind of decision boundary do you expect to see based on trees?"
   ]
  },
  {
   "cell_type": "markdown",
   "id": "5df162e3-de0f-4511-a35f-0bb76beda068",
   "metadata": {},
   "source": [
    "I expect to see a segment type of boundary that categorize cases/individuals into either approved or rejected based on splits in the features"
   ]
  },
  {
   "cell_type": "markdown",
   "id": "eba2e1c5-2744-4552-8d4a-42161291b3e8",
   "metadata": {},
   "source": [
    "2. Explain what the maximum depth parameter does. Do large or small values for maximum depth cause\n",
    "overfitting?"
   ]
  },
  {
   "cell_type": "markdown",
   "id": "5d5fa0b9-a129-4c0f-b987-d317c7ecdf36",
   "metadata": {},
   "source": [
    "The maximum depth parameter sets the maximum amount of splits a decision tree can have. Large values can cause over fitting and memorization, because it becomes to complex, capturing noise from training. Too small of a depth can oppositely cause underfitting."
   ]
  },
  {
   "cell_type": "markdown",
   "id": "f817de7d-bfce-4e4f-9afe-b522f91189f4",
   "metadata": {},
   "source": [
    "3. Run a series of decision tree models of different maximum depth in a loop. Start with a small depth,\n",
    "and increase it into the overfitting territory so that the model starts overfitting. At each iteration, store both\n",
    "validation and training accuracy.\n",
    "Make a plot where you show how both training and validation accuracy depend on maximum depth. Try to\n",
    "make the graph so that the differences are easily visible."
   ]
  },
  {
   "cell_type": "code",
   "execution_count": 15,
   "id": "03274433-eb24-4d5f-bfdf-6cde485b22a1",
   "metadata": {
    "tags": []
   },
   "outputs": [
    {
     "data": {
      "text/html": [
       "<div>\n",
       "<style scoped>\n",
       "    .dataframe tbody tr th:only-of-type {\n",
       "        vertical-align: middle;\n",
       "    }\n",
       "\n",
       "    .dataframe tbody tr th {\n",
       "        vertical-align: top;\n",
       "    }\n",
       "\n",
       "    .dataframe thead th {\n",
       "        text-align: right;\n",
       "    }\n",
       "</style>\n",
       "<table border=\"1\" class=\"dataframe\">\n",
       "  <thead>\n",
       "    <tr style=\"text-align: right;\">\n",
       "      <th></th>\n",
       "      <th>depth</th>\n",
       "      <th>train_accuracy</th>\n",
       "      <th>test_accuracy</th>\n",
       "    </tr>\n",
       "  </thead>\n",
       "  <tbody>\n",
       "    <tr>\n",
       "      <th>0</th>\n",
       "      <td>1</td>\n",
       "      <td>0.952269</td>\n",
       "      <td>0.959016</td>\n",
       "    </tr>\n",
       "    <tr>\n",
       "      <th>1</th>\n",
       "      <td>6</td>\n",
       "      <td>0.978917</td>\n",
       "      <td>0.971897</td>\n",
       "    </tr>\n",
       "    <tr>\n",
       "      <th>2</th>\n",
       "      <td>11</td>\n",
       "      <td>0.995608</td>\n",
       "      <td>0.982436</td>\n",
       "    </tr>\n",
       "    <tr>\n",
       "      <th>3</th>\n",
       "      <td>16</td>\n",
       "      <td>1.000000</td>\n",
       "      <td>0.983607</td>\n",
       "    </tr>\n",
       "    <tr>\n",
       "      <th>4</th>\n",
       "      <td>21</td>\n",
       "      <td>1.000000</td>\n",
       "      <td>0.984778</td>\n",
       "    </tr>\n",
       "    <tr>\n",
       "      <th>5</th>\n",
       "      <td>26</td>\n",
       "      <td>1.000000</td>\n",
       "      <td>0.983607</td>\n",
       "    </tr>\n",
       "    <tr>\n",
       "      <th>6</th>\n",
       "      <td>31</td>\n",
       "      <td>1.000000</td>\n",
       "      <td>0.983607</td>\n",
       "    </tr>\n",
       "    <tr>\n",
       "      <th>7</th>\n",
       "      <td>36</td>\n",
       "      <td>1.000000</td>\n",
       "      <td>0.987119</td>\n",
       "    </tr>\n",
       "    <tr>\n",
       "      <th>8</th>\n",
       "      <td>41</td>\n",
       "      <td>1.000000</td>\n",
       "      <td>0.982436</td>\n",
       "    </tr>\n",
       "    <tr>\n",
       "      <th>9</th>\n",
       "      <td>46</td>\n",
       "      <td>1.000000</td>\n",
       "      <td>0.982436</td>\n",
       "    </tr>\n",
       "    <tr>\n",
       "      <th>10</th>\n",
       "      <td>51</td>\n",
       "      <td>1.000000</td>\n",
       "      <td>0.981265</td>\n",
       "    </tr>\n",
       "    <tr>\n",
       "      <th>11</th>\n",
       "      <td>56</td>\n",
       "      <td>1.000000</td>\n",
       "      <td>0.984778</td>\n",
       "    </tr>\n",
       "    <tr>\n",
       "      <th>12</th>\n",
       "      <td>61</td>\n",
       "      <td>1.000000</td>\n",
       "      <td>0.980094</td>\n",
       "    </tr>\n",
       "    <tr>\n",
       "      <th>13</th>\n",
       "      <td>66</td>\n",
       "      <td>1.000000</td>\n",
       "      <td>0.981265</td>\n",
       "    </tr>\n",
       "    <tr>\n",
       "      <th>14</th>\n",
       "      <td>71</td>\n",
       "      <td>1.000000</td>\n",
       "      <td>0.984778</td>\n",
       "    </tr>\n",
       "    <tr>\n",
       "      <th>15</th>\n",
       "      <td>76</td>\n",
       "      <td>1.000000</td>\n",
       "      <td>0.983607</td>\n",
       "    </tr>\n",
       "    <tr>\n",
       "      <th>16</th>\n",
       "      <td>81</td>\n",
       "      <td>1.000000</td>\n",
       "      <td>0.982436</td>\n",
       "    </tr>\n",
       "    <tr>\n",
       "      <th>17</th>\n",
       "      <td>86</td>\n",
       "      <td>1.000000</td>\n",
       "      <td>0.983607</td>\n",
       "    </tr>\n",
       "    <tr>\n",
       "      <th>18</th>\n",
       "      <td>91</td>\n",
       "      <td>1.000000</td>\n",
       "      <td>0.983607</td>\n",
       "    </tr>\n",
       "    <tr>\n",
       "      <th>19</th>\n",
       "      <td>96</td>\n",
       "      <td>1.000000</td>\n",
       "      <td>0.982436</td>\n",
       "    </tr>\n",
       "  </tbody>\n",
       "</table>\n",
       "</div>"
      ],
      "text/plain": [
       "    depth  train_accuracy  test_accuracy\n",
       "0       1        0.952269       0.959016\n",
       "1       6        0.978917       0.971897\n",
       "2      11        0.995608       0.982436\n",
       "3      16        1.000000       0.983607\n",
       "4      21        1.000000       0.984778\n",
       "5      26        1.000000       0.983607\n",
       "6      31        1.000000       0.983607\n",
       "7      36        1.000000       0.987119\n",
       "8      41        1.000000       0.982436\n",
       "9      46        1.000000       0.982436\n",
       "10     51        1.000000       0.981265\n",
       "11     56        1.000000       0.984778\n",
       "12     61        1.000000       0.980094\n",
       "13     66        1.000000       0.981265\n",
       "14     71        1.000000       0.984778\n",
       "15     76        1.000000       0.983607\n",
       "16     81        1.000000       0.982436\n",
       "17     86        1.000000       0.983607\n",
       "18     91        1.000000       0.983607\n",
       "19     96        1.000000       0.982436"
      ]
     },
     "execution_count": 15,
     "metadata": {},
     "output_type": "execute_result"
    }
   ],
   "source": [
    "results_list = []\n",
    "for depth in range(1, 101, 5):\n",
    "    clf_dt = make_pipeline(tree.DecisionTreeClassifier(max_depth=depth))\n",
    "    clf_dt.fit(x_train, y_train)\n",
    "    \n",
    "    train_predict = clf_dt.predict(x_train)\n",
    "    train_accuracy = accuracy_score(y_train, train_predict)\n",
    "    test_predict = clf_dt.predict(x_test)\n",
    "    test_accuracy = accuracy_score(y_test, test_predict)\n",
    "    \n",
    "    results_list.append([depth, train_accuracy, test_accuracy])\n",
    "    \n",
    "df_results_list_dt = pd.DataFrame(results_list, columns=[\"depth\", \"train_accuracy\", \"test_accuracy\"])\n",
    "df_results_list_dt"
   ]
  },
  {
   "cell_type": "code",
   "execution_count": 16,
   "id": "7bfb5240-95e7-4e92-9616-8772ec82d3a2",
   "metadata": {
    "tags": []
   },
   "outputs": [
    {
     "data": {
      "image/png": "[encoded data removed]",
      "text/plain": [
       "<Figure size 640x480 with 1 Axes>"
      ]
     },
     "metadata": {},
     "output_type": "display_data"
    }
   ],
   "source": [
    "fig, ax = plt.subplots()\n",
    "ax.plot(df_results_list_dt.depth, df_results_list_dt.train_accuracy, label=\"Training Accuracy\", marker=\"o\")\n",
    "ax.plot(df_results_list_dt.depth, df_results_list_dt.test_accuracy, label=\"Test Accuracy\", marker=\"x\")\n",
    "\n",
    "ax.set_title(\"Accuracy vs Depth\")\n",
    "ax.set_xlabel(\"Depth\")\n",
    "ax.set_ylabel(\"Accuracy\")\n",
    "ax.set_xticks(list(range(1, 100, 5)))\n",
    "ax.legend()\n",
    "\n",
    "plt.show()"
   ]
  },
  {
   "cell_type": "markdown",
   "id": "24b90162-f103-45af-9869-da2b413c44d8",
   "metadata": {},
   "source": [
    "4. What is the best validation accuracy that you get? What is the corresponding maximum depth?"
   ]
  },
  {
   "cell_type": "code",
   "execution_count": 17,
   "id": "1626e43c-c70b-47cf-834b-4ad2a0ccab3b",
   "metadata": {
    "tags": []
   },
   "outputs": [
    {
     "data": {
      "text/plain": [
       "7"
      ]
     },
     "execution_count": 17,
     "metadata": {},
     "output_type": "execute_result"
    }
   ],
   "source": [
    "df_results_list_dt.test_accuracy.idxmax()"
   ]
  },
  {
   "cell_type": "code",
   "execution_count": 19,
   "id": "08077223-e558-4876-8011-c5090bffc4e9",
   "metadata": {
    "tags": []
   },
   "outputs": [
    {
     "data": {
      "text/plain": [
       "depth             36.000000\n",
       "train_accuracy     1.000000\n",
       "test_accuracy      0.987119\n",
       "Name: 7, dtype: float64"
      ]
     },
     "execution_count": 19,
     "metadata": {},
     "output_type": "execute_result"
    }
   ],
   "source": [
    "df_results_list_dt.iloc[7]"
   ]
  },
  {
   "cell_type": "markdown",
   "id": "957aa1bc-9bab-494a-9a19-8613dd5d11c3",
   "metadata": {},
   "source": [
    "The best test accuracy is about 0.987119 with a corresponding maximum depth of 36."
   ]
  },
  {
   "cell_type": "markdown",
   "id": "c6612834-77fd-42ae-8592-42aefb25ca0d",
   "metadata": {},
   "source": [
    "5. Discuss your findings: where does the model start overfitting? What is the optimal depth?"
   ]
  },
  {
   "cell_type": "markdown",
   "id": "cd85d73e-7faa-45b5-9fc7-d1cbf20610af",
   "metadata": {},
   "source": [
    "For this particular data set, I don't see the test accuracy score dropping at anytime. However, since the test accuracy does significantly drop, I would say max_depth past 26 is unnecessary and could be overfitting."
   ]
  },
  {
   "cell_type": "markdown",
   "id": "2a72f1db-87e1-4b85-bd99-9d9943eac7cc",
   "metadata": {},
   "source": [
    "### 2.2 Minimum sample size to split"
   ]
  },
  {
   "cell_type": "markdown",
   "id": "3f25b5dd-f764-4f50-9d3d-8e188e0d9a92",
   "metadata": {},
   "source": [
    "1. Explain what the min_sample_split parameter does. Do large or small values lead to overfitting?"
   ]
  },
  {
   "cell_type": "markdown",
   "id": "e086f5d2-b60c-406e-a17a-0e498755a1f8",
   "metadata": {},
   "source": [
    "min_sample_split sets the minimum number of values required for a decision tree to split. Smaller values can lead to overfitting, while larger values can lead to underfitting."
   ]
  },
  {
   "cell_type": "markdown",
   "id": "d86267cd-6150-49be-9a02-d0a51c9fdca0",
   "metadata": {},
   "source": [
    "2. Run a series of decision tree models with different min_sample_split values in a loop. Try to cover\n",
    "both underfitting and overfitting. Each time store both validation and training accuracy. Make a plot where\n",
    "you show how both training and validation accuracy depend on the parameter."
   ]
  },
  {
   "cell_type": "code",
   "execution_count": 21,
   "id": "d0ec4fab-a49f-4e92-8cfd-7e7fb9931c6d",
   "metadata": {
    "tags": []
   },
   "outputs": [],
   "source": [
    "results_list = []\n",
    "for samples in range(5, 50, 5):\n",
    "    clf_dt = tree.DecisionTreeClassifier(min_samples_split=samples)\n",
    "    clf_dt.fit(x_train, y_train)\n",
    "    \n",
    "    train_predict = clf_dt.predict(x_train)\n",
    "    train_accuracy = accuracy_score(y_train, train_predict)\n",
    "    test_predict = clf_dt.predict(x_test)\n",
    "    test_accuracy = accuracy_score(y_test, test_predict)\n",
    "    \n",
    "    results_list.append([samples, train_accuracy, test_accuracy])\n",
    "\n",
    "df_results_list_dt = pd.DataFrame(results_list, columns=[\"min_samples_split\", \"train_accuracy\", \"test_accuracy\"])"
   ]
  },
  {
   "cell_type": "code",
   "execution_count": 22,
   "id": "dbf33136-8be7-478d-861c-5920721a776c",
   "metadata": {
    "tags": []
   },
   "outputs": [
    {
     "data": {
      "image/png": "[encoded data removed]",
      "text/plain": [
       "<Figure size 640x480 with 1 Axes>"
      ]
     },
     "metadata": {},
     "output_type": "display_data"
    }
   ],
   "source": [
    "fig, ax = plt.subplots()\n",
    "\n",
    "ax.plot(df_results_list_dt.min_samples_split, df_results_list_dt.train_accuracy, label=\"Training Accuracy\", marker=\"o\")\n",
    "ax.plot(df_results_list_dt.min_samples_split, df_results_list_dt.test_accuracy, label=\"Test Accuracy\", marker=\"x\")\n",
    "\n",
    "ax.set_title(\"Accuracy vs Min Samples Split\")\n",
    "ax.set_xlabel(\"Min Samples Split\")\n",
    "ax.set_ylabel(\"Accuracy\")\n",
    "ax.set_xticks(df_results_list_dt.min_samples_split)\n",
    "ax.legend()\n",
    "\n",
    "plt.show()"
   ]
  },
  {
   "cell_type": "markdown",
   "id": "92f285f4-8e30-4f7e-8c0c-ab51ff22f6ef",
   "metadata": {
    "tags": []
   },
   "source": [
    "3. What is the best validation accuracy you get? What is the corresponding min_sample_split?"
   ]
  },
  {
   "cell_type": "code",
   "execution_count": 23,
   "id": "dadd1704-7998-456c-836b-acdba144b609",
   "metadata": {
    "tags": []
   },
   "outputs": [
    {
     "data": {
      "text/plain": [
       "2"
      ]
     },
     "execution_count": 23,
     "metadata": {},
     "output_type": "execute_result"
    }
   ],
   "source": [
    "df_results_list_dt.test_accuracy.idxmax()"
   ]
  },
  {
   "cell_type": "code",
   "execution_count": 24,
   "id": "9c06af50-a436-415d-8440-f381c8a9cc2f",
   "metadata": {
    "tags": []
   },
   "outputs": [
    {
     "data": {
      "text/plain": [
       "min_samples_split    15.000000\n",
       "train_accuracy        0.991508\n",
       "test_accuracy         0.985948\n",
       "Name: 2, dtype: float64"
      ]
     },
     "execution_count": 24,
     "metadata": {},
     "output_type": "execute_result"
    }
   ],
   "source": [
    "df_results_list_dt.iloc[2]"
   ]
  },
  {
   "cell_type": "markdown",
   "id": "8665975f-55aa-403e-89fe-2bf15c97cb1f",
   "metadata": {},
   "source": [
    "The best validation accuracy I get is 0.985948 with a min_samples_split of 15"
   ]
  },
  {
   "cell_type": "markdown",
   "id": "ae9e41c3-5914-40e7-ba18-19981aca54bc",
   "metadata": {},
   "source": [
    "4. Discuss your findings: where does the model start overfitting?"
   ]
  },
  {
   "cell_type": "markdown",
   "id": "ba8d0eb4-a38f-41f8-84f1-5e5c99eee9f6",
   "metadata": {},
   "source": [
    "The model starts overfitting after 20+ minimum samples split. This is because we see a drop in the accuracy of tests."
   ]
  },
  {
   "cell_type": "markdown",
   "id": "4dc6ac7b-c4fa-4525-a948-c3215ac1f861",
   "metadata": {},
   "source": [
    "5. Write a double loop over both parameters. Try to pick a number of values not too different from what you found above when analyzing those individually. Store the best result and the respective parameters.\n"
   ]
  },
  {
   "cell_type": "code",
   "execution_count": 25,
   "id": "42ae554d-d745-48e6-bd7c-5a3d30863f7c",
   "metadata": {
    "tags": []
   },
   "outputs": [
    {
     "name": "stdout",
     "output_type": "stream",
     "text": [
      "Best parameters: max_depth=11, min_samples_split=5, accuracy=0.9859484777517564\n"
     ]
    }
   ],
   "source": [
    "best_result = {\"max_depth\": None, \"min_samples_split\": None, \"accuracy\": 0}\n",
    "\n",
    "depth_values = range(1, 101, 5)\n",
    "min_samples_values = range(5, 50, 5)\n",
    "\n",
    "for depth in depth_values:\n",
    "    for min_samples in min_samples_values:\n",
    "        model = DecisionTreeClassifier(max_depth=depth, min_samples_split=min_samples)\n",
    "        model.fit(x_train, y_train)\n",
    "        \n",
    "        predictions = model.predict(x_test)\n",
    "        accuracy = accuracy_score(y_test, predictions)\n",
    "\n",
    "        if accuracy > best_result[\"accuracy\"]:\n",
    "            best_result[\"max_depth\"] = depth\n",
    "            best_result[\"min_samples_split\"] = min_samples\n",
    "            best_result[\"accuracy\"] = accuracy\n",
    "\n",
    "print(\"Best parameters: max_depth={}, min_samples_split={}, accuracy={}\".format(\n",
    "    best_result[\"max_depth\"],\n",
    "    best_result[\"min_samples_split\"],\n",
    "    best_result[\"accuracy\"]\n",
    "))"
   ]
  },
  {
   "cell_type": "markdown",
   "id": "80ddf0e1-c7dc-4429-bfdd-c70255227813",
   "metadata": {},
   "source": [
    "## 3 Random forests"
   ]
  },
  {
   "cell_type": "markdown",
   "id": "4f471c9f-72f1-4c9b-9482-4d58a499945c",
   "metadata": {},
   "source": [
    "1. Explain what the n_estimators parameter does."
   ]
  },
  {
   "cell_type": "markdown",
   "id": "4c6ec27f-6db5-4434-bf19-b6bcb9f4a11f",
   "metadata": {},
   "source": [
    "The n_estimators parameter is the number of decision trees that will be used in the algorithm and play a role in the average or regular vote."
   ]
  },
  {
   "cell_type": "markdown",
   "id": "5fbffc3c-7219-4ae3-83be-8c9f2787d24d",
   "metadata": {},
   "source": [
    "2. Run a series of random forest classifiers testing what is the best number of estimators. This may be\n",
    "slow, so you may want to skip quite a few potential values."
   ]
  },
  {
   "cell_type": "code",
   "execution_count": 26,
   "id": "3d3d512d-00c0-4add-b9cb-8baf47a5f551",
   "metadata": {
    "tags": []
   },
   "outputs": [
    {
     "data": {
      "text/html": [
       "<div>\n",
       "<style scoped>\n",
       "    .dataframe tbody tr th:only-of-type {\n",
       "        vertical-align: middle;\n",
       "    }\n",
       "\n",
       "    .dataframe tbody tr th {\n",
       "        vertical-align: top;\n",
       "    }\n",
       "\n",
       "    .dataframe thead th {\n",
       "        text-align: right;\n",
       "    }\n",
       "</style>\n",
       "<table border=\"1\" class=\"dataframe\">\n",
       "  <thead>\n",
       "    <tr style=\"text-align: right;\">\n",
       "      <th></th>\n",
       "      <th>n_estimators</th>\n",
       "      <th>train_accuracy</th>\n",
       "      <th>test_accuracy</th>\n",
       "    </tr>\n",
       "  </thead>\n",
       "  <tbody>\n",
       "    <tr>\n",
       "      <th>0</th>\n",
       "      <td>10</td>\n",
       "      <td>0.998829</td>\n",
       "      <td>0.985948</td>\n",
       "    </tr>\n",
       "    <tr>\n",
       "      <th>1</th>\n",
       "      <td>30</td>\n",
       "      <td>0.999707</td>\n",
       "      <td>0.985948</td>\n",
       "    </tr>\n",
       "    <tr>\n",
       "      <th>2</th>\n",
       "      <td>50</td>\n",
       "      <td>1.000000</td>\n",
       "      <td>0.985948</td>\n",
       "    </tr>\n",
       "    <tr>\n",
       "      <th>3</th>\n",
       "      <td>70</td>\n",
       "      <td>1.000000</td>\n",
       "      <td>0.985948</td>\n",
       "    </tr>\n",
       "    <tr>\n",
       "      <th>4</th>\n",
       "      <td>90</td>\n",
       "      <td>1.000000</td>\n",
       "      <td>0.985948</td>\n",
       "    </tr>\n",
       "    <tr>\n",
       "      <th>5</th>\n",
       "      <td>110</td>\n",
       "      <td>1.000000</td>\n",
       "      <td>0.985948</td>\n",
       "    </tr>\n",
       "    <tr>\n",
       "      <th>6</th>\n",
       "      <td>130</td>\n",
       "      <td>1.000000</td>\n",
       "      <td>0.985948</td>\n",
       "    </tr>\n",
       "    <tr>\n",
       "      <th>7</th>\n",
       "      <td>150</td>\n",
       "      <td>1.000000</td>\n",
       "      <td>0.985948</td>\n",
       "    </tr>\n",
       "    <tr>\n",
       "      <th>8</th>\n",
       "      <td>170</td>\n",
       "      <td>1.000000</td>\n",
       "      <td>0.984778</td>\n",
       "    </tr>\n",
       "    <tr>\n",
       "      <th>9</th>\n",
       "      <td>190</td>\n",
       "      <td>1.000000</td>\n",
       "      <td>0.984778</td>\n",
       "    </tr>\n",
       "  </tbody>\n",
       "</table>\n",
       "</div>"
      ],
      "text/plain": [
       "   n_estimators  train_accuracy  test_accuracy\n",
       "0            10        0.998829       0.985948\n",
       "1            30        0.999707       0.985948\n",
       "2            50        1.000000       0.985948\n",
       "3            70        1.000000       0.985948\n",
       "4            90        1.000000       0.985948\n",
       "5           110        1.000000       0.985948\n",
       "6           130        1.000000       0.985948\n",
       "7           150        1.000000       0.985948\n",
       "8           170        1.000000       0.984778\n",
       "9           190        1.000000       0.984778"
      ]
     },
     "execution_count": 26,
     "metadata": {},
     "output_type": "execute_result"
    }
   ],
   "source": [
    "results_list = []\n",
    "\n",
    "for n_estimators in range(10, 201, 20):\n",
    "    rf = RandomForestClassifier(n_estimators=n_estimators, random_state=42)\n",
    "    rf.fit(x_train, y_train)\n",
    "    \n",
    "    train_preds = rf.predict(x_train)\n",
    "    test_preds = rf.predict(x_test)\n",
    "    \n",
    "    train_accuracy = accuracy_score(y_train, train_preds)\n",
    "    test_accuracy = accuracy_score(y_test, test_preds)\n",
    "    \n",
    "    results_list.append([n_estimators, train_accuracy, test_accuracy])\n",
    "\n",
    "df_results = pd.DataFrame(results_list, columns=[\"n_estimators\", \"train_accuracy\", \"test_accuracy\"])\n",
    "df_results"
   ]
  },
  {
   "cell_type": "markdown",
   "id": "e032e671-e8d4-415c-8c3d-687f144cff40",
   "metadata": {},
   "source": [
    "3. Make a plot where you show how both training and validation accuracy depend on the parameter. What\n",
    "is the best validation accuracy you get?"
   ]
  },
  {
   "cell_type": "code",
   "execution_count": 27,
   "id": "0ee3a9ff-57f0-4148-9760-f1bfd44f992d",
   "metadata": {
    "tags": []
   },
   "outputs": [
    {
     "data": {
      "image/png": "[encoded data removed]",
      "text/plain": [
       "<Figure size 640x480 with 1 Axes>"
      ]
     },
     "metadata": {},
     "output_type": "display_data"
    }
   ],
   "source": [
    "fig, ax = plt.subplots()\n",
    "ax.plot(df_results.n_estimators, df_results.train_accuracy, label=\"Training Accuracy\", marker=\"o\")\n",
    "ax.plot(df_results.n_estimators, df_results.test_accuracy, label=\"Test Accuracy\", marker=\"x\")\n",
    "\n",
    "ax.set_title(\"Accuracy vs Number of Estimators\")\n",
    "ax.set_xlabel(\"n estimators\")\n",
    "ax.set_ylabel(\"Accuracy\")\n",
    "ax.legend()\n",
    "plt.show()"
   ]
  },
  {
   "cell_type": "code",
   "execution_count": 28,
   "id": "e86926c4-14ce-464d-864a-710192405b68",
   "metadata": {
    "tags": []
   },
   "outputs": [
    {
     "data": {
      "text/plain": [
       "0"
      ]
     },
     "execution_count": 28,
     "metadata": {},
     "output_type": "execute_result"
    }
   ],
   "source": [
    "df_results.test_accuracy.idxmax()"
   ]
  },
  {
   "cell_type": "code",
   "execution_count": 29,
   "id": "10091438-7a23-415b-80fc-f814fc65c684",
   "metadata": {
    "tags": []
   },
   "outputs": [
    {
     "data": {
      "text/plain": [
       "min_samples_split    5.000000\n",
       "train_accuracy       0.997657\n",
       "test_accuracy        0.983607\n",
       "Name: 0, dtype: float64"
      ]
     },
     "execution_count": 29,
     "metadata": {},
     "output_type": "execute_result"
    }
   ],
   "source": [
    "df_results_list_dt.iloc[0]"
   ]
  },
  {
   "cell_type": "markdown",
   "id": "e0bb0ae6-8ede-49fe-a2a7-8e4a5fbe228c",
   "metadata": {
    "tags": []
   },
   "source": [
    "The best validation accuracy I get is 0.982436"
   ]
  },
  {
   "cell_type": "markdown",
   "id": "54d9c6b2-5308-4167-be12-c1b4d43cc810",
   "metadata": {},
   "source": [
    "4. Where does the model start overfitting, please explain?"
   ]
  },
  {
   "cell_type": "markdown",
   "id": "366d5401-1af4-46f7-9cb3-f38944044a49",
   "metadata": {},
   "source": [
    "I don't think a high number of n_estimators causes overfitting. Instead the more n_estimators, the better in most cases. However, when n-estimators reaches a certain number it stops having an impact. I would say in this case that number is 150 n_estimators"
   ]
  }
 ],
 "metadata": {
  "kernelspec": {
   "display_name": "Python 3 (ipykernel)",
   "language": "python",
   "name": "python3"
  },
  "language_info": {
   "codemirror_mode": {
    "name": "ipython",
    "version": 3
   },
   "file_extension": ".py",
   "mimetype": "text/x-python",
   "name": "python",
   "nbconvert_exporter": "python",
   "pygments_lexer": "ipython3",
   "version": "3.11.5"
  }
 },
 "nbformat": 4,
 "nbformat_minor": 5
}
