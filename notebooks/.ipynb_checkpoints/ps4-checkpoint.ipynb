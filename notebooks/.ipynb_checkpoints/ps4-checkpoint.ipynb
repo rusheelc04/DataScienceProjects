{
 "cells": [
  {
   "cell_type": "markdown",
   "id": "72ce7300-8060-4158-a267-0f6581843ee7",
   "metadata": {
    "tags": []
   },
   "source": [
    "# INFO 370 Problem Set 4: Linear and logistic regression\n",
    "Name: Rusheel Chande"
   ]
  },
  {
   "cell_type": "code",
   "execution_count": 1,
   "id": "b584efcd-1675-4297-9edd-61e674fea0a2",
   "metadata": {
    "tags": []
   },
   "outputs": [],
   "source": [
    "import pandas as pd\n",
    "import numpy as np\n",
    "import matplotlib.pyplot as plt\n",
    "import seaborn as sns\n",
    "import statsmodels.formula.api as smf"
   ]
  },
  {
   "cell_type": "markdown",
   "id": "dd21abcc-df2b-4193-a52a-b4d3497939fe",
   "metadata": {},
   "source": [
    "## 1. How Is Basketball Game Score Calculated?"
   ]
  },
  {
   "cell_type": "markdown",
   "id": "50d5396f-da81-4ed2-ae04-8ebc14843ee7",
   "metadata": {},
   "source": [
    "Q1."
   ]
  },
  {
   "cell_type": "code",
   "execution_count": 2,
   "id": "39abbc45-9194-43e2-991e-918cb8d800af",
   "metadata": {},
   "outputs": [
    {
     "data": {
      "text/html": [
       "<div>\n",
       "<style scoped>\n",
       "    .dataframe tbody tr th:only-of-type {\n",
       "        vertical-align: middle;\n",
       "    }\n",
       "\n",
       "    .dataframe tbody tr th {\n",
       "        vertical-align: top;\n",
       "    }\n",
       "\n",
       "    .dataframe thead th {\n",
       "        text-align: right;\n",
       "    }\n",
       "</style>\n",
       "<table border=\"1\" class=\"dataframe\">\n",
       "  <thead>\n",
       "    <tr style=\"text-align: right;\">\n",
       "      <th></th>\n",
       "      <th>Rk</th>\n",
       "      <th>G</th>\n",
       "      <th>Date</th>\n",
       "      <th>Age</th>\n",
       "      <th>Tm</th>\n",
       "      <th>Unnamed: 5</th>\n",
       "      <th>Opp</th>\n",
       "      <th>Unnamed: 7</th>\n",
       "      <th>GS</th>\n",
       "      <th>MP</th>\n",
       "      <th>...</th>\n",
       "      <th>DRB</th>\n",
       "      <th>TRB</th>\n",
       "      <th>AST</th>\n",
       "      <th>STL</th>\n",
       "      <th>BLK</th>\n",
       "      <th>TOV</th>\n",
       "      <th>PF</th>\n",
       "      <th>PTS</th>\n",
       "      <th>GmSc</th>\n",
       "      <th>+/-</th>\n",
       "    </tr>\n",
       "  </thead>\n",
       "  <tbody>\n",
       "    <tr>\n",
       "      <th>0</th>\n",
       "      <td>1</td>\n",
       "      <td>1.0</td>\n",
       "      <td>2021-10-19</td>\n",
       "      <td>32-054</td>\n",
       "      <td>BRK</td>\n",
       "      <td>@</td>\n",
       "      <td>MIL</td>\n",
       "      <td>L (-23)</td>\n",
       "      <td>1</td>\n",
       "      <td>30:38</td>\n",
       "      <td>...</td>\n",
       "      <td>5</td>\n",
       "      <td>8</td>\n",
       "      <td>8</td>\n",
       "      <td>1</td>\n",
       "      <td>2</td>\n",
       "      <td>4</td>\n",
       "      <td>3</td>\n",
       "      <td>20</td>\n",
       "      <td>17.6</td>\n",
       "      <td>-20</td>\n",
       "    </tr>\n",
       "    <tr>\n",
       "      <th>1</th>\n",
       "      <td>2</td>\n",
       "      <td>2.0</td>\n",
       "      <td>2021-10-22</td>\n",
       "      <td>32-057</td>\n",
       "      <td>BRK</td>\n",
       "      <td>@</td>\n",
       "      <td>PHI</td>\n",
       "      <td>W (+5)</td>\n",
       "      <td>1</td>\n",
       "      <td>38:25</td>\n",
       "      <td>...</td>\n",
       "      <td>6</td>\n",
       "      <td>7</td>\n",
       "      <td>8</td>\n",
       "      <td>2</td>\n",
       "      <td>0</td>\n",
       "      <td>5</td>\n",
       "      <td>0</td>\n",
       "      <td>20</td>\n",
       "      <td>15.6</td>\n",
       "      <td>-1</td>\n",
       "    </tr>\n",
       "    <tr>\n",
       "      <th>2</th>\n",
       "      <td>3</td>\n",
       "      <td>3.0</td>\n",
       "      <td>2021-10-24</td>\n",
       "      <td>32-059</td>\n",
       "      <td>BRK</td>\n",
       "      <td>NaN</td>\n",
       "      <td>CHO</td>\n",
       "      <td>L (-16)</td>\n",
       "      <td>1</td>\n",
       "      <td>33:09</td>\n",
       "      <td>...</td>\n",
       "      <td>5</td>\n",
       "      <td>7</td>\n",
       "      <td>8</td>\n",
       "      <td>1</td>\n",
       "      <td>1</td>\n",
       "      <td>8</td>\n",
       "      <td>5</td>\n",
       "      <td>15</td>\n",
       "      <td>6.4</td>\n",
       "      <td>-15</td>\n",
       "    </tr>\n",
       "  </tbody>\n",
       "</table>\n",
       "<p>3 rows × 30 columns</p>\n",
       "</div>"
      ],
      "text/plain": [
       "   Rk    G        Date     Age   Tm Unnamed: 5  Opp Unnamed: 7 GS     MP  ...   \n",
       "0   1  1.0  2021-10-19  32-054  BRK          @  MIL    L (-23)  1  30:38  ...  \\\n",
       "1   2  2.0  2021-10-22  32-057  BRK          @  PHI     W (+5)  1  38:25  ...   \n",
       "2   3  3.0  2021-10-24  32-059  BRK        NaN  CHO    L (-16)  1  33:09  ...   \n",
       "\n",
       "  DRB TRB AST STL BLK TOV PF PTS  GmSc  +/-  \n",
       "0   5   8   8   1   2   4  3  20  17.6  -20  \n",
       "1   6   7   8   2   0   5  0  20  15.6   -1  \n",
       "2   5   7   8   1   1   8  5  15   6.4  -15  \n",
       "\n",
       "[3 rows x 30 columns]"
      ]
     },
     "execution_count": 2,
     "metadata": {},
     "output_type": "execute_result"
    }
   ],
   "source": [
    "harden = pd.read_csv(\"../data/harden-21-22.csv.bz2\", sep=\",\")\n",
    "harden.head(3)"
   ]
  },
  {
   "cell_type": "code",
   "execution_count": 3,
   "id": "5c9e37ed-ec99-44fc-afd7-88df5517ab60",
   "metadata": {
    "tags": []
   },
   "outputs": [
    {
     "data": {
      "text/plain": [
       "(83, 30)"
      ]
     },
     "execution_count": 3,
     "metadata": {},
     "output_type": "execute_result"
    }
   ],
   "source": [
    "harden.shape"
   ]
  },
  {
   "cell_type": "markdown",
   "id": "815fb12f-c13a-4064-a89f-50be7fb07100",
   "metadata": {},
   "source": [
    "The data seems reasonable and good, however there are a lot of columns which seem unnecessary."
   ]
  },
  {
   "cell_type": "markdown",
   "id": "a070711e-8ae4-4a79-aa64-cab50a0c81b6",
   "metadata": {},
   "source": [
    "Q2."
   ]
  },
  {
   "cell_type": "code",
   "execution_count": 4,
   "id": "6a4929fc-964c-4017-b4a7-e747d2039edf",
   "metadata": {
    "tags": []
   },
   "outputs": [
    {
     "data": {
      "text/plain": [
       "Rk             0\n",
       "G             18\n",
       "Date           0\n",
       "Age            0\n",
       "Tm             0\n",
       "Unnamed: 5    41\n",
       "Opp            0\n",
       "Unnamed: 7     0\n",
       "GS             0\n",
       "MP             0\n",
       "FG             0\n",
       "FGA            0\n",
       "FG%            0\n",
       "3P             0\n",
       "3PA            0\n",
       "3P%            0\n",
       "FT             0\n",
       "FTA            0\n",
       "FT%            1\n",
       "ORB            0\n",
       "DRB            0\n",
       "TRB            0\n",
       "AST            0\n",
       "STL            0\n",
       "BLK            0\n",
       "TOV            0\n",
       "PF             0\n",
       "PTS            0\n",
       "GmSc           0\n",
       "+/-            0\n",
       "dtype: int64"
      ]
     },
     "execution_count": 4,
     "metadata": {},
     "output_type": "execute_result"
    }
   ],
   "source": [
    "harden.isna().sum()"
   ]
  },
  {
   "cell_type": "code",
   "execution_count": 5,
   "id": "2ebd59e7-4692-4993-9ab6-8785e3ffa82c",
   "metadata": {
    "tags": []
   },
   "outputs": [
    {
     "data": {
      "text/html": [
       "<div>\n",
       "<style scoped>\n",
       "    .dataframe tbody tr th:only-of-type {\n",
       "        vertical-align: middle;\n",
       "    }\n",
       "\n",
       "    .dataframe tbody tr th {\n",
       "        vertical-align: top;\n",
       "    }\n",
       "\n",
       "    .dataframe thead th {\n",
       "        text-align: right;\n",
       "    }\n",
       "</style>\n",
       "<table border=\"1\" class=\"dataframe\">\n",
       "  <thead>\n",
       "    <tr style=\"text-align: right;\">\n",
       "      <th></th>\n",
       "      <th>Rk</th>\n",
       "      <th>G</th>\n",
       "      <th>Date</th>\n",
       "      <th>Age</th>\n",
       "      <th>Tm</th>\n",
       "      <th>Unnamed: 5</th>\n",
       "      <th>Opp</th>\n",
       "      <th>Unnamed: 7</th>\n",
       "      <th>GS</th>\n",
       "      <th>MP</th>\n",
       "      <th>...</th>\n",
       "      <th>DRB</th>\n",
       "      <th>TRB</th>\n",
       "      <th>AST</th>\n",
       "      <th>STL</th>\n",
       "      <th>BLK</th>\n",
       "      <th>TOV</th>\n",
       "      <th>PF</th>\n",
       "      <th>PTS</th>\n",
       "      <th>GmSc</th>\n",
       "      <th>+/-</th>\n",
       "    </tr>\n",
       "  </thead>\n",
       "  <tbody>\n",
       "    <tr>\n",
       "      <th>26</th>\n",
       "      <td>27</td>\n",
       "      <td>NaN</td>\n",
       "      <td>2021-12-12</td>\n",
       "      <td>32-108</td>\n",
       "      <td>BRK</td>\n",
       "      <td>@</td>\n",
       "      <td>DET</td>\n",
       "      <td>W (+12)</td>\n",
       "      <td>Inactive</td>\n",
       "      <td>Inactive</td>\n",
       "      <td>...</td>\n",
       "      <td>Inactive</td>\n",
       "      <td>Inactive</td>\n",
       "      <td>Inactive</td>\n",
       "      <td>Inactive</td>\n",
       "      <td>Inactive</td>\n",
       "      <td>Inactive</td>\n",
       "      <td>Inactive</td>\n",
       "      <td>Inactive</td>\n",
       "      <td>Inactive</td>\n",
       "      <td>Inactive</td>\n",
       "    </tr>\n",
       "    <tr>\n",
       "      <th>38</th>\n",
       "      <td>39</td>\n",
       "      <td>NaN</td>\n",
       "      <td>2022-01-10</td>\n",
       "      <td>32-137</td>\n",
       "      <td>BRK</td>\n",
       "      <td>@</td>\n",
       "      <td>POR</td>\n",
       "      <td>L (-6)</td>\n",
       "      <td>Inactive</td>\n",
       "      <td>Inactive</td>\n",
       "      <td>...</td>\n",
       "      <td>Inactive</td>\n",
       "      <td>Inactive</td>\n",
       "      <td>Inactive</td>\n",
       "      <td>Inactive</td>\n",
       "      <td>Inactive</td>\n",
       "      <td>Inactive</td>\n",
       "      <td>Inactive</td>\n",
       "      <td>Inactive</td>\n",
       "      <td>Inactive</td>\n",
       "      <td>Inactive</td>\n",
       "    </tr>\n",
       "    <tr>\n",
       "      <th>53</th>\n",
       "      <td>54</td>\n",
       "      <td>NaN</td>\n",
       "      <td>2022-02-08</td>\n",
       "      <td>32-166</td>\n",
       "      <td>BRK</td>\n",
       "      <td>NaN</td>\n",
       "      <td>BOS</td>\n",
       "      <td>L (-35)</td>\n",
       "      <td>Did Not Dress</td>\n",
       "      <td>Did Not Dress</td>\n",
       "      <td>...</td>\n",
       "      <td>Did Not Dress</td>\n",
       "      <td>Did Not Dress</td>\n",
       "      <td>Did Not Dress</td>\n",
       "      <td>Did Not Dress</td>\n",
       "      <td>Did Not Dress</td>\n",
       "      <td>Did Not Dress</td>\n",
       "      <td>Did Not Dress</td>\n",
       "      <td>Did Not Dress</td>\n",
       "      <td>Did Not Dress</td>\n",
       "      <td>Did Not Dress</td>\n",
       "    </tr>\n",
       "    <tr>\n",
       "      <th>28</th>\n",
       "      <td>29</td>\n",
       "      <td>NaN</td>\n",
       "      <td>2021-12-16</td>\n",
       "      <td>32-112</td>\n",
       "      <td>BRK</td>\n",
       "      <td>NaN</td>\n",
       "      <td>PHI</td>\n",
       "      <td>W (+9)</td>\n",
       "      <td>Inactive</td>\n",
       "      <td>Inactive</td>\n",
       "      <td>...</td>\n",
       "      <td>Inactive</td>\n",
       "      <td>Inactive</td>\n",
       "      <td>Inactive</td>\n",
       "      <td>Inactive</td>\n",
       "      <td>Inactive</td>\n",
       "      <td>Inactive</td>\n",
       "      <td>Inactive</td>\n",
       "      <td>Inactive</td>\n",
       "      <td>Inactive</td>\n",
       "      <td>Inactive</td>\n",
       "    </tr>\n",
       "    <tr>\n",
       "      <th>52</th>\n",
       "      <td>53</td>\n",
       "      <td>NaN</td>\n",
       "      <td>2022-02-06</td>\n",
       "      <td>32-164</td>\n",
       "      <td>BRK</td>\n",
       "      <td>@</td>\n",
       "      <td>DEN</td>\n",
       "      <td>L (-20)</td>\n",
       "      <td>Did Not Play</td>\n",
       "      <td>Did Not Play</td>\n",
       "      <td>...</td>\n",
       "      <td>Did Not Play</td>\n",
       "      <td>Did Not Play</td>\n",
       "      <td>Did Not Play</td>\n",
       "      <td>Did Not Play</td>\n",
       "      <td>Did Not Play</td>\n",
       "      <td>Did Not Play</td>\n",
       "      <td>Did Not Play</td>\n",
       "      <td>Did Not Play</td>\n",
       "      <td>Did Not Play</td>\n",
       "      <td>Did Not Play</td>\n",
       "    </tr>\n",
       "  </tbody>\n",
       "</table>\n",
       "<p>5 rows × 30 columns</p>\n",
       "</div>"
      ],
      "text/plain": [
       "    Rk   G        Date     Age   Tm Unnamed: 5  Opp Unnamed: 7             GS   \n",
       "26  27 NaN  2021-12-12  32-108  BRK          @  DET    W (+12)       Inactive  \\\n",
       "38  39 NaN  2022-01-10  32-137  BRK          @  POR     L (-6)       Inactive   \n",
       "53  54 NaN  2022-02-08  32-166  BRK        NaN  BOS    L (-35)  Did Not Dress   \n",
       "28  29 NaN  2021-12-16  32-112  BRK        NaN  PHI     W (+9)       Inactive   \n",
       "52  53 NaN  2022-02-06  32-164  BRK          @  DEN    L (-20)   Did Not Play   \n",
       "\n",
       "               MP  ...            DRB            TRB            AST   \n",
       "26       Inactive  ...       Inactive       Inactive       Inactive  \\\n",
       "38       Inactive  ...       Inactive       Inactive       Inactive   \n",
       "53  Did Not Dress  ...  Did Not Dress  Did Not Dress  Did Not Dress   \n",
       "28       Inactive  ...       Inactive       Inactive       Inactive   \n",
       "52   Did Not Play  ...   Did Not Play   Did Not Play   Did Not Play   \n",
       "\n",
       "              STL            BLK            TOV             PF            PTS   \n",
       "26       Inactive       Inactive       Inactive       Inactive       Inactive  \\\n",
       "38       Inactive       Inactive       Inactive       Inactive       Inactive   \n",
       "53  Did Not Dress  Did Not Dress  Did Not Dress  Did Not Dress  Did Not Dress   \n",
       "28       Inactive       Inactive       Inactive       Inactive       Inactive   \n",
       "52   Did Not Play   Did Not Play   Did Not Play   Did Not Play   Did Not Play   \n",
       "\n",
       "             GmSc            +/-  \n",
       "26       Inactive       Inactive  \n",
       "38       Inactive       Inactive  \n",
       "53  Did Not Dress  Did Not Dress  \n",
       "28       Inactive       Inactive  \n",
       "52   Did Not Play   Did Not Play  \n",
       "\n",
       "[5 rows x 30 columns]"
      ]
     },
     "execution_count": 5,
     "metadata": {},
     "output_type": "execute_result"
    }
   ],
   "source": [
    "harden.loc[harden[\"G\"].isna()].sample(5)"
   ]
  },
  {
   "cell_type": "code",
   "execution_count": 6,
   "id": "db1e4170-380d-4766-ad88-56a4240090a9",
   "metadata": {
    "tags": []
   },
   "outputs": [
    {
     "data": {
      "text/plain": [
       "65"
      ]
     },
     "execution_count": 6,
     "metadata": {},
     "output_type": "execute_result"
    }
   ],
   "source": [
    "totalgames = harden.shape[0] # 83\n",
    "gamesHarden = totalgames - harden.G.isna().sum()\n",
    "gamesHarden"
   ]
  },
  {
   "cell_type": "markdown",
   "id": "3c4ede7a-89f6-481a-a0eb-d44e140d3843",
   "metadata": {},
   "source": [
    "James Harden only played 65 games this season. He didn't play 18 games. The \"G\" column in the data is the season game for Harden and it was found that when it was empty/na, all the other variables were either \"Inactive\", \"Did Not Dress\", or \"Did Not Play\""
   ]
  },
  {
   "cell_type": "markdown",
   "id": "e34c5932-d8e2-4545-be99-b40bea579301",
   "metadata": {},
   "source": [
    "Q3."
   ]
  },
  {
   "cell_type": "code",
   "execution_count": 7,
   "id": "0188908f-ba3b-4c20-b6c8-67ba387be4b8",
   "metadata": {
    "tags": []
   },
   "outputs": [
    {
     "data": {
      "text/plain": [
       "Rk              int64\n",
       "G             float64\n",
       "Date           object\n",
       "Age            object\n",
       "Tm             object\n",
       "Unnamed: 5     object\n",
       "Opp            object\n",
       "Unnamed: 7     object\n",
       "GS             object\n",
       "MP             object\n",
       "FG             object\n",
       "FGA            object\n",
       "FG%            object\n",
       "3P             object\n",
       "3PA            object\n",
       "3P%            object\n",
       "FT             object\n",
       "FTA            object\n",
       "FT%            object\n",
       "ORB            object\n",
       "DRB            object\n",
       "TRB            object\n",
       "AST            object\n",
       "STL            object\n",
       "BLK            object\n",
       "TOV            object\n",
       "PF             object\n",
       "PTS            object\n",
       "GmSc           object\n",
       "+/-            object\n",
       "dtype: object"
      ]
     },
     "execution_count": 7,
     "metadata": {},
     "output_type": "execute_result"
    }
   ],
   "source": [
    "harden.dtypes"
   ]
  },
  {
   "cell_type": "code",
   "execution_count": 8,
   "id": "40300d46-3f3b-404f-b9c8-1e77e842ecb5",
   "metadata": {
    "tags": []
   },
   "outputs": [
    {
     "data": {
      "text/plain": [
       "Rk              int64\n",
       "G             float64\n",
       "Date           object\n",
       "Age            object\n",
       "Tm             object\n",
       "Unnamed: 5     object\n",
       "Opp            object\n",
       "Unnamed: 7     object\n",
       "GS             object\n",
       "MP            float64\n",
       "FG            float64\n",
       "FGA           float64\n",
       "FG%            object\n",
       "3P            float64\n",
       "3PA           float64\n",
       "3P%            object\n",
       "FT            float64\n",
       "FTA           float64\n",
       "FT%            object\n",
       "ORB           float64\n",
       "DRB           float64\n",
       "TRB           float64\n",
       "AST           float64\n",
       "STL           float64\n",
       "BLK           float64\n",
       "TOV           float64\n",
       "PF            float64\n",
       "PTS           float64\n",
       "GmSc          float64\n",
       "+/-            object\n",
       "dtype: object"
      ]
     },
     "execution_count": 8,
     "metadata": {},
     "output_type": "execute_result"
    }
   ],
   "source": [
    "columns = [\"MP\", \"FG\", \"FGA\", \"3P\", \"3PA\", \"FT\", \"FTA\", \"ORB\", \"DRB\", \"TRB\", \"AST\",\\\n",
    "           \"STL\", \"BLK\", \"TOV\", \"PF\", \"PTS\", \"GmSc\"]\n",
    "for col in columns:\n",
    "    harden[col] = pd.to_numeric(harden[col], errors=\"coerce\")\n",
    "\n",
    "harden.dtypes"
   ]
  },
  {
   "cell_type": "code",
   "execution_count": 9,
   "id": "8e453337-02c0-4f4f-b8ee-01687931dedb",
   "metadata": {
    "tags": []
   },
   "outputs": [],
   "source": [
    "harden = harden.rename(columns={\"3PA\": \"threePA\", \"3P\": \"threeP\"})"
   ]
  },
  {
   "cell_type": "markdown",
   "id": "276b1f35-301d-4c33-a8ca-3d177b176689",
   "metadata": {},
   "source": [
    "Q4."
   ]
  },
  {
   "cell_type": "code",
   "execution_count": 10,
   "id": "0eb30afd-54d2-49d7-9450-61657fe31a1c",
   "metadata": {
    "tags": []
   },
   "outputs": [
    {
     "data": {
      "text/plain": [
       "(1.1, 37.8, 19.61384615384615, 8.232517023271894)"
      ]
     },
     "execution_count": 10,
     "metadata": {},
     "output_type": "execute_result"
    }
   ],
   "source": [
    "harden.GmSc.min(), harden.GmSc.max(), harden.GmSc.mean(), harden.GmSc.std()"
   ]
  },
  {
   "cell_type": "code",
   "execution_count": 11,
   "id": "c5801c5d-84b0-48b4-a33c-d18b69efe4b3",
   "metadata": {
    "tags": []
   },
   "outputs": [
    {
     "data": {
      "image/png": "[encoded data removed]",
      "text/plain": [
       "<Figure size 640x480 with 1 Axes>"
      ]
     },
     "metadata": {},
     "output_type": "display_data"
    }
   ],
   "source": [
    "sns.histplot(data=harden, x=\"GmSc\", kde=True)\n",
    "plt.title(\"Histogram of Game Score (GmSc)\")\n",
    "plt.xlabel(\"Game Score (GmSc)\")\n",
    "plt.ylabel(\"Frequency\")\n",
    "plt.show()"
   ]
  },
  {
   "cell_type": "markdown",
   "id": "f3ddd05d-3651-419b-a2be-2e3b99aacbf5",
   "metadata": {
    "tags": []
   },
   "source": [
    "The games scores range from 1.1 to 37.8. The mean of the game scores is 19.61 and the standard deviation is 8.23. The histogram is approaching/close to normal from a right skewed distribution."
   ]
  },
  {
   "cell_type": "markdown",
   "id": "cd67a1ed-3a8b-4e00-8482-1858e772584b",
   "metadata": {},
   "source": [
    "Q5."
   ]
  },
  {
   "cell_type": "code",
   "execution_count": 12,
   "id": "bd24c1a0-75a3-4804-b7a8-f60d8e8a43c7",
   "metadata": {
    "tags": []
   },
   "outputs": [
    {
     "data": {
      "text/html": [
       "<table class=\"simpletable\">\n",
       "<caption>OLS Regression Results</caption>\n",
       "<tr>\n",
       "  <th>Dep. Variable:</th>          <td>GmSc</td>       <th>  R-squared:         </th> <td>   0.133</td>\n",
       "</tr>\n",
       "<tr>\n",
       "  <th>Model:</th>                   <td>OLS</td>       <th>  Adj. R-squared:    </th> <td>   0.119</td>\n",
       "</tr>\n",
       "<tr>\n",
       "  <th>Method:</th>             <td>Least Squares</td>  <th>  F-statistic:       </th> <td>   9.678</td>\n",
       "</tr>\n",
       "<tr>\n",
       "  <th>Date:</th>             <td>Fri, 21 Jul 2023</td> <th>  Prob (F-statistic):</th>  <td>0.00280</td>\n",
       "</tr>\n",
       "<tr>\n",
       "  <th>Time:</th>                 <td>00:41:05</td>     <th>  Log-Likelihood:    </th> <td> -224.11</td>\n",
       "</tr>\n",
       "<tr>\n",
       "  <th>No. Observations:</th>      <td>    65</td>      <th>  AIC:               </th> <td>   452.2</td>\n",
       "</tr>\n",
       "<tr>\n",
       "  <th>Df Residuals:</th>          <td>    63</td>      <th>  BIC:               </th> <td>   456.6</td>\n",
       "</tr>\n",
       "<tr>\n",
       "  <th>Df Model:</th>              <td>     1</td>      <th>                     </th>     <td> </td>   \n",
       "</tr>\n",
       "<tr>\n",
       "  <th>Covariance Type:</th>      <td>nonrobust</td>    <th>                     </th>     <td> </td>   \n",
       "</tr>\n",
       "</table>\n",
       "<table class=\"simpletable\">\n",
       "<tr>\n",
       "      <td></td>         <th>coef</th>     <th>std err</th>      <th>t</th>      <th>P>|t|</th>  <th>[0.025</th>    <th>0.975]</th>  \n",
       "</tr>\n",
       "<tr>\n",
       "  <th>Intercept</th> <td>    8.8748</td> <td>    3.582</td> <td>    2.477</td> <td> 0.016</td> <td>    1.716</td> <td>   16.034</td>\n",
       "</tr>\n",
       "<tr>\n",
       "  <th>FGA</th>       <td>    0.7037</td> <td>    0.226</td> <td>    3.111</td> <td> 0.003</td> <td>    0.252</td> <td>    1.156</td>\n",
       "</tr>\n",
       "</table>\n",
       "<table class=\"simpletable\">\n",
       "<tr>\n",
       "  <th>Omnibus:</th>       <td> 0.246</td> <th>  Durbin-Watson:     </th> <td>   1.902</td>\n",
       "</tr>\n",
       "<tr>\n",
       "  <th>Prob(Omnibus):</th> <td> 0.884</td> <th>  Jarque-Bera (JB):  </th> <td>   0.198</td>\n",
       "</tr>\n",
       "<tr>\n",
       "  <th>Skew:</th>          <td>-0.127</td> <th>  Prob(JB):          </th> <td>   0.906</td>\n",
       "</tr>\n",
       "<tr>\n",
       "  <th>Kurtosis:</th>      <td> 2.905</td> <th>  Cond. No.          </th> <td>    59.4</td>\n",
       "</tr>\n",
       "</table><br/><br/>Notes:<br/>[1] Standard Errors assume that the covariance matrix of the errors is correctly specified."
      ],
      "text/latex": [
       "\\begin{center}\n",
       "\\begin{tabular}{lclc}\n",
       "\\toprule\n",
       "\\textbf{Dep. Variable:}    &       GmSc       & \\textbf{  R-squared:         } &     0.133   \\\\\n",
       "\\textbf{Model:}            &       OLS        & \\textbf{  Adj. R-squared:    } &     0.119   \\\\\n",
       "\\textbf{Method:}           &  Least Squares   & \\textbf{  F-statistic:       } &     9.678   \\\\\n",
       "\\textbf{Date:}             & Fri, 21 Jul 2023 & \\textbf{  Prob (F-statistic):} &  0.00280    \\\\\n",
       "\\textbf{Time:}             &     00:41:05     & \\textbf{  Log-Likelihood:    } &   -224.11   \\\\\n",
       "\\textbf{No. Observations:} &          65      & \\textbf{  AIC:               } &     452.2   \\\\\n",
       "\\textbf{Df Residuals:}     &          63      & \\textbf{  BIC:               } &     456.6   \\\\\n",
       "\\textbf{Df Model:}         &           1      & \\textbf{                     } &             \\\\\n",
       "\\textbf{Covariance Type:}  &    nonrobust     & \\textbf{                     } &             \\\\\n",
       "\\bottomrule\n",
       "\\end{tabular}\n",
       "\\begin{tabular}{lcccccc}\n",
       "                   & \\textbf{coef} & \\textbf{std err} & \\textbf{t} & \\textbf{P$> |$t$|$} & \\textbf{[0.025} & \\textbf{0.975]}  \\\\\n",
       "\\midrule\n",
       "\\textbf{Intercept} &       8.8748  &        3.582     &     2.477  &         0.016        &        1.716    &       16.034     \\\\\n",
       "\\textbf{FGA}       &       0.7037  &        0.226     &     3.111  &         0.003        &        0.252    &        1.156     \\\\\n",
       "\\bottomrule\n",
       "\\end{tabular}\n",
       "\\begin{tabular}{lclc}\n",
       "\\textbf{Omnibus:}       &  0.246 & \\textbf{  Durbin-Watson:     } &    1.902  \\\\\n",
       "\\textbf{Prob(Omnibus):} &  0.884 & \\textbf{  Jarque-Bera (JB):  } &    0.198  \\\\\n",
       "\\textbf{Skew:}          & -0.127 & \\textbf{  Prob(JB):          } &    0.906  \\\\\n",
       "\\textbf{Kurtosis:}      &  2.905 & \\textbf{  Cond. No.          } &     59.4  \\\\\n",
       "\\bottomrule\n",
       "\\end{tabular}\n",
       "%\\caption{OLS Regression Results}\n",
       "\\end{center}\n",
       "\n",
       "Notes: \\newline\n",
       " [1] Standard Errors assume that the covariance matrix of the errors is correctly specified."
      ],
      "text/plain": [
       "<class 'statsmodels.iolib.summary.Summary'>\n",
       "\"\"\"\n",
       "                            OLS Regression Results                            \n",
       "==============================================================================\n",
       "Dep. Variable:                   GmSc   R-squared:                       0.133\n",
       "Model:                            OLS   Adj. R-squared:                  0.119\n",
       "Method:                 Least Squares   F-statistic:                     9.678\n",
       "Date:                Fri, 21 Jul 2023   Prob (F-statistic):            0.00280\n",
       "Time:                        00:41:05   Log-Likelihood:                -224.11\n",
       "No. Observations:                  65   AIC:                             452.2\n",
       "Df Residuals:                      63   BIC:                             456.6\n",
       "Df Model:                           1                                         \n",
       "Covariance Type:            nonrobust                                         \n",
       "==============================================================================\n",
       "                 coef    std err          t      P>|t|      [0.025      0.975]\n",
       "------------------------------------------------------------------------------\n",
       "Intercept      8.8748      3.582      2.477      0.016       1.716      16.034\n",
       "FGA            0.7037      0.226      3.111      0.003       0.252       1.156\n",
       "==============================================================================\n",
       "Omnibus:                        0.246   Durbin-Watson:                   1.902\n",
       "Prob(Omnibus):                  0.884   Jarque-Bera (JB):                0.198\n",
       "Skew:                          -0.127   Prob(JB):                        0.906\n",
       "Kurtosis:                       2.905   Cond. No.                         59.4\n",
       "==============================================================================\n",
       "\n",
       "Notes:\n",
       "[1] Standard Errors assume that the covariance matrix of the errors is correctly specified.\n",
       "\"\"\""
      ]
     },
     "execution_count": 12,
     "metadata": {},
     "output_type": "execute_result"
    }
   ],
   "source": [
    "m = smf.ols(\"GmSc ~ FGA\", data=harden).fit()\n",
    "m.summary()"
   ]
  },
  {
   "cell_type": "markdown",
   "id": "be5a6d70-cff8-4e9a-b682-1dece2d31159",
   "metadata": {},
   "source": [
    "a) The intercept (β0) can be interpreted as the expected game score when the field goal attempts are 0. So, if James Harden attempted 0 field goals in a game, the expected game score would be 8.8748.\n",
    "\n",
    "b) The FGA coefficient/slope (β1) can be interpreted as the rise in game score for every one additional field goal attempt (while all else is constant). So, for every additional one field goal attempt (while all else is constant), the game score would be expected to increase by 0.7037. Since the p-value is 0.003, it is statistically significant and we do reject the null hypothesis."
   ]
  },
  {
   "cell_type": "markdown",
   "id": "f5f9b9ed-66d9-4d9a-9fd3-42cf349e1a46",
   "metadata": {},
   "source": [
    "Q6."
   ]
  },
  {
   "cell_type": "code",
   "execution_count": 13,
   "id": "b00c5d25-c164-4367-b80c-c256b3727f26",
   "metadata": {
    "tags": []
   },
   "outputs": [
    {
     "data": {
      "text/html": [
       "<table class=\"simpletable\">\n",
       "<caption>OLS Regression Results</caption>\n",
       "<tr>\n",
       "  <th>Dep. Variable:</th>          <td>GmSc</td>       <th>  R-squared:         </th> <td>   0.594</td>\n",
       "</tr>\n",
       "<tr>\n",
       "  <th>Model:</th>                   <td>OLS</td>       <th>  Adj. R-squared:    </th> <td>   0.581</td>\n",
       "</tr>\n",
       "<tr>\n",
       "  <th>Method:</th>             <td>Least Squares</td>  <th>  F-statistic:       </th> <td>   45.30</td>\n",
       "</tr>\n",
       "<tr>\n",
       "  <th>Date:</th>             <td>Fri, 21 Jul 2023</td> <th>  Prob (F-statistic):</th> <td>7.49e-13</td>\n",
       "</tr>\n",
       "<tr>\n",
       "  <th>Time:</th>                 <td>00:41:07</td>     <th>  Log-Likelihood:    </th> <td> -199.48</td>\n",
       "</tr>\n",
       "<tr>\n",
       "  <th>No. Observations:</th>      <td>    65</td>      <th>  AIC:               </th> <td>   405.0</td>\n",
       "</tr>\n",
       "<tr>\n",
       "  <th>Df Residuals:</th>          <td>    62</td>      <th>  BIC:               </th> <td>   411.5</td>\n",
       "</tr>\n",
       "<tr>\n",
       "  <th>Df Model:</th>              <td>     2</td>      <th>                     </th>     <td> </td>   \n",
       "</tr>\n",
       "<tr>\n",
       "  <th>Covariance Type:</th>      <td>nonrobust</td>    <th>                     </th>     <td> </td>   \n",
       "</tr>\n",
       "</table>\n",
       "<table class=\"simpletable\">\n",
       "<tr>\n",
       "      <td></td>         <th>coef</th>     <th>std err</th>      <th>t</th>      <th>P>|t|</th>  <th>[0.025</th>    <th>0.975]</th>  \n",
       "</tr>\n",
       "<tr>\n",
       "  <th>Intercept</th> <td>    8.9917</td> <td>    2.472</td> <td>    3.637</td> <td> 0.001</td> <td>    4.049</td> <td>   13.934</td>\n",
       "</tr>\n",
       "<tr>\n",
       "  <th>FG</th>        <td>    3.0427</td> <td>    0.363</td> <td>    8.383</td> <td> 0.000</td> <td>    2.317</td> <td>    3.768</td>\n",
       "</tr>\n",
       "<tr>\n",
       "  <th>FGA</th>       <td>   -0.5523</td> <td>    0.216</td> <td>   -2.553</td> <td> 0.013</td> <td>   -0.985</td> <td>   -0.120</td>\n",
       "</tr>\n",
       "</table>\n",
       "<table class=\"simpletable\">\n",
       "<tr>\n",
       "  <th>Omnibus:</th>       <td> 0.422</td> <th>  Durbin-Watson:     </th> <td>   1.943</td>\n",
       "</tr>\n",
       "<tr>\n",
       "  <th>Prob(Omnibus):</th> <td> 0.810</td> <th>  Jarque-Bera (JB):  </th> <td>   0.069</td>\n",
       "</tr>\n",
       "<tr>\n",
       "  <th>Skew:</th>          <td>-0.025</td> <th>  Prob(JB):          </th> <td>   0.966</td>\n",
       "</tr>\n",
       "<tr>\n",
       "  <th>Kurtosis:</th>      <td> 3.151</td> <th>  Cond. No.          </th> <td>    64.3</td>\n",
       "</tr>\n",
       "</table><br/><br/>Notes:<br/>[1] Standard Errors assume that the covariance matrix of the errors is correctly specified."
      ],
      "text/latex": [
       "\\begin{center}\n",
       "\\begin{tabular}{lclc}\n",
       "\\toprule\n",
       "\\textbf{Dep. Variable:}    &       GmSc       & \\textbf{  R-squared:         } &     0.594   \\\\\n",
       "\\textbf{Model:}            &       OLS        & \\textbf{  Adj. R-squared:    } &     0.581   \\\\\n",
       "\\textbf{Method:}           &  Least Squares   & \\textbf{  F-statistic:       } &     45.30   \\\\\n",
       "\\textbf{Date:}             & Fri, 21 Jul 2023 & \\textbf{  Prob (F-statistic):} &  7.49e-13   \\\\\n",
       "\\textbf{Time:}             &     00:41:07     & \\textbf{  Log-Likelihood:    } &   -199.48   \\\\\n",
       "\\textbf{No. Observations:} &          65      & \\textbf{  AIC:               } &     405.0   \\\\\n",
       "\\textbf{Df Residuals:}     &          62      & \\textbf{  BIC:               } &     411.5   \\\\\n",
       "\\textbf{Df Model:}         &           2      & \\textbf{                     } &             \\\\\n",
       "\\textbf{Covariance Type:}  &    nonrobust     & \\textbf{                     } &             \\\\\n",
       "\\bottomrule\n",
       "\\end{tabular}\n",
       "\\begin{tabular}{lcccccc}\n",
       "                   & \\textbf{coef} & \\textbf{std err} & \\textbf{t} & \\textbf{P$> |$t$|$} & \\textbf{[0.025} & \\textbf{0.975]}  \\\\\n",
       "\\midrule\n",
       "\\textbf{Intercept} &       8.9917  &        2.472     &     3.637  &         0.001        &        4.049    &       13.934     \\\\\n",
       "\\textbf{FG}        &       3.0427  &        0.363     &     8.383  &         0.000        &        2.317    &        3.768     \\\\\n",
       "\\textbf{FGA}       &      -0.5523  &        0.216     &    -2.553  &         0.013        &       -0.985    &       -0.120     \\\\\n",
       "\\bottomrule\n",
       "\\end{tabular}\n",
       "\\begin{tabular}{lclc}\n",
       "\\textbf{Omnibus:}       &  0.422 & \\textbf{  Durbin-Watson:     } &    1.943  \\\\\n",
       "\\textbf{Prob(Omnibus):} &  0.810 & \\textbf{  Jarque-Bera (JB):  } &    0.069  \\\\\n",
       "\\textbf{Skew:}          & -0.025 & \\textbf{  Prob(JB):          } &    0.966  \\\\\n",
       "\\textbf{Kurtosis:}      &  3.151 & \\textbf{  Cond. No.          } &     64.3  \\\\\n",
       "\\bottomrule\n",
       "\\end{tabular}\n",
       "%\\caption{OLS Regression Results}\n",
       "\\end{center}\n",
       "\n",
       "Notes: \\newline\n",
       " [1] Standard Errors assume that the covariance matrix of the errors is correctly specified."
      ],
      "text/plain": [
       "<class 'statsmodels.iolib.summary.Summary'>\n",
       "\"\"\"\n",
       "                            OLS Regression Results                            \n",
       "==============================================================================\n",
       "Dep. Variable:                   GmSc   R-squared:                       0.594\n",
       "Model:                            OLS   Adj. R-squared:                  0.581\n",
       "Method:                 Least Squares   F-statistic:                     45.30\n",
       "Date:                Fri, 21 Jul 2023   Prob (F-statistic):           7.49e-13\n",
       "Time:                        00:41:07   Log-Likelihood:                -199.48\n",
       "No. Observations:                  65   AIC:                             405.0\n",
       "Df Residuals:                      62   BIC:                             411.5\n",
       "Df Model:                           2                                         \n",
       "Covariance Type:            nonrobust                                         \n",
       "==============================================================================\n",
       "                 coef    std err          t      P>|t|      [0.025      0.975]\n",
       "------------------------------------------------------------------------------\n",
       "Intercept      8.9917      2.472      3.637      0.001       4.049      13.934\n",
       "FG             3.0427      0.363      8.383      0.000       2.317       3.768\n",
       "FGA           -0.5523      0.216     -2.553      0.013      -0.985      -0.120\n",
       "==============================================================================\n",
       "Omnibus:                        0.422   Durbin-Watson:                   1.943\n",
       "Prob(Omnibus):                  0.810   Jarque-Bera (JB):                0.069\n",
       "Skew:                          -0.025   Prob(JB):                        0.966\n",
       "Kurtosis:                       3.151   Cond. No.                         64.3\n",
       "==============================================================================\n",
       "\n",
       "Notes:\n",
       "[1] Standard Errors assume that the covariance matrix of the errors is correctly specified.\n",
       "\"\"\""
      ]
     },
     "execution_count": 13,
     "metadata": {},
     "output_type": "execute_result"
    }
   ],
   "source": [
    "m = smf.ols(\"GmSc ~ FG + FGA\", data=harden).fit()\n",
    "m.summary()"
   ]
  },
  {
   "cell_type": "markdown",
   "id": "83e2e565-3c24-466d-b1de-17f7e646b7da",
   "metadata": {},
   "source": [
    "a) The interpretation for the FG coefficient is that while all else is constant (FGA is constant), everytime a field goal is made, we'd expect the game score to increase by about 3 points. The p-value for this is 0.000 which means it is statistically significant.\n",
    "\n",
    "b) The interpretation for FGA is that while all else is constant (FG is constant), every time a field goal is attempted, the game score would be expected to decrease by about 0.6 points. This is also statistically significant as the p-value 0.013 is less that the significance level 0.05.\n",
    "\n",
    "c) The sign change makes sense because as field goal attempts increases by one, while field goals stay constant means that the field goal wasn't made. This means that the field goal attempt would actually be a field goal miss which is the reason for the positive to negative sign change once incorportating FG into our model.\n",
    "\n",
    "d) The R² of this model is 0.594, the R² of the previous model is 0.133. From this I conclude that this model that includes FG and FGA more accurately describes the situation than the previous model"
   ]
  },
  {
   "cell_type": "markdown",
   "id": "9139ab78-7c5b-45f3-8c26-967f0f5bdb11",
   "metadata": {},
   "source": [
    "Q7."
   ]
  },
  {
   "cell_type": "code",
   "execution_count": 14,
   "id": "5c6f6cb5-3c07-4f61-b22e-53515afb5d9e",
   "metadata": {
    "tags": []
   },
   "outputs": [
    {
     "data": {
      "text/html": [
       "<table class=\"simpletable\">\n",
       "<caption>OLS Regression Results</caption>\n",
       "<tr>\n",
       "  <th>Dep. Variable:</th>          <td>GmSc</td>       <th>  R-squared:         </th> <td>   1.000</td> \n",
       "</tr>\n",
       "<tr>\n",
       "  <th>Model:</th>                   <td>OLS</td>       <th>  Adj. R-squared:    </th> <td>   1.000</td> \n",
       "</tr>\n",
       "<tr>\n",
       "  <th>Method:</th>             <td>Least Squares</td>  <th>  F-statistic:       </th> <td>1.734e+29</td>\n",
       "</tr>\n",
       "<tr>\n",
       "  <th>Date:</th>             <td>Fri, 21 Jul 2023</td> <th>  Prob (F-statistic):</th>  <td>  0.00</td>  \n",
       "</tr>\n",
       "<tr>\n",
       "  <th>Time:</th>                 <td>00:41:09</td>     <th>  Log-Likelihood:    </th> <td>  1914.9</td> \n",
       "</tr>\n",
       "<tr>\n",
       "  <th>No. Observations:</th>      <td>    65</td>      <th>  AIC:               </th> <td>  -3802.</td> \n",
       "</tr>\n",
       "<tr>\n",
       "  <th>Df Residuals:</th>          <td>    51</td>      <th>  BIC:               </th> <td>  -3771.</td> \n",
       "</tr>\n",
       "<tr>\n",
       "  <th>Df Model:</th>              <td>    13</td>      <th>                     </th>     <td> </td>    \n",
       "</tr>\n",
       "<tr>\n",
       "  <th>Covariance Type:</th>      <td>nonrobust</td>    <th>                     </th>     <td> </td>    \n",
       "</tr>\n",
       "</table>\n",
       "<table class=\"simpletable\">\n",
       "<tr>\n",
       "      <td></td>         <th>coef</th>     <th>std err</th>      <th>t</th>      <th>P>|t|</th>  <th>[0.025</th>    <th>0.975]</th>  \n",
       "</tr>\n",
       "<tr>\n",
       "  <th>Intercept</th> <td> 1.296e-14</td> <td> 3.87e-14</td> <td>    0.335</td> <td> 0.739</td> <td>-6.46e-14</td> <td> 9.06e-14</td>\n",
       "</tr>\n",
       "<tr>\n",
       "  <th>FG</th>        <td>    2.4000</td> <td> 3.78e-15</td> <td> 6.35e+14</td> <td> 0.000</td> <td>    2.400</td> <td>    2.400</td>\n",
       "</tr>\n",
       "<tr>\n",
       "  <th>FGA</th>       <td>   -0.7000</td> <td>  2.5e-15</td> <td> -2.8e+14</td> <td> 0.000</td> <td>   -0.700</td> <td>   -0.700</td>\n",
       "</tr>\n",
       "<tr>\n",
       "  <th>threeP</th>    <td>    1.0000</td> <td> 6.47e-15</td> <td> 1.55e+14</td> <td> 0.000</td> <td>    1.000</td> <td>    1.000</td>\n",
       "</tr>\n",
       "<tr>\n",
       "  <th>threePA</th>   <td>-3.158e-15</td> <td> 4.25e-15</td> <td>   -0.743</td> <td> 0.461</td> <td>-1.17e-14</td> <td> 5.38e-15</td>\n",
       "</tr>\n",
       "<tr>\n",
       "  <th>FT</th>        <td>    1.4000</td> <td> 7.21e-15</td> <td> 1.94e+14</td> <td> 0.000</td> <td>    1.400</td> <td>    1.400</td>\n",
       "</tr>\n",
       "<tr>\n",
       "  <th>FTA</th>       <td>   -0.4000</td> <td> 5.95e-15</td> <td>-6.72e+13</td> <td> 0.000</td> <td>   -0.400</td> <td>   -0.400</td>\n",
       "</tr>\n",
       "<tr>\n",
       "  <th>ORB</th>       <td>    0.7000</td> <td> 5.43e-15</td> <td> 1.29e+14</td> <td> 0.000</td> <td>    0.700</td> <td>    0.700</td>\n",
       "</tr>\n",
       "<tr>\n",
       "  <th>DRB</th>       <td>    0.3000</td> <td> 2.56e-15</td> <td> 1.17e+14</td> <td> 0.000</td> <td>    0.300</td> <td>    0.300</td>\n",
       "</tr>\n",
       "<tr>\n",
       "  <th>AST</th>       <td>    0.7000</td> <td> 2.06e-15</td> <td>  3.4e+14</td> <td> 0.000</td> <td>    0.700</td> <td>    0.700</td>\n",
       "</tr>\n",
       "<tr>\n",
       "  <th>STL</th>       <td>    1.0000</td> <td> 5.87e-15</td> <td>  1.7e+14</td> <td> 0.000</td> <td>    1.000</td> <td>    1.000</td>\n",
       "</tr>\n",
       "<tr>\n",
       "  <th>BLK</th>       <td>    0.7000</td> <td> 8.28e-15</td> <td> 8.45e+13</td> <td> 0.000</td> <td>    0.700</td> <td>    0.700</td>\n",
       "</tr>\n",
       "<tr>\n",
       "  <th>TOV</th>       <td>   -1.0000</td> <td> 3.47e-15</td> <td>-2.88e+14</td> <td> 0.000</td> <td>   -1.000</td> <td>   -1.000</td>\n",
       "</tr>\n",
       "<tr>\n",
       "  <th>PF</th>        <td>   -0.4000</td> <td> 4.56e-15</td> <td>-8.78e+13</td> <td> 0.000</td> <td>   -0.400</td> <td>   -0.400</td>\n",
       "</tr>\n",
       "</table>\n",
       "<table class=\"simpletable\">\n",
       "<tr>\n",
       "  <th>Omnibus:</th>       <td> 6.562</td> <th>  Durbin-Watson:     </th> <td>   0.186</td>\n",
       "</tr>\n",
       "<tr>\n",
       "  <th>Prob(Omnibus):</th> <td> 0.038</td> <th>  Jarque-Bera (JB):  </th> <td>   6.067</td>\n",
       "</tr>\n",
       "<tr>\n",
       "  <th>Skew:</th>          <td> 0.741</td> <th>  Prob(JB):          </th> <td>  0.0481</td>\n",
       "</tr>\n",
       "<tr>\n",
       "  <th>Kurtosis:</th>      <td> 3.215</td> <th>  Cond. No.          </th> <td>    182.</td>\n",
       "</tr>\n",
       "</table><br/><br/>Notes:<br/>[1] Standard Errors assume that the covariance matrix of the errors is correctly specified."
      ],
      "text/latex": [
       "\\begin{center}\n",
       "\\begin{tabular}{lclc}\n",
       "\\toprule\n",
       "\\textbf{Dep. Variable:}    &       GmSc       & \\textbf{  R-squared:         } &     1.000   \\\\\n",
       "\\textbf{Model:}            &       OLS        & \\textbf{  Adj. R-squared:    } &     1.000   \\\\\n",
       "\\textbf{Method:}           &  Least Squares   & \\textbf{  F-statistic:       } & 1.734e+29   \\\\\n",
       "\\textbf{Date:}             & Fri, 21 Jul 2023 & \\textbf{  Prob (F-statistic):} &     0.00    \\\\\n",
       "\\textbf{Time:}             &     00:41:09     & \\textbf{  Log-Likelihood:    } &    1914.9   \\\\\n",
       "\\textbf{No. Observations:} &          65      & \\textbf{  AIC:               } &    -3802.   \\\\\n",
       "\\textbf{Df Residuals:}     &          51      & \\textbf{  BIC:               } &    -3771.   \\\\\n",
       "\\textbf{Df Model:}         &          13      & \\textbf{                     } &             \\\\\n",
       "\\textbf{Covariance Type:}  &    nonrobust     & \\textbf{                     } &             \\\\\n",
       "\\bottomrule\n",
       "\\end{tabular}\n",
       "\\begin{tabular}{lcccccc}\n",
       "                   & \\textbf{coef} & \\textbf{std err} & \\textbf{t} & \\textbf{P$> |$t$|$} & \\textbf{[0.025} & \\textbf{0.975]}  \\\\\n",
       "\\midrule\n",
       "\\textbf{Intercept} &    1.296e-14  &     3.87e-14     &     0.335  &         0.739        &    -6.46e-14    &     9.06e-14     \\\\\n",
       "\\textbf{FG}        &       2.4000  &     3.78e-15     &  6.35e+14  &         0.000        &        2.400    &        2.400     \\\\\n",
       "\\textbf{FGA}       &      -0.7000  &      2.5e-15     &  -2.8e+14  &         0.000        &       -0.700    &       -0.700     \\\\\n",
       "\\textbf{threeP}    &       1.0000  &     6.47e-15     &  1.55e+14  &         0.000        &        1.000    &        1.000     \\\\\n",
       "\\textbf{threePA}   &   -3.158e-15  &     4.25e-15     &    -0.743  &         0.461        &    -1.17e-14    &     5.38e-15     \\\\\n",
       "\\textbf{FT}        &       1.4000  &     7.21e-15     &  1.94e+14  &         0.000        &        1.400    &        1.400     \\\\\n",
       "\\textbf{FTA}       &      -0.4000  &     5.95e-15     & -6.72e+13  &         0.000        &       -0.400    &       -0.400     \\\\\n",
       "\\textbf{ORB}       &       0.7000  &     5.43e-15     &  1.29e+14  &         0.000        &        0.700    &        0.700     \\\\\n",
       "\\textbf{DRB}       &       0.3000  &     2.56e-15     &  1.17e+14  &         0.000        &        0.300    &        0.300     \\\\\n",
       "\\textbf{AST}       &       0.7000  &     2.06e-15     &   3.4e+14  &         0.000        &        0.700    &        0.700     \\\\\n",
       "\\textbf{STL}       &       1.0000  &     5.87e-15     &   1.7e+14  &         0.000        &        1.000    &        1.000     \\\\\n",
       "\\textbf{BLK}       &       0.7000  &     8.28e-15     &  8.45e+13  &         0.000        &        0.700    &        0.700     \\\\\n",
       "\\textbf{TOV}       &      -1.0000  &     3.47e-15     & -2.88e+14  &         0.000        &       -1.000    &       -1.000     \\\\\n",
       "\\textbf{PF}        &      -0.4000  &     4.56e-15     & -8.78e+13  &         0.000        &       -0.400    &       -0.400     \\\\\n",
       "\\bottomrule\n",
       "\\end{tabular}\n",
       "\\begin{tabular}{lclc}\n",
       "\\textbf{Omnibus:}       &  6.562 & \\textbf{  Durbin-Watson:     } &    0.186  \\\\\n",
       "\\textbf{Prob(Omnibus):} &  0.038 & \\textbf{  Jarque-Bera (JB):  } &    6.067  \\\\\n",
       "\\textbf{Skew:}          &  0.741 & \\textbf{  Prob(JB):          } &   0.0481  \\\\\n",
       "\\textbf{Kurtosis:}      &  3.215 & \\textbf{  Cond. No.          } &     182.  \\\\\n",
       "\\bottomrule\n",
       "\\end{tabular}\n",
       "%\\caption{OLS Regression Results}\n",
       "\\end{center}\n",
       "\n",
       "Notes: \\newline\n",
       " [1] Standard Errors assume that the covariance matrix of the errors is correctly specified."
      ],
      "text/plain": [
       "<class 'statsmodels.iolib.summary.Summary'>\n",
       "\"\"\"\n",
       "                            OLS Regression Results                            \n",
       "==============================================================================\n",
       "Dep. Variable:                   GmSc   R-squared:                       1.000\n",
       "Model:                            OLS   Adj. R-squared:                  1.000\n",
       "Method:                 Least Squares   F-statistic:                 1.734e+29\n",
       "Date:                Fri, 21 Jul 2023   Prob (F-statistic):               0.00\n",
       "Time:                        00:41:09   Log-Likelihood:                 1914.9\n",
       "No. Observations:                  65   AIC:                            -3802.\n",
       "Df Residuals:                      51   BIC:                            -3771.\n",
       "Df Model:                          13                                         \n",
       "Covariance Type:            nonrobust                                         \n",
       "==============================================================================\n",
       "                 coef    std err          t      P>|t|      [0.025      0.975]\n",
       "------------------------------------------------------------------------------\n",
       "Intercept   1.296e-14   3.87e-14      0.335      0.739   -6.46e-14    9.06e-14\n",
       "FG             2.4000   3.78e-15   6.35e+14      0.000       2.400       2.400\n",
       "FGA           -0.7000    2.5e-15   -2.8e+14      0.000      -0.700      -0.700\n",
       "threeP         1.0000   6.47e-15   1.55e+14      0.000       1.000       1.000\n",
       "threePA    -3.158e-15   4.25e-15     -0.743      0.461   -1.17e-14    5.38e-15\n",
       "FT             1.4000   7.21e-15   1.94e+14      0.000       1.400       1.400\n",
       "FTA           -0.4000   5.95e-15  -6.72e+13      0.000      -0.400      -0.400\n",
       "ORB            0.7000   5.43e-15   1.29e+14      0.000       0.700       0.700\n",
       "DRB            0.3000   2.56e-15   1.17e+14      0.000       0.300       0.300\n",
       "AST            0.7000   2.06e-15    3.4e+14      0.000       0.700       0.700\n",
       "STL            1.0000   5.87e-15    1.7e+14      0.000       1.000       1.000\n",
       "BLK            0.7000   8.28e-15   8.45e+13      0.000       0.700       0.700\n",
       "TOV           -1.0000   3.47e-15  -2.88e+14      0.000      -1.000      -1.000\n",
       "PF            -0.4000   4.56e-15  -8.78e+13      0.000      -0.400      -0.400\n",
       "==============================================================================\n",
       "Omnibus:                        6.562   Durbin-Watson:                   0.186\n",
       "Prob(Omnibus):                  0.038   Jarque-Bera (JB):                6.067\n",
       "Skew:                           0.741   Prob(JB):                       0.0481\n",
       "Kurtosis:                       3.215   Cond. No.                         182.\n",
       "==============================================================================\n",
       "\n",
       "Notes:\n",
       "[1] Standard Errors assume that the covariance matrix of the errors is correctly specified.\n",
       "\"\"\""
      ]
     },
     "execution_count": 14,
     "metadata": {},
     "output_type": "execute_result"
    }
   ],
   "source": [
    "# patsy Q() quoting for invalid variable names an option too\n",
    "m = smf.ols(\"GmSc ~ FG + FGA + threeP + threePA + FT + FTA + ORB + DRB + AST + STL + BLK + TOV + PF\", data=harden).fit()\n",
    "m.summary()"
   ]
  },
  {
   "cell_type": "markdown",
   "id": "e918ca72-dd35-4c7a-baa6-334d3f248051",
   "metadata": {},
   "source": [
    "a) In this model including all these columns, the standard errors are really small approaching 0. The t-values are really high which leads us to reject the null hypothesis and conclude that there is a signifiacnt realtionship between the predictor and the outcome.\n",
    "\n",
    "b) The R-squared value of this model is a perfect 1.0. This means the model perfectly fits the data. This means that all the changes in the GmSc are perfectly explained by the independent variables in the model.\n",
    "\n",
    "c) The turnover (TOV) coefficient is -1.000 which means for every one additional turnover, holding all other variables constant, decreases the expected game score by one which makes sense as a turnover gives the ball to the opposing team. So turnovers are bad for the team as it leads to a lower game score. This is statistically significant as the p-value is 0.000."
   ]
  },
  {
   "cell_type": "markdown",
   "id": "a7c65ca4-3a75-4eb4-b7f7-d74a71452aac",
   "metadata": {},
   "source": [
    "Q8."
   ]
  },
  {
   "cell_type": "markdown",
   "id": "a9f72cea-b019-47c8-9daa-3a290d03122f",
   "metadata": {},
   "source": [
    "Yes the formula in the NBA stuffer website matches the results in the regression analysis above."
   ]
  },
  {
   "cell_type": "markdown",
   "id": "43c362f4-c746-46cd-bf14-ecdd04607cdd",
   "metadata": {},
   "source": [
    "## 2. Model AirBnB Price"
   ]
  },
  {
   "cell_type": "markdown",
   "id": "baf82de3-3e72-422f-9e38-934c0be723fc",
   "metadata": {},
   "source": [
    "### 2.1 Load an clean"
   ]
  },
  {
   "cell_type": "markdown",
   "id": "a62eda41-4bbe-4e9e-8df9-7d2ec7bda2ed",
   "metadata": {},
   "source": [
    "Q1."
   ]
  },
  {
   "cell_type": "code",
   "execution_count": 15,
   "id": "a4a6c582-f35a-4b06-b4f0-0ed109b4681e",
   "metadata": {
    "tags": []
   },
   "outputs": [
    {
     "data": {
      "text/html": [
       "<div>\n",
       "<style scoped>\n",
       "    .dataframe tbody tr th:only-of-type {\n",
       "        vertical-align: middle;\n",
       "    }\n",
       "\n",
       "    .dataframe tbody tr th {\n",
       "        vertical-align: top;\n",
       "    }\n",
       "\n",
       "    .dataframe thead th {\n",
       "        text-align: right;\n",
       "    }\n",
       "</style>\n",
       "<table border=\"1\" class=\"dataframe\">\n",
       "  <thead>\n",
       "    <tr style=\"text-align: right;\">\n",
       "      <th></th>\n",
       "      <th>room_type</th>\n",
       "      <th>accommodates</th>\n",
       "      <th>bedrooms</th>\n",
       "      <th>price</th>\n",
       "    </tr>\n",
       "  </thead>\n",
       "  <tbody>\n",
       "    <tr>\n",
       "      <th>0</th>\n",
       "      <td>Entire home/apt</td>\n",
       "      <td>3</td>\n",
       "      <td>1.0</td>\n",
       "      <td>$1,845.00</td>\n",
       "    </tr>\n",
       "    <tr>\n",
       "      <th>1</th>\n",
       "      <td>Private room</td>\n",
       "      <td>2</td>\n",
       "      <td>1.0</td>\n",
       "      <td>$1,275.00</td>\n",
       "    </tr>\n",
       "    <tr>\n",
       "      <th>2</th>\n",
       "      <td>Private room</td>\n",
       "      <td>2</td>\n",
       "      <td>1.0</td>\n",
       "      <td>$800.00</td>\n",
       "    </tr>\n",
       "  </tbody>\n",
       "</table>\n",
       "</div>"
      ],
      "text/plain": [
       "         room_type  accommodates  bedrooms      price\n",
       "0  Entire home/apt             3       1.0  $1,845.00\n",
       "1     Private room             2       1.0  $1,275.00\n",
       "2     Private room             2       1.0    $800.00"
      ]
     },
     "execution_count": 15,
     "metadata": {},
     "output_type": "execute_result"
    }
   ],
   "source": [
    "airbnb = pd.read_csv(\"../data/airbnb-bangkok-listings.csv.bz2\", usecols=[\"bedrooms\", \"price\", \"accommodates\", \"room_type\"])\n",
    "airbnb.head(3)"
   ]
  },
  {
   "cell_type": "code",
   "execution_count": 16,
   "id": "aae6f27f-2e09-41ce-be20-543f7dd34a5e",
   "metadata": {
    "tags": []
   },
   "outputs": [
    {
     "data": {
      "text/plain": [
       "(17040, 4)"
      ]
     },
     "execution_count": 16,
     "metadata": {},
     "output_type": "execute_result"
    }
   ],
   "source": [
    "airbnb.shape"
   ]
  },
  {
   "cell_type": "code",
   "execution_count": 17,
   "id": "66ffb943-cdac-434c-9f2d-feafd6305bfc",
   "metadata": {
    "tags": []
   },
   "outputs": [
    {
     "data": {
      "text/plain": [
       "room_type        object\n",
       "accommodates      int64\n",
       "bedrooms        float64\n",
       "price            object\n",
       "dtype: object"
      ]
     },
     "execution_count": 17,
     "metadata": {},
     "output_type": "execute_result"
    }
   ],
   "source": [
    "airbnb.dtypes"
   ]
  },
  {
   "cell_type": "markdown",
   "id": "a928299c-cf8c-409a-b980-8584db692a33",
   "metadata": {},
   "source": [
    "Data looks reasonable and good, except price should be numeric"
   ]
  },
  {
   "cell_type": "markdown",
   "id": "ea228e3b-e851-4c64-8d74-98ba4ba61dd4",
   "metadata": {},
   "source": [
    "Q2."
   ]
  },
  {
   "cell_type": "markdown",
   "id": "42485bd1-b601-4d3c-a238-966044df78c9",
   "metadata": {},
   "source": [
    "a)"
   ]
  },
  {
   "cell_type": "code",
   "execution_count": 18,
   "id": "58b1d57b-991d-4225-a5f0-4d53228ef064",
   "metadata": {
    "tags": []
   },
   "outputs": [],
   "source": [
    "airbnb[\"price\"] = airbnb[\"price\"].str.replace(\"$\", \"\")\n",
    "airbnb[\"price\"] = airbnb[\"price\"].str.replace(\",\", \"\")\n",
    "airbnb[\"price\"] = pd.to_numeric(airbnb[\"price\"], errors=\"coerce\")"
   ]
  },
  {
   "cell_type": "code",
   "execution_count": 19,
   "id": "f1fddf45-b7f9-4c40-b927-8ae5bc2feab0",
   "metadata": {
    "tags": []
   },
   "outputs": [
    {
     "data": {
      "text/plain": [
       "room_type        object\n",
       "accommodates      int64\n",
       "bedrooms        float64\n",
       "price           float64\n",
       "dtype: object"
      ]
     },
     "execution_count": 19,
     "metadata": {},
     "output_type": "execute_result"
    }
   ],
   "source": [
    "airbnb.dtypes"
   ]
  },
  {
   "cell_type": "code",
   "execution_count": 20,
   "id": "9d7d423d-6c61-4a1c-8c99-d190095000b3",
   "metadata": {
    "tags": []
   },
   "outputs": [
    {
     "data": {
      "text/html": [
       "<div>\n",
       "<style scoped>\n",
       "    .dataframe tbody tr th:only-of-type {\n",
       "        vertical-align: middle;\n",
       "    }\n",
       "\n",
       "    .dataframe tbody tr th {\n",
       "        vertical-align: top;\n",
       "    }\n",
       "\n",
       "    .dataframe thead th {\n",
       "        text-align: right;\n",
       "    }\n",
       "</style>\n",
       "<table border=\"1\" class=\"dataframe\">\n",
       "  <thead>\n",
       "    <tr style=\"text-align: right;\">\n",
       "      <th></th>\n",
       "      <th>room_type</th>\n",
       "      <th>accommodates</th>\n",
       "      <th>bedrooms</th>\n",
       "      <th>price</th>\n",
       "    </tr>\n",
       "  </thead>\n",
       "  <tbody>\n",
       "    <tr>\n",
       "      <th>0</th>\n",
       "      <td>Entire home/apt</td>\n",
       "      <td>3</td>\n",
       "      <td>1.0</td>\n",
       "      <td>1845.0</td>\n",
       "    </tr>\n",
       "    <tr>\n",
       "      <th>1</th>\n",
       "      <td>Private room</td>\n",
       "      <td>2</td>\n",
       "      <td>1.0</td>\n",
       "      <td>1275.0</td>\n",
       "    </tr>\n",
       "    <tr>\n",
       "      <th>2</th>\n",
       "      <td>Private room</td>\n",
       "      <td>2</td>\n",
       "      <td>1.0</td>\n",
       "      <td>800.0</td>\n",
       "    </tr>\n",
       "  </tbody>\n",
       "</table>\n",
       "</div>"
      ],
      "text/plain": [
       "         room_type  accommodates  bedrooms   price\n",
       "0  Entire home/apt             3       1.0  1845.0\n",
       "1     Private room             2       1.0  1275.0\n",
       "2     Private room             2       1.0   800.0"
      ]
     },
     "execution_count": 20,
     "metadata": {},
     "output_type": "execute_result"
    }
   ],
   "source": [
    "airbnb.head(3)"
   ]
  },
  {
   "cell_type": "markdown",
   "id": "360210b7-01bf-47d6-91f0-aa76be71c39a",
   "metadata": {},
   "source": [
    "b)"
   ]
  },
  {
   "cell_type": "code",
   "execution_count": 21,
   "id": "4c2045a3-753e-42ab-aad0-aa9428e007ee",
   "metadata": {
    "tags": []
   },
   "outputs": [],
   "source": [
    "airbnb = airbnb.dropna(subset=[\"price\", \"bedrooms\", \"accommodates\"])"
   ]
  },
  {
   "cell_type": "markdown",
   "id": "a74299ae-1080-4c20-b6b9-43978cf4a6d6",
   "metadata": {},
   "source": [
    "Q5."
   ]
  },
  {
   "cell_type": "code",
   "execution_count": 22,
   "id": "a2f4ee43-daaa-405c-8b69-fcb4b5e64960",
   "metadata": {
    "tags": []
   },
   "outputs": [
    {
     "data": {
      "image/png": "[encoded data removed]",
      "text/plain": [
       "<Figure size 640x480 with 1 Axes>"
      ]
     },
     "metadata": {},
     "output_type": "display_data"
    }
   ],
   "source": [
    "plt.hist(airbnb.price, bins=150, edgecolor=\"black\")\n",
    "plt.title(\"AirBnB Price Distribution\")\n",
    "plt.xlabel(\"Price\")\n",
    "plt.ylabel(\"Frequency\")\n",
    "plt.show()"
   ]
  },
  {
   "cell_type": "code",
   "execution_count": 23,
   "id": "783a6e51-155d-4345-978c-863e5ff1f47d",
   "metadata": {
    "tags": []
   },
   "outputs": [
    {
     "data": {
      "image/png": "[encoded data removed]",
      "text/plain": [
       "<Figure size 640x480 with 1 Axes>"
      ]
     },
     "metadata": {},
     "output_type": "display_data"
    }
   ],
   "source": [
    "airbnb[\"logprice\"] = np.log(airbnb.price)\n",
    "plt.hist(airbnb.logprice, bins=100, edgecolor='black')\n",
    "plt.title(\"Log-Price Distribution\")\n",
    "plt.xlabel(\"Log-Price\")\n",
    "plt.ylabel(\"Frequency\")\n",
    "plt.show()"
   ]
  },
  {
   "cell_type": "markdown",
   "id": "c01edefc-f1f4-43fa-96b8-b20b32761f75",
   "metadata": {
    "tags": []
   },
   "source": [
    "The distribution of price was highly skewed right with many low priced and a few extremely highly priced. It does suggest I do a log-transformation."
   ]
  },
  {
   "cell_type": "markdown",
   "id": "81ac9613-91ab-4d6d-952e-213770324920",
   "metadata": {},
   "source": [
    "Q4."
   ]
  },
  {
   "cell_type": "code",
   "execution_count": 24,
   "id": "6cb0d2b7-9751-436b-8b4f-bf1febcafa5c",
   "metadata": {
    "tags": []
   },
   "outputs": [],
   "source": [
    "airbnb[\"bedrooms\"] = pd.cut(airbnb.bedrooms,\n",
    "                      bins = [0, 1, 2, 3, 500],\n",
    "                      labels = [\"1\", \"2\", \"3\", \"4+\"])"
   ]
  },
  {
   "cell_type": "code",
   "execution_count": 25,
   "id": "aadf6998-192e-4c0d-aa4c-3ac29ddf0604",
   "metadata": {
    "tags": []
   },
   "outputs": [
    {
     "data": {
      "text/html": [
       "<div>\n",
       "<style scoped>\n",
       "    .dataframe tbody tr th:only-of-type {\n",
       "        vertical-align: middle;\n",
       "    }\n",
       "\n",
       "    .dataframe tbody tr th {\n",
       "        vertical-align: top;\n",
       "    }\n",
       "\n",
       "    .dataframe thead th {\n",
       "        text-align: right;\n",
       "    }\n",
       "</style>\n",
       "<table border=\"1\" class=\"dataframe\">\n",
       "  <thead>\n",
       "    <tr style=\"text-align: right;\">\n",
       "      <th></th>\n",
       "      <th>room_type</th>\n",
       "      <th>accommodates</th>\n",
       "      <th>bedrooms</th>\n",
       "      <th>price</th>\n",
       "      <th>logprice</th>\n",
       "    </tr>\n",
       "  </thead>\n",
       "  <tbody>\n",
       "    <tr>\n",
       "      <th>6144</th>\n",
       "      <td>Hotel room</td>\n",
       "      <td>2</td>\n",
       "      <td>1</td>\n",
       "      <td>750.0</td>\n",
       "      <td>6.620073</td>\n",
       "    </tr>\n",
       "    <tr>\n",
       "      <th>1938</th>\n",
       "      <td>Entire home/apt</td>\n",
       "      <td>4</td>\n",
       "      <td>2</td>\n",
       "      <td>3500.0</td>\n",
       "      <td>8.160518</td>\n",
       "    </tr>\n",
       "    <tr>\n",
       "      <th>11827</th>\n",
       "      <td>Shared room</td>\n",
       "      <td>1</td>\n",
       "      <td>1</td>\n",
       "      <td>305.0</td>\n",
       "      <td>5.720312</td>\n",
       "    </tr>\n",
       "    <tr>\n",
       "      <th>13</th>\n",
       "      <td>Private room</td>\n",
       "      <td>1</td>\n",
       "      <td>1</td>\n",
       "      <td>1342.0</td>\n",
       "      <td>7.201916</td>\n",
       "    </tr>\n",
       "    <tr>\n",
       "      <th>12716</th>\n",
       "      <td>Entire home/apt</td>\n",
       "      <td>3</td>\n",
       "      <td>1</td>\n",
       "      <td>1412.0</td>\n",
       "      <td>7.252762</td>\n",
       "    </tr>\n",
       "  </tbody>\n",
       "</table>\n",
       "</div>"
      ],
      "text/plain": [
       "             room_type  accommodates bedrooms   price  logprice\n",
       "6144        Hotel room             2        1   750.0  6.620073\n",
       "1938   Entire home/apt             4        2  3500.0  8.160518\n",
       "11827      Shared room             1        1   305.0  5.720312\n",
       "13        Private room             1        1  1342.0  7.201916\n",
       "12716  Entire home/apt             3        1  1412.0  7.252762"
      ]
     },
     "execution_count": 25,
     "metadata": {},
     "output_type": "execute_result"
    }
   ],
   "source": [
    "airbnb.sample(5)"
   ]
  },
  {
   "cell_type": "markdown",
   "id": "3e15e269-1ac6-40a8-875e-cb3bdca9ec01",
   "metadata": {},
   "source": [
    "### 2.2 Model"
   ]
  },
  {
   "cell_type": "markdown",
   "id": "547cb2b2-af36-4c86-96bb-f5a00097ca42",
   "metadata": {},
   "source": [
    "Q1."
   ]
  },
  {
   "cell_type": "code",
   "execution_count": 26,
   "id": "87fb080b-6bc4-47c9-8602-e82918c9e291",
   "metadata": {
    "tags": []
   },
   "outputs": [
    {
     "data": {
      "text/html": [
       "<table class=\"simpletable\">\n",
       "<caption>OLS Regression Results</caption>\n",
       "<tr>\n",
       "  <th>Dep. Variable:</th>          <td>price</td>      <th>  R-squared:         </th>  <td>   0.036</td>  \n",
       "</tr>\n",
       "<tr>\n",
       "  <th>Model:</th>                   <td>OLS</td>       <th>  Adj. R-squared:    </th>  <td>   0.035</td>  \n",
       "</tr>\n",
       "<tr>\n",
       "  <th>Method:</th>             <td>Least Squares</td>  <th>  F-statistic:       </th>  <td>   186.5</td>  \n",
       "</tr>\n",
       "<tr>\n",
       "  <th>Date:</th>             <td>Fri, 21 Jul 2023</td> <th>  Prob (F-statistic):</th>  <td>9.32e-119</td> \n",
       "</tr>\n",
       "<tr>\n",
       "  <th>Time:</th>                 <td>00:41:34</td>     <th>  Log-Likelihood:    </th> <td>-1.5589e+05</td>\n",
       "</tr>\n",
       "<tr>\n",
       "  <th>No. Observations:</th>      <td> 15200</td>      <th>  AIC:               </th>  <td>3.118e+05</td> \n",
       "</tr>\n",
       "<tr>\n",
       "  <th>Df Residuals:</th>          <td> 15196</td>      <th>  BIC:               </th>  <td>3.118e+05</td> \n",
       "</tr>\n",
       "<tr>\n",
       "  <th>Df Model:</th>              <td>     3</td>      <th>                     </th>      <td> </td>     \n",
       "</tr>\n",
       "<tr>\n",
       "  <th>Covariance Type:</th>      <td>nonrobust</td>    <th>                     </th>      <td> </td>     \n",
       "</tr>\n",
       "</table>\n",
       "<table class=\"simpletable\">\n",
       "<tr>\n",
       "         <td></td>           <th>coef</th>     <th>std err</th>      <th>t</th>      <th>P>|t|</th>  <th>[0.025</th>    <th>0.975]</th>  \n",
       "</tr>\n",
       "<tr>\n",
       "  <th>Intercept</th>      <td> 1742.2689</td> <td>   63.041</td> <td>   27.637</td> <td> 0.000</td> <td> 1618.701</td> <td> 1865.836</td>\n",
       "</tr>\n",
       "<tr>\n",
       "  <th>bedrooms[T.2]</th>  <td> 1481.0031</td> <td>  158.427</td> <td>    9.348</td> <td> 0.000</td> <td> 1170.466</td> <td> 1791.540</td>\n",
       "</tr>\n",
       "<tr>\n",
       "  <th>bedrooms[T.3]</th>  <td> 3317.3668</td> <td>  292.214</td> <td>   11.353</td> <td> 0.000</td> <td> 2744.591</td> <td> 3890.142</td>\n",
       "</tr>\n",
       "<tr>\n",
       "  <th>bedrooms[T.4+]</th> <td> 6592.1869</td> <td>  329.856</td> <td>   19.985</td> <td> 0.000</td> <td> 5945.629</td> <td> 7238.745</td>\n",
       "</tr>\n",
       "</table>\n",
       "<table class=\"simpletable\">\n",
       "<tr>\n",
       "  <th>Omnibus:</th>       <td>36718.532</td> <th>  Durbin-Watson:     </th>   <td>   1.874</td>   \n",
       "</tr>\n",
       "<tr>\n",
       "  <th>Prob(Omnibus):</th>  <td> 0.000</td>   <th>  Jarque-Bera (JB):  </th> <td>557010065.623</td>\n",
       "</tr>\n",
       "<tr>\n",
       "  <th>Skew:</th>           <td>25.064</td>   <th>  Prob(JB):          </th>   <td>    0.00</td>   \n",
       "</tr>\n",
       "<tr>\n",
       "  <th>Kurtosis:</th>       <td>939.470</td>  <th>  Cond. No.          </th>   <td>    6.02</td>   \n",
       "</tr>\n",
       "</table><br/><br/>Notes:<br/>[1] Standard Errors assume that the covariance matrix of the errors is correctly specified."
      ],
      "text/latex": [
       "\\begin{center}\n",
       "\\begin{tabular}{lclc}\n",
       "\\toprule\n",
       "\\textbf{Dep. Variable:}    &      price       & \\textbf{  R-squared:         } &       0.036    \\\\\n",
       "\\textbf{Model:}            &       OLS        & \\textbf{  Adj. R-squared:    } &       0.035    \\\\\n",
       "\\textbf{Method:}           &  Least Squares   & \\textbf{  F-statistic:       } &       186.5    \\\\\n",
       "\\textbf{Date:}             & Fri, 21 Jul 2023 & \\textbf{  Prob (F-statistic):} &   9.32e-119    \\\\\n",
       "\\textbf{Time:}             &     00:41:34     & \\textbf{  Log-Likelihood:    } &  -1.5589e+05   \\\\\n",
       "\\textbf{No. Observations:} &       15200      & \\textbf{  AIC:               } &   3.118e+05    \\\\\n",
       "\\textbf{Df Residuals:}     &       15196      & \\textbf{  BIC:               } &   3.118e+05    \\\\\n",
       "\\textbf{Df Model:}         &           3      & \\textbf{                     } &                \\\\\n",
       "\\textbf{Covariance Type:}  &    nonrobust     & \\textbf{                     } &                \\\\\n",
       "\\bottomrule\n",
       "\\end{tabular}\n",
       "\\begin{tabular}{lcccccc}\n",
       "                        & \\textbf{coef} & \\textbf{std err} & \\textbf{t} & \\textbf{P$> |$t$|$} & \\textbf{[0.025} & \\textbf{0.975]}  \\\\\n",
       "\\midrule\n",
       "\\textbf{Intercept}      &    1742.2689  &       63.041     &    27.637  &         0.000        &     1618.701    &     1865.836     \\\\\n",
       "\\textbf{bedrooms[T.2]}  &    1481.0031  &      158.427     &     9.348  &         0.000        &     1170.466    &     1791.540     \\\\\n",
       "\\textbf{bedrooms[T.3]}  &    3317.3668  &      292.214     &    11.353  &         0.000        &     2744.591    &     3890.142     \\\\\n",
       "\\textbf{bedrooms[T.4+]} &    6592.1869  &      329.856     &    19.985  &         0.000        &     5945.629    &     7238.745     \\\\\n",
       "\\bottomrule\n",
       "\\end{tabular}\n",
       "\\begin{tabular}{lclc}\n",
       "\\textbf{Omnibus:}       & 36718.532 & \\textbf{  Durbin-Watson:     } &       1.874    \\\\\n",
       "\\textbf{Prob(Omnibus):} &    0.000  & \\textbf{  Jarque-Bera (JB):  } & 557010065.623  \\\\\n",
       "\\textbf{Skew:}          &   25.064  & \\textbf{  Prob(JB):          } &        0.00    \\\\\n",
       "\\textbf{Kurtosis:}      &  939.470  & \\textbf{  Cond. No.          } &        6.02    \\\\\n",
       "\\bottomrule\n",
       "\\end{tabular}\n",
       "%\\caption{OLS Regression Results}\n",
       "\\end{center}\n",
       "\n",
       "Notes: \\newline\n",
       " [1] Standard Errors assume that the covariance matrix of the errors is correctly specified."
      ],
      "text/plain": [
       "<class 'statsmodels.iolib.summary.Summary'>\n",
       "\"\"\"\n",
       "                            OLS Regression Results                            \n",
       "==============================================================================\n",
       "Dep. Variable:                  price   R-squared:                       0.036\n",
       "Model:                            OLS   Adj. R-squared:                  0.035\n",
       "Method:                 Least Squares   F-statistic:                     186.5\n",
       "Date:                Fri, 21 Jul 2023   Prob (F-statistic):          9.32e-119\n",
       "Time:                        00:41:34   Log-Likelihood:            -1.5589e+05\n",
       "No. Observations:               15200   AIC:                         3.118e+05\n",
       "Df Residuals:                   15196   BIC:                         3.118e+05\n",
       "Df Model:                           3                                         \n",
       "Covariance Type:            nonrobust                                         \n",
       "==================================================================================\n",
       "                     coef    std err          t      P>|t|      [0.025      0.975]\n",
       "----------------------------------------------------------------------------------\n",
       "Intercept       1742.2689     63.041     27.637      0.000    1618.701    1865.836\n",
       "bedrooms[T.2]   1481.0031    158.427      9.348      0.000    1170.466    1791.540\n",
       "bedrooms[T.3]   3317.3668    292.214     11.353      0.000    2744.591    3890.142\n",
       "bedrooms[T.4+]  6592.1869    329.856     19.985      0.000    5945.629    7238.745\n",
       "==============================================================================\n",
       "Omnibus:                    36718.532   Durbin-Watson:                   1.874\n",
       "Prob(Omnibus):                  0.000   Jarque-Bera (JB):        557010065.623\n",
       "Skew:                          25.064   Prob(JB):                         0.00\n",
       "Kurtosis:                     939.470   Cond. No.                         6.02\n",
       "==============================================================================\n",
       "\n",
       "Notes:\n",
       "[1] Standard Errors assume that the covariance matrix of the errors is correctly specified.\n",
       "\"\"\""
      ]
     },
     "execution_count": 26,
     "metadata": {},
     "output_type": "execute_result"
    }
   ],
   "source": [
    "m = smf.ols(\"price ~ bedrooms\", data=airbnb).fit()\n",
    "m.summary()"
   ]
  },
  {
   "cell_type": "markdown",
   "id": "b511bdfd-f01f-4d62-9f1e-c2753461b826",
   "metadata": {},
   "source": [
    "The R-squared value is only 0.036 which means this model using the number of bedrooms is not a great model that accurately describes the situation. It indicates that bedrooms plays a part in the price but there may be a lot more other variables that influence the price.\n",
    "\n",
    "The intercept, 1742.27 is the average price when there is 1 bedroom which is the reference category.\n",
    "\n",
    "The bedrooms[T.2] coefficient is the average price increase with one additional bed than the reference category. In other words, an airbnb with 2 bedrooms is 1481 dollars more expensive than an airbnb with 1 bedroom which costs 1742.27 while all else remains the same. This means an airbnb with 2 bedrooms would be expected to cost 1742.27 + 1481 = 3223.27 dollars.\n",
    "\n",
    "The bedrooms[T.3] coefficient is the average price increase with two additional beds than the reference category. In other words, an airbnb with 3 bedrooms is 3317.37 dollars more expensive than an airbnb with 1 bedroom which costs 1742.27 while all else remains the same. This means an airbnb with 3 bedrooms would be expected to cost 1742.27 + 3317.37 = 5059.64 dollars.\n",
    "\n",
    "The bedrooms[T.4+] coefficient is the average price increase with three or more additional beds than the reference category. In other words, an airbnb with 4 or more bedrooms is 6592.19 dollars more expensive on average than an airbnb with 1 bedroom which costs 1742.27 while all else remains the same. This means an airbnb with 4+ bedrooms would be expected to cost 1742.27 + 6592.19 = 8334.46 dollars.\n",
    "\n",
    "All of these coefficients are statistically significant as the p-value is less than 0.05 (all of them are 0.000)."
   ]
  },
  {
   "cell_type": "markdown",
   "id": "055c931d-5a97-477e-8728-dd9b206db9ea",
   "metadata": {},
   "source": [
    "Q2."
   ]
  },
  {
   "cell_type": "code",
   "execution_count": 27,
   "id": "d09bcfb8-8a80-4626-a439-e3c4e10c585b",
   "metadata": {
    "tags": []
   },
   "outputs": [
    {
     "data": {
      "text/html": [
       "<table class=\"simpletable\">\n",
       "<caption>OLS Regression Results</caption>\n",
       "<tr>\n",
       "  <th>Dep. Variable:</th>        <td>logprice</td>     <th>  R-squared:         </th> <td>   0.203</td> \n",
       "</tr>\n",
       "<tr>\n",
       "  <th>Model:</th>                   <td>OLS</td>       <th>  Adj. R-squared:    </th> <td>   0.203</td> \n",
       "</tr>\n",
       "<tr>\n",
       "  <th>Method:</th>             <td>Least Squares</td>  <th>  F-statistic:       </th> <td>   1293.</td> \n",
       "</tr>\n",
       "<tr>\n",
       "  <th>Date:</th>             <td>Fri, 21 Jul 2023</td> <th>  Prob (F-statistic):</th>  <td>  0.00</td>  \n",
       "</tr>\n",
       "<tr>\n",
       "  <th>Time:</th>                 <td>00:41:37</td>     <th>  Log-Likelihood:    </th> <td> -16912.</td> \n",
       "</tr>\n",
       "<tr>\n",
       "  <th>No. Observations:</th>      <td> 15200</td>      <th>  AIC:               </th> <td>3.383e+04</td>\n",
       "</tr>\n",
       "<tr>\n",
       "  <th>Df Residuals:</th>          <td> 15196</td>      <th>  BIC:               </th> <td>3.386e+04</td>\n",
       "</tr>\n",
       "<tr>\n",
       "  <th>Df Model:</th>              <td>     3</td>      <th>                     </th>     <td> </td>    \n",
       "</tr>\n",
       "<tr>\n",
       "  <th>Covariance Type:</th>      <td>nonrobust</td>    <th>                     </th>     <td> </td>    \n",
       "</tr>\n",
       "</table>\n",
       "<table class=\"simpletable\">\n",
       "<tr>\n",
       "         <td></td>           <th>coef</th>     <th>std err</th>      <th>t</th>      <th>P>|t|</th>  <th>[0.025</th>    <th>0.975]</th>  \n",
       "</tr>\n",
       "<tr>\n",
       "  <th>Intercept</th>      <td>    7.0150</td> <td>    0.007</td> <td> 1040.367</td> <td> 0.000</td> <td>    7.002</td> <td>    7.028</td>\n",
       "</tr>\n",
       "<tr>\n",
       "  <th>bedrooms[T.2]</th>  <td>    0.6781</td> <td>    0.017</td> <td>   40.014</td> <td> 0.000</td> <td>    0.645</td> <td>    0.711</td>\n",
       "</tr>\n",
       "<tr>\n",
       "  <th>bedrooms[T.3]</th>  <td>    1.1249</td> <td>    0.031</td> <td>   35.989</td> <td> 0.000</td> <td>    1.064</td> <td>    1.186</td>\n",
       "</tr>\n",
       "<tr>\n",
       "  <th>bedrooms[T.4+]</th> <td>    1.3712</td> <td>    0.035</td> <td>   38.865</td> <td> 0.000</td> <td>    1.302</td> <td>    1.440</td>\n",
       "</tr>\n",
       "</table>\n",
       "<table class=\"simpletable\">\n",
       "<tr>\n",
       "  <th>Omnibus:</th>       <td>3643.283</td> <th>  Durbin-Watson:     </th> <td>   1.643</td> \n",
       "</tr>\n",
       "<tr>\n",
       "  <th>Prob(Omnibus):</th>  <td> 0.000</td>  <th>  Jarque-Bera (JB):  </th> <td>16193.066</td>\n",
       "</tr>\n",
       "<tr>\n",
       "  <th>Skew:</th>           <td> 1.108</td>  <th>  Prob(JB):          </th> <td>    0.00</td> \n",
       "</tr>\n",
       "<tr>\n",
       "  <th>Kurtosis:</th>       <td> 7.545</td>  <th>  Cond. No.          </th> <td>    6.02</td> \n",
       "</tr>\n",
       "</table><br/><br/>Notes:<br/>[1] Standard Errors assume that the covariance matrix of the errors is correctly specified."
      ],
      "text/latex": [
       "\\begin{center}\n",
       "\\begin{tabular}{lclc}\n",
       "\\toprule\n",
       "\\textbf{Dep. Variable:}    &     logprice     & \\textbf{  R-squared:         } &     0.203   \\\\\n",
       "\\textbf{Model:}            &       OLS        & \\textbf{  Adj. R-squared:    } &     0.203   \\\\\n",
       "\\textbf{Method:}           &  Least Squares   & \\textbf{  F-statistic:       } &     1293.   \\\\\n",
       "\\textbf{Date:}             & Fri, 21 Jul 2023 & \\textbf{  Prob (F-statistic):} &     0.00    \\\\\n",
       "\\textbf{Time:}             &     00:41:37     & \\textbf{  Log-Likelihood:    } &   -16912.   \\\\\n",
       "\\textbf{No. Observations:} &       15200      & \\textbf{  AIC:               } & 3.383e+04   \\\\\n",
       "\\textbf{Df Residuals:}     &       15196      & \\textbf{  BIC:               } & 3.386e+04   \\\\\n",
       "\\textbf{Df Model:}         &           3      & \\textbf{                     } &             \\\\\n",
       "\\textbf{Covariance Type:}  &    nonrobust     & \\textbf{                     } &             \\\\\n",
       "\\bottomrule\n",
       "\\end{tabular}\n",
       "\\begin{tabular}{lcccccc}\n",
       "                        & \\textbf{coef} & \\textbf{std err} & \\textbf{t} & \\textbf{P$> |$t$|$} & \\textbf{[0.025} & \\textbf{0.975]}  \\\\\n",
       "\\midrule\n",
       "\\textbf{Intercept}      &       7.0150  &        0.007     &  1040.367  &         0.000        &        7.002    &        7.028     \\\\\n",
       "\\textbf{bedrooms[T.2]}  &       0.6781  &        0.017     &    40.014  &         0.000        &        0.645    &        0.711     \\\\\n",
       "\\textbf{bedrooms[T.3]}  &       1.1249  &        0.031     &    35.989  &         0.000        &        1.064    &        1.186     \\\\\n",
       "\\textbf{bedrooms[T.4+]} &       1.3712  &        0.035     &    38.865  &         0.000        &        1.302    &        1.440     \\\\\n",
       "\\bottomrule\n",
       "\\end{tabular}\n",
       "\\begin{tabular}{lclc}\n",
       "\\textbf{Omnibus:}       & 3643.283 & \\textbf{  Durbin-Watson:     } &     1.643  \\\\\n",
       "\\textbf{Prob(Omnibus):} &   0.000  & \\textbf{  Jarque-Bera (JB):  } & 16193.066  \\\\\n",
       "\\textbf{Skew:}          &   1.108  & \\textbf{  Prob(JB):          } &      0.00  \\\\\n",
       "\\textbf{Kurtosis:}      &   7.545  & \\textbf{  Cond. No.          } &      6.02  \\\\\n",
       "\\bottomrule\n",
       "\\end{tabular}\n",
       "%\\caption{OLS Regression Results}\n",
       "\\end{center}\n",
       "\n",
       "Notes: \\newline\n",
       " [1] Standard Errors assume that the covariance matrix of the errors is correctly specified."
      ],
      "text/plain": [
       "<class 'statsmodels.iolib.summary.Summary'>\n",
       "\"\"\"\n",
       "                            OLS Regression Results                            \n",
       "==============================================================================\n",
       "Dep. Variable:               logprice   R-squared:                       0.203\n",
       "Model:                            OLS   Adj. R-squared:                  0.203\n",
       "Method:                 Least Squares   F-statistic:                     1293.\n",
       "Date:                Fri, 21 Jul 2023   Prob (F-statistic):               0.00\n",
       "Time:                        00:41:37   Log-Likelihood:                -16912.\n",
       "No. Observations:               15200   AIC:                         3.383e+04\n",
       "Df Residuals:                   15196   BIC:                         3.386e+04\n",
       "Df Model:                           3                                         \n",
       "Covariance Type:            nonrobust                                         \n",
       "==================================================================================\n",
       "                     coef    std err          t      P>|t|      [0.025      0.975]\n",
       "----------------------------------------------------------------------------------\n",
       "Intercept          7.0150      0.007   1040.367      0.000       7.002       7.028\n",
       "bedrooms[T.2]      0.6781      0.017     40.014      0.000       0.645       0.711\n",
       "bedrooms[T.3]      1.1249      0.031     35.989      0.000       1.064       1.186\n",
       "bedrooms[T.4+]     1.3712      0.035     38.865      0.000       1.302       1.440\n",
       "==============================================================================\n",
       "Omnibus:                     3643.283   Durbin-Watson:                   1.643\n",
       "Prob(Omnibus):                  0.000   Jarque-Bera (JB):            16193.066\n",
       "Skew:                           1.108   Prob(JB):                         0.00\n",
       "Kurtosis:                       7.545   Cond. No.                         6.02\n",
       "==============================================================================\n",
       "\n",
       "Notes:\n",
       "[1] Standard Errors assume that the covariance matrix of the errors is correctly specified.\n",
       "\"\"\""
      ]
     },
     "execution_count": 27,
     "metadata": {},
     "output_type": "execute_result"
    }
   ],
   "source": [
    "m = smf.ols(\"logprice ~ bedrooms\", data=airbnb).fit()\n",
    "m.summary()"
   ]
  },
  {
   "cell_type": "markdown",
   "id": "1423670d-129f-4a97-8fb7-14cd0ec61496",
   "metadata": {},
   "source": [
    "The R-squared number for this model that has logprice as the dependent variable is 0.203 which is a lot higher than the other model. This means that this model more accurately describes the situation of the logprice.\n",
    "\n",
    "The intercept which is 7.0150 is the predicted log price for the reference category which is the airbnb with 1 bedroom\n",
    "\n",
    "The bedrooms[T.2] coefficient indicates that, while all else is held constant, the log price for a 2-bedroom listing is about 0.6781 higher on average than that of 1-bedroom listings\n",
    "\n",
    "The bedrooms[T.3] coefficient indicates that, while all else is held constant, the log price for a 3-bedroom listing is about 1.1249 higher on average than that of 1-bedroom listings\n",
    "\n",
    "The bedrooms[T.4+] coefficient indicates that, while all else is held constant, the log price for a 4 or more bedroom listing is about 1.3712 higher on average than that of 1-bedroom listings\n",
    "\n",
    "All these values are statistically significant as the p-values for all are 0.000"
   ]
  },
  {
   "cell_type": "markdown",
   "id": "31ad86a3-cb7c-4f79-919a-8226376467d6",
   "metadata": {},
   "source": [
    "Q3."
   ]
  },
  {
   "cell_type": "code",
   "execution_count": 28,
   "id": "07927b24-fde8-4014-970b-ce9fe144943f",
   "metadata": {
    "tags": []
   },
   "outputs": [],
   "source": [
    "airbnb[\"accommodates\"] = pd.cut(airbnb.accommodates,\n",
    "                                bins = [0, 1, 2, 3, 500],\n",
    "                                labels = [\"1\", \"2\", \"3\", \"4+\"])"
   ]
  },
  {
   "cell_type": "code",
   "execution_count": 29,
   "id": "8867b557-c786-4c11-bb58-250d9ced85ca",
   "metadata": {
    "tags": []
   },
   "outputs": [
    {
     "data": {
      "text/html": [
       "<table class=\"simpletable\">\n",
       "<caption>OLS Regression Results</caption>\n",
       "<tr>\n",
       "  <th>Dep. Variable:</th>        <td>logprice</td>     <th>  R-squared:         </th> <td>   0.242</td> \n",
       "</tr>\n",
       "<tr>\n",
       "  <th>Model:</th>                   <td>OLS</td>       <th>  Adj. R-squared:    </th> <td>   0.242</td> \n",
       "</tr>\n",
       "<tr>\n",
       "  <th>Method:</th>             <td>Least Squares</td>  <th>  F-statistic:       </th> <td>   539.9</td> \n",
       "</tr>\n",
       "<tr>\n",
       "  <th>Date:</th>             <td>Fri, 21 Jul 2023</td> <th>  Prob (F-statistic):</th>  <td>  0.00</td>  \n",
       "</tr>\n",
       "<tr>\n",
       "  <th>Time:</th>                 <td>00:41:41</td>     <th>  Log-Likelihood:    </th> <td> -16531.</td> \n",
       "</tr>\n",
       "<tr>\n",
       "  <th>No. Observations:</th>      <td> 15200</td>      <th>  AIC:               </th> <td>3.308e+04</td>\n",
       "</tr>\n",
       "<tr>\n",
       "  <th>Df Residuals:</th>          <td> 15190</td>      <th>  BIC:               </th> <td>3.316e+04</td>\n",
       "</tr>\n",
       "<tr>\n",
       "  <th>Df Model:</th>              <td>     9</td>      <th>                     </th>     <td> </td>    \n",
       "</tr>\n",
       "<tr>\n",
       "  <th>Covariance Type:</th>      <td>nonrobust</td>    <th>                     </th>     <td> </td>    \n",
       "</tr>\n",
       "</table>\n",
       "<table class=\"simpletable\">\n",
       "<tr>\n",
       "              <td></td>                 <th>coef</th>     <th>std err</th>      <th>t</th>      <th>P>|t|</th>  <th>[0.025</th>    <th>0.975]</th>  \n",
       "</tr>\n",
       "<tr>\n",
       "  <th>Intercept</th>                 <td>    6.9007</td> <td>    0.032</td> <td>  215.886</td> <td> 0.000</td> <td>    6.838</td> <td>    6.963</td>\n",
       "</tr>\n",
       "<tr>\n",
       "  <th>bedrooms[T.2]</th>             <td>    0.5087</td> <td>    0.021</td> <td>   24.406</td> <td> 0.000</td> <td>    0.468</td> <td>    0.550</td>\n",
       "</tr>\n",
       "<tr>\n",
       "  <th>bedrooms[T.3]</th>             <td>    0.9379</td> <td>    0.034</td> <td>   27.713</td> <td> 0.000</td> <td>    0.872</td> <td>    1.004</td>\n",
       "</tr>\n",
       "<tr>\n",
       "  <th>bedrooms[T.4+]</th>            <td>    1.2097</td> <td>    0.037</td> <td>   32.816</td> <td> 0.000</td> <td>    1.137</td> <td>    1.282</td>\n",
       "</tr>\n",
       "<tr>\n",
       "  <th>room_type[T.Hotel room]</th>   <td>    0.1332</td> <td>    0.028</td> <td>    4.827</td> <td> 0.000</td> <td>    0.079</td> <td>    0.187</td>\n",
       "</tr>\n",
       "<tr>\n",
       "  <th>room_type[T.Private room]</th> <td>   -0.0583</td> <td>    0.013</td> <td>   -4.528</td> <td> 0.000</td> <td>   -0.084</td> <td>   -0.033</td>\n",
       "</tr>\n",
       "<tr>\n",
       "  <th>room_type[T.Shared room]</th>  <td>   -0.6869</td> <td>    0.033</td> <td>  -20.786</td> <td> 0.000</td> <td>   -0.752</td> <td>   -0.622</td>\n",
       "</tr>\n",
       "<tr>\n",
       "  <th>accommodates[T.2]</th>         <td>    0.1417</td> <td>    0.032</td> <td>    4.466</td> <td> 0.000</td> <td>    0.080</td> <td>    0.204</td>\n",
       "</tr>\n",
       "<tr>\n",
       "  <th>accommodates[T.3]</th>         <td>    0.2048</td> <td>    0.035</td> <td>    5.904</td> <td> 0.000</td> <td>    0.137</td> <td>    0.273</td>\n",
       "</tr>\n",
       "<tr>\n",
       "  <th>accommodates[T.4+]</th>        <td>    0.3136</td> <td>    0.033</td> <td>    9.455</td> <td> 0.000</td> <td>    0.249</td> <td>    0.379</td>\n",
       "</tr>\n",
       "</table>\n",
       "<table class=\"simpletable\">\n",
       "<tr>\n",
       "  <th>Omnibus:</th>       <td>4377.153</td> <th>  Durbin-Watson:     </th> <td>   1.642</td> \n",
       "</tr>\n",
       "<tr>\n",
       "  <th>Prob(Omnibus):</th>  <td> 0.000</td>  <th>  Jarque-Bera (JB):  </th> <td>22672.783</td>\n",
       "</tr>\n",
       "<tr>\n",
       "  <th>Skew:</th>           <td> 1.295</td>  <th>  Prob(JB):          </th> <td>    0.00</td> \n",
       "</tr>\n",
       "<tr>\n",
       "  <th>Kurtosis:</th>       <td> 8.394</td>  <th>  Cond. No.          </th> <td>    13.9</td> \n",
       "</tr>\n",
       "</table><br/><br/>Notes:<br/>[1] Standard Errors assume that the covariance matrix of the errors is correctly specified."
      ],
      "text/latex": [
       "\\begin{center}\n",
       "\\begin{tabular}{lclc}\n",
       "\\toprule\n",
       "\\textbf{Dep. Variable:}             &     logprice     & \\textbf{  R-squared:         } &     0.242   \\\\\n",
       "\\textbf{Model:}                     &       OLS        & \\textbf{  Adj. R-squared:    } &     0.242   \\\\\n",
       "\\textbf{Method:}                    &  Least Squares   & \\textbf{  F-statistic:       } &     539.9   \\\\\n",
       "\\textbf{Date:}                      & Fri, 21 Jul 2023 & \\textbf{  Prob (F-statistic):} &     0.00    \\\\\n",
       "\\textbf{Time:}                      &     00:41:41     & \\textbf{  Log-Likelihood:    } &   -16531.   \\\\\n",
       "\\textbf{No. Observations:}          &       15200      & \\textbf{  AIC:               } & 3.308e+04   \\\\\n",
       "\\textbf{Df Residuals:}              &       15190      & \\textbf{  BIC:               } & 3.316e+04   \\\\\n",
       "\\textbf{Df Model:}                  &           9      & \\textbf{                     } &             \\\\\n",
       "\\textbf{Covariance Type:}           &    nonrobust     & \\textbf{                     } &             \\\\\n",
       "\\bottomrule\n",
       "\\end{tabular}\n",
       "\\begin{tabular}{lcccccc}\n",
       "                                    & \\textbf{coef} & \\textbf{std err} & \\textbf{t} & \\textbf{P$> |$t$|$} & \\textbf{[0.025} & \\textbf{0.975]}  \\\\\n",
       "\\midrule\n",
       "\\textbf{Intercept}                  &       6.9007  &        0.032     &   215.886  &         0.000        &        6.838    &        6.963     \\\\\n",
       "\\textbf{bedrooms[T.2]}              &       0.5087  &        0.021     &    24.406  &         0.000        &        0.468    &        0.550     \\\\\n",
       "\\textbf{bedrooms[T.3]}              &       0.9379  &        0.034     &    27.713  &         0.000        &        0.872    &        1.004     \\\\\n",
       "\\textbf{bedrooms[T.4+]}             &       1.2097  &        0.037     &    32.816  &         0.000        &        1.137    &        1.282     \\\\\n",
       "\\textbf{room\\_type[T.Hotel room]}   &       0.1332  &        0.028     &     4.827  &         0.000        &        0.079    &        0.187     \\\\\n",
       "\\textbf{room\\_type[T.Private room]} &      -0.0583  &        0.013     &    -4.528  &         0.000        &       -0.084    &       -0.033     \\\\\n",
       "\\textbf{room\\_type[T.Shared room]}  &      -0.6869  &        0.033     &   -20.786  &         0.000        &       -0.752    &       -0.622     \\\\\n",
       "\\textbf{accommodates[T.2]}          &       0.1417  &        0.032     &     4.466  &         0.000        &        0.080    &        0.204     \\\\\n",
       "\\textbf{accommodates[T.3]}          &       0.2048  &        0.035     &     5.904  &         0.000        &        0.137    &        0.273     \\\\\n",
       "\\textbf{accommodates[T.4+]}         &       0.3136  &        0.033     &     9.455  &         0.000        &        0.249    &        0.379     \\\\\n",
       "\\bottomrule\n",
       "\\end{tabular}\n",
       "\\begin{tabular}{lclc}\n",
       "\\textbf{Omnibus:}       & 4377.153 & \\textbf{  Durbin-Watson:     } &     1.642  \\\\\n",
       "\\textbf{Prob(Omnibus):} &   0.000  & \\textbf{  Jarque-Bera (JB):  } & 22672.783  \\\\\n",
       "\\textbf{Skew:}          &   1.295  & \\textbf{  Prob(JB):          } &      0.00  \\\\\n",
       "\\textbf{Kurtosis:}      &   8.394  & \\textbf{  Cond. No.          } &      13.9  \\\\\n",
       "\\bottomrule\n",
       "\\end{tabular}\n",
       "%\\caption{OLS Regression Results}\n",
       "\\end{center}\n",
       "\n",
       "Notes: \\newline\n",
       " [1] Standard Errors assume that the covariance matrix of the errors is correctly specified."
      ],
      "text/plain": [
       "<class 'statsmodels.iolib.summary.Summary'>\n",
       "\"\"\"\n",
       "                            OLS Regression Results                            \n",
       "==============================================================================\n",
       "Dep. Variable:               logprice   R-squared:                       0.242\n",
       "Model:                            OLS   Adj. R-squared:                  0.242\n",
       "Method:                 Least Squares   F-statistic:                     539.9\n",
       "Date:                Fri, 21 Jul 2023   Prob (F-statistic):               0.00\n",
       "Time:                        00:41:41   Log-Likelihood:                -16531.\n",
       "No. Observations:               15200   AIC:                         3.308e+04\n",
       "Df Residuals:                   15190   BIC:                         3.316e+04\n",
       "Df Model:                           9                                         \n",
       "Covariance Type:            nonrobust                                         \n",
       "=============================================================================================\n",
       "                                coef    std err          t      P>|t|      [0.025      0.975]\n",
       "---------------------------------------------------------------------------------------------\n",
       "Intercept                     6.9007      0.032    215.886      0.000       6.838       6.963\n",
       "bedrooms[T.2]                 0.5087      0.021     24.406      0.000       0.468       0.550\n",
       "bedrooms[T.3]                 0.9379      0.034     27.713      0.000       0.872       1.004\n",
       "bedrooms[T.4+]                1.2097      0.037     32.816      0.000       1.137       1.282\n",
       "room_type[T.Hotel room]       0.1332      0.028      4.827      0.000       0.079       0.187\n",
       "room_type[T.Private room]    -0.0583      0.013     -4.528      0.000      -0.084      -0.033\n",
       "room_type[T.Shared room]     -0.6869      0.033    -20.786      0.000      -0.752      -0.622\n",
       "accommodates[T.2]             0.1417      0.032      4.466      0.000       0.080       0.204\n",
       "accommodates[T.3]             0.2048      0.035      5.904      0.000       0.137       0.273\n",
       "accommodates[T.4+]            0.3136      0.033      9.455      0.000       0.249       0.379\n",
       "==============================================================================\n",
       "Omnibus:                     4377.153   Durbin-Watson:                   1.642\n",
       "Prob(Omnibus):                  0.000   Jarque-Bera (JB):            22672.783\n",
       "Skew:                           1.295   Prob(JB):                         0.00\n",
       "Kurtosis:                       8.394   Cond. No.                         13.9\n",
       "==============================================================================\n",
       "\n",
       "Notes:\n",
       "[1] Standard Errors assume that the covariance matrix of the errors is correctly specified.\n",
       "\"\"\""
      ]
     },
     "execution_count": 29,
     "metadata": {},
     "output_type": "execute_result"
    }
   ],
   "source": [
    "m = smf.ols(\"logprice ~ bedrooms + room_type + accommodates\", data=airbnb).fit()\n",
    "m.summary()"
   ]
  },
  {
   "cell_type": "code",
   "execution_count": 30,
   "id": "32354a21-5db9-4d74-be43-33b01231d741",
   "metadata": {
    "tags": []
   },
   "outputs": [
    {
     "data": {
      "text/plain": [
       "array(['Entire home/apt', 'Private room', 'Hotel room', 'Shared room'],\n",
       "      dtype=object)"
      ]
     },
     "execution_count": 30,
     "metadata": {},
     "output_type": "execute_result"
    }
   ],
   "source": [
    "airbnb.room_type.unique() # looking for reference category as its the one missing in the model summary above."
   ]
  },
  {
   "cell_type": "markdown",
   "id": "a477c400-42ea-4381-bf3c-b1bb96fb2916",
   "metadata": {},
   "source": [
    "The R-squared value has increased to 0.242 from the previous models 0.203. This means this model explains more variability in the log price compared to the previous model, indicating a better fit and model.\n",
    "\n",
    "The intercept is the base log price when all other variables are at their reference levels which is 6.9007. This is the predicted log price of an airbnb that has one bedroom, is an Entire home/apt, and accommodates one person.\n",
    "\n",
    "The coefficients for bedrooms[T.2], bedrooms[T.3], and bedrooms[T.4+] are all positive and statistically significant with p-values at 0.000, meaning that as the number of bedrooms increases from the reference category of a one bedroom listing, the log price of the listing also tends to increase. The number increases with each additional bedroom.\n",
    "\n",
    "The coefficients for room_type[T.Hotel room], room_type[T.Private room] and room_type[T.Shared room] all represent the difference in log price from the reference category of an entire home or apartment. A hotel room tends to be more expensive while a private room is slightly cheaper and a shared room is significantly cheaper.\n",
    "\n",
    "The coefficients for accommodates[T.2], accommodates[T.3], and accommodates[T.4+] are all positive increases from the reference category of an airbnb that accommodates one and statistically significant. This means that as the number of people a listing accommodates increases, so does its log price.\n",
    "\n",
    "With an R-squared value of 24% there is still a lot more unexplained variability."
   ]
  },
  {
   "cell_type": "markdown",
   "id": "01853d5e-cb1c-4bf8-abf9-b1dc8b137c18",
   "metadata": {},
   "source": [
    "### 2.3 Predict"
   ]
  },
  {
   "cell_type": "markdown",
   "id": "969ba335-d810-4b91-87d0-65801a030b25",
   "metadata": {},
   "source": [
    "Q1."
   ]
  },
  {
   "cell_type": "code",
   "execution_count": 31,
   "id": "40cc0340-9098-4279-9e23-79f80189288e",
   "metadata": {
    "tags": []
   },
   "outputs": [
    {
     "data": {
      "text/html": [
       "<div>\n",
       "<style scoped>\n",
       "    .dataframe tbody tr th:only-of-type {\n",
       "        vertical-align: middle;\n",
       "    }\n",
       "\n",
       "    .dataframe tbody tr th {\n",
       "        vertical-align: top;\n",
       "    }\n",
       "\n",
       "    .dataframe thead th {\n",
       "        text-align: right;\n",
       "    }\n",
       "</style>\n",
       "<table border=\"1\" class=\"dataframe\">\n",
       "  <thead>\n",
       "    <tr style=\"text-align: right;\">\n",
       "      <th></th>\n",
       "      <th>room_type</th>\n",
       "      <th>accommodates</th>\n",
       "      <th>bedrooms</th>\n",
       "      <th>price</th>\n",
       "      <th>logprice</th>\n",
       "      <th>modellogprice</th>\n",
       "    </tr>\n",
       "  </thead>\n",
       "  <tbody>\n",
       "    <tr>\n",
       "      <th>16669</th>\n",
       "      <td>Entire home/apt</td>\n",
       "      <td>3</td>\n",
       "      <td>1</td>\n",
       "      <td>600.0</td>\n",
       "      <td>6.396930</td>\n",
       "      <td>7.105497</td>\n",
       "    </tr>\n",
       "    <tr>\n",
       "      <th>16898</th>\n",
       "      <td>Entire home/apt</td>\n",
       "      <td>2</td>\n",
       "      <td>1</td>\n",
       "      <td>640.0</td>\n",
       "      <td>6.461468</td>\n",
       "      <td>7.042362</td>\n",
       "    </tr>\n",
       "    <tr>\n",
       "      <th>2746</th>\n",
       "      <td>Entire home/apt</td>\n",
       "      <td>3</td>\n",
       "      <td>2</td>\n",
       "      <td>2684.0</td>\n",
       "      <td>7.895063</td>\n",
       "      <td>7.614166</td>\n",
       "    </tr>\n",
       "    <tr>\n",
       "      <th>13597</th>\n",
       "      <td>Entire home/apt</td>\n",
       "      <td>3</td>\n",
       "      <td>1</td>\n",
       "      <td>600.0</td>\n",
       "      <td>6.396930</td>\n",
       "      <td>7.105497</td>\n",
       "    </tr>\n",
       "    <tr>\n",
       "      <th>12811</th>\n",
       "      <td>Entire home/apt</td>\n",
       "      <td>3</td>\n",
       "      <td>2</td>\n",
       "      <td>900.0</td>\n",
       "      <td>6.802395</td>\n",
       "      <td>7.614166</td>\n",
       "    </tr>\n",
       "  </tbody>\n",
       "</table>\n",
       "</div>"
      ],
      "text/plain": [
       "             room_type accommodates bedrooms   price  logprice  modellogprice\n",
       "16669  Entire home/apt            3        1   600.0  6.396930       7.105497\n",
       "16898  Entire home/apt            2        1   640.0  6.461468       7.042362\n",
       "2746   Entire home/apt            3        2  2684.0  7.895063       7.614166\n",
       "13597  Entire home/apt            3        1   600.0  6.396930       7.105497\n",
       "12811  Entire home/apt            3        2   900.0  6.802395       7.614166"
      ]
     },
     "execution_count": 31,
     "metadata": {},
     "output_type": "execute_result"
    }
   ],
   "source": [
    "airbnb[\"modellogprice\"] = m.predict(airbnb)\n",
    "airbnb.sample(5)"
   ]
  },
  {
   "cell_type": "markdown",
   "id": "c0808c4c-5f7c-4fb0-aeca-59b0c1fa9feb",
   "metadata": {},
   "source": [
    "Q2."
   ]
  },
  {
   "cell_type": "code",
   "execution_count": 32,
   "id": "72f57071-35af-45a3-ba43-960da1ee4207",
   "metadata": {
    "tags": []
   },
   "outputs": [
    {
     "data": {
      "text/plain": [
       "0.7179466122053302"
      ]
     },
     "execution_count": 32,
     "metadata": {},
     "output_type": "execute_result"
    }
   ],
   "source": [
    "rmse = np.sqrt(np.mean((airbnb.logprice - airbnb.modellogprice)**2))\n",
    "rmse"
   ]
  },
  {
   "cell_type": "markdown",
   "id": "150ef641-d721-4a12-8058-b70824089309",
   "metadata": {},
   "source": [
    "The RMSE is 0.7179466122053302"
   ]
  },
  {
   "cell_type": "markdown",
   "id": "577ff3ba-92c5-4ad5-bf5e-831a51f63a69",
   "metadata": {},
   "source": [
    "Q3."
   ]
  },
  {
   "cell_type": "code",
   "execution_count": 33,
   "id": "ffab7346-7bc5-4d1d-a5cd-de0cb51e31dd",
   "metadata": {
    "tags": []
   },
   "outputs": [
    {
     "data": {
      "text/plain": [
       "0    2259.509206\n",
       "dtype: float64"
      ]
     },
     "execution_count": 33,
     "metadata": {},
     "output_type": "execute_result"
    }
   ],
   "source": [
    "predictedlogprice = m.predict({\"bedrooms\": [\"2\"], \"room_type\": [\"Entire home/apt\"], \"accommodates\": [\"4+\"]})\n",
    "predictedprice = np.exp(predictedlogprice)\n",
    "predictedprice"
   ]
  },
  {
   "cell_type": "markdown",
   "id": "09374054-7ebe-4047-9e83-5ad7ff4757ca",
   "metadata": {},
   "source": [
    "The predicted price for a 2-bedroom apartment that accommodates 4 is approximately 2259.51 dollars"
   ]
  },
  {
   "cell_type": "markdown",
   "id": "ff8e7926-b4d9-48d6-9a5e-6f9c07c446ad",
   "metadata": {},
   "source": [
    "Q4."
   ]
  },
  {
   "cell_type": "code",
   "execution_count": 34,
   "id": "ca8688c3-953b-45d0-baaa-b28bce7254a9",
   "metadata": {
    "tags": []
   },
   "outputs": [
    {
     "data": {
      "text/plain": [
       "2245.9963435955224"
      ]
     },
     "execution_count": 34,
     "metadata": {},
     "output_type": "execute_result"
    }
   ],
   "source": [
    "avglogprice = airbnb[(airbnb.bedrooms == \"2\") & (airbnb.accommodates == \"4+\") & (airbnb.room_type == \"Entire home/apt\")].logprice.mean()\n",
    "avgprice = np.exp(avglogprice)\n",
    "avgprice"
   ]
  },
  {
   "cell_type": "code",
   "execution_count": 35,
   "id": "fac093f1-667a-415c-8d49-12e912e18e0d",
   "metadata": {
    "tags": []
   },
   "outputs": [
    {
     "data": {
      "text/plain": [
       "0    13.512862\n",
       "dtype: float64"
      ]
     },
     "execution_count": 35,
     "metadata": {},
     "output_type": "execute_result"
    }
   ],
   "source": [
    "predictedprice - avgprice"
   ]
  },
  {
   "cell_type": "markdown",
   "id": "7d61896f-e3ed-4719-a995-201ec5153343",
   "metadata": {},
   "source": [
    "We were pretty close, off by 13.51 dollars"
   ]
  },
  {
   "cell_type": "markdown",
   "id": "c5269a59-632f-4a3b-829a-68c8ff993540",
   "metadata": {},
   "source": [
    "## 3. Interpret regression results in the literature"
   ]
  },
  {
   "cell_type": "markdown",
   "id": "50936da9-4b24-4532-8b27-e5ae1068c4f9",
   "metadata": {},
   "source": [
    "Q1."
   ]
  },
  {
   "cell_type": "markdown",
   "id": "7e9b4cfa-cfa3-4053-b39f-ab5c74ad30b3",
   "metadata": {},
   "source": [
    "At first, with a coefficient estimate of -0.47, the has partner variable seems like it lowers PHQ-9 on average. Which means better mental health outcomes. However, the p-value is 0.15 which is above the 0.05 significance level, we cannot thoroughly conclude that it always lowers PHQ-9 which means increases mental health outcomes."
   ]
  },
  {
   "cell_type": "markdown",
   "id": "e8a0e592-7379-4e8e-a2f3-38dc7ce17854",
   "metadata": {},
   "source": [
    "Q2."
   ]
  },
  {
   "cell_type": "markdown",
   "id": "18b79c1f-5d03-4cdd-bc02-c9d1d19ae000",
   "metadata": {},
   "source": [
    "The coefficient estimate of the COVID-19 exposure variable is 0.24 which means that it increases PHQ-9. However this estimate is not statistically significant as the p-value is 0.129 which is above the 0.05 level. So further investigation would be required to make a solid conclusion."
   ]
  },
  {
   "cell_type": "markdown",
   "id": "11b53115-bbe5-4129-83a4-6609555753f2",
   "metadata": {},
   "source": [
    "Q3."
   ]
  },
  {
   "cell_type": "markdown",
   "id": "f605f320-d6cf-4944-9df6-ca9d3c5fed32",
   "metadata": {},
   "source": [
    "The coefficient estimate of the financial distress variable is 2.32 and this has a p-value 0.001 which means it is statistically significant. So, it can be concluded that financial distress positively increases the PHQ-9 which means worse mental health outcomes."
   ]
  },
  {
   "cell_type": "markdown",
   "id": "2546b44a-0a9e-4405-aa6b-1955048feb3e",
   "metadata": {},
   "source": [
    "## 4. Logistic regression: Heart attack"
   ]
  },
  {
   "cell_type": "markdown",
   "id": "84aab932-741c-4f3e-9d3a-d4370ccab0e9",
   "metadata": {},
   "source": [
    "### 4.1 Prepare data"
   ]
  },
  {
   "cell_type": "markdown",
   "id": "db91b8fa-d7de-495f-831b-cb4ffce94cfe",
   "metadata": {},
   "source": [
    "Q1."
   ]
  },
  {
   "cell_type": "code",
   "execution_count": 36,
   "id": "575c97f2-106b-4838-9f80-6780bbdb27f5",
   "metadata": {
    "tags": []
   },
   "outputs": [
    {
     "data": {
      "text/html": [
       "<div>\n",
       "<style scoped>\n",
       "    .dataframe tbody tr th:only-of-type {\n",
       "        vertical-align: middle;\n",
       "    }\n",
       "\n",
       "    .dataframe tbody tr th {\n",
       "        vertical-align: top;\n",
       "    }\n",
       "\n",
       "    .dataframe thead th {\n",
       "        text-align: right;\n",
       "    }\n",
       "</style>\n",
       "<table border=\"1\" class=\"dataframe\">\n",
       "  <thead>\n",
       "    <tr style=\"text-align: right;\">\n",
       "      <th></th>\n",
       "      <th>age</th>\n",
       "      <th>sex</th>\n",
       "      <th>cp</th>\n",
       "      <th>trtbps</th>\n",
       "      <th>chol</th>\n",
       "      <th>fbs</th>\n",
       "      <th>restecg</th>\n",
       "      <th>thalachh</th>\n",
       "      <th>exng</th>\n",
       "      <th>oldpeak</th>\n",
       "      <th>slp</th>\n",
       "      <th>caa</th>\n",
       "      <th>thall</th>\n",
       "      <th>output</th>\n",
       "    </tr>\n",
       "  </thead>\n",
       "  <tbody>\n",
       "    <tr>\n",
       "      <th>0</th>\n",
       "      <td>63</td>\n",
       "      <td>1</td>\n",
       "      <td>3</td>\n",
       "      <td>145</td>\n",
       "      <td>233</td>\n",
       "      <td>1</td>\n",
       "      <td>0</td>\n",
       "      <td>150</td>\n",
       "      <td>0</td>\n",
       "      <td>2.3</td>\n",
       "      <td>0</td>\n",
       "      <td>0</td>\n",
       "      <td>1</td>\n",
       "      <td>1</td>\n",
       "    </tr>\n",
       "    <tr>\n",
       "      <th>1</th>\n",
       "      <td>37</td>\n",
       "      <td>1</td>\n",
       "      <td>2</td>\n",
       "      <td>130</td>\n",
       "      <td>250</td>\n",
       "      <td>0</td>\n",
       "      <td>1</td>\n",
       "      <td>187</td>\n",
       "      <td>0</td>\n",
       "      <td>3.5</td>\n",
       "      <td>0</td>\n",
       "      <td>0</td>\n",
       "      <td>2</td>\n",
       "      <td>1</td>\n",
       "    </tr>\n",
       "    <tr>\n",
       "      <th>2</th>\n",
       "      <td>41</td>\n",
       "      <td>0</td>\n",
       "      <td>1</td>\n",
       "      <td>130</td>\n",
       "      <td>204</td>\n",
       "      <td>0</td>\n",
       "      <td>0</td>\n",
       "      <td>172</td>\n",
       "      <td>0</td>\n",
       "      <td>1.4</td>\n",
       "      <td>2</td>\n",
       "      <td>0</td>\n",
       "      <td>2</td>\n",
       "      <td>1</td>\n",
       "    </tr>\n",
       "  </tbody>\n",
       "</table>\n",
       "</div>"
      ],
      "text/plain": [
       "   age  sex  cp  trtbps  chol  fbs  restecg  thalachh  exng  oldpeak  slp   \n",
       "0   63    1   3     145   233    1        0       150     0      2.3    0  \\\n",
       "1   37    1   2     130   250    0        1       187     0      3.5    0   \n",
       "2   41    0   1     130   204    0        0       172     0      1.4    2   \n",
       "\n",
       "   caa  thall  output  \n",
       "0    0      1       1  \n",
       "1    0      2       1  \n",
       "2    0      2       1  "
      ]
     },
     "execution_count": 36,
     "metadata": {},
     "output_type": "execute_result"
    }
   ],
   "source": [
    "heart = pd.read_csv(\"../data/heart.csv.bz2\", sep=\",\")\n",
    "heart.head(3)"
   ]
  },
  {
   "cell_type": "code",
   "execution_count": 37,
   "id": "d36720e2-1efd-41b2-bc6d-032413dd0c65",
   "metadata": {
    "tags": []
   },
   "outputs": [
    {
     "data": {
      "text/plain": [
       "(303, 14)"
      ]
     },
     "execution_count": 37,
     "metadata": {},
     "output_type": "execute_result"
    }
   ],
   "source": [
    "heart.shape"
   ]
  },
  {
   "cell_type": "code",
   "execution_count": 38,
   "id": "0dbb6216-4f77-40d5-b09c-00a165810190",
   "metadata": {
    "tags": []
   },
   "outputs": [],
   "source": [
    "heart = heart.drop([\"slp\", \"oldpeak\", \"thall\"], axis=1)"
   ]
  },
  {
   "cell_type": "code",
   "execution_count": 39,
   "id": "90d1f622-fb8a-4144-b9ed-8c05fd24b252",
   "metadata": {
    "tags": []
   },
   "outputs": [
    {
     "data": {
      "text/html": [
       "<div>\n",
       "<style scoped>\n",
       "    .dataframe tbody tr th:only-of-type {\n",
       "        vertical-align: middle;\n",
       "    }\n",
       "\n",
       "    .dataframe tbody tr th {\n",
       "        vertical-align: top;\n",
       "    }\n",
       "\n",
       "    .dataframe thead th {\n",
       "        text-align: right;\n",
       "    }\n",
       "</style>\n",
       "<table border=\"1\" class=\"dataframe\">\n",
       "  <thead>\n",
       "    <tr style=\"text-align: right;\">\n",
       "      <th></th>\n",
       "      <th>age</th>\n",
       "      <th>sex</th>\n",
       "      <th>cp</th>\n",
       "      <th>trtbps</th>\n",
       "      <th>chol</th>\n",
       "      <th>fbs</th>\n",
       "      <th>restecg</th>\n",
       "      <th>thalachh</th>\n",
       "      <th>exng</th>\n",
       "      <th>caa</th>\n",
       "      <th>output</th>\n",
       "    </tr>\n",
       "  </thead>\n",
       "  <tbody>\n",
       "    <tr>\n",
       "      <th>0</th>\n",
       "      <td>63</td>\n",
       "      <td>1</td>\n",
       "      <td>3</td>\n",
       "      <td>145</td>\n",
       "      <td>233</td>\n",
       "      <td>1</td>\n",
       "      <td>0</td>\n",
       "      <td>150</td>\n",
       "      <td>0</td>\n",
       "      <td>0</td>\n",
       "      <td>1</td>\n",
       "    </tr>\n",
       "    <tr>\n",
       "      <th>1</th>\n",
       "      <td>37</td>\n",
       "      <td>1</td>\n",
       "      <td>2</td>\n",
       "      <td>130</td>\n",
       "      <td>250</td>\n",
       "      <td>0</td>\n",
       "      <td>1</td>\n",
       "      <td>187</td>\n",
       "      <td>0</td>\n",
       "      <td>0</td>\n",
       "      <td>1</td>\n",
       "    </tr>\n",
       "    <tr>\n",
       "      <th>2</th>\n",
       "      <td>41</td>\n",
       "      <td>0</td>\n",
       "      <td>1</td>\n",
       "      <td>130</td>\n",
       "      <td>204</td>\n",
       "      <td>0</td>\n",
       "      <td>0</td>\n",
       "      <td>172</td>\n",
       "      <td>0</td>\n",
       "      <td>0</td>\n",
       "      <td>1</td>\n",
       "    </tr>\n",
       "  </tbody>\n",
       "</table>\n",
       "</div>"
      ],
      "text/plain": [
       "   age  sex  cp  trtbps  chol  fbs  restecg  thalachh  exng  caa  output\n",
       "0   63    1   3     145   233    1        0       150     0    0       1\n",
       "1   37    1   2     130   250    0        1       187     0    0       1\n",
       "2   41    0   1     130   204    0        0       172     0    0       1"
      ]
     },
     "execution_count": 39,
     "metadata": {},
     "output_type": "execute_result"
    }
   ],
   "source": [
    "heart.head(3)"
   ]
  },
  {
   "cell_type": "code",
   "execution_count": 40,
   "id": "82b84ff1-e1f0-40a9-bc64-18e910af8758",
   "metadata": {
    "tags": []
   },
   "outputs": [
    {
     "data": {
      "text/plain": [
       "(303, 11)"
      ]
     },
     "execution_count": 40,
     "metadata": {},
     "output_type": "execute_result"
    }
   ],
   "source": [
    "heart.shape"
   ]
  },
  {
   "cell_type": "markdown",
   "id": "3485dba7-c119-4303-8d3a-b2e50126bb9e",
   "metadata": {},
   "source": [
    "The data now looks good after dropping the 3 useless columns."
   ]
  },
  {
   "cell_type": "markdown",
   "id": "e0222334-4a51-4bdb-bb06-ecbc7a0b994a",
   "metadata": {},
   "source": [
    "Q2."
   ]
  },
  {
   "cell_type": "code",
   "execution_count": 41,
   "id": "53ebf950-94f0-4db6-b239-1950138e8713",
   "metadata": {
    "tags": []
   },
   "outputs": [
    {
     "data": {
      "text/plain": [
       "age         0\n",
       "sex         0\n",
       "cp          0\n",
       "trtbps      0\n",
       "chol        0\n",
       "fbs         0\n",
       "restecg     0\n",
       "thalachh    0\n",
       "exng        0\n",
       "caa         0\n",
       "output      0\n",
       "dtype: int64"
      ]
     },
     "execution_count": 41,
     "metadata": {},
     "output_type": "execute_result"
    }
   ],
   "source": [
    "heart.isna().sum()"
   ]
  },
  {
   "cell_type": "code",
   "execution_count": 42,
   "id": "e607e3c3-8e6a-4304-b783-9201a220c197",
   "metadata": {
    "tags": []
   },
   "outputs": [
    {
     "data": {
      "text/plain": [
       "age         int64\n",
       "sex         int64\n",
       "cp          int64\n",
       "trtbps      int64\n",
       "chol        int64\n",
       "fbs         int64\n",
       "restecg     int64\n",
       "thalachh    int64\n",
       "exng        int64\n",
       "caa         int64\n",
       "output      int64\n",
       "dtype: object"
      ]
     },
     "execution_count": 42,
     "metadata": {},
     "output_type": "execute_result"
    }
   ],
   "source": [
    "heart.dtypes"
   ]
  },
  {
   "cell_type": "code",
   "execution_count": 43,
   "id": "d1d2c067-66fb-4d3c-b349-c3b73e1135eb",
   "metadata": {
    "tags": []
   },
   "outputs": [
    {
     "data": {
      "text/html": [
       "<div>\n",
       "<style scoped>\n",
       "    .dataframe tbody tr th:only-of-type {\n",
       "        vertical-align: middle;\n",
       "    }\n",
       "\n",
       "    .dataframe tbody tr th {\n",
       "        vertical-align: top;\n",
       "    }\n",
       "\n",
       "    .dataframe thead th {\n",
       "        text-align: right;\n",
       "    }\n",
       "</style>\n",
       "<table border=\"1\" class=\"dataframe\">\n",
       "  <thead>\n",
       "    <tr style=\"text-align: right;\">\n",
       "      <th></th>\n",
       "      <th>age</th>\n",
       "      <th>trtbps</th>\n",
       "      <th>chol</th>\n",
       "      <th>thalachh</th>\n",
       "    </tr>\n",
       "  </thead>\n",
       "  <tbody>\n",
       "    <tr>\n",
       "      <th>count</th>\n",
       "      <td>303.000000</td>\n",
       "      <td>303.000000</td>\n",
       "      <td>303.000000</td>\n",
       "      <td>303.000000</td>\n",
       "    </tr>\n",
       "    <tr>\n",
       "      <th>mean</th>\n",
       "      <td>54.366337</td>\n",
       "      <td>131.623762</td>\n",
       "      <td>246.264026</td>\n",
       "      <td>149.646865</td>\n",
       "    </tr>\n",
       "    <tr>\n",
       "      <th>std</th>\n",
       "      <td>9.082101</td>\n",
       "      <td>17.538143</td>\n",
       "      <td>51.830751</td>\n",
       "      <td>22.905161</td>\n",
       "    </tr>\n",
       "    <tr>\n",
       "      <th>min</th>\n",
       "      <td>29.000000</td>\n",
       "      <td>94.000000</td>\n",
       "      <td>126.000000</td>\n",
       "      <td>71.000000</td>\n",
       "    </tr>\n",
       "    <tr>\n",
       "      <th>25%</th>\n",
       "      <td>47.500000</td>\n",
       "      <td>120.000000</td>\n",
       "      <td>211.000000</td>\n",
       "      <td>133.500000</td>\n",
       "    </tr>\n",
       "    <tr>\n",
       "      <th>50%</th>\n",
       "      <td>55.000000</td>\n",
       "      <td>130.000000</td>\n",
       "      <td>240.000000</td>\n",
       "      <td>153.000000</td>\n",
       "    </tr>\n",
       "    <tr>\n",
       "      <th>75%</th>\n",
       "      <td>61.000000</td>\n",
       "      <td>140.000000</td>\n",
       "      <td>274.500000</td>\n",
       "      <td>166.000000</td>\n",
       "    </tr>\n",
       "    <tr>\n",
       "      <th>max</th>\n",
       "      <td>77.000000</td>\n",
       "      <td>200.000000</td>\n",
       "      <td>564.000000</td>\n",
       "      <td>202.000000</td>\n",
       "    </tr>\n",
       "  </tbody>\n",
       "</table>\n",
       "</div>"
      ],
      "text/plain": [
       "              age      trtbps        chol    thalachh\n",
       "count  303.000000  303.000000  303.000000  303.000000\n",
       "mean    54.366337  131.623762  246.264026  149.646865\n",
       "std      9.082101   17.538143   51.830751   22.905161\n",
       "min     29.000000   94.000000  126.000000   71.000000\n",
       "25%     47.500000  120.000000  211.000000  133.500000\n",
       "50%     55.000000  130.000000  240.000000  153.000000\n",
       "75%     61.000000  140.000000  274.500000  166.000000\n",
       "max     77.000000  200.000000  564.000000  202.000000"
      ]
     },
     "execution_count": 43,
     "metadata": {},
     "output_type": "execute_result"
    }
   ],
   "source": [
    "heart[[\"age\", \"trtbps\", \"chol\", \"thalachh\"]].describe()"
   ]
  },
  {
   "cell_type": "code",
   "execution_count": 44,
   "id": "451cc95f-313f-446d-be17-636a40d42179",
   "metadata": {
    "tags": []
   },
   "outputs": [
    {
     "data": {
      "text/plain": [
       "(48, 106, 438, 131)"
      ]
     },
     "execution_count": 44,
     "metadata": {},
     "output_type": "execute_result"
    }
   ],
   "source": [
    "rangeage = heart.age.max() - heart.age.min()\n",
    "rangetrtbps = heart.trtbps.max() - heart.trtbps.min()\n",
    "rangechol = heart.chol.max() - heart.chol.min()\n",
    "rangethalachh = heart.thalachh.max() - heart.thalachh.min()\n",
    "rangeage, rangetrtbps, rangechol, rangethalachh"
   ]
  },
  {
   "cell_type": "code",
   "execution_count": 45,
   "id": "45845474-222f-4828-a66d-8e06003a01ee",
   "metadata": {
    "tags": []
   },
   "outputs": [
    {
     "data": {
      "text/plain": [
       "(array([1, 0]),\n",
       " array([3, 2, 1, 0]),\n",
       " array([1, 0]),\n",
       " array([0, 1, 2]),\n",
       " array([0, 1]),\n",
       " array([0, 2, 1, 3, 4]),\n",
       " array([1, 0]))"
      ]
     },
     "execution_count": 45,
     "metadata": {},
     "output_type": "execute_result"
    }
   ],
   "source": [
    "heart.sex.unique(), heart.cp.unique(), heart.fbs.unique(), heart.restecg.unique(), heart.exng.unique(), heart.caa.unique(), heart.output.unique()"
   ]
  },
  {
   "cell_type": "code",
   "execution_count": 46,
   "id": "efb9d2d5-e865-41e9-9161-62c93c11ba0a",
   "metadata": {
    "tags": []
   },
   "outputs": [
    {
     "data": {
      "text/plain": [
       "54.45544554455446"
      ]
     },
     "execution_count": 46,
     "metadata": {},
     "output_type": "execute_result"
    }
   ],
   "source": [
    "heart.output.mean() * 100"
   ]
  },
  {
   "cell_type": "markdown",
   "id": "f580f2c6-4d1d-4e89-9e21-57b03c031bc7",
   "metadata": {},
   "source": [
    "There are no missing values in the data. All the data are integers (int64), the ranges of all the numeric variables can be found above. The range for age is 48, for resting blood preassure is 106 (trtbps), for cholestrol is 438 (chol), for max HR achieved is 131 (range of thalachh). In addition, the different values for different categorical variables can also be found above. All these patients had a 54.46% chance of having a heart attack."
   ]
  },
  {
   "cell_type": "markdown",
   "id": "094b721f-d942-4c11-9c6e-84e9ee03a38f",
   "metadata": {},
   "source": [
    "Q3."
   ]
  },
  {
   "cell_type": "markdown",
   "id": "3e9fd3cb-efff-4a9d-8030-ad8afa7810e4",
   "metadata": {},
   "source": [
    "There are variables is the data that are non-numeric. Of these there are ordinal and nominal variables. Ordinal means its ordered in some way. Nominal means its unordered. The nomical variables are sex, fbs (as the categories cannot be ranked), exng (\"present or not\" can't be ranked), and output (\"had a heart attack or not\" can't be ranked). The ordinal variables are the chest pain (cp: typical angina, atypical angina, non-anginal pain, asymptomatic) which could be ranked to some degree, restecg which is three categories of electrocardiographic results that can be ranked, and caa which represents the number of major vessels (0-3), which can be ranked."
   ]
  },
  {
   "cell_type": "markdown",
   "id": "b15ca03c-162c-42fa-8d2f-b18f737a9d5f",
   "metadata": {},
   "source": [
    "### 4.2 Logistic regression"
   ]
  },
  {
   "cell_type": "markdown",
   "id": "8cc6c9d8-b7ba-4c22-9778-0b421cc50ab1",
   "metadata": {},
   "source": [
    "Q1."
   ]
  },
  {
   "cell_type": "markdown",
   "id": "cd7e0bb7-dcd2-41c8-a1ff-c9a220531dd6",
   "metadata": {},
   "source": [
    "If I calculated the proportion of people in the data that had a heart attack and had a model that always was equal to the majority category then the model would be accurate by the proportion percentage of that majority category. For example, the proportion of people who had a heart attack was 55.46%. If the model always guessed \"had a heart attack\" for all the people in the dataset, that model would be right 55.46% of the time. So the model would be accurate by the proportion percentage of that majority category."
   ]
  },
  {
   "cell_type": "markdown",
   "id": "982d81ff-6206-4457-9de2-8276cd5c8b83",
   "metadata": {},
   "source": [
    "Q2."
   ]
  },
  {
   "cell_type": "code",
   "execution_count": 47,
   "id": "5b6e585c-33e4-4cea-9131-ba65376fab5d",
   "metadata": {
    "tags": []
   },
   "outputs": [
    {
     "name": "stdout",
     "output_type": "stream",
     "text": [
      "Optimization terminated successfully.\n",
      "         Current function value: 0.355396\n",
      "         Iterations 7\n"
     ]
    },
    {
     "data": {
      "text/html": [
       "<table class=\"simpletable\">\n",
       "<caption>Logit Regression Results</caption>\n",
       "<tr>\n",
       "  <th>Dep. Variable:</th>        <td>output</td>      <th>  No. Observations:  </th>  <td>   303</td>  \n",
       "</tr>\n",
       "<tr>\n",
       "  <th>Model:</th>                 <td>Logit</td>      <th>  Df Residuals:      </th>  <td>   286</td>  \n",
       "</tr>\n",
       "<tr>\n",
       "  <th>Method:</th>                 <td>MLE</td>       <th>  Df Model:          </th>  <td>    16</td>  \n",
       "</tr>\n",
       "<tr>\n",
       "  <th>Date:</th>            <td>Fri, 21 Jul 2023</td> <th>  Pseudo R-squ.:     </th>  <td>0.4843</td>  \n",
       "</tr>\n",
       "<tr>\n",
       "  <th>Time:</th>                <td>00:42:13</td>     <th>  Log-Likelihood:    </th> <td> -107.69</td> \n",
       "</tr>\n",
       "<tr>\n",
       "  <th>converged:</th>             <td>True</td>       <th>  LL-Null:           </th> <td> -208.82</td> \n",
       "</tr>\n",
       "<tr>\n",
       "  <th>Covariance Type:</th>     <td>nonrobust</td>    <th>  LLR p-value:       </th> <td>2.759e-34</td>\n",
       "</tr>\n",
       "</table>\n",
       "<table class=\"simpletable\">\n",
       "<tr>\n",
       "         <td></td>            <th>coef</th>     <th>std err</th>      <th>z</th>      <th>P>|z|</th>  <th>[0.025</th>    <th>0.975]</th>  \n",
       "</tr>\n",
       "<tr>\n",
       "  <th>Intercept</th>       <td>    0.4035</td> <td>    2.469</td> <td>    0.163</td> <td> 0.870</td> <td>   -4.435</td> <td>    5.242</td>\n",
       "</tr>\n",
       "<tr>\n",
       "  <th>C(sex)[T.1]</th>     <td>   -2.1367</td> <td>    0.457</td> <td>   -4.671</td> <td> 0.000</td> <td>   -3.033</td> <td>   -1.240</td>\n",
       "</tr>\n",
       "<tr>\n",
       "  <th>C(cp)[T.1]</th>      <td>    1.5343</td> <td>    0.543</td> <td>    2.827</td> <td> 0.005</td> <td>    0.470</td> <td>    2.598</td>\n",
       "</tr>\n",
       "<tr>\n",
       "  <th>C(cp)[T.2]</th>      <td>    1.6907</td> <td>    0.441</td> <td>    3.838</td> <td> 0.000</td> <td>    0.827</td> <td>    2.554</td>\n",
       "</tr>\n",
       "<tr>\n",
       "  <th>C(cp)[T.3]</th>      <td>    1.8970</td> <td>    0.667</td> <td>    2.843</td> <td> 0.004</td> <td>    0.589</td> <td>    3.205</td>\n",
       "</tr>\n",
       "<tr>\n",
       "  <th>C(fbs)[T.1]</th>     <td>    0.4437</td> <td>    0.501</td> <td>    0.886</td> <td> 0.375</td> <td>   -0.537</td> <td>    1.425</td>\n",
       "</tr>\n",
       "<tr>\n",
       "  <th>C(restecg)[T.1]</th> <td>    0.4206</td> <td>    0.361</td> <td>    1.165</td> <td> 0.244</td> <td>   -0.287</td> <td>    1.128</td>\n",
       "</tr>\n",
       "<tr>\n",
       "  <th>C(restecg)[T.2]</th> <td>   -0.9518</td> <td>    2.118</td> <td>   -0.449</td> <td> 0.653</td> <td>   -5.103</td> <td>    3.199</td>\n",
       "</tr>\n",
       "<tr>\n",
       "  <th>C(exng)[T.1]</th>    <td>   -1.1615</td> <td>    0.418</td> <td>   -2.781</td> <td> 0.005</td> <td>   -1.980</td> <td>   -0.343</td>\n",
       "</tr>\n",
       "<tr>\n",
       "  <th>C(caa)[T.1]</th>     <td>   -1.8571</td> <td>    0.458</td> <td>   -4.052</td> <td> 0.000</td> <td>   -2.756</td> <td>   -0.959</td>\n",
       "</tr>\n",
       "<tr>\n",
       "  <th>C(caa)[T.2]</th>     <td>   -3.0485</td> <td>    0.647</td> <td>   -4.712</td> <td> 0.000</td> <td>   -4.317</td> <td>   -1.780</td>\n",
       "</tr>\n",
       "<tr>\n",
       "  <th>C(caa)[T.3]</th>     <td>   -2.3741</td> <td>    0.783</td> <td>   -3.032</td> <td> 0.002</td> <td>   -3.908</td> <td>   -0.840</td>\n",
       "</tr>\n",
       "<tr>\n",
       "  <th>C(caa)[T.4]</th>     <td>    0.4676</td> <td>    1.586</td> <td>    0.295</td> <td> 0.768</td> <td>   -2.642</td> <td>    3.577</td>\n",
       "</tr>\n",
       "<tr>\n",
       "  <th>age</th>             <td>    0.0237</td> <td>    0.024</td> <td>    0.992</td> <td> 0.321</td> <td>   -0.023</td> <td>    0.070</td>\n",
       "</tr>\n",
       "<tr>\n",
       "  <th>trtbps</th>          <td>   -0.0285</td> <td>    0.011</td> <td>   -2.656</td> <td> 0.008</td> <td>   -0.050</td> <td>   -0.007</td>\n",
       "</tr>\n",
       "<tr>\n",
       "  <th>chol</th>            <td>   -0.0061</td> <td>    0.004</td> <td>   -1.524</td> <td> 0.128</td> <td>   -0.014</td> <td>    0.002</td>\n",
       "</tr>\n",
       "<tr>\n",
       "  <th>thalachh</th>        <td>    0.0357</td> <td>    0.011</td> <td>    3.391</td> <td> 0.001</td> <td>    0.015</td> <td>    0.056</td>\n",
       "</tr>\n",
       "</table>"
      ],
      "text/latex": [
       "\\begin{center}\n",
       "\\begin{tabular}{lclc}\n",
       "\\toprule\n",
       "\\textbf{Dep. Variable:}   &      output      & \\textbf{  No. Observations:  } &      303    \\\\\n",
       "\\textbf{Model:}           &      Logit       & \\textbf{  Df Residuals:      } &      286    \\\\\n",
       "\\textbf{Method:}          &       MLE        & \\textbf{  Df Model:          } &       16    \\\\\n",
       "\\textbf{Date:}            & Fri, 21 Jul 2023 & \\textbf{  Pseudo R-squ.:     } &   0.4843    \\\\\n",
       "\\textbf{Time:}            &     00:42:13     & \\textbf{  Log-Likelihood:    } &   -107.69   \\\\\n",
       "\\textbf{converged:}       &       True       & \\textbf{  LL-Null:           } &   -208.82   \\\\\n",
       "\\textbf{Covariance Type:} &    nonrobust     & \\textbf{  LLR p-value:       } & 2.759e-34   \\\\\n",
       "\\bottomrule\n",
       "\\end{tabular}\n",
       "\\begin{tabular}{lcccccc}\n",
       "                         & \\textbf{coef} & \\textbf{std err} & \\textbf{z} & \\textbf{P$> |$z$|$} & \\textbf{[0.025} & \\textbf{0.975]}  \\\\\n",
       "\\midrule\n",
       "\\textbf{Intercept}       &       0.4035  &        2.469     &     0.163  &         0.870        &       -4.435    &        5.242     \\\\\n",
       "\\textbf{C(sex)[T.1]}     &      -2.1367  &        0.457     &    -4.671  &         0.000        &       -3.033    &       -1.240     \\\\\n",
       "\\textbf{C(cp)[T.1]}      &       1.5343  &        0.543     &     2.827  &         0.005        &        0.470    &        2.598     \\\\\n",
       "\\textbf{C(cp)[T.2]}      &       1.6907  &        0.441     &     3.838  &         0.000        &        0.827    &        2.554     \\\\\n",
       "\\textbf{C(cp)[T.3]}      &       1.8970  &        0.667     &     2.843  &         0.004        &        0.589    &        3.205     \\\\\n",
       "\\textbf{C(fbs)[T.1]}     &       0.4437  &        0.501     &     0.886  &         0.375        &       -0.537    &        1.425     \\\\\n",
       "\\textbf{C(restecg)[T.1]} &       0.4206  &        0.361     &     1.165  &         0.244        &       -0.287    &        1.128     \\\\\n",
       "\\textbf{C(restecg)[T.2]} &      -0.9518  &        2.118     &    -0.449  &         0.653        &       -5.103    &        3.199     \\\\\n",
       "\\textbf{C(exng)[T.1]}    &      -1.1615  &        0.418     &    -2.781  &         0.005        &       -1.980    &       -0.343     \\\\\n",
       "\\textbf{C(caa)[T.1]}     &      -1.8571  &        0.458     &    -4.052  &         0.000        &       -2.756    &       -0.959     \\\\\n",
       "\\textbf{C(caa)[T.2]}     &      -3.0485  &        0.647     &    -4.712  &         0.000        &       -4.317    &       -1.780     \\\\\n",
       "\\textbf{C(caa)[T.3]}     &      -2.3741  &        0.783     &    -3.032  &         0.002        &       -3.908    &       -0.840     \\\\\n",
       "\\textbf{C(caa)[T.4]}     &       0.4676  &        1.586     &     0.295  &         0.768        &       -2.642    &        3.577     \\\\\n",
       "\\textbf{age}             &       0.0237  &        0.024     &     0.992  &         0.321        &       -0.023    &        0.070     \\\\\n",
       "\\textbf{trtbps}          &      -0.0285  &        0.011     &    -2.656  &         0.008        &       -0.050    &       -0.007     \\\\\n",
       "\\textbf{chol}            &      -0.0061  &        0.004     &    -1.524  &         0.128        &       -0.014    &        0.002     \\\\\n",
       "\\textbf{thalachh}        &       0.0357  &        0.011     &     3.391  &         0.001        &        0.015    &        0.056     \\\\\n",
       "\\bottomrule\n",
       "\\end{tabular}\n",
       "%\\caption{Logit Regression Results}\n",
       "\\end{center}"
      ],
      "text/plain": [
       "<class 'statsmodels.iolib.summary.Summary'>\n",
       "\"\"\"\n",
       "                           Logit Regression Results                           \n",
       "==============================================================================\n",
       "Dep. Variable:                 output   No. Observations:                  303\n",
       "Model:                          Logit   Df Residuals:                      286\n",
       "Method:                           MLE   Df Model:                           16\n",
       "Date:                Fri, 21 Jul 2023   Pseudo R-squ.:                  0.4843\n",
       "Time:                        00:42:13   Log-Likelihood:                -107.69\n",
       "converged:                       True   LL-Null:                       -208.82\n",
       "Covariance Type:            nonrobust   LLR p-value:                 2.759e-34\n",
       "===================================================================================\n",
       "                      coef    std err          z      P>|z|      [0.025      0.975]\n",
       "-----------------------------------------------------------------------------------\n",
       "Intercept           0.4035      2.469      0.163      0.870      -4.435       5.242\n",
       "C(sex)[T.1]        -2.1367      0.457     -4.671      0.000      -3.033      -1.240\n",
       "C(cp)[T.1]          1.5343      0.543      2.827      0.005       0.470       2.598\n",
       "C(cp)[T.2]          1.6907      0.441      3.838      0.000       0.827       2.554\n",
       "C(cp)[T.3]          1.8970      0.667      2.843      0.004       0.589       3.205\n",
       "C(fbs)[T.1]         0.4437      0.501      0.886      0.375      -0.537       1.425\n",
       "C(restecg)[T.1]     0.4206      0.361      1.165      0.244      -0.287       1.128\n",
       "C(restecg)[T.2]    -0.9518      2.118     -0.449      0.653      -5.103       3.199\n",
       "C(exng)[T.1]       -1.1615      0.418     -2.781      0.005      -1.980      -0.343\n",
       "C(caa)[T.1]        -1.8571      0.458     -4.052      0.000      -2.756      -0.959\n",
       "C(caa)[T.2]        -3.0485      0.647     -4.712      0.000      -4.317      -1.780\n",
       "C(caa)[T.3]        -2.3741      0.783     -3.032      0.002      -3.908      -0.840\n",
       "C(caa)[T.4]         0.4676      1.586      0.295      0.768      -2.642       3.577\n",
       "age                 0.0237      0.024      0.992      0.321      -0.023       0.070\n",
       "trtbps             -0.0285      0.011     -2.656      0.008      -0.050      -0.007\n",
       "chol               -0.0061      0.004     -1.524      0.128      -0.014       0.002\n",
       "thalachh            0.0357      0.011      3.391      0.001       0.015       0.056\n",
       "===================================================================================\n",
       "\"\"\""
      ]
     },
     "execution_count": 47,
     "metadata": {},
     "output_type": "execute_result"
    }
   ],
   "source": [
    "m = smf.logit(\"output ~ age + C(sex) + C(cp) + trtbps + chol + C(fbs) + \" \\\n",
    "              \"C(restecg) + thalachh + C(exng) + C(caa)\", data=heart).fit()\n",
    "m.summary()"
   ]
  },
  {
   "cell_type": "code",
   "execution_count": 48,
   "id": "d14b5ec8-5937-481a-8b2d-c94d50ca2210",
   "metadata": {
    "tags": []
   },
   "outputs": [
    {
     "data": {
      "text/html": [
       "<table class=\"simpletable\">\n",
       "<caption>Logit Marginal Effects</caption>\n",
       "<tr>\n",
       "  <th>Dep. Variable:</th> <td>output</td> \n",
       "</tr>\n",
       "<tr>\n",
       "  <th>Method:</th>         <td>dydx</td>  \n",
       "</tr>\n",
       "<tr>\n",
       "  <th>At:</th>            <td>overall</td>\n",
       "</tr>\n",
       "</table>\n",
       "<table class=\"simpletable\">\n",
       "<tr>\n",
       "         <th></th>            <th>dy/dx</th>    <th>std err</th>      <th>z</th>      <th>P>|z|</th>  <th>[0.025</th>    <th>0.975]</th>  \n",
       "</tr>\n",
       "<tr>\n",
       "  <th>C(sex)[T.1]</th>     <td>   -0.2390</td> <td>    0.045</td> <td>   -5.331</td> <td> 0.000</td> <td>   -0.327</td> <td>   -0.151</td>\n",
       "</tr>\n",
       "<tr>\n",
       "  <th>C(cp)[T.1]</th>      <td>    0.1716</td> <td>    0.058</td> <td>    2.975</td> <td> 0.003</td> <td>    0.059</td> <td>    0.285</td>\n",
       "</tr>\n",
       "<tr>\n",
       "  <th>C(cp)[T.2]</th>      <td>    0.1891</td> <td>    0.045</td> <td>    4.234</td> <td> 0.000</td> <td>    0.102</td> <td>    0.277</td>\n",
       "</tr>\n",
       "<tr>\n",
       "  <th>C(cp)[T.3]</th>      <td>    0.2122</td> <td>    0.071</td> <td>    2.986</td> <td> 0.003</td> <td>    0.073</td> <td>    0.351</td>\n",
       "</tr>\n",
       "<tr>\n",
       "  <th>C(fbs)[T.1]</th>     <td>    0.0496</td> <td>    0.056</td> <td>    0.890</td> <td> 0.374</td> <td>   -0.060</td> <td>    0.159</td>\n",
       "</tr>\n",
       "<tr>\n",
       "  <th>C(restecg)[T.1]</th> <td>    0.0470</td> <td>    0.040</td> <td>    1.173</td> <td> 0.241</td> <td>   -0.032</td> <td>    0.126</td>\n",
       "</tr>\n",
       "<tr>\n",
       "  <th>C(restecg)[T.2]</th> <td>   -0.1065</td> <td>    0.237</td> <td>   -0.450</td> <td> 0.653</td> <td>   -0.570</td> <td>    0.358</td>\n",
       "</tr>\n",
       "<tr>\n",
       "  <th>C(exng)[T.1]</th>    <td>   -0.1299</td> <td>    0.045</td> <td>   -2.912</td> <td> 0.004</td> <td>   -0.217</td> <td>   -0.042</td>\n",
       "</tr>\n",
       "<tr>\n",
       "  <th>C(caa)[T.1]</th>     <td>   -0.2077</td> <td>    0.046</td> <td>   -4.532</td> <td> 0.000</td> <td>   -0.298</td> <td>   -0.118</td>\n",
       "</tr>\n",
       "<tr>\n",
       "  <th>C(caa)[T.2]</th>     <td>   -0.3410</td> <td>    0.062</td> <td>   -5.515</td> <td> 0.000</td> <td>   -0.462</td> <td>   -0.220</td>\n",
       "</tr>\n",
       "<tr>\n",
       "  <th>C(caa)[T.3]</th>     <td>   -0.2655</td> <td>    0.082</td> <td>   -3.241</td> <td> 0.001</td> <td>   -0.426</td> <td>   -0.105</td>\n",
       "</tr>\n",
       "<tr>\n",
       "  <th>C(caa)[T.4]</th>     <td>    0.0523</td> <td>    0.177</td> <td>    0.295</td> <td> 0.768</td> <td>   -0.295</td> <td>    0.400</td>\n",
       "</tr>\n",
       "<tr>\n",
       "  <th>age</th>             <td>    0.0026</td> <td>    0.003</td> <td>    0.998</td> <td> 0.318</td> <td>   -0.003</td> <td>    0.008</td>\n",
       "</tr>\n",
       "<tr>\n",
       "  <th>trtbps</th>          <td>   -0.0032</td> <td>    0.001</td> <td>   -2.776</td> <td> 0.006</td> <td>   -0.005</td> <td>   -0.001</td>\n",
       "</tr>\n",
       "<tr>\n",
       "  <th>chol</th>            <td>   -0.0007</td> <td>    0.000</td> <td>   -1.539</td> <td> 0.124</td> <td>   -0.002</td> <td>    0.000</td>\n",
       "</tr>\n",
       "<tr>\n",
       "  <th>thalachh</th>        <td>    0.0040</td> <td>    0.001</td> <td>    3.628</td> <td> 0.000</td> <td>    0.002</td> <td>    0.006</td>\n",
       "</tr>\n",
       "</table>"
      ],
      "text/latex": [
       "\\begin{center}\n",
       "\\begin{tabular}{lc}\n",
       "\\toprule\n",
       "\\textbf{Dep. Variable:}  &     output      \\\\\n",
       "\\textbf{Method:}         &      dydx       \\\\\n",
       "\\textbf{At:}             &    overall      \\\\\n",
       "\\bottomrule\n",
       "\\end{tabular}\n",
       "\\begin{tabular}{ccccccc}\n",
       "       \\textbf{}         & \\textbf{dy/dx} & \\textbf{std err} & \\textbf{z} & \\textbf{P$> |$z$|$} & \\textbf{[0.025} & \\textbf{0.975]}  \\\\\n",
       "\\midrule\n",
       "\\bottomrule\n",
       "\\end{tabular}\n",
       "\\begin{tabular}{lcccccc}\n",
       "\\textbf{C(sex)[T.1]}     &      -0.2390   &        0.045     &    -5.331  &         0.000        &       -0.327    &       -0.151     \\\\\n",
       "\\textbf{C(cp)[T.1]}      &       0.1716   &        0.058     &     2.975  &         0.003        &        0.059    &        0.285     \\\\\n",
       "\\textbf{C(cp)[T.2]}      &       0.1891   &        0.045     &     4.234  &         0.000        &        0.102    &        0.277     \\\\\n",
       "\\textbf{C(cp)[T.3]}      &       0.2122   &        0.071     &     2.986  &         0.003        &        0.073    &        0.351     \\\\\n",
       "\\textbf{C(fbs)[T.1]}     &       0.0496   &        0.056     &     0.890  &         0.374        &       -0.060    &        0.159     \\\\\n",
       "\\textbf{C(restecg)[T.1]} &       0.0470   &        0.040     &     1.173  &         0.241        &       -0.032    &        0.126     \\\\\n",
       "\\textbf{C(restecg)[T.2]} &      -0.1065   &        0.237     &    -0.450  &         0.653        &       -0.570    &        0.358     \\\\\n",
       "\\textbf{C(exng)[T.1]}    &      -0.1299   &        0.045     &    -2.912  &         0.004        &       -0.217    &       -0.042     \\\\\n",
       "\\textbf{C(caa)[T.1]}     &      -0.2077   &        0.046     &    -4.532  &         0.000        &       -0.298    &       -0.118     \\\\\n",
       "\\textbf{C(caa)[T.2]}     &      -0.3410   &        0.062     &    -5.515  &         0.000        &       -0.462    &       -0.220     \\\\\n",
       "\\textbf{C(caa)[T.3]}     &      -0.2655   &        0.082     &    -3.241  &         0.001        &       -0.426    &       -0.105     \\\\\n",
       "\\textbf{C(caa)[T.4]}     &       0.0523   &        0.177     &     0.295  &         0.768        &       -0.295    &        0.400     \\\\\n",
       "\\textbf{age}             &       0.0026   &        0.003     &     0.998  &         0.318        &       -0.003    &        0.008     \\\\\n",
       "\\textbf{trtbps}          &      -0.0032   &        0.001     &    -2.776  &         0.006        &       -0.005    &       -0.001     \\\\\n",
       "\\textbf{chol}            &      -0.0007   &        0.000     &    -1.539  &         0.124        &       -0.002    &        0.000     \\\\\n",
       "\\textbf{thalachh}        &       0.0040   &        0.001     &     3.628  &         0.000        &        0.002    &        0.006     \\\\\n",
       "\\bottomrule\n",
       "\\end{tabular}\n",
       "%\\caption{Logit Marginal Effects}\n",
       "\\end{center}"
      ],
      "text/plain": [
       "<class 'statsmodels.iolib.summary.Summary'>\n",
       "\"\"\"\n",
       "        Logit Marginal Effects       \n",
       "=====================================\n",
       "Dep. Variable:                 output\n",
       "Method:                          dydx\n",
       "At:                           overall\n",
       "===================================================================================\n",
       "                     dy/dx    std err          z      P>|z|      [0.025      0.975]\n",
       "-----------------------------------------------------------------------------------\n",
       "C(sex)[T.1]        -0.2390      0.045     -5.331      0.000      -0.327      -0.151\n",
       "C(cp)[T.1]          0.1716      0.058      2.975      0.003       0.059       0.285\n",
       "C(cp)[T.2]          0.1891      0.045      4.234      0.000       0.102       0.277\n",
       "C(cp)[T.3]          0.2122      0.071      2.986      0.003       0.073       0.351\n",
       "C(fbs)[T.1]         0.0496      0.056      0.890      0.374      -0.060       0.159\n",
       "C(restecg)[T.1]     0.0470      0.040      1.173      0.241      -0.032       0.126\n",
       "C(restecg)[T.2]    -0.1065      0.237     -0.450      0.653      -0.570       0.358\n",
       "C(exng)[T.1]       -0.1299      0.045     -2.912      0.004      -0.217      -0.042\n",
       "C(caa)[T.1]        -0.2077      0.046     -4.532      0.000      -0.298      -0.118\n",
       "C(caa)[T.2]        -0.3410      0.062     -5.515      0.000      -0.462      -0.220\n",
       "C(caa)[T.3]        -0.2655      0.082     -3.241      0.001      -0.426      -0.105\n",
       "C(caa)[T.4]         0.0523      0.177      0.295      0.768      -0.295       0.400\n",
       "age                 0.0026      0.003      0.998      0.318      -0.003       0.008\n",
       "trtbps             -0.0032      0.001     -2.776      0.006      -0.005      -0.001\n",
       "chol               -0.0007      0.000     -1.539      0.124      -0.002       0.000\n",
       "thalachh            0.0040      0.001      3.628      0.000       0.002       0.006\n",
       "===================================================================================\n",
       "\"\"\""
      ]
     },
     "execution_count": 48,
     "metadata": {},
     "output_type": "execute_result"
    }
   ],
   "source": [
    "m.get_margeff().summary()"
   ]
  },
  {
   "cell_type": "markdown",
   "id": "e4ecdb86-1269-4565-9947-4b3d3cc93d22",
   "metadata": {},
   "source": [
    "a) The marginal effect of an increase in age by one year is an increase in the probability of a heart attack by 0.26 percentage points while all else is equal. However, the p-value is 0.318 which above the significance level of 0.05. This means that age does not have a statistically significant relationship with the probability of a heart attack in this model.\n",
    "\n",
    "b) The marginal effect of being male compared to female (reference) is a decrease in the likelihood of a heart attack by 0.2390 percentage points while all else is equal. So men are 23.9% less likely to have a heart attack than women. This is statistically significant as the p-value is 0.000 which is less than 0.05.\n",
    "\n",
    "c) The marginal effect for trtbps is -0.0032, suggesting that an increase in resting blood pressure by one unit decreases the probability of a heart attack by approximately 0.32 percentage points, holding all other factors constant. The p-value is 0.006 which is less than 0.05 so this is statistically significant.\n",
    "\n",
    "d) The marginal effects for chest pain types 1 and 3 (C(cp)[T.1] and C(cp)[T.3]) are 0.1716 and 0.2122, respectively. This means that, all else being equal, a person with chest pain type 1 has a 17.16 percentage points higher probability of having a heart attack compared to someone with the reference category, while a person with chest pain type 3 has a 21.22 percentage points higher probability compared to the reference category (0 no pain). Therefore, a person with chest pain type 3 is about 21.22 - 17.16 = 4.06 percentage points more likely to have a heart attack than someone with chest pain type 1. Both of these effects are statistically significant, as indicated by the p-values less than 0.05.\n",
    "\n",
    "e) The reference category for rest ECG (restecg) is 0 as it isn't listed in the model. 0 means normal ecg."
   ]
  },
  {
   "cell_type": "markdown",
   "id": "b698b63c-d104-4927-a812-cce94df73052",
   "metadata": {},
   "source": [
    "### 4.3 Predicted results"
   ]
  },
  {
   "cell_type": "markdown",
   "id": "55f96b80-a8fd-4c24-861a-ff6cce5e1102",
   "metadata": {},
   "source": [
    "Q1."
   ]
  },
  {
   "cell_type": "code",
   "execution_count": 49,
   "id": "9733c044-34aa-4e60-9727-658aa6351385",
   "metadata": {
    "tags": []
   },
   "outputs": [
    {
     "data": {
      "text/html": [
       "<div>\n",
       "<style scoped>\n",
       "    .dataframe tbody tr th:only-of-type {\n",
       "        vertical-align: middle;\n",
       "    }\n",
       "\n",
       "    .dataframe tbody tr th {\n",
       "        vertical-align: top;\n",
       "    }\n",
       "\n",
       "    .dataframe thead th {\n",
       "        text-align: right;\n",
       "    }\n",
       "</style>\n",
       "<table border=\"1\" class=\"dataframe\">\n",
       "  <thead>\n",
       "    <tr style=\"text-align: right;\">\n",
       "      <th></th>\n",
       "      <th>age</th>\n",
       "      <th>sex</th>\n",
       "      <th>cp</th>\n",
       "      <th>trtbps</th>\n",
       "      <th>chol</th>\n",
       "      <th>fbs</th>\n",
       "      <th>restecg</th>\n",
       "      <th>thalachh</th>\n",
       "      <th>exng</th>\n",
       "      <th>caa</th>\n",
       "      <th>output</th>\n",
       "      <th>predictedoutcome</th>\n",
       "    </tr>\n",
       "  </thead>\n",
       "  <tbody>\n",
       "    <tr>\n",
       "      <th>0</th>\n",
       "      <td>63</td>\n",
       "      <td>1</td>\n",
       "      <td>3</td>\n",
       "      <td>145</td>\n",
       "      <td>233</td>\n",
       "      <td>1</td>\n",
       "      <td>0</td>\n",
       "      <td>150</td>\n",
       "      <td>0</td>\n",
       "      <td>0</td>\n",
       "      <td>1</td>\n",
       "      <td>1</td>\n",
       "    </tr>\n",
       "    <tr>\n",
       "      <th>1</th>\n",
       "      <td>37</td>\n",
       "      <td>1</td>\n",
       "      <td>2</td>\n",
       "      <td>130</td>\n",
       "      <td>250</td>\n",
       "      <td>0</td>\n",
       "      <td>1</td>\n",
       "      <td>187</td>\n",
       "      <td>0</td>\n",
       "      <td>0</td>\n",
       "      <td>1</td>\n",
       "      <td>1</td>\n",
       "    </tr>\n",
       "    <tr>\n",
       "      <th>2</th>\n",
       "      <td>41</td>\n",
       "      <td>0</td>\n",
       "      <td>1</td>\n",
       "      <td>130</td>\n",
       "      <td>204</td>\n",
       "      <td>0</td>\n",
       "      <td>0</td>\n",
       "      <td>172</td>\n",
       "      <td>0</td>\n",
       "      <td>0</td>\n",
       "      <td>1</td>\n",
       "      <td>1</td>\n",
       "    </tr>\n",
       "    <tr>\n",
       "      <th>3</th>\n",
       "      <td>56</td>\n",
       "      <td>1</td>\n",
       "      <td>1</td>\n",
       "      <td>120</td>\n",
       "      <td>236</td>\n",
       "      <td>0</td>\n",
       "      <td>1</td>\n",
       "      <td>178</td>\n",
       "      <td>0</td>\n",
       "      <td>0</td>\n",
       "      <td>1</td>\n",
       "      <td>1</td>\n",
       "    </tr>\n",
       "    <tr>\n",
       "      <th>4</th>\n",
       "      <td>57</td>\n",
       "      <td>0</td>\n",
       "      <td>0</td>\n",
       "      <td>120</td>\n",
       "      <td>354</td>\n",
       "      <td>0</td>\n",
       "      <td>1</td>\n",
       "      <td>163</td>\n",
       "      <td>1</td>\n",
       "      <td>0</td>\n",
       "      <td>1</td>\n",
       "      <td>1</td>\n",
       "    </tr>\n",
       "    <tr>\n",
       "      <th>5</th>\n",
       "      <td>57</td>\n",
       "      <td>1</td>\n",
       "      <td>0</td>\n",
       "      <td>140</td>\n",
       "      <td>192</td>\n",
       "      <td>0</td>\n",
       "      <td>1</td>\n",
       "      <td>148</td>\n",
       "      <td>0</td>\n",
       "      <td>0</td>\n",
       "      <td>1</td>\n",
       "      <td>1</td>\n",
       "    </tr>\n",
       "    <tr>\n",
       "      <th>6</th>\n",
       "      <td>56</td>\n",
       "      <td>0</td>\n",
       "      <td>1</td>\n",
       "      <td>140</td>\n",
       "      <td>294</td>\n",
       "      <td>0</td>\n",
       "      <td>0</td>\n",
       "      <td>153</td>\n",
       "      <td>0</td>\n",
       "      <td>0</td>\n",
       "      <td>1</td>\n",
       "      <td>1</td>\n",
       "    </tr>\n",
       "    <tr>\n",
       "      <th>7</th>\n",
       "      <td>44</td>\n",
       "      <td>1</td>\n",
       "      <td>1</td>\n",
       "      <td>120</td>\n",
       "      <td>263</td>\n",
       "      <td>0</td>\n",
       "      <td>1</td>\n",
       "      <td>173</td>\n",
       "      <td>0</td>\n",
       "      <td>0</td>\n",
       "      <td>1</td>\n",
       "      <td>1</td>\n",
       "    </tr>\n",
       "    <tr>\n",
       "      <th>8</th>\n",
       "      <td>52</td>\n",
       "      <td>1</td>\n",
       "      <td>2</td>\n",
       "      <td>172</td>\n",
       "      <td>199</td>\n",
       "      <td>1</td>\n",
       "      <td>1</td>\n",
       "      <td>162</td>\n",
       "      <td>0</td>\n",
       "      <td>0</td>\n",
       "      <td>1</td>\n",
       "      <td>1</td>\n",
       "    </tr>\n",
       "    <tr>\n",
       "      <th>9</th>\n",
       "      <td>57</td>\n",
       "      <td>1</td>\n",
       "      <td>2</td>\n",
       "      <td>150</td>\n",
       "      <td>168</td>\n",
       "      <td>0</td>\n",
       "      <td>1</td>\n",
       "      <td>174</td>\n",
       "      <td>0</td>\n",
       "      <td>0</td>\n",
       "      <td>1</td>\n",
       "      <td>1</td>\n",
       "    </tr>\n",
       "  </tbody>\n",
       "</table>\n",
       "</div>"
      ],
      "text/plain": [
       "   age  sex  cp  trtbps  chol  fbs  restecg  thalachh  exng  caa  output   \n",
       "0   63    1   3     145   233    1        0       150     0    0       1  \\\n",
       "1   37    1   2     130   250    0        1       187     0    0       1   \n",
       "2   41    0   1     130   204    0        0       172     0    0       1   \n",
       "3   56    1   1     120   236    0        1       178     0    0       1   \n",
       "4   57    0   0     120   354    0        1       163     1    0       1   \n",
       "5   57    1   0     140   192    0        1       148     0    0       1   \n",
       "6   56    0   1     140   294    0        0       153     0    0       1   \n",
       "7   44    1   1     120   263    0        1       173     0    0       1   \n",
       "8   52    1   2     172   199    1        1       162     0    0       1   \n",
       "9   57    1   2     150   168    0        1       174     0    0       1   \n",
       "\n",
       "   predictedoutcome  \n",
       "0                 1  \n",
       "1                 1  \n",
       "2                 1  \n",
       "3                 1  \n",
       "4                 1  \n",
       "5                 1  \n",
       "6                 1  \n",
       "7                 1  \n",
       "8                 1  \n",
       "9                 1  "
      ]
     },
     "execution_count": 49,
     "metadata": {},
     "output_type": "execute_result"
    }
   ],
   "source": [
    "heart[\"predictedoutcome\"] = (m.predict(heart) > 0.5).astype(int)\n",
    "heart.head(10)"
   ]
  },
  {
   "cell_type": "markdown",
   "id": "1cfdb48f-f456-4ee7-856b-6806f9df482b",
   "metadata": {},
   "source": [
    "Q2."
   ]
  },
  {
   "cell_type": "code",
   "execution_count": 50,
   "id": "d0ca4352-5350-4891-bd50-6fc4b4ba121e",
   "metadata": {
    "tags": []
   },
   "outputs": [
    {
     "data": {
      "text/plain": [
       "0.858085808580858"
      ]
     },
     "execution_count": 50,
     "metadata": {},
     "output_type": "execute_result"
    }
   ],
   "source": [
    "correct = (heart.output == heart.predictedoutcome).sum()\n",
    "total = len(heart)\n",
    "accuracy = correct / total\n",
    "accuracy"
   ]
  },
  {
   "cell_type": "markdown",
   "id": "db3d39ca-a1c7-4b2c-8122-c298a0f30d22",
   "metadata": {},
   "source": [
    "This models accuracy is 85.81% which is a lot more than the naive model which had an accuracy of 55.46%. A difference of about 30%."
   ]
  },
  {
   "cell_type": "markdown",
   "id": "7a954637-6852-406d-b0e7-8ab78448b493",
   "metadata": {},
   "source": [
    "Q3."
   ]
  },
  {
   "cell_type": "code",
   "execution_count": 51,
   "id": "dac49062-ef9b-4128-9526-b75ce6625014",
   "metadata": {
    "tags": []
   },
   "outputs": [
    {
     "data": {
      "text/plain": [
       "array([0.871412  , 0.93795888, 0.98390533, 0.95509869, 0.78073782,\n",
       "       0.54268348, 0.95063116, 0.91914952, 0.8498061 , 0.93412285])"
      ]
     },
     "execution_count": 51,
     "metadata": {},
     "output_type": "execute_result"
    }
   ],
   "source": [
    "predictedprobabilities = m.predict()\n",
    "predictedprobabilities[:10]"
   ]
  },
  {
   "cell_type": "markdown",
   "id": "10204d8d-7660-4356-b809-055bcbf462b5",
   "metadata": {},
   "source": [
    "Q4."
   ]
  },
  {
   "cell_type": "code",
   "execution_count": 52,
   "id": "9c930289-7b65-482e-bda6-7c661f91778a",
   "metadata": {
    "tags": []
   },
   "outputs": [
    {
     "data": {
      "image/png": "[encoded data removed]",
      "text/plain": [
       "<Figure size 640x480 with 1 Axes>"
      ]
     },
     "metadata": {},
     "output_type": "display_data"
    }
   ],
   "source": [
    "plt.hist(predictedprobabilities, bins=20)\n",
    "plt.xlabel(\"Predicted Probability of Heart Attack\")\n",
    "plt.ylabel(\"Frequency\")\n",
    "plt.title(\"Histogram of Predicted Probabilities\")\n",
    "plt.show()"
   ]
  },
  {
   "cell_type": "markdown",
   "id": "75652312-0407-4f6a-8f06-1a1c31690844",
   "metadata": {},
   "source": [
    "The predicted probabilities are mostly on the extreme ends either 0 or 1."
   ]
  },
  {
   "cell_type": "markdown",
   "id": "feae4a3b-734a-4bca-95d5-f6f0db796835",
   "metadata": {},
   "source": [
    "Q5."
   ]
  },
  {
   "cell_type": "markdown",
   "id": "b264e09b-fb46-40f1-baf9-aa192dd6ed7e",
   "metadata": {},
   "source": [
    "Results near 0 or 1 means the model is confident to a level that the person will or will not have a heart attack. A result near 0.5 means that the model doesn't heavily favor either outcome 0 or 1, which means there is a level of uncertainty "
   ]
  },
  {
   "cell_type": "markdown",
   "id": "0ab35793-4326-4966-a8dc-36d7948a5e8d",
   "metadata": {},
   "source": [
    "This assignment took me 8 hours"
   ]
  }
 ],
 "metadata": {
  "kernelspec": {
   "display_name": "Python 3 (ipykernel)",
   "language": "python",
   "name": "python3"
  },
  "language_info": {
   "codemirror_mode": {
    "name": "ipython",
    "version": 3
   },
   "file_extension": ".py",
   "mimetype": "text/x-python",
   "name": "python",
   "nbconvert_exporter": "python",
   "pygments_lexer": "ipython3",
   "version": "3.10.10"
  }
 },
 "nbformat": 4,
 "nbformat_minor": 5
}
